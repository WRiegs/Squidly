{
 "cells": [
  {
   "cell_type": "markdown",
   "id": "c962b7c7-a61b-49b2-ab0d-0b55fc819f33",
   "metadata": {},
   "source": [
    "# Revision\n",
    "\n",
    "Reviewers commented that the selection of cutoffs could be improved by providing users with more information. So we opted to improve our clairty in this section.\n",
    "\n",
    "The goal is to now create the predictions for uniref375 dataset with the variance and the mean prediction values. These will then be used as the cutoffs for the other downstream models - we can see better then whether it generalizes.\n",
    "\n",
    "\n"
   ]
  },
  {
   "cell_type": "code",
   "execution_count": 1,
   "id": "6043ae48-02e2-41ae-a859-ba4b44ee91c0",
   "metadata": {},
   "outputs": [],
   "source": [
    "import pandas as pd\n",
    "\n",
    "from sklearn.metrics import precision_recall_fscore_support\n",
    "import numpy as np\n",
    "import matplotlib.pyplot as plt\n",
    "\n",
    "def compute_uncertainties(df, prob_columns, mean_prob=0.5):\n",
    "    means, aleatorics, epistemics, residues, variance, entropy_values  = [], [], [], [], [], []\n",
    "    for p1, p2, p3, p4, p5 in tqdm(df[prob_columns].values):\n",
    "        mean_values = []\n",
    "        aleatoric_values = []\n",
    "        epistemic_values = []\n",
    "        variance_values = []\n",
    "        entropys = []\n",
    "        indicies = []\n",
    "        for j in range(0, len(p1)):\n",
    "            eps = 1e-8 # For non-zeros\n",
    "            all_probs = [p1[j] + eps, p2[j] + eps, p3[j] + eps, p4[j] + eps, p5[j] + eps]\n",
    "            mean_probs = np.mean(all_probs)\n",
    "            entropy = -((mean_probs * np.log2(mean_probs)) + ((1 - mean_probs) * np.log2(1 - mean_probs)))\n",
    "            epistemic = np.var(all_probs) # use variance as a proxy\n",
    "            indicies.append(j)\n",
    "            mean_values.append(mean_probs)\n",
    "            epistemic_values.append(epistemic)\n",
    "            entropys.append(entropy)\n",
    "        means.append(mean_values)\n",
    "        epistemics.append(epistemic_values)\n",
    "        entropy_values.append(entropys)\n",
    "        \n",
    "        residues.append('|'.join([str(s) for s in indicies]))\n",
    "    return means, entropy_values, epistemics, residues\n",
    "    \n",
    "def calculate_stats_uncertainty(df, id_col, true_col, pred_col, seq_col):   \n",
    "    # Check the agreement:\n",
    "    rows = []\n",
    "    for seq_label, res_sq, res_pred, seq, mean_prob, alea, var in df[[id_col, true_col, pred_col, seq_col, 'mean_prob', 'entropy', 'variance']].values:\n",
    "        if not res_sq:\n",
    "            missing += 1\n",
    "        else:\n",
    "            res_sq = res_sq.split('|')\n",
    "            res_sq = [int(i) for i in res_sq]\n",
    "            for pos in range(0, len(seq)):\n",
    "                if pos in res_sq:\n",
    "                    rows.append([seq_label, pos, seq[pos], 1, mean_prob[pos], alea[pos], var[pos]])\n",
    "                else:\n",
    "                    rows.append([seq_label, pos, seq[pos], 0, mean_prob[pos], alea[pos], var[pos]])\n",
    "\n",
    "    return pd.DataFrame(rows, columns=['Entry', 'Position', 'Residue', 'Catalytic Pred', 'Mean Prob', 'Entropy', 'Variance'])\n"
   ]
  },
  {
   "cell_type": "markdown",
   "id": "9401130c-0dda-46c2-9d64-1498c172db70",
   "metadata": {},
   "source": [
    "# Run each model separately so that we can test different strategies for ensembling\n",
    "\n",
    "Ran the following on each of the first five AEGAN models:\n",
    "\n",
    "```\n",
    " squidly run /disk1/ariane/vscode/squidly/revision/data/uni3175/uni3175_unduplicated.fasta esm2_t36_3B_UR50D output/uni3175_aegan/model1/ cataloDB_3B --as-threshold 0.5 --lstm-model-as ../models/FinalModels/CLEANED_reproducing_AEGAN_benchmark_squidly_scheme_3_esm2_t36_3B_UR50D_2025-03-04/Scheme3_16000_1/3B/LSTM_3B.pth --cr-model-as ../models/FinalModels/CLEANED_reproducing_AEGAN_benchmark_squidly_scheme_3_esm2_t36_3B_UR50D_2025-03-04/Scheme3_16000_1/3B/CL_3B.pt --no-ensemble\n",
    "\n",
    "squidly run /disk1/ariane/vscode/squidly/revision/data/uni3175/uni3175_unduplicated.fasta esm2_t36_3B_UR50D output/uni3175_aegan/model2/ cataloDB_3B --as-threshold 0.5 --lstm-model-as ../models/FinalModels/CLEANED_reproducing_AEGAN_benchmark_squidly_scheme_3_esm2_t36_3B_UR50D_2025-03-04/Scheme3_16000_2/3B/LSTM_3B.pth --cr-model-as ../models/FinalModels/CLEANED_reproducing_AEGAN_benchmark_squidly_scheme_3_esm2_t36_3B_UR50D_2025-03-04/Scheme3_16000_2/3B/CL_3B.pt --no-ensemble\n",
    "\n",
    "squidly run /disk1/ariane/vscode/squidly/revision/data/uni3175/uni3175_unduplicated.fasta esm2_t36_3B_UR50D output/uni3175_aegan/model3/ cataloDB_3B --as-threshold 0.5 --lstm-model-as ../models/FinalModels/CLEANED_reproducing_AEGAN_benchmark_squidly_scheme_3_esm2_t36_3B_UR50D_2025-03-04/Scheme3_16000_3/3B/LSTM_3B.pth --cr-model-as ../models/FinalModels/CLEANED_reproducing_AEGAN_benchmark_squidly_scheme_3_esm2_t36_3B_UR50D_2025-03-04/Scheme3_16000_3/3B/CL_3B.pt --no-ensemble\n",
    "\n",
    "squidly run /disk1/ariane/vscode/squidly/revision/data/uni3175/uni3175_unduplicated.fasta esm2_t36_3B_UR50D output/uni3175_aegan/model4/ cataloDB_3B --as-threshold 0.5 --lstm-model-as ../models/FinalModels/CLEANED_reproducing_AEGAN_benchmark_squidly_scheme_3_esm2_t36_3B_UR50D_2025-03-04/Scheme3_16000_4/3B/LSTM_3B.pth --cr-model-as ../models/FinalModels/CLEANED_reproducing_AEGAN_benchmark_squidly_scheme_3_esm2_t36_3B_UR50D_2025-03-04/Scheme3_16000_4/3B/CL_3B.pt --no-ensemble\n",
    "\n",
    "squidly run /disk1/ariane/vscode/squidly/revision/data/uni3175/uni3175_unduplicated.fasta esm2_t36_3B_UR50D output/uni3175_aegan/model5/ cataloDB_3B --as-threshold 0.5 --lstm-model-as ../models/FinalModels/CLEANED_reproducing_AEGAN_benchmark_squidly_scheme_3_esm2_t36_3B_UR50D_2025-03-04/Scheme3_16000_5/3B/LSTM_3B.pth --cr-model-as ../models/FinalModels/CLEANED_reproducing_AEGAN_benchmark_squidly_scheme_3_esm2_t36_3B_UR50D_2025-03-04/Scheme3_16000_5/3B/CL_3B.pt --no-ensemble\n",
    "\n",
    "\n",
    "```"
   ]
  },
  {
   "cell_type": "code",
   "execution_count": 3,
   "id": "b4400c46-f6b4-4908-b075-af7e4db625e6",
   "metadata": {},
   "outputs": [
    {
     "name": "stdout",
     "output_type": "stream",
     "text": [
      "squidly run data/uni3175/uni3175_unduplicated.fasta esm2_t36_3B_UR50D output/uni3175_aegan/model1/ cataloDB_3B --as-threshold 0.5 --lstm-model-as ../models/FinalModels/CLEANED_reproducing_AEGAN_benchmark_squidly_scheme_3_esm2_t36_3B_UR50D_2025-03-04/Scheme3_16000_1/LSTM/models/04-03-25_12-49_128_2_0.2_400_best_model.pth --cr-model-as ../models/FinalModels/CLEANED_reproducing_AEGAN_benchmark_squidly_scheme_3_esm2_t36_3B_UR50D_2025-03-04/Scheme3_16000_1/models/temp_best_model.pt --no-ensemble\n",
      "squidly run data/uni3175/uni3175_unduplicated.fasta esm2_t36_3B_UR50D output/uni3175_aegan/model2/ cataloDB_3B --as-threshold 0.5 --lstm-model-as ../models/FinalModels/CLEANED_reproducing_AEGAN_benchmark_squidly_scheme_3_esm2_t36_3B_UR50D_2025-03-04/Scheme3_16000_2/LSTM/models/04-03-25_14-09_128_2_0.2_400_best_model.pth --cr-model-as ../models/FinalModels/CLEANED_reproducing_AEGAN_benchmark_squidly_scheme_3_esm2_t36_3B_UR50D_2025-03-04/Scheme3_16000_2/models/temp_best_model.pt --no-ensemble\n",
      "squidly run data/uni3175/uni3175_unduplicated.fasta esm2_t36_3B_UR50D output/uni3175_aegan/model3/ cataloDB_3B --as-threshold 0.5 --lstm-model-as ../models/FinalModels/CLEANED_reproducing_AEGAN_benchmark_squidly_scheme_3_esm2_t36_3B_UR50D_2025-03-04/Scheme3_16000_3/LSTM/models/04-03-25_15-14_128_2_0.2_400_best_model.pth --cr-model-as ../models/FinalModels/CLEANED_reproducing_AEGAN_benchmark_squidly_scheme_3_esm2_t36_3B_UR50D_2025-03-04/Scheme3_16000_3/models/temp_best_model.pt --no-ensemble\n",
      "squidly run data/uni3175/uni3175_unduplicated.fasta esm2_t36_3B_UR50D output/uni3175_aegan/model4/ cataloDB_3B --as-threshold 0.5 --lstm-model-as ../models/FinalModels/CLEANED_reproducing_AEGAN_benchmark_squidly_scheme_3_esm2_t36_3B_UR50D_2025-03-04/Scheme3_16000_4/LSTM/models/04-03-25_17-28_128_2_0.2_400_best_model.pth --cr-model-as ../models/FinalModels/CLEANED_reproducing_AEGAN_benchmark_squidly_scheme_3_esm2_t36_3B_UR50D_2025-03-04/Scheme3_16000_4/models/temp_best_model.pt --no-ensemble\n",
      "squidly run data/uni3175/uni3175_unduplicated.fasta esm2_t36_3B_UR50D output/uni3175_aegan/model5/ cataloDB_3B --as-threshold 0.5 --lstm-model-as ../models/FinalModels/CLEANED_reproducing_AEGAN_benchmark_squidly_scheme_3_esm2_t36_3B_UR50D_2025-03-04/Scheme3_16000_5/LSTM/models/04-03-25_19-44_128_2_0.2_400_best_model.pth --cr-model-as ../models/FinalModels/CLEANED_reproducing_AEGAN_benchmark_squidly_scheme_3_esm2_t36_3B_UR50D_2025-03-04/Scheme3_16000_5/models/temp_best_model.pt --no-ensemble\n"
     ]
    }
   ],
   "source": [
    "import os \n",
    "\n",
    "for i in range(1, 6):\n",
    "    # Get the model \n",
    "    cr_model = f'../models/FinalModels/CLEANED_reproducing_AEGAN_benchmark_squidly_scheme_3_esm2_t36_3B_UR50D_2025-03-04/Scheme3_16000_{i}/models/temp_best_model.pt'\n",
    "    lstm_model_name = os.listdir(f'../models/FinalModels/CLEANED_reproducing_AEGAN_benchmark_squidly_scheme_3_esm2_t36_3B_UR50D_2025-03-04/Scheme3_16000_{i}/LSTM/models/')[0]\n",
    "    lstm_model = f'../models/FinalModels/CLEANED_reproducing_AEGAN_benchmark_squidly_scheme_3_esm2_t36_3B_UR50D_2025-03-04/Scheme3_16000_{i}/LSTM/models/{lstm_model_name}'\n",
    "    print(f'squidly run data/uni3175/uni3175_unduplicated.fasta esm2_t36_3B_UR50D output/uni3175_aegan/model{i}/ cataloDB_3B --as-threshold 0.5 --lstm-model-as {lstm_model} --cr-model-as {cr_model} --no-ensemble')"
   ]
  },
  {
   "cell_type": "markdown",
   "id": "8bf668a7-09e1-4c1f-a645-40ee3400820b",
   "metadata": {},
   "source": [
    "# See what the F1, precision and recall are for different cutoff values"
   ]
  },
  {
   "cell_type": "code",
   "execution_count": null,
   "id": "67bdcd23-a842-49f3-82ff-3214c7486cf6",
   "metadata": {},
   "outputs": [],
   "source": [
    "squidly run /disk1/ariane/vscode/squidly/revision/data/uni3175/uni3175_unduplicated.fasta esm2_t36_3B_UR50D output/uni3175/model1/ cataloDB_3B --as-threshold 0.5 --lstm-model-as ../models/FinalModels/CLEANED_reproducing_AEGAN_benchmark_squidly_scheme_3_esm2_t36_3B_UR50D_2025-03-04/Scheme3_16000_1/3B/LSTM_3B.pth --cr-model-as ../models/FinalModels/CLEANED_reproducing_AEGAN_benchmark_squidly_scheme_3_esm2_t36_3B_UR50D_2025-03-04/Scheme3_16000_1/3B/CL_3B.pt"
   ]
  }
 ],
 "metadata": {
  "kernelspec": {
   "display_name": "Python 3 (ipykernel)",
   "language": "python",
   "name": "python3"
  },
  "language_info": {
   "codemirror_mode": {
    "name": "ipython",
    "version": 3
   },
   "file_extension": ".py",
   "mimetype": "text/x-python",
   "name": "python",
   "nbconvert_exporter": "python",
   "pygments_lexer": "ipython3",
   "version": "3.11.8"
  }
 },
 "nbformat": 4,
 "nbformat_minor": 5
}
