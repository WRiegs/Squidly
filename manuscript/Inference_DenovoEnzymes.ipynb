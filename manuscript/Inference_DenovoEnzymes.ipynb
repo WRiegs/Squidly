{
 "cells": [
  {
   "cell_type": "markdown",
   "id": "3ff9ad81-7e78-44ec-99da-fecf08288f07",
   "metadata": {},
   "source": [
    "# Infer active sites on Denovo Deisgned Enzymes\n",
    "\n",
    "# Data downloaded from two papers\n",
    "\n",
    "1. https://www.nature.com/articles/s41587-024-02214-2#data-availability (https://zenodo.org/records/11176444) for \"experimentally_tested_lysozymes.xlsx\" and \"experimentally_tested_metrics.csv\"\n",
    "2. serine_hydrolases taken from the SI of: https://www.science.org/doi/pdf/10.1126/science.adu2454?casa_token=iDQKvu36FKgAAAAA:Yq6Hc3SJ-cjQ9apHGT2RM6FgbknzYCMhLzeXA39nKcjgLwz5tIvCGRGguuPtRrw67d8om0V_LLkRP-4 for each of the reported sequences\n"
   ]
  },
  {
   "cell_type": "code",
   "execution_count": 5,
   "id": "66f5ccb6-f528-47e0-a032-b0e862e3799d",
   "metadata": {},
   "outputs": [],
   "source": [
    "import pandas as pd\n",
    "import pandas as pd\n",
    "import os \n",
    "import sys\n",
    "sys.path.append('/disk1/ariane/vscode/enzyme-tk/')\n",
    "from enzymetk.sequence_search_blast import BLAST\n",
    "from enzymetk.save_step import Save\n",
    "from sciutil import SciUtil\n",
    "from Bio import SeqIO\n",
    "\n"
   ]
  },
  {
   "cell_type": "markdown",
   "id": "8bb6863a-5788-4960-a1e8-b8a3b31e80a9",
   "metadata": {},
   "source": [
    "# Test generated lysozymes\n",
    "\n",
    "There are 3 lysozymes in M-CSA: https://www.ebi.ac.uk/thornton-srv/m-csa/search/?s=lysozyme"
   ]
  },
  {
   "cell_type": "code",
   "execution_count": 91,
   "id": "149df6fc-ce03-4c78-b859-d6f0301f3b77",
   "metadata": {},
   "outputs": [],
   "source": [
    "label = 'experimentally_tested_lysozymes'\n",
    "df = pd.read_csv(f'denovo/input_data/{label}.csv')\n",
    "\n",
    "with open(f'denovo/output_data/{label}.fasta', 'w+') as fout:\n",
    "    for entry, seq in df[['Name', 'sequence']].values:\n",
    "        fout.write(f'>{entry}\\n{seq}\\n')\n",
    "\n",
    "fasta_label = f'denovo/output_data/{label}.fasta'"
   ]
  },
  {
   "cell_type": "code",
   "execution_count": 92,
   "id": "cdbe0b0a-8fef-4c0e-b048-e5c202029e16",
   "metadata": {},
   "outputs": [
    {
     "name": "stdout",
     "output_type": "stream",
     "text": [
      "\u001b[94m--------------------------------------------------------------------------------\u001b[0m\n",
      "\u001b[94m                             Starting squidly... \t                              \u001b[0m\n",
      "\u001b[94m--------------------------------------------------------------------------------\u001b[0m\n"
     ]
    },
    {
     "name": "stderr",
     "output_type": "stream",
     "text": [
      "100%|██████████| 84/84 [00:00<00:00, 271643.44it/s]\n"
     ]
    },
    {
     "name": "stdout",
     "output_type": "stream",
     "text": [
      "\u001b[93m--------------------------------------------------------------------------------\u001b[0m\n",
      "\u001b[93mRunning with user supplied squidly models:  \t../models/FinalModels/CLEANED_reproducing_AEGAN_benchmark_squidly_scheme_3_esm2_t36_3B_UR50D_2025-03-04/Scheme3_16000_1/models/temp_best_model.pt\t../models/FinalModels/CLEANED_reproducing_AEGAN_benchmark_squidly_scheme_3_esm2_t36_3B_UR50D_2025-03-04/Scheme3_16000_1/LSTM/models/04-03-25_12-49_128_2_0.2_400_best_model.pth\t\u001b[0m\n",
      "\u001b[93m--------------------------------------------------------------------------------\u001b[0m\n",
      "['python', '/disk1/ariane/miniconda3/envs/squidly/lib/python3.10/site-packages/squidly/squidly.py', 'denovo/output_data/experimentally_tested_lysozymes.fasta', 'esm2_t36_3B_UR50D', '../models/FinalModels/CLEANED_reproducing_AEGAN_benchmark_squidly_scheme_3_esm2_t36_3B_UR50D_2025-03-04/Scheme3_16000_1/models/temp_best_model.pt', '../models/FinalModels/CLEANED_reproducing_AEGAN_benchmark_squidly_scheme_3_esm2_t36_3B_UR50D_2025-03-04/Scheme3_16000_1/LSTM/models/04-03-25_12-49_128_2_0.2_400_best_model.pth', 'denovo/output_data/', '--toks_per_batch', '5', '--AS_threshold', '0.9']\n",
      "\u001b[93m--------------------------------------------------------------------------------\u001b[0m\n",
      "\u001b[93mRunning non-batched command:\tpython /disk1/ariane/miniconda3/envs/squidly/lib/python3.10/site-packages/squidly/squidly.py denovo/output_data/experimentally_tested_lysozymes.fasta esm2_t36_3B_UR50D ../models/FinalModels/CLEANED_reproducing_AEGAN_benchmark_squidly_scheme_3_esm2_t36_3B_UR50D_2025-03-04/Scheme3_16000_1/models/temp_best_model.pt ../models/FinalModels/CLEANED_reproducing_AEGAN_benchmark_squidly_scheme_3_esm2_t36_3B_UR50D_2025-03-04/Scheme3_16000_1/LSTM/models/04-03-25_12-49_128_2_0.2_400_best_model.pth denovo/output_data/ --toks_per_batch 5 --AS_threshold 0.9\t\u001b[0m\n",
      "\u001b[93m--------------------------------------------------------------------------------\u001b[0m\n",
      "\u001b[94m--------------------------------------------------------------------------------\u001b[0m\n",
      "\u001b[94m                             Starting squidly... \t                              \u001b[0m\n",
      "\u001b[94m--------------------------------------------------------------------------------\u001b[0m\n"
     ]
    },
    {
     "name": "stderr",
     "output_type": "stream",
     "text": [
      "100%|██████████| 84/84 [00:00<00:00, 262730.45it/s]\n"
     ]
    },
    {
     "name": "stdout",
     "output_type": "stream",
     "text": [
      "\u001b[93m--------------------------------------------------------------------------------\u001b[0m\n",
      "\u001b[93mRunning with user supplied squidly models:  \t../models/FinalModels/CLEANED_reproducing_AEGAN_benchmark_squidly_scheme_3_esm2_t36_3B_UR50D_2025-03-04/Scheme3_16000_2/models/temp_best_model.pt\t../models/FinalModels/CLEANED_reproducing_AEGAN_benchmark_squidly_scheme_3_esm2_t36_3B_UR50D_2025-03-04/Scheme3_16000_2/LSTM/models/04-03-25_14-09_128_2_0.2_400_best_model.pth\t\u001b[0m\n",
      "\u001b[93m--------------------------------------------------------------------------------\u001b[0m\n",
      "['python', '/disk1/ariane/miniconda3/envs/squidly/lib/python3.10/site-packages/squidly/squidly.py', 'denovo/output_data/experimentally_tested_lysozymes.fasta', 'esm2_t36_3B_UR50D', '../models/FinalModels/CLEANED_reproducing_AEGAN_benchmark_squidly_scheme_3_esm2_t36_3B_UR50D_2025-03-04/Scheme3_16000_2/models/temp_best_model.pt', '../models/FinalModels/CLEANED_reproducing_AEGAN_benchmark_squidly_scheme_3_esm2_t36_3B_UR50D_2025-03-04/Scheme3_16000_2/LSTM/models/04-03-25_14-09_128_2_0.2_400_best_model.pth', 'denovo/output_data/', '--toks_per_batch', '5', '--AS_threshold', '0.9']\n",
      "\u001b[93m--------------------------------------------------------------------------------\u001b[0m\n",
      "\u001b[93mRunning non-batched command:\tpython /disk1/ariane/miniconda3/envs/squidly/lib/python3.10/site-packages/squidly/squidly.py denovo/output_data/experimentally_tested_lysozymes.fasta esm2_t36_3B_UR50D ../models/FinalModels/CLEANED_reproducing_AEGAN_benchmark_squidly_scheme_3_esm2_t36_3B_UR50D_2025-03-04/Scheme3_16000_2/models/temp_best_model.pt ../models/FinalModels/CLEANED_reproducing_AEGAN_benchmark_squidly_scheme_3_esm2_t36_3B_UR50D_2025-03-04/Scheme3_16000_2/LSTM/models/04-03-25_14-09_128_2_0.2_400_best_model.pth denovo/output_data/ --toks_per_batch 5 --AS_threshold 0.9\t\u001b[0m\n",
      "\u001b[93m--------------------------------------------------------------------------------\u001b[0m\n",
      "\u001b[94m--------------------------------------------------------------------------------\u001b[0m\n",
      "\u001b[94m                             Starting squidly... \t                              \u001b[0m\n",
      "\u001b[94m--------------------------------------------------------------------------------\u001b[0m\n"
     ]
    },
    {
     "name": "stderr",
     "output_type": "stream",
     "text": [
      "100%|██████████| 84/84 [00:00<00:00, 274393.72it/s]\n"
     ]
    },
    {
     "name": "stdout",
     "output_type": "stream",
     "text": [
      "\u001b[93m--------------------------------------------------------------------------------\u001b[0m\n",
      "\u001b[93mRunning with user supplied squidly models:  \t../models/FinalModels/CLEANED_reproducing_AEGAN_benchmark_squidly_scheme_3_esm2_t36_3B_UR50D_2025-03-04/Scheme3_16000_3/models/temp_best_model.pt\t../models/FinalModels/CLEANED_reproducing_AEGAN_benchmark_squidly_scheme_3_esm2_t36_3B_UR50D_2025-03-04/Scheme3_16000_3/LSTM/models/04-03-25_15-14_128_2_0.2_400_best_model.pth\t\u001b[0m\n",
      "\u001b[93m--------------------------------------------------------------------------------\u001b[0m\n",
      "['python', '/disk1/ariane/miniconda3/envs/squidly/lib/python3.10/site-packages/squidly/squidly.py', 'denovo/output_data/experimentally_tested_lysozymes.fasta', 'esm2_t36_3B_UR50D', '../models/FinalModels/CLEANED_reproducing_AEGAN_benchmark_squidly_scheme_3_esm2_t36_3B_UR50D_2025-03-04/Scheme3_16000_3/models/temp_best_model.pt', '../models/FinalModels/CLEANED_reproducing_AEGAN_benchmark_squidly_scheme_3_esm2_t36_3B_UR50D_2025-03-04/Scheme3_16000_3/LSTM/models/04-03-25_15-14_128_2_0.2_400_best_model.pth', 'denovo/output_data/', '--toks_per_batch', '5', '--AS_threshold', '0.9']\n",
      "\u001b[93m--------------------------------------------------------------------------------\u001b[0m\n",
      "\u001b[93mRunning non-batched command:\tpython /disk1/ariane/miniconda3/envs/squidly/lib/python3.10/site-packages/squidly/squidly.py denovo/output_data/experimentally_tested_lysozymes.fasta esm2_t36_3B_UR50D ../models/FinalModels/CLEANED_reproducing_AEGAN_benchmark_squidly_scheme_3_esm2_t36_3B_UR50D_2025-03-04/Scheme3_16000_3/models/temp_best_model.pt ../models/FinalModels/CLEANED_reproducing_AEGAN_benchmark_squidly_scheme_3_esm2_t36_3B_UR50D_2025-03-04/Scheme3_16000_3/LSTM/models/04-03-25_15-14_128_2_0.2_400_best_model.pth denovo/output_data/ --toks_per_batch 5 --AS_threshold 0.9\t\u001b[0m\n",
      "\u001b[93m--------------------------------------------------------------------------------\u001b[0m\n",
      "\u001b[94m--------------------------------------------------------------------------------\u001b[0m\n",
      "\u001b[94m                             Starting squidly... \t                              \u001b[0m\n",
      "\u001b[94m--------------------------------------------------------------------------------\u001b[0m\n"
     ]
    },
    {
     "name": "stderr",
     "output_type": "stream",
     "text": [
      "100%|██████████| 84/84 [00:00<00:00, 274821.79it/s]\n"
     ]
    },
    {
     "name": "stdout",
     "output_type": "stream",
     "text": [
      "\u001b[93m--------------------------------------------------------------------------------\u001b[0m\n",
      "\u001b[93mRunning with user supplied squidly models:  \t../models/FinalModels/CLEANED_reproducing_AEGAN_benchmark_squidly_scheme_3_esm2_t36_3B_UR50D_2025-03-04/Scheme3_16000_4/models/temp_best_model.pt\t../models/FinalModels/CLEANED_reproducing_AEGAN_benchmark_squidly_scheme_3_esm2_t36_3B_UR50D_2025-03-04/Scheme3_16000_4/LSTM/models/04-03-25_17-28_128_2_0.2_400_best_model.pth\t\u001b[0m\n",
      "\u001b[93m--------------------------------------------------------------------------------\u001b[0m\n",
      "['python', '/disk1/ariane/miniconda3/envs/squidly/lib/python3.10/site-packages/squidly/squidly.py', 'denovo/output_data/experimentally_tested_lysozymes.fasta', 'esm2_t36_3B_UR50D', '../models/FinalModels/CLEANED_reproducing_AEGAN_benchmark_squidly_scheme_3_esm2_t36_3B_UR50D_2025-03-04/Scheme3_16000_4/models/temp_best_model.pt', '../models/FinalModels/CLEANED_reproducing_AEGAN_benchmark_squidly_scheme_3_esm2_t36_3B_UR50D_2025-03-04/Scheme3_16000_4/LSTM/models/04-03-25_17-28_128_2_0.2_400_best_model.pth', 'denovo/output_data/', '--toks_per_batch', '5', '--AS_threshold', '0.9']\n",
      "\u001b[93m--------------------------------------------------------------------------------\u001b[0m\n",
      "\u001b[93mRunning non-batched command:\tpython /disk1/ariane/miniconda3/envs/squidly/lib/python3.10/site-packages/squidly/squidly.py denovo/output_data/experimentally_tested_lysozymes.fasta esm2_t36_3B_UR50D ../models/FinalModels/CLEANED_reproducing_AEGAN_benchmark_squidly_scheme_3_esm2_t36_3B_UR50D_2025-03-04/Scheme3_16000_4/models/temp_best_model.pt ../models/FinalModels/CLEANED_reproducing_AEGAN_benchmark_squidly_scheme_3_esm2_t36_3B_UR50D_2025-03-04/Scheme3_16000_4/LSTM/models/04-03-25_17-28_128_2_0.2_400_best_model.pth denovo/output_data/ --toks_per_batch 5 --AS_threshold 0.9\t\u001b[0m\n",
      "\u001b[93m--------------------------------------------------------------------------------\u001b[0m\n",
      "\u001b[94m--------------------------------------------------------------------------------\u001b[0m\n",
      "\u001b[94m                             Starting squidly... \t                              \u001b[0m\n",
      "\u001b[94m--------------------------------------------------------------------------------\u001b[0m\n"
     ]
    },
    {
     "name": "stderr",
     "output_type": "stream",
     "text": [
      "100%|██████████| 84/84 [00:00<00:00, 252741.42it/s]\n"
     ]
    },
    {
     "name": "stdout",
     "output_type": "stream",
     "text": [
      "\u001b[93m--------------------------------------------------------------------------------\u001b[0m\n",
      "\u001b[93mRunning with user supplied squidly models:  \t../models/FinalModels/CLEANED_reproducing_AEGAN_benchmark_squidly_scheme_3_esm2_t36_3B_UR50D_2025-03-04/Scheme3_16000_5/models/temp_best_model.pt\t../models/FinalModels/CLEANED_reproducing_AEGAN_benchmark_squidly_scheme_3_esm2_t36_3B_UR50D_2025-03-04/Scheme3_16000_5/LSTM/models/04-03-25_19-44_128_2_0.2_400_best_model.pth\t\u001b[0m\n",
      "\u001b[93m--------------------------------------------------------------------------------\u001b[0m\n",
      "['python', '/disk1/ariane/miniconda3/envs/squidly/lib/python3.10/site-packages/squidly/squidly.py', 'denovo/output_data/experimentally_tested_lysozymes.fasta', 'esm2_t36_3B_UR50D', '../models/FinalModels/CLEANED_reproducing_AEGAN_benchmark_squidly_scheme_3_esm2_t36_3B_UR50D_2025-03-04/Scheme3_16000_5/models/temp_best_model.pt', '../models/FinalModels/CLEANED_reproducing_AEGAN_benchmark_squidly_scheme_3_esm2_t36_3B_UR50D_2025-03-04/Scheme3_16000_5/LSTM/models/04-03-25_19-44_128_2_0.2_400_best_model.pth', 'denovo/output_data/', '--toks_per_batch', '5', '--AS_threshold', '0.9']\n",
      "\u001b[93m--------------------------------------------------------------------------------\u001b[0m\n",
      "\u001b[93mRunning non-batched command:\tpython /disk1/ariane/miniconda3/envs/squidly/lib/python3.10/site-packages/squidly/squidly.py denovo/output_data/experimentally_tested_lysozymes.fasta esm2_t36_3B_UR50D ../models/FinalModels/CLEANED_reproducing_AEGAN_benchmark_squidly_scheme_3_esm2_t36_3B_UR50D_2025-03-04/Scheme3_16000_5/models/temp_best_model.pt ../models/FinalModels/CLEANED_reproducing_AEGAN_benchmark_squidly_scheme_3_esm2_t36_3B_UR50D_2025-03-04/Scheme3_16000_5/LSTM/models/04-03-25_19-44_128_2_0.2_400_best_model.pth denovo/output_data/ --toks_per_batch 5 --AS_threshold 0.9\t\u001b[0m\n",
      "\u001b[93m--------------------------------------------------------------------------------\u001b[0m\n"
     ]
    },
    {
     "data": {
      "text/plain": [
       "0"
      ]
     },
     "execution_count": 92,
     "metadata": {},
     "output_type": "execute_result"
    }
   ],
   "source": [
    "os.system(f'squidly {fasta_label} esm2_t36_3B_UR50D denovo/output_data/ {label}_AEGAN_3B_1 --as-threshold 0.9 --lstm-model-as ../models/FinalModels/CLEANED_reproducing_AEGAN_benchmark_squidly_scheme_3_esm2_t36_3B_UR50D_2025-03-04/Scheme3_16000_1/LSTM/models/04-03-25_12-49_128_2_0.2_400_best_model.pth --cr-model-as ../models/FinalModels/CLEANED_reproducing_AEGAN_benchmark_squidly_scheme_3_esm2_t36_3B_UR50D_2025-03-04/Scheme3_16000_1/models/temp_best_model.pt')\n",
    "os.system(f'squidly {fasta_label} esm2_t36_3B_UR50D denovo/output_data/ {label}_AEGAN_3B_2 --as-threshold 0.9 --lstm-model-as ../models/FinalModels/CLEANED_reproducing_AEGAN_benchmark_squidly_scheme_3_esm2_t36_3B_UR50D_2025-03-04/Scheme3_16000_2/LSTM/models/04-03-25_14-09_128_2_0.2_400_best_model.pth --cr-model-as ../models/FinalModels/CLEANED_reproducing_AEGAN_benchmark_squidly_scheme_3_esm2_t36_3B_UR50D_2025-03-04/Scheme3_16000_2/models/temp_best_model.pt')\n",
    "os.system(f'squidly {fasta_label} esm2_t36_3B_UR50D denovo/output_data/ {label}_AEGAN_3B_3 --as-threshold 0.9 --lstm-model-as ../models/FinalModels/CLEANED_reproducing_AEGAN_benchmark_squidly_scheme_3_esm2_t36_3B_UR50D_2025-03-04/Scheme3_16000_3/LSTM/models/04-03-25_15-14_128_2_0.2_400_best_model.pth --cr-model-as ../models/FinalModels/CLEANED_reproducing_AEGAN_benchmark_squidly_scheme_3_esm2_t36_3B_UR50D_2025-03-04/Scheme3_16000_3/models/temp_best_model.pt')\n",
    "os.system(f'squidly {fasta_label} esm2_t36_3B_UR50D denovo/output_data/ {label}_AEGAN_3B_4 --as-threshold 0.9 --lstm-model-as ../models/FinalModels/CLEANED_reproducing_AEGAN_benchmark_squidly_scheme_3_esm2_t36_3B_UR50D_2025-03-04/Scheme3_16000_4/LSTM/models/04-03-25_17-28_128_2_0.2_400_best_model.pth --cr-model-as ../models/FinalModels/CLEANED_reproducing_AEGAN_benchmark_squidly_scheme_3_esm2_t36_3B_UR50D_2025-03-04/Scheme3_16000_4/models/temp_best_model.pt')\n",
    "os.system(f'squidly {fasta_label} esm2_t36_3B_UR50D denovo/output_data/ {label}_AEGAN_3B_5 --as-threshold 0.9 --lstm-model-as ../models/FinalModels/CLEANED_reproducing_AEGAN_benchmark_squidly_scheme_3_esm2_t36_3B_UR50D_2025-03-04/Scheme3_16000_5/LSTM/models/04-03-25_19-44_128_2_0.2_400_best_model.pth --cr-model-as ../models/FinalModels/CLEANED_reproducing_AEGAN_benchmark_squidly_scheme_3_esm2_t36_3B_UR50D_2025-03-04/Scheme3_16000_5/models/temp_best_model.pt')\n"
   ]
  },
  {
   "cell_type": "code",
   "execution_count": 6,
   "id": "9cf1987c-1fa1-4103-a638-98f4992f4b05",
   "metadata": {},
   "outputs": [
    {
     "name": "stdout",
     "output_type": "stream",
     "text": [
      "\u001b[94m--------------------------------------------------------------------------------\u001b[0m\n",
      "\u001b[94m                             Starting squidly... \t                              \u001b[0m\n",
      "\u001b[94m--------------------------------------------------------------------------------\u001b[0m\n"
     ]
    },
    {
     "name": "stderr",
     "output_type": "stream",
     "text": [
      "100%|██████████| 84/84 [00:00<00:00, 82222.06it/s]\n"
     ]
    },
    {
     "name": "stdout",
     "output_type": "stream",
     "text": [
      "\u001b[93m--------------------------------------------------------------------------------\u001b[0m\n",
      "\u001b[93mRunning with user supplied squidly models:  \t../models/FinalModels/CataloDB_models_3_esm2_t36_3B_UR50D_2025-04-13/Scheme3_16000_1/models/temp_best_model.pt\t../models/FinalModels/CataloDB_models_3_esm2_t36_3B_UR50D_2025-04-13/Scheme3_16000_1/LSTM/models/13-04-25_15-07_128_2_0.2_100_best_model.pth\t\u001b[0m\n",
      "\u001b[93m--------------------------------------------------------------------------------\u001b[0m\n",
      "['python', '/disk1/ariane/miniconda3/envs/squidly/lib/python3.10/site-packages/squidly/squidly.py', 'denovo/output_data/experimentally_tested_lysozymes.fasta', 'esm2_t36_3B_UR50D', '../models/FinalModels/CataloDB_models_3_esm2_t36_3B_UR50D_2025-04-13/Scheme3_16000_1/models/temp_best_model.pt', '../models/FinalModels/CataloDB_models_3_esm2_t36_3B_UR50D_2025-04-13/Scheme3_16000_1/LSTM/models/13-04-25_15-07_128_2_0.2_100_best_model.pth', 'denovo/output_data/', '--toks_per_batch', '5', '--AS_threshold', '0.9']\n",
      "\u001b[93m--------------------------------------------------------------------------------\u001b[0m\n",
      "\u001b[93mRunning non-batched command:\tpython /disk1/ariane/miniconda3/envs/squidly/lib/python3.10/site-packages/squidly/squidly.py denovo/output_data/experimentally_tested_lysozymes.fasta esm2_t36_3B_UR50D ../models/FinalModels/CataloDB_models_3_esm2_t36_3B_UR50D_2025-04-13/Scheme3_16000_1/models/temp_best_model.pt ../models/FinalModels/CataloDB_models_3_esm2_t36_3B_UR50D_2025-04-13/Scheme3_16000_1/LSTM/models/13-04-25_15-07_128_2_0.2_100_best_model.pth denovo/output_data/ --toks_per_batch 5 --AS_threshold 0.9\t\u001b[0m\n",
      "\u001b[93m--------------------------------------------------------------------------------\u001b[0m\n",
      "\u001b[94m--------------------------------------------------------------------------------\u001b[0m\n",
      "\u001b[94m                             Starting squidly... \t                              \u001b[0m\n",
      "\u001b[94m--------------------------------------------------------------------------------\u001b[0m\n"
     ]
    },
    {
     "name": "stderr",
     "output_type": "stream",
     "text": [
      "100%|██████████| 84/84 [00:00<00:00, 263911.26it/s]\n"
     ]
    },
    {
     "name": "stdout",
     "output_type": "stream",
     "text": [
      "\u001b[93m--------------------------------------------------------------------------------\u001b[0m\n",
      "\u001b[93mRunning with user supplied squidly models:  \t../models/FinalModels/CataloDB_models_3_esm2_t36_3B_UR50D_2025-04-13/Scheme3_16000_2/models/temp_best_model.pt\t../models/FinalModels/CataloDB_models_3_esm2_t36_3B_UR50D_2025-04-13/Scheme3_16000_2/LSTM/models/13-04-25_16-48_128_2_0.2_100_best_model.pth\t\u001b[0m\n",
      "\u001b[93m--------------------------------------------------------------------------------\u001b[0m\n",
      "['python', '/disk1/ariane/miniconda3/envs/squidly/lib/python3.10/site-packages/squidly/squidly.py', 'denovo/output_data/experimentally_tested_lysozymes.fasta', 'esm2_t36_3B_UR50D', '../models/FinalModels/CataloDB_models_3_esm2_t36_3B_UR50D_2025-04-13/Scheme3_16000_2/models/temp_best_model.pt', '../models/FinalModels/CataloDB_models_3_esm2_t36_3B_UR50D_2025-04-13/Scheme3_16000_2/LSTM/models/13-04-25_16-48_128_2_0.2_100_best_model.pth', 'denovo/output_data/', '--toks_per_batch', '5', '--AS_threshold', '0.9']\n",
      "\u001b[93m--------------------------------------------------------------------------------\u001b[0m\n",
      "\u001b[93mRunning non-batched command:\tpython /disk1/ariane/miniconda3/envs/squidly/lib/python3.10/site-packages/squidly/squidly.py denovo/output_data/experimentally_tested_lysozymes.fasta esm2_t36_3B_UR50D ../models/FinalModels/CataloDB_models_3_esm2_t36_3B_UR50D_2025-04-13/Scheme3_16000_2/models/temp_best_model.pt ../models/FinalModels/CataloDB_models_3_esm2_t36_3B_UR50D_2025-04-13/Scheme3_16000_2/LSTM/models/13-04-25_16-48_128_2_0.2_100_best_model.pth denovo/output_data/ --toks_per_batch 5 --AS_threshold 0.9\t\u001b[0m\n",
      "\u001b[93m--------------------------------------------------------------------------------\u001b[0m\n",
      "\u001b[94m--------------------------------------------------------------------------------\u001b[0m\n",
      "\u001b[94m                             Starting squidly... \t                              \u001b[0m\n",
      "\u001b[94m--------------------------------------------------------------------------------\u001b[0m\n"
     ]
    },
    {
     "name": "stderr",
     "output_type": "stream",
     "text": [
      "100%|██████████| 84/84 [00:00<00:00, 264109.10it/s]\n"
     ]
    },
    {
     "name": "stdout",
     "output_type": "stream",
     "text": [
      "\u001b[93m--------------------------------------------------------------------------------\u001b[0m\n",
      "\u001b[93mRunning with user supplied squidly models:  \t../models/FinalModels/CataloDB_models_3_esm2_t36_3B_UR50D_2025-04-13/Scheme3_16000_3/models/temp_best_model.pt\t../models/FinalModels/CataloDB_models_3_esm2_t36_3B_UR50D_2025-04-13/Scheme3_16000_3/LSTM/models/13-04-25_19-16_128_2_0.2_100_best_model.pth\t\u001b[0m\n",
      "\u001b[93m--------------------------------------------------------------------------------\u001b[0m\n",
      "['python', '/disk1/ariane/miniconda3/envs/squidly/lib/python3.10/site-packages/squidly/squidly.py', 'denovo/output_data/experimentally_tested_lysozymes.fasta', 'esm2_t36_3B_UR50D', '../models/FinalModels/CataloDB_models_3_esm2_t36_3B_UR50D_2025-04-13/Scheme3_16000_3/models/temp_best_model.pt', '../models/FinalModels/CataloDB_models_3_esm2_t36_3B_UR50D_2025-04-13/Scheme3_16000_3/LSTM/models/13-04-25_19-16_128_2_0.2_100_best_model.pth', 'denovo/output_data/', '--toks_per_batch', '5', '--AS_threshold', '0.9']\n",
      "\u001b[93m--------------------------------------------------------------------------------\u001b[0m\n",
      "\u001b[93mRunning non-batched command:\tpython /disk1/ariane/miniconda3/envs/squidly/lib/python3.10/site-packages/squidly/squidly.py denovo/output_data/experimentally_tested_lysozymes.fasta esm2_t36_3B_UR50D ../models/FinalModels/CataloDB_models_3_esm2_t36_3B_UR50D_2025-04-13/Scheme3_16000_3/models/temp_best_model.pt ../models/FinalModels/CataloDB_models_3_esm2_t36_3B_UR50D_2025-04-13/Scheme3_16000_3/LSTM/models/13-04-25_19-16_128_2_0.2_100_best_model.pth denovo/output_data/ --toks_per_batch 5 --AS_threshold 0.9\t\u001b[0m\n",
      "\u001b[93m--------------------------------------------------------------------------------\u001b[0m\n",
      "\u001b[94m--------------------------------------------------------------------------------\u001b[0m\n",
      "\u001b[94m                             Starting squidly... \t                              \u001b[0m\n",
      "\u001b[94m--------------------------------------------------------------------------------\u001b[0m\n"
     ]
    },
    {
     "name": "stderr",
     "output_type": "stream",
     "text": [
      "100%|██████████| 84/84 [00:00<00:00, 266708.20it/s]\n"
     ]
    },
    {
     "name": "stdout",
     "output_type": "stream",
     "text": [
      "\u001b[93m--------------------------------------------------------------------------------\u001b[0m\n",
      "\u001b[93mRunning with user supplied squidly models:  \t../models/FinalModels/CataloDB_models_3_esm2_t36_3B_UR50D_2025-04-13/Scheme3_16000_4/models/temp_best_model.pt\t../models/FinalModels/CataloDB_models_3_esm2_t36_3B_UR50D_2025-04-13/Scheme3_16000_4/LSTM/models/13-04-25_20-57_128_2_0.2_100_best_model.pth\t\u001b[0m\n",
      "\u001b[93m--------------------------------------------------------------------------------\u001b[0m\n",
      "['python', '/disk1/ariane/miniconda3/envs/squidly/lib/python3.10/site-packages/squidly/squidly.py', 'denovo/output_data/experimentally_tested_lysozymes.fasta', 'esm2_t36_3B_UR50D', '../models/FinalModels/CataloDB_models_3_esm2_t36_3B_UR50D_2025-04-13/Scheme3_16000_4/models/temp_best_model.pt', '../models/FinalModels/CataloDB_models_3_esm2_t36_3B_UR50D_2025-04-13/Scheme3_16000_4/LSTM/models/13-04-25_20-57_128_2_0.2_100_best_model.pth', 'denovo/output_data/', '--toks_per_batch', '5', '--AS_threshold', '0.9']\n",
      "\u001b[93m--------------------------------------------------------------------------------\u001b[0m\n",
      "\u001b[93mRunning non-batched command:\tpython /disk1/ariane/miniconda3/envs/squidly/lib/python3.10/site-packages/squidly/squidly.py denovo/output_data/experimentally_tested_lysozymes.fasta esm2_t36_3B_UR50D ../models/FinalModels/CataloDB_models_3_esm2_t36_3B_UR50D_2025-04-13/Scheme3_16000_4/models/temp_best_model.pt ../models/FinalModels/CataloDB_models_3_esm2_t36_3B_UR50D_2025-04-13/Scheme3_16000_4/LSTM/models/13-04-25_20-57_128_2_0.2_100_best_model.pth denovo/output_data/ --toks_per_batch 5 --AS_threshold 0.9\t\u001b[0m\n",
      "\u001b[93m--------------------------------------------------------------------------------\u001b[0m\n",
      "\u001b[94m--------------------------------------------------------------------------------\u001b[0m\n",
      "\u001b[94m                             Starting squidly... \t                              \u001b[0m\n",
      "\u001b[94m--------------------------------------------------------------------------------\u001b[0m\n"
     ]
    },
    {
     "name": "stderr",
     "output_type": "stream",
     "text": [
      "100%|██████████| 84/84 [00:00<00:00, 273754.11it/s]\n"
     ]
    },
    {
     "name": "stdout",
     "output_type": "stream",
     "text": [
      "\u001b[93m--------------------------------------------------------------------------------\u001b[0m\n",
      "\u001b[93mRunning with user supplied squidly models:  \t../models/FinalModels/CataloDB_models_3_esm2_t36_3B_UR50D_2025-04-13/Scheme3_16000_5/models/temp_best_model.pt\t../models/FinalModels/CataloDB_models_3_esm2_t36_3B_UR50D_2025-04-13/Scheme3_16000_5/LSTM/models/13-04-25_22-36_128_2_0.2_100_best_model.pth\t\u001b[0m\n",
      "\u001b[93m--------------------------------------------------------------------------------\u001b[0m\n",
      "['python', '/disk1/ariane/miniconda3/envs/squidly/lib/python3.10/site-packages/squidly/squidly.py', 'denovo/output_data/experimentally_tested_lysozymes.fasta', 'esm2_t36_3B_UR50D', '../models/FinalModels/CataloDB_models_3_esm2_t36_3B_UR50D_2025-04-13/Scheme3_16000_5/models/temp_best_model.pt', '../models/FinalModels/CataloDB_models_3_esm2_t36_3B_UR50D_2025-04-13/Scheme3_16000_5/LSTM/models/13-04-25_22-36_128_2_0.2_100_best_model.pth', 'denovo/output_data/', '--toks_per_batch', '5', '--AS_threshold', '0.9']\n",
      "\u001b[93m--------------------------------------------------------------------------------\u001b[0m\n",
      "\u001b[93mRunning non-batched command:\tpython /disk1/ariane/miniconda3/envs/squidly/lib/python3.10/site-packages/squidly/squidly.py denovo/output_data/experimentally_tested_lysozymes.fasta esm2_t36_3B_UR50D ../models/FinalModels/CataloDB_models_3_esm2_t36_3B_UR50D_2025-04-13/Scheme3_16000_5/models/temp_best_model.pt ../models/FinalModels/CataloDB_models_3_esm2_t36_3B_UR50D_2025-04-13/Scheme3_16000_5/LSTM/models/13-04-25_22-36_128_2_0.2_100_best_model.pth denovo/output_data/ --toks_per_batch 5 --AS_threshold 0.9\t\u001b[0m\n",
      "\u001b[93m--------------------------------------------------------------------------------\u001b[0m\n"
     ]
    },
    {
     "data": {
      "text/plain": [
       "0"
      ]
     },
     "execution_count": 6,
     "metadata": {},
     "output_type": "execute_result"
    }
   ],
   "source": [
    "os.system(f'squidly {fasta_label} esm2_t36_3B_UR50D denovo/output_data/ {label}_3B_1 --as-threshold 0.9 --lstm-model-as ../models/FinalModels/CataloDB_models_3_esm2_t36_3B_UR50D_2025-04-13/Scheme3_16000_1/LSTM/models/13-04-25_15-07_128_2_0.2_100_best_model.pth --cr-model-as ../models/FinalModels/CataloDB_models_3_esm2_t36_3B_UR50D_2025-04-13/Scheme3_16000_1/models/temp_best_model.pt')\n",
    "os.system(f'squidly {fasta_label} esm2_t36_3B_UR50D denovo/output_data/ {label}_3B_2 --as-threshold 0.9 --lstm-model-as ../models/FinalModels/CataloDB_models_3_esm2_t36_3B_UR50D_2025-04-13/Scheme3_16000_2/LSTM/models/13-04-25_16-48_128_2_0.2_100_best_model.pth --cr-model-as ../models/FinalModels/CataloDB_models_3_esm2_t36_3B_UR50D_2025-04-13/Scheme3_16000_2/models/temp_best_model.pt')\n",
    "os.system(f'squidly {fasta_label} esm2_t36_3B_UR50D denovo/output_data/ {label}_3B_3 --as-threshold 0.9 --lstm-model-as ../models/FinalModels/CataloDB_models_3_esm2_t36_3B_UR50D_2025-04-13/Scheme3_16000_3/LSTM/models/13-04-25_19-16_128_2_0.2_100_best_model.pth --cr-model-as ../models/FinalModels/CataloDB_models_3_esm2_t36_3B_UR50D_2025-04-13/Scheme3_16000_3/models/temp_best_model.pt')\n",
    "os.system(f'squidly {fasta_label} esm2_t36_3B_UR50D denovo/output_data/ {label}_3B_4 --as-threshold 0.9 --lstm-model-as ../models/FinalModels/CataloDB_models_3_esm2_t36_3B_UR50D_2025-04-13/Scheme3_16000_4/LSTM/models/13-04-25_20-57_128_2_0.2_100_best_model.pth --cr-model-as ../models/FinalModels/CataloDB_models_3_esm2_t36_3B_UR50D_2025-04-13/Scheme3_16000_4/models/temp_best_model.pt')\n",
    "os.system(f'squidly {fasta_label} esm2_t36_3B_UR50D denovo/output_data/ {label}_3B_5 --as-threshold 0.9 --lstm-model-as ../models/FinalModels/CataloDB_models_3_esm2_t36_3B_UR50D_2025-04-13/Scheme3_16000_5/LSTM/models/13-04-25_22-36_128_2_0.2_100_best_model.pth --cr-model-as ../models/FinalModels/CataloDB_models_3_esm2_t36_3B_UR50D_2025-04-13/Scheme3_16000_5/models/temp_best_model.pt')\n"
   ]
  },
  {
   "cell_type": "markdown",
   "id": "03d833cd-e62f-4f9a-98c0-ab738dec833c",
   "metadata": {},
   "source": [
    "# Test generated families\n",
    "\n",
    "1. CuSOD: copper superoxide dismutase or Superoxide dismutase: https://www.ebi.ac.uk/thornton-srv/m-csa/entry/138/\n",
    "2. MDH: malate dehydrogenase: https://www.ebi.ac.uk/thornton-srv/m-csa/search/?s=malate+dehydrogenase\n"
   ]
  },
  {
   "cell_type": "code",
   "execution_count": null,
   "id": "31f649d8-dacf-4bc9-9853-3c38733785e7",
   "metadata": {},
   "outputs": [],
   "source": [
    "label = 'experimentally_tested_metrics'\n",
    "df = pd.read_csv(f'denovo/input_data/{label}.csv')\n",
    "\n",
    "with open(f'denovo/output_data/{label}.fasta', 'w+') as fout:\n",
    "    for entry, seq in df[['id', 'Sequence']].values:\n",
    "        fout.write(f'>{entry}\\n{seq}\\n')\n",
    "\n",
    "fasta_label = f'denovo/output_data/{label}.fasta'"
   ]
  },
  {
   "cell_type": "code",
   "execution_count": null,
   "id": "3ce6b218-9d41-4fb6-be6e-0382e6a8733c",
   "metadata": {},
   "outputs": [],
   "source": [
    "os.system(f'squidly {fasta_label} esm2_t36_3B_UR50D denovo/output_data/ {label}_3B_1 --as-threshold 0.9 --lstm-model-as ../models/FinalModels/CataloDB_models_3_esm2_t36_3B_UR50D_2025-04-13/Scheme3_16000_1/LSTM/models/13-04-25_15-07_128_2_0.2_100_best_model.pth --cr-model-as ../models/FinalModels/CataloDB_models_3_esm2_t36_3B_UR50D_2025-04-13/Scheme3_16000_1/models/temp_best_model.pt')\n",
    "os.system(f'squidly {fasta_label} esm2_t36_3B_UR50D denovo/output_data/ {label}_3B_2 --as-threshold 0.9 --lstm-model-as ../models/FinalModels/CataloDB_models_3_esm2_t36_3B_UR50D_2025-04-13/Scheme3_16000_2/LSTM/models/13-04-25_16-48_128_2_0.2_100_best_model.pth --cr-model-as ../models/FinalModels/CataloDB_models_3_esm2_t36_3B_UR50D_2025-04-13/Scheme3_16000_2/models/temp_best_model.pt')\n",
    "os.system(f'squidly {fasta_label} esm2_t36_3B_UR50D denovo/output_data/ {label}_3B_3 --as-threshold 0.9 --lstm-model-as ../models/FinalModels/CataloDB_models_3_esm2_t36_3B_UR50D_2025-04-13/Scheme3_16000_3/LSTM/models/13-04-25_19-16_128_2_0.2_100_best_model.pth --cr-model-as ../models/FinalModels/CataloDB_models_3_esm2_t36_3B_UR50D_2025-04-13/Scheme3_16000_3/models/temp_best_model.pt')\n",
    "os.system(f'squidly {fasta_label} esm2_t36_3B_UR50D denovo/output_data/ {label}_3B_4 --as-threshold 0.9 --lstm-model-as ../models/FinalModels/CataloDB_models_3_esm2_t36_3B_UR50D_2025-04-13/Scheme3_16000_4/LSTM/models/13-04-25_20-57_128_2_0.2_100_best_model.pth --cr-model-as ../models/FinalModels/CataloDB_models_3_esm2_t36_3B_UR50D_2025-04-13/Scheme3_16000_4/models/temp_best_model.pt')\n",
    "os.system(f'squidly {fasta_label} esm2_t36_3B_UR50D denovo/output_data/ {label}_3B_5 --as-threshold 0.9 --lstm-model-as ../models/FinalModels/CataloDB_models_3_esm2_t36_3B_UR50D_2025-04-13/Scheme3_16000_5/LSTM/models/13-04-25_22-36_128_2_0.2_100_best_model.pth --cr-model-as ../models/FinalModels/CataloDB_models_3_esm2_t36_3B_UR50D_2025-04-13/Scheme3_16000_5/models/temp_best_model.pt')\n"
   ]
  },
  {
   "cell_type": "markdown",
   "id": "dd19bb0f-2e78-4fb8-958d-998cb9fa2caf",
   "metadata": {},
   "source": [
    "# Test generated serine hydrolases\n",
    "\n",
    "1. serine_hydrolases taken from the SI of: https://www.science.org/doi/pdf/10.1126/science.adu2454?casa_token=iDQKvu36FKgAAAAA:Yq6Hc3SJ-cjQ9apHGT2RM6FgbknzYCMhLzeXA39nKcjgLwz5tIvCGRGguuPtRrw67d8om0V_LLkRP-4 for each of the reported sequences\n",
    "\n",
    "Unfortunatly only 18 sequences are provided of the 100's tested."
   ]
  },
  {
   "cell_type": "code",
   "execution_count": 89,
   "id": "7adc1026-a49f-4eb4-b048-985cbbd186de",
   "metadata": {},
   "outputs": [],
   "source": [
    "label = 'serine_hydrolases'\n",
    "\n",
    "fasta_label = f'denovo/input_data/{label}.fasta'\n",
    "rows = []\n",
    "for record in SeqIO.parse(fasta_label, \"fasta\"):\n",
    "    rows.append([record.id, str(record.seq)])\n",
    "df = pd.DataFrame(rows, columns=['id', 'seq'])\n",
    "df.to_csv(f'denovo/input_data/{label}.csv')\n",
    "with open(f'denovo/output_data/{label}.fasta', 'w+') as fout:\n",
    "    for entry, seq in df[['id', 'seq']].values:\n",
    "        fout.write(f'>{entry}\\n{seq}\\n')\n",
    "fasta_label = f'denovo/output_data/{label}.fasta'"
   ]
  },
  {
   "cell_type": "code",
   "execution_count": 90,
   "id": "d4e08eae-acf5-4147-93a0-482e3b0cd369",
   "metadata": {},
   "outputs": [
    {
     "name": "stdout",
     "output_type": "stream",
     "text": [
      "\u001b[94m--------------------------------------------------------------------------------\u001b[0m\n",
      "\u001b[94m                             Starting squidly... \t                              \u001b[0m\n",
      "\u001b[94m--------------------------------------------------------------------------------\u001b[0m\n"
     ]
    },
    {
     "name": "stderr",
     "output_type": "stream",
     "text": [
      "100%|██████████| 18/18 [00:00<00:00, 149204.49it/s]\n"
     ]
    },
    {
     "name": "stdout",
     "output_type": "stream",
     "text": [
      "\u001b[93m--------------------------------------------------------------------------------\u001b[0m\n",
      "\u001b[93mRunning with user supplied squidly models:  \t../models/FinalModels/CLEANED_reproducing_AEGAN_benchmark_squidly_scheme_3_esm2_t36_3B_UR50D_2025-03-04/Scheme3_16000_1/models/temp_best_model.pt\t../models/FinalModels/CLEANED_reproducing_AEGAN_benchmark_squidly_scheme_3_esm2_t36_3B_UR50D_2025-03-04/Scheme3_16000_1/LSTM/models/04-03-25_12-49_128_2_0.2_400_best_model.pth\t\u001b[0m\n",
      "\u001b[93m--------------------------------------------------------------------------------\u001b[0m\n",
      "['python', '/disk1/ariane/miniconda3/envs/squidly/lib/python3.10/site-packages/squidly/squidly.py', 'denovo/output_data/serine_hydrolases.fasta', 'esm2_t36_3B_UR50D', '../models/FinalModels/CLEANED_reproducing_AEGAN_benchmark_squidly_scheme_3_esm2_t36_3B_UR50D_2025-03-04/Scheme3_16000_1/models/temp_best_model.pt', '../models/FinalModels/CLEANED_reproducing_AEGAN_benchmark_squidly_scheme_3_esm2_t36_3B_UR50D_2025-03-04/Scheme3_16000_1/LSTM/models/04-03-25_12-49_128_2_0.2_400_best_model.pth', 'denovo/output_data/', '--toks_per_batch', '5', '--AS_threshold', '0.9']\n",
      "\u001b[93m--------------------------------------------------------------------------------\u001b[0m\n",
      "\u001b[93mRunning non-batched command:\tpython /disk1/ariane/miniconda3/envs/squidly/lib/python3.10/site-packages/squidly/squidly.py denovo/output_data/serine_hydrolases.fasta esm2_t36_3B_UR50D ../models/FinalModels/CLEANED_reproducing_AEGAN_benchmark_squidly_scheme_3_esm2_t36_3B_UR50D_2025-03-04/Scheme3_16000_1/models/temp_best_model.pt ../models/FinalModels/CLEANED_reproducing_AEGAN_benchmark_squidly_scheme_3_esm2_t36_3B_UR50D_2025-03-04/Scheme3_16000_1/LSTM/models/04-03-25_12-49_128_2_0.2_400_best_model.pth denovo/output_data/ --toks_per_batch 5 --AS_threshold 0.9\t\u001b[0m\n",
      "\u001b[93m--------------------------------------------------------------------------------\u001b[0m\n",
      "\u001b[94m--------------------------------------------------------------------------------\u001b[0m\n",
      "\u001b[94m                             Starting squidly... \t                              \u001b[0m\n",
      "\u001b[94m--------------------------------------------------------------------------------\u001b[0m\n"
     ]
    },
    {
     "name": "stderr",
     "output_type": "stream",
     "text": [
      "100%|██████████| 18/18 [00:00<00:00, 144908.78it/s]\n"
     ]
    },
    {
     "name": "stdout",
     "output_type": "stream",
     "text": [
      "\u001b[93m--------------------------------------------------------------------------------\u001b[0m\n",
      "\u001b[93mRunning with user supplied squidly models:  \t../models/FinalModels/CLEANED_reproducing_AEGAN_benchmark_squidly_scheme_3_esm2_t36_3B_UR50D_2025-03-04/Scheme3_16000_2/models/temp_best_model.pt\t../models/FinalModels/CLEANED_reproducing_AEGAN_benchmark_squidly_scheme_3_esm2_t36_3B_UR50D_2025-03-04/Scheme3_16000_2/LSTM/models/04-03-25_14-09_128_2_0.2_400_best_model.pth\t\u001b[0m\n",
      "\u001b[93m--------------------------------------------------------------------------------\u001b[0m\n",
      "['python', '/disk1/ariane/miniconda3/envs/squidly/lib/python3.10/site-packages/squidly/squidly.py', 'denovo/output_data/serine_hydrolases.fasta', 'esm2_t36_3B_UR50D', '../models/FinalModels/CLEANED_reproducing_AEGAN_benchmark_squidly_scheme_3_esm2_t36_3B_UR50D_2025-03-04/Scheme3_16000_2/models/temp_best_model.pt', '../models/FinalModels/CLEANED_reproducing_AEGAN_benchmark_squidly_scheme_3_esm2_t36_3B_UR50D_2025-03-04/Scheme3_16000_2/LSTM/models/04-03-25_14-09_128_2_0.2_400_best_model.pth', 'denovo/output_data/', '--toks_per_batch', '5', '--AS_threshold', '0.9']\n",
      "\u001b[93m--------------------------------------------------------------------------------\u001b[0m\n",
      "\u001b[93mRunning non-batched command:\tpython /disk1/ariane/miniconda3/envs/squidly/lib/python3.10/site-packages/squidly/squidly.py denovo/output_data/serine_hydrolases.fasta esm2_t36_3B_UR50D ../models/FinalModels/CLEANED_reproducing_AEGAN_benchmark_squidly_scheme_3_esm2_t36_3B_UR50D_2025-03-04/Scheme3_16000_2/models/temp_best_model.pt ../models/FinalModels/CLEANED_reproducing_AEGAN_benchmark_squidly_scheme_3_esm2_t36_3B_UR50D_2025-03-04/Scheme3_16000_2/LSTM/models/04-03-25_14-09_128_2_0.2_400_best_model.pth denovo/output_data/ --toks_per_batch 5 --AS_threshold 0.9\t\u001b[0m\n",
      "\u001b[93m--------------------------------------------------------------------------------\u001b[0m\n",
      "\u001b[94m--------------------------------------------------------------------------------\u001b[0m\n",
      "\u001b[94m                             Starting squidly... \t                              \u001b[0m\n",
      "\u001b[94m--------------------------------------------------------------------------------\u001b[0m\n"
     ]
    },
    {
     "name": "stderr",
     "output_type": "stream",
     "text": [
      "100%|██████████| 18/18 [00:00<00:00, 135300.13it/s]\n"
     ]
    },
    {
     "name": "stdout",
     "output_type": "stream",
     "text": [
      "\u001b[93m--------------------------------------------------------------------------------\u001b[0m\n",
      "\u001b[93mRunning with user supplied squidly models:  \t../models/FinalModels/CLEANED_reproducing_AEGAN_benchmark_squidly_scheme_3_esm2_t36_3B_UR50D_2025-03-04/Scheme3_16000_3/models/temp_best_model.pt\t../models/FinalModels/CLEANED_reproducing_AEGAN_benchmark_squidly_scheme_3_esm2_t36_3B_UR50D_2025-03-04/Scheme3_16000_3/LSTM/models/04-03-25_15-14_128_2_0.2_400_best_model.pth\t\u001b[0m\n",
      "\u001b[93m--------------------------------------------------------------------------------\u001b[0m\n",
      "['python', '/disk1/ariane/miniconda3/envs/squidly/lib/python3.10/site-packages/squidly/squidly.py', 'denovo/output_data/serine_hydrolases.fasta', 'esm2_t36_3B_UR50D', '../models/FinalModels/CLEANED_reproducing_AEGAN_benchmark_squidly_scheme_3_esm2_t36_3B_UR50D_2025-03-04/Scheme3_16000_3/models/temp_best_model.pt', '../models/FinalModels/CLEANED_reproducing_AEGAN_benchmark_squidly_scheme_3_esm2_t36_3B_UR50D_2025-03-04/Scheme3_16000_3/LSTM/models/04-03-25_15-14_128_2_0.2_400_best_model.pth', 'denovo/output_data/', '--toks_per_batch', '5', '--AS_threshold', '0.9']\n",
      "\u001b[93m--------------------------------------------------------------------------------\u001b[0m\n",
      "\u001b[93mRunning non-batched command:\tpython /disk1/ariane/miniconda3/envs/squidly/lib/python3.10/site-packages/squidly/squidly.py denovo/output_data/serine_hydrolases.fasta esm2_t36_3B_UR50D ../models/FinalModels/CLEANED_reproducing_AEGAN_benchmark_squidly_scheme_3_esm2_t36_3B_UR50D_2025-03-04/Scheme3_16000_3/models/temp_best_model.pt ../models/FinalModels/CLEANED_reproducing_AEGAN_benchmark_squidly_scheme_3_esm2_t36_3B_UR50D_2025-03-04/Scheme3_16000_3/LSTM/models/04-03-25_15-14_128_2_0.2_400_best_model.pth denovo/output_data/ --toks_per_batch 5 --AS_threshold 0.9\t\u001b[0m\n",
      "\u001b[93m--------------------------------------------------------------------------------\u001b[0m\n",
      "\u001b[94m--------------------------------------------------------------------------------\u001b[0m\n",
      "\u001b[94m                             Starting squidly... \t                              \u001b[0m\n",
      "\u001b[94m--------------------------------------------------------------------------------\u001b[0m\n"
     ]
    },
    {
     "name": "stderr",
     "output_type": "stream",
     "text": [
      "100%|██████████| 18/18 [00:00<00:00, 136770.78it/s]\n"
     ]
    },
    {
     "name": "stdout",
     "output_type": "stream",
     "text": [
      "\u001b[93m--------------------------------------------------------------------------------\u001b[0m\n",
      "\u001b[93mRunning with user supplied squidly models:  \t../models/FinalModels/CLEANED_reproducing_AEGAN_benchmark_squidly_scheme_3_esm2_t36_3B_UR50D_2025-03-04/Scheme3_16000_4/models/temp_best_model.pt\t../models/FinalModels/CLEANED_reproducing_AEGAN_benchmark_squidly_scheme_3_esm2_t36_3B_UR50D_2025-03-04/Scheme3_16000_4/LSTM/models/04-03-25_17-28_128_2_0.2_400_best_model.pth\t\u001b[0m\n",
      "\u001b[93m--------------------------------------------------------------------------------\u001b[0m\n",
      "['python', '/disk1/ariane/miniconda3/envs/squidly/lib/python3.10/site-packages/squidly/squidly.py', 'denovo/output_data/serine_hydrolases.fasta', 'esm2_t36_3B_UR50D', '../models/FinalModels/CLEANED_reproducing_AEGAN_benchmark_squidly_scheme_3_esm2_t36_3B_UR50D_2025-03-04/Scheme3_16000_4/models/temp_best_model.pt', '../models/FinalModels/CLEANED_reproducing_AEGAN_benchmark_squidly_scheme_3_esm2_t36_3B_UR50D_2025-03-04/Scheme3_16000_4/LSTM/models/04-03-25_17-28_128_2_0.2_400_best_model.pth', 'denovo/output_data/', '--toks_per_batch', '5', '--AS_threshold', '0.9']\n",
      "\u001b[93m--------------------------------------------------------------------------------\u001b[0m\n",
      "\u001b[93mRunning non-batched command:\tpython /disk1/ariane/miniconda3/envs/squidly/lib/python3.10/site-packages/squidly/squidly.py denovo/output_data/serine_hydrolases.fasta esm2_t36_3B_UR50D ../models/FinalModels/CLEANED_reproducing_AEGAN_benchmark_squidly_scheme_3_esm2_t36_3B_UR50D_2025-03-04/Scheme3_16000_4/models/temp_best_model.pt ../models/FinalModels/CLEANED_reproducing_AEGAN_benchmark_squidly_scheme_3_esm2_t36_3B_UR50D_2025-03-04/Scheme3_16000_4/LSTM/models/04-03-25_17-28_128_2_0.2_400_best_model.pth denovo/output_data/ --toks_per_batch 5 --AS_threshold 0.9\t\u001b[0m\n",
      "\u001b[93m--------------------------------------------------------------------------------\u001b[0m\n",
      "\u001b[94m--------------------------------------------------------------------------------\u001b[0m\n",
      "\u001b[94m                             Starting squidly... \t                              \u001b[0m\n",
      "\u001b[94m--------------------------------------------------------------------------------\u001b[0m\n"
     ]
    },
    {
     "name": "stderr",
     "output_type": "stream",
     "text": [
      "100%|██████████| 18/18 [00:00<00:00, 142717.34it/s]\n"
     ]
    },
    {
     "name": "stdout",
     "output_type": "stream",
     "text": [
      "\u001b[93m--------------------------------------------------------------------------------\u001b[0m\n",
      "\u001b[93mRunning with user supplied squidly models:  \t../models/FinalModels/CLEANED_reproducing_AEGAN_benchmark_squidly_scheme_3_esm2_t36_3B_UR50D_2025-03-04/Scheme3_16000_5/models/temp_best_model.pt\t../models/FinalModels/CLEANED_reproducing_AEGAN_benchmark_squidly_scheme_3_esm2_t36_3B_UR50D_2025-03-04/Scheme3_16000_5/LSTM/models/04-03-25_19-44_128_2_0.2_400_best_model.pth\t\u001b[0m\n",
      "\u001b[93m--------------------------------------------------------------------------------\u001b[0m\n",
      "['python', '/disk1/ariane/miniconda3/envs/squidly/lib/python3.10/site-packages/squidly/squidly.py', 'denovo/output_data/serine_hydrolases.fasta', 'esm2_t36_3B_UR50D', '../models/FinalModels/CLEANED_reproducing_AEGAN_benchmark_squidly_scheme_3_esm2_t36_3B_UR50D_2025-03-04/Scheme3_16000_5/models/temp_best_model.pt', '../models/FinalModels/CLEANED_reproducing_AEGAN_benchmark_squidly_scheme_3_esm2_t36_3B_UR50D_2025-03-04/Scheme3_16000_5/LSTM/models/04-03-25_19-44_128_2_0.2_400_best_model.pth', 'denovo/output_data/', '--toks_per_batch', '5', '--AS_threshold', '0.9']\n",
      "\u001b[93m--------------------------------------------------------------------------------\u001b[0m\n",
      "\u001b[93mRunning non-batched command:\tpython /disk1/ariane/miniconda3/envs/squidly/lib/python3.10/site-packages/squidly/squidly.py denovo/output_data/serine_hydrolases.fasta esm2_t36_3B_UR50D ../models/FinalModels/CLEANED_reproducing_AEGAN_benchmark_squidly_scheme_3_esm2_t36_3B_UR50D_2025-03-04/Scheme3_16000_5/models/temp_best_model.pt ../models/FinalModels/CLEANED_reproducing_AEGAN_benchmark_squidly_scheme_3_esm2_t36_3B_UR50D_2025-03-04/Scheme3_16000_5/LSTM/models/04-03-25_19-44_128_2_0.2_400_best_model.pth denovo/output_data/ --toks_per_batch 5 --AS_threshold 0.9\t\u001b[0m\n",
      "\u001b[93m--------------------------------------------------------------------------------\u001b[0m\n"
     ]
    },
    {
     "data": {
      "text/plain": [
       "0"
      ]
     },
     "execution_count": 90,
     "metadata": {},
     "output_type": "execute_result"
    }
   ],
   "source": [
    "os.system(f'squidly {fasta_label} esm2_t36_3B_UR50D denovo/output_data/ {label}_AEGAN_3B_1 --as-threshold 0.9 --lstm-model-as ../models/FinalModels/CLEANED_reproducing_AEGAN_benchmark_squidly_scheme_3_esm2_t36_3B_UR50D_2025-03-04/Scheme3_16000_1/LSTM/models/04-03-25_12-49_128_2_0.2_400_best_model.pth --cr-model-as ../models/FinalModels/CLEANED_reproducing_AEGAN_benchmark_squidly_scheme_3_esm2_t36_3B_UR50D_2025-03-04/Scheme3_16000_1/models/temp_best_model.pt')\n",
    "os.system(f'squidly {fasta_label} esm2_t36_3B_UR50D denovo/output_data/ {label}_AEGAN_3B_2 --as-threshold 0.9 --lstm-model-as ../models/FinalModels/CLEANED_reproducing_AEGAN_benchmark_squidly_scheme_3_esm2_t36_3B_UR50D_2025-03-04/Scheme3_16000_2/LSTM/models/04-03-25_14-09_128_2_0.2_400_best_model.pth --cr-model-as ../models/FinalModels/CLEANED_reproducing_AEGAN_benchmark_squidly_scheme_3_esm2_t36_3B_UR50D_2025-03-04/Scheme3_16000_2/models/temp_best_model.pt')\n",
    "os.system(f'squidly {fasta_label} esm2_t36_3B_UR50D denovo/output_data/ {label}_AEGAN_3B_3 --as-threshold 0.9 --lstm-model-as ../models/FinalModels/CLEANED_reproducing_AEGAN_benchmark_squidly_scheme_3_esm2_t36_3B_UR50D_2025-03-04/Scheme3_16000_3/LSTM/models/04-03-25_15-14_128_2_0.2_400_best_model.pth --cr-model-as ../models/FinalModels/CLEANED_reproducing_AEGAN_benchmark_squidly_scheme_3_esm2_t36_3B_UR50D_2025-03-04/Scheme3_16000_3/models/temp_best_model.pt')\n",
    "os.system(f'squidly {fasta_label} esm2_t36_3B_UR50D denovo/output_data/ {label}_AEGAN_3B_4 --as-threshold 0.9 --lstm-model-as ../models/FinalModels/CLEANED_reproducing_AEGAN_benchmark_squidly_scheme_3_esm2_t36_3B_UR50D_2025-03-04/Scheme3_16000_4/LSTM/models/04-03-25_17-28_128_2_0.2_400_best_model.pth --cr-model-as ../models/FinalModels/CLEANED_reproducing_AEGAN_benchmark_squidly_scheme_3_esm2_t36_3B_UR50D_2025-03-04/Scheme3_16000_4/models/temp_best_model.pt')\n",
    "os.system(f'squidly {fasta_label} esm2_t36_3B_UR50D denovo/output_data/ {label}_AEGAN_3B_5 --as-threshold 0.9 --lstm-model-as ../models/FinalModels/CLEANED_reproducing_AEGAN_benchmark_squidly_scheme_3_esm2_t36_3B_UR50D_2025-03-04/Scheme3_16000_5/LSTM/models/04-03-25_19-44_128_2_0.2_400_best_model.pth --cr-model-as ../models/FinalModels/CLEANED_reproducing_AEGAN_benchmark_squidly_scheme_3_esm2_t36_3B_UR50D_2025-03-04/Scheme3_16000_5/models/temp_best_model.pt')\n"
   ]
  },
  {
   "cell_type": "code",
   "execution_count": 10,
   "id": "94826f01-c6db-4aec-998f-60e92a3cd2d5",
   "metadata": {},
   "outputs": [
    {
     "name": "stdout",
     "output_type": "stream",
     "text": [
      "\u001b[94m--------------------------------------------------------------------------------\u001b[0m\n",
      "\u001b[94m                             Starting squidly... \t                              \u001b[0m\n",
      "\u001b[94m--------------------------------------------------------------------------------\u001b[0m\n"
     ]
    },
    {
     "name": "stderr",
     "output_type": "stream",
     "text": [
      "100%|██████████| 18/18 [00:00<00:00, 130618.46it/s]\n"
     ]
    },
    {
     "name": "stdout",
     "output_type": "stream",
     "text": [
      "\u001b[93m--------------------------------------------------------------------------------\u001b[0m\n",
      "\u001b[93mRunning with user supplied squidly models:  \t../models/FinalModels/CataloDB_models_3_esm2_t36_3B_UR50D_2025-04-13/Scheme3_16000_1/models/temp_best_model.pt\t../models/FinalModels/CataloDB_models_3_esm2_t36_3B_UR50D_2025-04-13/Scheme3_16000_1/LSTM/models/13-04-25_15-07_128_2_0.2_100_best_model.pth\t\u001b[0m\n",
      "\u001b[93m--------------------------------------------------------------------------------\u001b[0m\n",
      "['python', '/disk1/ariane/miniconda3/envs/squidly/lib/python3.10/site-packages/squidly/squidly.py', 'denovo/output_data/serine_hydrolases.fasta', 'esm2_t36_3B_UR50D', '../models/FinalModels/CataloDB_models_3_esm2_t36_3B_UR50D_2025-04-13/Scheme3_16000_1/models/temp_best_model.pt', '../models/FinalModels/CataloDB_models_3_esm2_t36_3B_UR50D_2025-04-13/Scheme3_16000_1/LSTM/models/13-04-25_15-07_128_2_0.2_100_best_model.pth', 'denovo/output_data/', '--toks_per_batch', '5', '--AS_threshold', '0.9']\n",
      "\u001b[93m--------------------------------------------------------------------------------\u001b[0m\n",
      "\u001b[93mRunning non-batched command:\tpython /disk1/ariane/miniconda3/envs/squidly/lib/python3.10/site-packages/squidly/squidly.py denovo/output_data/serine_hydrolases.fasta esm2_t36_3B_UR50D ../models/FinalModels/CataloDB_models_3_esm2_t36_3B_UR50D_2025-04-13/Scheme3_16000_1/models/temp_best_model.pt ../models/FinalModels/CataloDB_models_3_esm2_t36_3B_UR50D_2025-04-13/Scheme3_16000_1/LSTM/models/13-04-25_15-07_128_2_0.2_100_best_model.pth denovo/output_data/ --toks_per_batch 5 --AS_threshold 0.9\t\u001b[0m\n",
      "\u001b[93m--------------------------------------------------------------------------------\u001b[0m\n",
      "\u001b[94m--------------------------------------------------------------------------------\u001b[0m\n",
      "\u001b[94m                             Starting squidly... \t                              \u001b[0m\n",
      "\u001b[94m--------------------------------------------------------------------------------\u001b[0m\n"
     ]
    },
    {
     "name": "stderr",
     "output_type": "stream",
     "text": [
      "100%|██████████| 18/18 [00:00<00:00, 140329.87it/s]\n"
     ]
    },
    {
     "name": "stdout",
     "output_type": "stream",
     "text": [
      "\u001b[93m--------------------------------------------------------------------------------\u001b[0m\n",
      "\u001b[93mRunning with user supplied squidly models:  \t../models/FinalModels/CataloDB_models_3_esm2_t36_3B_UR50D_2025-04-13/Scheme3_16000_2/models/temp_best_model.pt\t../models/FinalModels/CataloDB_models_3_esm2_t36_3B_UR50D_2025-04-13/Scheme3_16000_2/LSTM/models/13-04-25_16-48_128_2_0.2_100_best_model.pth\t\u001b[0m\n",
      "\u001b[93m--------------------------------------------------------------------------------\u001b[0m\n",
      "['python', '/disk1/ariane/miniconda3/envs/squidly/lib/python3.10/site-packages/squidly/squidly.py', 'denovo/output_data/serine_hydrolases.fasta', 'esm2_t36_3B_UR50D', '../models/FinalModels/CataloDB_models_3_esm2_t36_3B_UR50D_2025-04-13/Scheme3_16000_2/models/temp_best_model.pt', '../models/FinalModels/CataloDB_models_3_esm2_t36_3B_UR50D_2025-04-13/Scheme3_16000_2/LSTM/models/13-04-25_16-48_128_2_0.2_100_best_model.pth', 'denovo/output_data/', '--toks_per_batch', '5', '--AS_threshold', '0.9']\n",
      "\u001b[93m--------------------------------------------------------------------------------\u001b[0m\n",
      "\u001b[93mRunning non-batched command:\tpython /disk1/ariane/miniconda3/envs/squidly/lib/python3.10/site-packages/squidly/squidly.py denovo/output_data/serine_hydrolases.fasta esm2_t36_3B_UR50D ../models/FinalModels/CataloDB_models_3_esm2_t36_3B_UR50D_2025-04-13/Scheme3_16000_2/models/temp_best_model.pt ../models/FinalModels/CataloDB_models_3_esm2_t36_3B_UR50D_2025-04-13/Scheme3_16000_2/LSTM/models/13-04-25_16-48_128_2_0.2_100_best_model.pth denovo/output_data/ --toks_per_batch 5 --AS_threshold 0.9\t\u001b[0m\n",
      "\u001b[93m--------------------------------------------------------------------------------\u001b[0m\n",
      "\u001b[94m--------------------------------------------------------------------------------\u001b[0m\n",
      "\u001b[94m                             Starting squidly... \t                              \u001b[0m\n",
      "\u001b[94m--------------------------------------------------------------------------------\u001b[0m\n"
     ]
    },
    {
     "name": "stderr",
     "output_type": "stream",
     "text": [
      "100%|██████████| 18/18 [00:00<00:00, 132451.71it/s]\n"
     ]
    },
    {
     "name": "stdout",
     "output_type": "stream",
     "text": [
      "\u001b[93m--------------------------------------------------------------------------------\u001b[0m\n",
      "\u001b[93mRunning with user supplied squidly models:  \t../models/FinalModels/CataloDB_models_3_esm2_t36_3B_UR50D_2025-04-13/Scheme3_16000_3/models/temp_best_model.pt\t../models/FinalModels/CataloDB_models_3_esm2_t36_3B_UR50D_2025-04-13/Scheme3_16000_3/LSTM/models/13-04-25_19-16_128_2_0.2_100_best_model.pth\t\u001b[0m\n",
      "\u001b[93m--------------------------------------------------------------------------------\u001b[0m\n",
      "['python', '/disk1/ariane/miniconda3/envs/squidly/lib/python3.10/site-packages/squidly/squidly.py', 'denovo/output_data/serine_hydrolases.fasta', 'esm2_t36_3B_UR50D', '../models/FinalModels/CataloDB_models_3_esm2_t36_3B_UR50D_2025-04-13/Scheme3_16000_3/models/temp_best_model.pt', '../models/FinalModels/CataloDB_models_3_esm2_t36_3B_UR50D_2025-04-13/Scheme3_16000_3/LSTM/models/13-04-25_19-16_128_2_0.2_100_best_model.pth', 'denovo/output_data/', '--toks_per_batch', '5', '--AS_threshold', '0.9']\n",
      "\u001b[93m--------------------------------------------------------------------------------\u001b[0m\n",
      "\u001b[93mRunning non-batched command:\tpython /disk1/ariane/miniconda3/envs/squidly/lib/python3.10/site-packages/squidly/squidly.py denovo/output_data/serine_hydrolases.fasta esm2_t36_3B_UR50D ../models/FinalModels/CataloDB_models_3_esm2_t36_3B_UR50D_2025-04-13/Scheme3_16000_3/models/temp_best_model.pt ../models/FinalModels/CataloDB_models_3_esm2_t36_3B_UR50D_2025-04-13/Scheme3_16000_3/LSTM/models/13-04-25_19-16_128_2_0.2_100_best_model.pth denovo/output_data/ --toks_per_batch 5 --AS_threshold 0.9\t\u001b[0m\n",
      "\u001b[93m--------------------------------------------------------------------------------\u001b[0m\n",
      "\u001b[94m--------------------------------------------------------------------------------\u001b[0m\n",
      "\u001b[94m                             Starting squidly... \t                              \u001b[0m\n",
      "\u001b[94m--------------------------------------------------------------------------------\u001b[0m\n"
     ]
    },
    {
     "name": "stderr",
     "output_type": "stream",
     "text": [
      "100%|██████████| 18/18 [00:00<00:00, 135786.82it/s]\n"
     ]
    },
    {
     "name": "stdout",
     "output_type": "stream",
     "text": [
      "\u001b[93m--------------------------------------------------------------------------------\u001b[0m\n",
      "\u001b[93mRunning with user supplied squidly models:  \t../models/FinalModels/CataloDB_models_3_esm2_t36_3B_UR50D_2025-04-13/Scheme3_16000_4/models/temp_best_model.pt\t../models/FinalModels/CataloDB_models_3_esm2_t36_3B_UR50D_2025-04-13/Scheme3_16000_4/LSTM/models/13-04-25_20-57_128_2_0.2_100_best_model.pth\t\u001b[0m\n",
      "\u001b[93m--------------------------------------------------------------------------------\u001b[0m\n",
      "['python', '/disk1/ariane/miniconda3/envs/squidly/lib/python3.10/site-packages/squidly/squidly.py', 'denovo/output_data/serine_hydrolases.fasta', 'esm2_t36_3B_UR50D', '../models/FinalModels/CataloDB_models_3_esm2_t36_3B_UR50D_2025-04-13/Scheme3_16000_4/models/temp_best_model.pt', '../models/FinalModels/CataloDB_models_3_esm2_t36_3B_UR50D_2025-04-13/Scheme3_16000_4/LSTM/models/13-04-25_20-57_128_2_0.2_100_best_model.pth', 'denovo/output_data/', '--toks_per_batch', '5', '--AS_threshold', '0.9']\n",
      "\u001b[93m--------------------------------------------------------------------------------\u001b[0m\n",
      "\u001b[93mRunning non-batched command:\tpython /disk1/ariane/miniconda3/envs/squidly/lib/python3.10/site-packages/squidly/squidly.py denovo/output_data/serine_hydrolases.fasta esm2_t36_3B_UR50D ../models/FinalModels/CataloDB_models_3_esm2_t36_3B_UR50D_2025-04-13/Scheme3_16000_4/models/temp_best_model.pt ../models/FinalModels/CataloDB_models_3_esm2_t36_3B_UR50D_2025-04-13/Scheme3_16000_4/LSTM/models/13-04-25_20-57_128_2_0.2_100_best_model.pth denovo/output_data/ --toks_per_batch 5 --AS_threshold 0.9\t\u001b[0m\n",
      "\u001b[93m--------------------------------------------------------------------------------\u001b[0m\n",
      "\u001b[94m--------------------------------------------------------------------------------\u001b[0m\n",
      "\u001b[94m                             Starting squidly... \t                              \u001b[0m\n",
      "\u001b[94m--------------------------------------------------------------------------------\u001b[0m\n"
     ]
    },
    {
     "name": "stderr",
     "output_type": "stream",
     "text": [
      "100%|██████████| 18/18 [00:00<00:00, 138527.47it/s]\n"
     ]
    },
    {
     "name": "stdout",
     "output_type": "stream",
     "text": [
      "\u001b[93m--------------------------------------------------------------------------------\u001b[0m\n",
      "\u001b[93mRunning with user supplied squidly models:  \t../models/FinalModels/CataloDB_models_3_esm2_t36_3B_UR50D_2025-04-13/Scheme3_16000_5/models/temp_best_model.pt\t../models/FinalModels/CataloDB_models_3_esm2_t36_3B_UR50D_2025-04-13/Scheme3_16000_5/LSTM/models/13-04-25_22-36_128_2_0.2_100_best_model.pth\t\u001b[0m\n",
      "\u001b[93m--------------------------------------------------------------------------------\u001b[0m\n",
      "['python', '/disk1/ariane/miniconda3/envs/squidly/lib/python3.10/site-packages/squidly/squidly.py', 'denovo/output_data/serine_hydrolases.fasta', 'esm2_t36_3B_UR50D', '../models/FinalModels/CataloDB_models_3_esm2_t36_3B_UR50D_2025-04-13/Scheme3_16000_5/models/temp_best_model.pt', '../models/FinalModels/CataloDB_models_3_esm2_t36_3B_UR50D_2025-04-13/Scheme3_16000_5/LSTM/models/13-04-25_22-36_128_2_0.2_100_best_model.pth', 'denovo/output_data/', '--toks_per_batch', '5', '--AS_threshold', '0.9']\n",
      "\u001b[93m--------------------------------------------------------------------------------\u001b[0m\n",
      "\u001b[93mRunning non-batched command:\tpython /disk1/ariane/miniconda3/envs/squidly/lib/python3.10/site-packages/squidly/squidly.py denovo/output_data/serine_hydrolases.fasta esm2_t36_3B_UR50D ../models/FinalModels/CataloDB_models_3_esm2_t36_3B_UR50D_2025-04-13/Scheme3_16000_5/models/temp_best_model.pt ../models/FinalModels/CataloDB_models_3_esm2_t36_3B_UR50D_2025-04-13/Scheme3_16000_5/LSTM/models/13-04-25_22-36_128_2_0.2_100_best_model.pth denovo/output_data/ --toks_per_batch 5 --AS_threshold 0.9\t\u001b[0m\n",
      "\u001b[93m--------------------------------------------------------------------------------\u001b[0m\n"
     ]
    },
    {
     "data": {
      "text/plain": [
       "0"
      ]
     },
     "execution_count": 10,
     "metadata": {},
     "output_type": "execute_result"
    }
   ],
   "source": [
    "os.system(f'squidly {fasta_label} esm2_t36_3B_UR50D denovo/output_data/ {label}_3B_1 --as-threshold 0.9 --lstm-model-as ../models/FinalModels/CataloDB_models_3_esm2_t36_3B_UR50D_2025-04-13/Scheme3_16000_1/LSTM/models/13-04-25_15-07_128_2_0.2_100_best_model.pth --cr-model-as ../models/FinalModels/CataloDB_models_3_esm2_t36_3B_UR50D_2025-04-13/Scheme3_16000_1/models/temp_best_model.pt')\n",
    "os.system(f'squidly {fasta_label} esm2_t36_3B_UR50D denovo/output_data/ {label}_3B_2 --as-threshold 0.9 --lstm-model-as ../models/FinalModels/CataloDB_models_3_esm2_t36_3B_UR50D_2025-04-13/Scheme3_16000_2/LSTM/models/13-04-25_16-48_128_2_0.2_100_best_model.pth --cr-model-as ../models/FinalModels/CataloDB_models_3_esm2_t36_3B_UR50D_2025-04-13/Scheme3_16000_2/models/temp_best_model.pt')\n",
    "os.system(f'squidly {fasta_label} esm2_t36_3B_UR50D denovo/output_data/ {label}_3B_3 --as-threshold 0.9 --lstm-model-as ../models/FinalModels/CataloDB_models_3_esm2_t36_3B_UR50D_2025-04-13/Scheme3_16000_3/LSTM/models/13-04-25_19-16_128_2_0.2_100_best_model.pth --cr-model-as ../models/FinalModels/CataloDB_models_3_esm2_t36_3B_UR50D_2025-04-13/Scheme3_16000_3/models/temp_best_model.pt')\n",
    "os.system(f'squidly {fasta_label} esm2_t36_3B_UR50D denovo/output_data/ {label}_3B_4 --as-threshold 0.9 --lstm-model-as ../models/FinalModels/CataloDB_models_3_esm2_t36_3B_UR50D_2025-04-13/Scheme3_16000_4/LSTM/models/13-04-25_20-57_128_2_0.2_100_best_model.pth --cr-model-as ../models/FinalModels/CataloDB_models_3_esm2_t36_3B_UR50D_2025-04-13/Scheme3_16000_4/models/temp_best_model.pt')\n",
    "os.system(f'squidly {fasta_label} esm2_t36_3B_UR50D denovo/output_data/ {label}_3B_5 --as-threshold 0.9 --lstm-model-as ../models/FinalModels/CataloDB_models_3_esm2_t36_3B_UR50D_2025-04-13/Scheme3_16000_5/LSTM/models/13-04-25_22-36_128_2_0.2_100_best_model.pth --cr-model-as ../models/FinalModels/CataloDB_models_3_esm2_t36_3B_UR50D_2025-04-13/Scheme3_16000_5/models/temp_best_model.pt')\n"
   ]
  },
  {
   "cell_type": "markdown",
   "id": "29d79624-3a10-4f16-ad97-0b2c51987019",
   "metadata": {},
   "source": [
    "# Ensemble the predictions "
   ]
  },
  {
   "cell_type": "code",
   "execution_count": 98,
   "id": "6921034c-0390-49a8-b06c-8cf08e26b393",
   "metadata": {},
   "outputs": [
    {
     "name": "stderr",
     "output_type": "stream",
     "text": [
      "100%|█| 18/18 [00:00<00:00, 36.41i\n"
     ]
    }
   ],
   "source": [
    "# Read in the predictions from the ensemble\n",
    "from tqdm import tqdm \n",
    "import numpy as np\n",
    "\n",
    "def compute_uncertainties(df, prob_columns, mean_prob=0.5):\n",
    "    means, aleatorics, epistemics, residues  = [], [], [], []\n",
    "    for p1, p2, p3, p4, p5 in tqdm(df[prob_columns].values):\n",
    "        mean_values = []\n",
    "        aleatoric_values = []\n",
    "        epistemic_values = []\n",
    "        indicies = []\n",
    "        for j in range(0, len(p1)):\n",
    "        \n",
    "            # Aleatoric: average predicted entropy\n",
    "            eps = 1e-8  # for numerical stability\n",
    "            # For each value we want the mean and the variance and the uncertainty\n",
    "            all_probs = [p1[j] + eps, p2[j] + eps, p3[j] + eps, p4[j] + eps, p5[j] + eps]\n",
    "            mean_probs = np.mean(all_probs) # (N, 10)\n",
    "            var_probs = np.var(all_probs)    # epistemic uncertainty (variance across models)\n",
    "\n",
    "            entropies = -np.sum(all_probs * np.log(all_probs))  # (num_models, N)\n",
    "            aleatoric = np.mean(entropies)   # (N,)\n",
    "\n",
    "            # Epistemic: entropy of mean prediction minus mean entropy\n",
    "            mean_entropy = -np.sum(mean_probs * np.log(mean_probs + eps))  # (N,)\n",
    "            epistemic = mean_entropy - aleatoric  # (N,)\n",
    "            if mean_probs > mean_prob:\n",
    "                indicies.append(j)\n",
    "                mean_values.append(mean_probs)\n",
    "                aleatoric_values.append(aleatoric)\n",
    "                epistemic_values.append(epistemics)\n",
    "        means.append(mean_values)\n",
    "        aleatorics.append(aleatoric_values) \n",
    "        epistemics.append(epistemic_values)\n",
    "        residues.append('|'.join([str(s) for s in indicies]))\n",
    "    return means, aleatorics, epistemics, residues\n",
    "\n",
    "label = 'serine_hydrolases'\n",
    "\n",
    "squidly_ensemble = pd.DataFrame()\n",
    "for i in range(1, 6):\n",
    "    squidly = pd.read_pickle(f'denovo/output_data/{label}_AEGAN_3B_{i}_squidly.pkl')\n",
    "    squidly.set_index('label', inplace=True)\n",
    "    squidly_ensemble = squidly_ensemble.join(squidly, how='outer', rsuffix=f'_{i}')\n",
    "\n",
    "cols = ['all_AS_probs', 'all_AS_probs_2', 'all_AS_probs_3', 'all_AS_probs_4', 'all_AS_probs_5']\n",
    "means, aleatorics, epistemics, residues = compute_uncertainties(squidly_ensemble, cols, mean_prob=0.5)\n",
    "squidly_ensemble['mean_prob'] = means\n",
    "squidly_ensemble['aleatoric'] = aleatorics\n",
    "squidly_ensemble['residues'] = residues\n",
    "squidly_ensemble.to_pickle(f'denovo/output_data/{label}_3B_AEGAN_squidly_ensemble.pkl')\n"
   ]
  },
  {
   "cell_type": "code",
   "execution_count": 99,
   "id": "b5d4b67a-c62e-41b4-b1dc-e35bb1612da1",
   "metadata": {},
   "outputs": [
    {
     "data": {
      "text/plain": [
       "V    1\n",
       "Name: Residues, dtype: int64"
      ]
     },
     "execution_count": 99,
     "metadata": {},
     "output_type": "execute_result"
    }
   ],
   "source": [
    "df = pd.read_csv(f'denovo/input_data/{label}.csv')\n",
    "df.set_index('id', inplace=True)\n",
    "df = df.join(squidly_ensemble, how='left')\n",
    "residues = []\n",
    "for pos, seq in df[['residues', 'seq']].values:\n",
    "    try:\n",
    "        if len(str(pos)) >  0:\n",
    "            pos = str(pos)\n",
    "            res = []\n",
    "            for i in pos.split('|'):\n",
    "                res.append(seq[int(i)])\n",
    "            residues.append('|'.join(res))\n",
    "        else:\n",
    "            residues.append(None)\n",
    "    except:\n",
    "        residues.append(None)\n",
    "df['Residues'] = residues\n",
    "df[[ 'Squidly_CR_probabilities', 'Residues']]\n",
    "df.to_pickle(f'denovo/output_data/{label}_3B_squidly_ensemble.pkl')\n",
    "df['Residues'].value_counts()"
   ]
  },
  {
   "cell_type": "code",
   "execution_count": 102,
   "id": "606667b8-80f6-4a3a-bfe1-9af218604c7e",
   "metadata": {},
   "outputs": [
    {
     "name": "stderr",
     "output_type": "stream",
     "text": [
      "100%|█| 84/84 [00:02<00:00, 38.32i\n"
     ]
    }
   ],
   "source": [
    "# Do the same for experimentally tested lysozymes\n",
    "label = 'experimentally_tested_lysozymes'\n",
    "\n",
    "squidly_ensemble = pd.DataFrame()\n",
    "for i in range(1, 6):\n",
    "    squidly = pd.read_pickle(f'denovo/output_data/{label}_AEGAN_3B_{i}_squidly.pkl')\n",
    "    squidly.set_index('label', inplace=True)\n",
    "    squidly_ensemble = squidly_ensemble.join(squidly, how='outer', rsuffix=f'_{i}')\n",
    "\n",
    "cols = ['all_AS_probs', 'all_AS_probs_2', 'all_AS_probs_3', 'all_AS_probs_4', 'all_AS_probs_5']\n",
    "means, aleatorics, epistemics, residues = compute_uncertainties(squidly_ensemble, cols, mean_prob=0.5)\n",
    "squidly_ensemble['mean_prob'] = means\n",
    "squidly_ensemble['aleatoric'] = aleatorics\n",
    "squidly_ensemble['residues'] = residues"
   ]
  },
  {
   "cell_type": "code",
   "execution_count": 103,
   "id": "f162b17c-ce1c-486f-8a54-d7730aa0fbd9",
   "metadata": {},
   "outputs": [],
   "source": [
    "df = pd.read_csv(f'denovo/input_data/{label}.csv')\n",
    "df.set_index('Name', inplace=True)\n",
    "df = df.join(squidly_ensemble, how='left')\n",
    "residues = []\n",
    "for pos, seq in df[['residues', 'sequence']].values:\n",
    "    try:\n",
    "        if len(str(pos)) >  0:\n",
    "            pos = str(pos)\n",
    "            res = []\n",
    "            for i in pos.split('|'):\n",
    "                res.append(seq[int(i)])\n",
    "            residues.append('|'.join(res))\n",
    "        else:\n",
    "            residues.append(None)\n",
    "    except:\n",
    "        residues.append(None)\n",
    "df['Residues'] = residues\n",
    "df[[ 'Squidly_CR_probabilities', 'Residues']]\n",
    "df.to_pickle(f'denovo/output_data/{label}_AEGAN_3B_squidly_ensemble.pkl')"
   ]
  },
  {
   "cell_type": "code",
   "execution_count": 104,
   "id": "4d35969e-3f23-45ef-b1ca-6ebc14cb6568",
   "metadata": {},
   "outputs": [
    {
     "data": {
      "text/plain": [
       "E        75\n",
       "E|W       6\n",
       "V|E       1\n",
       "E|Y|W     1\n",
       "E|D       1\n",
       "Name: Residues, dtype: int64"
      ]
     },
     "execution_count": 104,
     "metadata": {},
     "output_type": "execute_result"
    }
   ],
   "source": [
    "df['Residues'].value_counts()"
   ]
  },
  {
   "cell_type": "markdown",
   "id": "6366af36-d4f1-493d-97a0-77eff6c749c8",
   "metadata": {},
   "source": [
    "# Finally test the families"
   ]
  },
  {
   "cell_type": "code",
   "execution_count": 109,
   "id": "087e6c8d-1901-453f-b189-8efbc706e9cb",
   "metadata": {},
   "outputs": [
    {
     "name": "stderr",
     "output_type": "stream",
     "text": [
      "100%|█| 440/440 [00:11<00:00, 38.5\n"
     ]
    }
   ],
   "source": [
    "# Do the same for experimentally tested lysozymes\n",
    "label = 'experimentally_tested_metrics'\n",
    "\n",
    "squidly_ensemble = pd.DataFrame()\n",
    "for i in range(1, 6):\n",
    "    squidly = pd.read_pickle(f'denovo/output_data/{label}_AEGAN_3B_{i}_squidly.pkl')\n",
    "    squidly.set_index('label', inplace=True)\n",
    "    squidly_ensemble = squidly_ensemble.join(squidly, how='outer', rsuffix=f'_{i}')\n",
    "\n",
    "cols = ['all_AS_probs', 'all_AS_probs_2', 'all_AS_probs_3', 'all_AS_probs_4', 'all_AS_probs_5']\n",
    "means, aleatorics, epistemics, residues = compute_uncertainties(squidly_ensemble, cols, mean_prob=0.5)\n",
    "squidly_ensemble['mean_prob'] = means\n",
    "squidly_ensemble['aleatoric'] = aleatorics\n",
    "squidly_ensemble['residues'] = residues\n",
    "df = pd.read_csv(f'denovo/input_data/{label}.csv')\n",
    "df.set_index('id', inplace=True)\n",
    "df = df.join(squidly_ensemble, how='left')\n",
    "residues = []\n",
    "for pos, seq in df[['residues', 'Sequence']].values:\n",
    "    try:\n",
    "        if len(str(pos)) >  0:\n",
    "            pos = str(pos)\n",
    "            res = []\n",
    "            for i in pos.split('|'):\n",
    "                res.append(seq[int(i)])\n",
    "            residues.append('|'.join(res))\n",
    "        else:\n",
    "            residues.append(None)\n",
    "    except:\n",
    "        residues.append(None)\n",
    "df['Residues'] = residues\n",
    "df[[ 'Squidly_CR_probabilities', 'Residues']]\n",
    "df.to_pickle(f'denovo/output_data/{label}_AEGAN_3B_squidly_ensemble.pkl')"
   ]
  },
  {
   "cell_type": "code",
   "execution_count": 110,
   "id": "f9de57c2-0ce1-422c-8e3c-c3c3e4643e2c",
   "metadata": {},
   "outputs": [
    {
     "data": {
      "text/plain": [
       "H            289\n",
       "H|H           39\n",
       "W|H           17\n",
       "L|H            8\n",
       "G|H            6\n",
       "L|W|H          3\n",
       "V              2\n",
       "W              2\n",
       "H|H|W          1\n",
       "I|H            1\n",
       "H|W|W|W|E      1\n",
       "H|W|W|W        1\n",
       "V|V            1\n",
       "E|H            1\n",
       "Name: Residues, dtype: int64"
      ]
     },
     "execution_count": 110,
     "metadata": {},
     "output_type": "execute_result"
    }
   ],
   "source": [
    "df['Residues'].value_counts()"
   ]
  },
  {
   "cell_type": "code",
   "execution_count": 111,
   "id": "8b69241e-bf8c-4594-a745-e854b56dc6e3",
   "metadata": {},
   "outputs": [
    {
     "name": "stdout",
     "output_type": "stream",
     "text": [
      "----------------------- MDH ------------------\n",
      "H        176\n",
      "W|H       17\n",
      "L|H        8\n",
      "G|H        6\n",
      "L|W|H      3\n",
      "E|H        1\n",
      "Name: Residues, dtype: int64\n",
      "----------------------- CuSOD ------------------\n",
      "H            113\n",
      "H|H           39\n",
      "V              2\n",
      "W              2\n",
      "H|H|W          1\n",
      "I|H            1\n",
      "H|W|W|W|E      1\n",
      "H|W|W|W        1\n",
      "V|V            1\n",
      "Name: Residues, dtype: int64\n"
     ]
    }
   ],
   "source": [
    "for family in set(df['Family'].values):\n",
    "    tmp_df = df[df['Family'] == family]\n",
    "    print(f'----------------------- {family} ------------------')\n",
    "    print(tmp_df['Residues'].value_counts())\n",
    "    "
   ]
  },
  {
   "cell_type": "markdown",
   "id": "23e0003f-7d19-47c1-920a-ae284674fce8",
   "metadata": {},
   "source": [
    "# Test CM enzymes as well\n",
    "\n",
    "3. CM: chorismate mutase: https://www.ebi.ac.uk/thornton-srv/m-csa/search/?s=chorismate+mutase+\n",
    "\n",
    "Expected residue is:\n",
    "Glu198, Arg16, Glu246, Arg157, Lys168, Asn194 (main-N), Thr242\n",
    "or \n",
    "Arg7, Glu78, Arg116, Tyr108, Arg90, Arg63, Cys75\n",
    "\n",
    "\n",
    "K        227 (lysine)  \n",
    "L        134 (leucine)  \n",
    "R         93 (Arginine)  \n",
    "R|K       39 \n",
    "L|K       32"
   ]
  },
  {
   "cell_type": "code",
   "execution_count": null,
   "id": "e2cda4ff-174d-4525-a44a-82bef7328e85",
   "metadata": {},
   "outputs": [],
   "source": [
    "label = 'chorismate_mutase_CM_table'\n",
    "df = pd.read_csv(f'denovo/input_data/{label}.csv')\n",
    "\n",
    "with open(f'denovo/output_data/{label}.fasta', 'w+') as fout:\n",
    "    for entry, seq in df[['id', 'Sequence']].values:\n",
    "        fout.write(f'>{entry}\\n{seq}\\n')\n",
    "\n",
    "fasta_label = f'denovo/output_data/{label}.fasta'\n",
    "\n",
    "os.system(f'squidly {fasta_label} esm2_t36_3B_UR50D denovo/output_data/ {label}_3B_1 --as-threshold 0.9 --lstm-model-as ../models/FinalModels/CataloDB_models_3_esm2_t36_3B_UR50D_2025-04-13/Scheme3_16000_1/LSTM/models/13-04-25_15-07_128_2_0.2_100_best_model.pth --cr-model-as ../models/FinalModels/CataloDB_models_3_esm2_t36_3B_UR50D_2025-04-13/Scheme3_16000_1/models/temp_best_model.pt')\n",
    "os.system(f'squidly {fasta_label} esm2_t36_3B_UR50D denovo/output_data/ {label}_3B_2 --as-threshold 0.9 --lstm-model-as ../models/FinalModels/CataloDB_models_3_esm2_t36_3B_UR50D_2025-04-13/Scheme3_16000_2/LSTM/models/13-04-25_16-48_128_2_0.2_100_best_model.pth --cr-model-as ../models/FinalModels/CataloDB_models_3_esm2_t36_3B_UR50D_2025-04-13/Scheme3_16000_2/models/temp_best_model.pt')\n",
    "os.system(f'squidly {fasta_label} esm2_t36_3B_UR50D denovo/output_data/ {label}_3B_3 --as-threshold 0.9 --lstm-model-as ../models/FinalModels/CataloDB_models_3_esm2_t36_3B_UR50D_2025-04-13/Scheme3_16000_3/LSTM/models/13-04-25_19-16_128_2_0.2_100_best_model.pth --cr-model-as ../models/FinalModels/CataloDB_models_3_esm2_t36_3B_UR50D_2025-04-13/Scheme3_16000_3/models/temp_best_model.pt')\n",
    "os.system(f'squidly {fasta_label} esm2_t36_3B_UR50D denovo/output_data/ {label}_3B_4 --as-threshold 0.9 --lstm-model-as ../models/FinalModels/CataloDB_models_3_esm2_t36_3B_UR50D_2025-04-13/Scheme3_16000_4/LSTM/models/13-04-25_20-57_128_2_0.2_100_best_model.pth --cr-model-as ../models/FinalModels/CataloDB_models_3_esm2_t36_3B_UR50D_2025-04-13/Scheme3_16000_4/models/temp_best_model.pt')\n",
    "os.system(f'squidly {fasta_label} esm2_t36_3B_UR50D denovo/output_data/ {label}_3B_5 --as-threshold 0.9 --lstm-model-as ../models/FinalModels/CataloDB_models_3_esm2_t36_3B_UR50D_2025-04-13/Scheme3_16000_5/LSTM/models/13-04-25_22-36_128_2_0.2_100_best_model.pth --cr-model-as ../models/FinalModels/CataloDB_models_3_esm2_t36_3B_UR50D_2025-04-13/Scheme3_16000_5/models/temp_best_model.pt')\n"
   ]
  },
  {
   "cell_type": "code",
   "execution_count": 105,
   "id": "d1a3e4d8-9c96-406f-b137-08e923fc299f",
   "metadata": {},
   "outputs": [
    {
     "name": "stderr",
     "output_type": "stream",
     "text": [
      "100%|█| 3074/3074 [01:20<00:00, 38\n"
     ]
    }
   ],
   "source": [
    "# Do the same for experimentally tested lysozymes\n",
    "label = 'chorismate_mutase_CM_table'\n",
    "\n",
    "squidly_ensemble = pd.DataFrame()\n",
    "for i in range(1, 6):\n",
    "    squidly = pd.read_pickle(f'denovo/output_data/{label}_AEGAN_3B_{i}_squidly.pkl')\n",
    "    squidly.set_index('label', inplace=True)\n",
    "    squidly_ensemble = squidly_ensemble.join(squidly, how='outer', rsuffix=f'_{i}')\n",
    "\n",
    "cols = ['all_AS_probs', 'all_AS_probs_2', 'all_AS_probs_3', 'all_AS_probs_4', 'all_AS_probs_5']\n",
    "means, aleatorics, epistemics, residues = compute_uncertainties(squidly_ensemble, cols, mean_prob=0.1)\n",
    "squidly_ensemble['mean_prob'] = means\n",
    "squidly_ensemble['aleatoric'] = aleatorics\n",
    "squidly_ensemble['residues'] = residues\n"
   ]
  },
  {
   "cell_type": "code",
   "execution_count": 107,
   "id": "31f5cc68-9763-4b91-b832-55b987bdf1be",
   "metadata": {},
   "outputs": [],
   "source": [
    "df = pd.read_csv(f'denovo/input_data/{label}.csv')\n",
    "df['id'] = [str(i) for i in df['id'].values]\n",
    "df.set_index('id', inplace=True)\n",
    "df = df.join(squidly_ensemble, how='outer')\n",
    "residues = []\n",
    "for pos, seq in df[['residues', 'Sequence']].values:\n",
    "    try:\n",
    "        if len(str(pos)) >  0 and str(pos) != 'nan':\n",
    "            pos = str(pos)\n",
    "            res = []\n",
    "            for i in pos.split('|'):\n",
    "                res.append(seq[int(i)])\n",
    "            residues.append('|'.join(res))\n",
    "        else:\n",
    "            residues.append(None)\n",
    "    except:\n",
    "        residues.append(None)\n",
    "df['Residues'] = residues\n",
    "df[[ 'Squidly_CR_probabilities', 'Residues']]\n",
    "df.to_pickle(f'denovo/output_data/{label}_AEGAN_3B_squidly_ensemble.pkl')"
   ]
  },
  {
   "cell_type": "code",
   "execution_count": 108,
   "id": "fbd3fc73-6d0d-48a0-8166-084c4b88dfcf",
   "metadata": {},
   "outputs": [
    {
     "data": {
      "text/plain": [
       "K          729\n",
       "R          224\n",
       "R|K        134\n",
       "I           77\n",
       "I|K         32\n",
       "          ... \n",
       "L|V|E        1\n",
       "M|V          1\n",
       "A|L|R|K      1\n",
       "R|I|D        1\n",
       "L|R|I        1\n",
       "Name: Residues, Length: 227, dtype: int64"
      ]
     },
     "execution_count": 108,
     "metadata": {},
     "output_type": "execute_result"
    }
   ],
   "source": [
    "df['Residues'].value_counts()"
   ]
  }
 ],
 "metadata": {
  "kernelspec": {
   "display_name": "Python 3 (ipykernel)",
   "language": "python",
   "name": "python3"
  },
  "language_info": {
   "codemirror_mode": {
    "name": "ipython",
    "version": 3
   },
   "file_extension": ".py",
   "mimetype": "text/x-python",
   "name": "python",
   "nbconvert_exporter": "python",
   "pygments_lexer": "ipython3",
   "version": "3.11.8"
  }
 },
 "nbformat": 4,
 "nbformat_minor": 5
}
