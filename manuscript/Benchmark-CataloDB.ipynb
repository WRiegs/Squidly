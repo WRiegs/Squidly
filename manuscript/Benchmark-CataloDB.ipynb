{
 "cells": [
  {
   "cell_type": "markdown",
   "id": "b5681fd4-fec3-473c-8a70-5d038a3f320d",
   "metadata": {},
   "source": [
    "# Test the accuracy against BLAST on CataloDB\n",
    "\n",
    "Here we have a low sequence homology set so we can really test how the model performs on low homology sequences.\n",
    "\n",
    "The first step is to get the residues and test the two sets.\n",
    "\n"
   ]
  },
  {
   "cell_type": "code",
   "execution_count": 14,
   "id": "9585c2af-7dcd-463c-9206-1b07cc05d825",
   "metadata": {},
   "outputs": [
    {
     "name": "stdout",
     "output_type": "stream",
     "text": [
      "\u001b[94m--------------------------------------------------------------------------------\u001b[0m\n",
      "\u001b[94m             Number of training set:\t5355\t\n",
      "Number of test set:\t239\t             \u001b[0m\n",
      "\u001b[94m--------------------------------------------------------------------------------\u001b[0m\n",
      "\u001b[94m--------------------------------------------------------------------------------\u001b[0m\n",
      "\u001b[94m             Number of training set:\t5355\t\n",
      "Number of test set:\t232\t             \u001b[0m\n",
      "\u001b[94m--------------------------------------------------------------------------------\u001b[0m\n"
     ]
    }
   ],
   "source": [
    "import pandas as pd\n",
    "import os \n",
    "import sys\n",
    "sys.path.append('/disk1/ariane/vscode/enzyme-tk/')\n",
    "from enzymetk.sequence_search_blast import BLAST\n",
    "from enzymetk.save_step import Save\n",
    "from sciutil import SciUtil\n",
    "from Bio import SeqIO\n",
    "\n",
    "\n",
    "u = SciUtil()\n",
    "\n",
    "swissprot = pd.read_csv('data/wills_metadata.tsv', sep='\\t')\n",
    "swissprot = pd.read_csv('data/reviewed_sprot_08042025.tsv', sep='\\t')\n",
    "\n",
    "def annotate_residue_from_uniprot(df):\n",
    "    # Organise the active sites of these guys to be better\n",
    "    active_sites = []\n",
    "    active_site_residue_counts = []\n",
    "    x = 0\n",
    "    for act_site in df['Active site'].values:\n",
    "        sites = []\n",
    "        if isinstance(act_site, str):\n",
    "            act_site = act_site.replace(\" \", '')\n",
    "            for act in act_site.split('ACT_SITE'):\n",
    "                try:\n",
    "                    sites.append(int(act.split(';')[0].replace(\" \", '')) - 1) # Need to subtract 1 to make it fit with the fact that python is 0 encoded lol\n",
    "                except:\n",
    "                    x = 1\n",
    "        if len(sites) != 0:\n",
    "            active_sites.append('|'.join([str(s) for s in sites]))\n",
    "            active_site_residue_counts.append(len(sites))\n",
    "        else:\n",
    "            active_sites.append('None')\n",
    "            active_site_residue_counts.append(0)\n",
    "    df['Residue'] = active_sites\n",
    "    df['active_site_residue_counts'] = active_site_residue_counts\n",
    "    return df\n",
    "    \n",
    "swissprot = annotate_residue_from_uniprot(swissprot)\n",
    "swissprot = swissprot[swissprot['active_site_residue_counts'] > 0]\n",
    "training_ids = set(pd.read_csv('data/Low30_mmseq_ID_exp_subset_train.csv')['Entry'].values)\n",
    "test_ids = set(pd.read_csv('data/Low30_mmseq_ID_exp_subset_test_foldseek.csv')['Entry'].values)\n",
    "\n",
    "u.dp(['Number of training set:', len(training_ids), '\\nNumber of test set:', len(test_ids)])\n",
    "\n",
    "# Filter to not include the ones that weren't in the test set\n",
    "# Read in the fasta files\n",
    "# Read a FASTA file\n",
    "test_ids = []\n",
    "for record in SeqIO.parse(\"data/fastas/test.fasta\", \"fasta\"):\n",
    "    test_ids.append(record.id.split('|')[1])\n",
    "\n",
    "# After filtering for those in SwissProt\n",
    "test_df = swissprot[swissprot['Entry'].isin(test_ids)]\n",
    "training_df = swissprot[swissprot['Entry'].isin(training_ids)]\n",
    "\n",
    "u.dp(['Number of training set:', len(training_df), '\\nNumber of test set:', len(test_df)])"
   ]
  },
  {
   "cell_type": "markdown",
   "id": "70e1ab38-557c-4b6c-bfe1-ae83a7711c9a",
   "metadata": {},
   "source": [
    "# Write these as a fasta and run BLAST on them to collect the nearest enzyme\n",
    "\n",
    "Here we are inferring the sequences using BLAST to combine with Squidly."
   ]
  },
  {
   "cell_type": "code",
   "execution_count": 15,
   "id": "13d3f02f-8866-4155-bf04-edb81e0b6bf1",
   "metadata": {
    "scrolled": true
   },
   "outputs": [
    {
     "name": "stderr",
     "output_type": "stream",
     "text": [
      "diamond v2.1.11.165 (C) Max Planck Society for the Advancement of Science, Benjamin Buchfink, University of Tuebingen\n",
      "Documentation, support and updates available at http://www.diamondsearch.org\n",
      "Please cite: http://dx.doi.org/10.1038/s41592-021-01101-x Nature Methods (2021)\n",
      "\n",
      "#CPU threads: 384\n",
      "Scoring parameters: (Matrix=BLOSUM62 Lambda=0.267 K=0.041 Penalties=11/1)\n",
      "Database input file: swissprot_with_active_site_seqs_SquidlyBenchmark.fasta\n",
      "Opening the database file...  [0.001s]\n",
      "Loading sequences...  [0.008s]\n",
      "Masking sequences...  [0.027s]\n",
      "Writing sequences...  [0.001s]\n",
      "Hashing sequences...  [0s]\n",
      "Loading sequences...  [0s]\n",
      "Writing trailer...  [0s]\n",
      "Closing the input file...  [0s]\n",
      "Closing the database file...  [0.002s]\n",
      "\n",
      "Database sequences  5355\n",
      "  Database letters  2195051\n",
      "     Database hash  c9ace6d022667b97e1802b18a96a2ca4\n",
      "        Total time  0.042000s\n"
     ]
    }
   ],
   "source": [
    "%%capture\n",
    "# Save the training data as a database we're going to save this as a fasta file \n",
    "fasta_label = f'swissprot_with_active_site_seqs_SquidlyBenchmark.fasta'\n",
    "with open(fasta_label, 'w+') as fout:\n",
    "    for entry, seq in training_df[['Entry', 'Sequence']].values:\n",
    "        if entry not in test_ids:\n",
    "            fout.write(f'>{entry}\\n{seq}\\n')\n",
    "        else:\n",
    "            # Just making double sure no contamination\n",
    "            print(f\"{entry} in training set?\")\n",
    "    \n",
    "# Do blast on this dataset \n",
    "# This should be where you downloaded the data from zotero, there is a folder in there called AS_inference\n",
    "# This contains the models and the data needed to run the tool\n",
    "id_col = 'Entry'\n",
    "seq_col = 'Sequence'\n",
    "blast_df = (test_df << (BLAST(id_col, seq_col, database=fasta_label, args=['--ultra-sensitive']) >> Save(f'data/blast/Squidly_BLAST_Low30_mmseq_ID_foldseek_subset.pkl')))"
   ]
  },
  {
   "cell_type": "markdown",
   "id": "a05f5970-170f-460a-9879-da5303dabc49",
   "metadata": {},
   "source": [
    "# Clean the BLAST results to only keep the top one\n",
    "\n",
    "Here we want to once we have a single enzyme, we want to align it to the most homologous sequence and then we can get the active site based on the annotation. To do this we align with clustalomega (you need this installed in order to do this!)\n",
    "http://www.clustal.org/omega/\n"
   ]
  },
  {
   "cell_type": "code",
   "execution_count": 16,
   "id": "4af078b6-bfb5-4f92-ad25-a5e2c21265f1",
   "metadata": {},
   "outputs": [
    {
     "name": "stderr",
     "output_type": "stream",
     "text": [
      "/tmp/ipykernel_2111993/114858218.py:8: SettingWithCopyWarning: \n",
      "A value is trying to be set on a copy of a slice from a DataFrame.\n",
      "Try using .loc[row_indexer,col_indexer] = value instead\n",
      "\n",
      "See the caveats in the documentation: https://pandas.pydata.org/pandas-docs/stable/user_guide/indexing.html#returning-a-view-versus-a-copy\n",
      "  test_df['From'] = test_df.index\n"
     ]
    }
   ],
   "source": [
    "blast_df = blast_df.sort_values(by='sequence identity', ascending=False)\n",
    "# Remove duplicates \n",
    "blast_df.drop_duplicates('query', inplace=True)\n",
    "\n",
    "#Then join up with all df\n",
    "blast_df.set_index('query', inplace=True)\n",
    "test_df.set_index('Entry', inplace=True)\n",
    "test_df['From'] = test_df.index\n",
    "test_df = test_df.join(blast_df, how='left')\n",
    "uniprot_id_to_seq = dict(zip(swissprot.Entry, swissprot.Sequence))\n",
    "for name, seq, uniprot in test_df[['From', 'Sequence', 'target']].values:\n",
    "    fin = f'msa/{uniprot}_{name}.fa'\n",
    "    with open(fin, 'w+') as fout:\n",
    "        fout.write(f'>{uniprot}\\n{uniprot_id_to_seq.get(uniprot)}\\n')\n",
    "        fout.write(f'>{name}\\n{seq}')\n",
    "    # Now run clustalomega\n",
    "    os.system(f'clustalo --force -i {fin} -o {fin.replace(\".fa\", \".msa\")}')"
   ]
  },
  {
   "cell_type": "markdown",
   "id": "51d7e09f-f791-45f2-b5a5-4fb244ccdb25",
   "metadata": {},
   "source": [
    "## Read in each of the alignments and infer the active site based on the aligend annotated sequnece"
   ]
  },
  {
   "cell_type": "code",
   "execution_count": 25,
   "id": "a56c712d-a08c-4a38-81a5-dccabd9e92a9",
   "metadata": {},
   "outputs": [
    {
     "name": "stdout",
     "output_type": "stream",
     "text": [
      "\u001b[94m--------------------------------------------------------------------------------\u001b[0m\n",
      "\u001b[94m                             Missing residues: \t1\t                              \u001b[0m\n",
      "\u001b[94m--------------------------------------------------------------------------------\u001b[0m\n"
     ]
    }
   ],
   "source": [
    "from Bio import AlignIO\n",
    "import matplotlib.pyplot as plt\n",
    "import numpy as np\n",
    "import seaborn as sns\n",
    "# Read in squidly results\n",
    "import numpy as np\n",
    "from sklearn.metrics import f1_score\n",
    "from sklearn.metrics import precision_recall_fscore_support\n",
    "from tqdm import tqdm \n",
    "\n",
    "\n",
    "\n",
    "predicted_active_sites = {}\n",
    "missing = 0\n",
    "uniprot_id_to_active_site = dict(zip(swissprot['Entry'], swissprot['Residue']))\n",
    "df = test_df.copy()\n",
    "for query, uniprot in df[['From', 'target']].values:\n",
    "    missing = 0\n",
    "    if not uniprot or not isinstance(uniprot, str):\n",
    "        missing += 1\n",
    "    else:\n",
    "        fin = f'msa/{uniprot}_{query}.msa'\n",
    "        # Read with bioseq\n",
    "        # Read the alignment\n",
    "        active_sites = [int(x) for x in uniprot_id_to_active_site.get(uniprot).split('|')]\n",
    "        alignment = AlignIO.read(fin, 'fasta')\n",
    "        # get the existing one and then calculate the position gapped\n",
    "        records = {}\n",
    "        for record in alignment:\n",
    "            records[record.id] = record.seq\n",
    "        # Now get the active site\n",
    "        position_count = 0\n",
    "        active_pred = []\n",
    "        query_seq = records[query]\n",
    "        query_count = 0\n",
    "        x = 0\n",
    "        for i, v in enumerate(records[uniprot]):\n",
    "            if position_count in active_sites:\n",
    "                if query_count < len(query_seq.replace('-', '')):\n",
    "                    active_pred.append(query_count)\n",
    "                if query_seq[i] != v:\n",
    "                    x += 1\n",
    "                    #print(query, uniprot, v, query_seq[i])\n",
    "            if v != '-':\n",
    "                position_count += 1\n",
    "            if query_seq[i] != '-' and query_seq[i] != ' ':\n",
    "                query_count += 1\n",
    "    \n",
    "        predicted_active_sites[query] = '|'.join([str(s) for s in active_pred])\n",
    "        # Now we can just add on the\n",
    "\n",
    "df['BLAST_residues'] = [predicted_active_sites.get(label) for label in df['From'].values]\n",
    "df['True_residues'] = [uniprot_id_to_active_site.get(label) for label in df['From'].values]\n",
    "df.to_csv(f'data/blast/cataloDB.csv')\n",
    "u.dp(['Missing residues: ', missing])"
   ]
  },
  {
   "cell_type": "code",
   "execution_count": 18,
   "id": "b0c47046-c6a1-4dd1-a01f-368c1345f68a",
   "metadata": {},
   "outputs": [],
   "source": [
    "df = pd.read_csv(f'data/blast/cataloDB.csv')"
   ]
  },
  {
   "cell_type": "markdown",
   "id": "09d604d8-b90f-48de-8726-611924024a28",
   "metadata": {},
   "source": [
    "## Finally check the recovery rate for BLAST\n",
    "\n"
   ]
  },
  {
   "cell_type": "code",
   "execution_count": 26,
   "id": "70be1e44-74cd-4c0e-a284-481d82ddb9e2",
   "metadata": {
    "scrolled": true
   },
   "outputs": [],
   "source": [
    "\n",
    "def calculate_stats(df, id_col, true_col, pred_col, seq_col):   \n",
    "    # Check the agreement:\n",
    "    agree, disagree, none_ = 0, 0, 0\n",
    "    percent_aggree = []\n",
    "    to_check = []\n",
    "    missing = 0\n",
    "    predictions = []\n",
    "    true = []\n",
    "    for seq_label, res_sq, res_pred, seq in df[[id_col, true_col, pred_col, seq_col]].values:\n",
    "        if not res_sq:\n",
    "            missing += 1\n",
    "        else:\n",
    "            # Calculate the F1 score\n",
    "            res_sq = res_sq.split('|')\n",
    "            if not res_pred or not isinstance(res_pred, str):\n",
    "                none_ += 1\n",
    "                percent_aggree.append(0)\n",
    "                res_sq = [int(i) for i in res_sq]\n",
    "                for pos in range(0, len(seq)):\n",
    "                    predictions.append(0) # Since we had no true predictions\n",
    "                    if pos in res_sq:\n",
    "                        true.append(1)\n",
    "                    else:\n",
    "                        true.append(0)\n",
    "            else:\n",
    "                res_pred = res_pred.split('|')\n",
    "                if res_sq != res_pred:\n",
    "                    to_check.append(seq_label)\n",
    "                    # Check the % agree \n",
    "                    percent_aggree.append(len(set(res_sq) & set(res_pred))/max(len(res_sq), len(res_pred)))\n",
    "                    disagree += 1\n",
    "                else:\n",
    "                    percent_aggree.append(1)\n",
    "                    agree += 1\n",
    "                chosen_res_seq = [int(i) for i in res_pred]\n",
    "                res_sq = [int(i) for i in res_sq]\n",
    "                for pos in range(0, len(seq)):\n",
    "                    if pos in res_sq:\n",
    "                        true.append(1)\n",
    "                    else:\n",
    "                        true.append(0)\n",
    "                    if pos in chosen_res_seq:\n",
    "                        predictions.append(1)\n",
    "                    else:\n",
    "                        predictions.append(0)\n",
    "    print(missing)\n",
    "    precision, recall, f1, support = precision_recall_fscore_support(true, predictions)\n",
    "    # f1, precision, recall, support, agree, disagree, no_pred, mean_agreement\n",
    "    return precision[1], recall[1], f1[1], support[1], agree/len(df), disagree/len(df), none_/len(df), np.mean(percent_aggree)\n"
   ]
  },
  {
   "cell_type": "code",
   "execution_count": 27,
   "id": "87a326ee-fc62-4cb4-9c3a-8a43cd5ae12b",
   "metadata": {},
   "outputs": [
    {
     "name": "stdout",
     "output_type": "stream",
     "text": [
      "0\n",
      "\u001b[94m--------------------------------------------------------------------------------\u001b[0m\n",
      "\u001b[94mBLAST\t\n",
      "F1\t0.368515205724508\t\n",
      "precision:\t0.7202797202797203\t\n",
      " recall:\t0.24759615384615385\t\u001b[0m\n",
      "\u001b[94m--------------------------------------------------------------------------------\u001b[0m\n"
     ]
    },
    {
     "data": {
      "text/plain": [
       "Text(0.5, 0, 'Sequence identity')"
      ]
     },
     "execution_count": 27,
     "metadata": {},
     "output_type": "execute_result"
    },
    {
     "data": {
      "image/png": "[encoded data removed]",
      "text/plain": [
       "<Figure size 640x480 with 1 Axes>"
      ]
     },
     "metadata": {},
     "output_type": "display_data"
    }
   ],
   "source": [
    "# Run this with BLAST residues\n",
    "precision, recall, f1, support, agree, disagree, no_pred, mean_agreement = calculate_stats(df, 'From', 'True_residues', 'BLAST_residues', 'Sequence')\n",
    "\n",
    "rows = []\n",
    "rows.append(['BLAST', None, f1, precision, recall, support, agree, disagree, no_pred, mean_agreement])\n",
    "u.dp(['BLAST', '\\nF1', f1, '\\nprecision:', precision, '\\n recall:', recall])\n",
    "\n",
    "plt.hist(df['sequence identity'].values, bins=20, color='grey', alpha=0.5)\n",
    "plt.title('Diamond blast results to SwissProt with AS')\n",
    "plt.ylabel('Frequency')\n",
    "plt.xlabel('Sequence identity')"
   ]
  },
  {
   "cell_type": "markdown",
   "id": "25c9294a-3d4c-4df7-9a44-417d45041a31",
   "metadata": {},
   "source": [
    "## Now run Squidly to predict the catalytic residues on the enzymes\n",
    "\n",
    "Predict active sites with both the 3B and the 15B models."
   ]
  },
  {
   "cell_type": "code",
   "execution_count": null,
   "id": "464bf0b4",
   "metadata": {},
   "outputs": [],
   "source": [
    "# Run squidly\n",
    "from enzymetk.predict_catalyticsite_step import ActiveSitePred\n",
    "from enzymetk.save_step import Save\n",
    "import pandas as pd\n",
    "import os\n",
    "os.environ['MKL_THREADING_LAYER'] = 'GNU'\n",
    "\n",
    "# This should be where you downloaded the data from zotero, there is a folder in there called AS_inference\n",
    "# This contains the models and the data needed to run the tool\n",
    "squidly_dir = '/disk1/ariane/vscode/squidly/manuscript/CataloDB_models/'\n",
    "num_threads = 1\n",
    "id_col = 'Entry'\n",
    "seq_col = 'Sequence'\n",
    "test_df.reset_index(inplace=True)\n",
    "squidly = (test_df << (ActiveSitePred(id_col, seq_col, squidly_dir, esm2_model = 'esm2_t36_3B_UR50D') >> Save('data/squidly_as_pred_3B.pkl')))\n"
   ]
  },
  {
   "cell_type": "code",
   "execution_count": null,
   "id": "0fabf79b",
   "metadata": {},
   "outputs": [],
   "source": [
    "# Do the same with the 15B model\n",
    "squidly_dir = '/disk1/ariane/vscode/squidly/manuscript/CataloDB_models/'\n",
    "num_threads = 1\n",
    "id_col = 'Entry'\n",
    "seq_col = 'Sequence'\n",
    "squidly = (test_df << (ActiveSitePred(id_col, seq_col, squidly_dir, esm2_model = 'esm2_t48_15B_UR50D') >> Save('data/squidly_as_pred_15B.pkl')))"
   ]
  },
  {
   "cell_type": "markdown",
   "id": "d34ddbf0-769d-4ac2-a7b0-ca3402eedae4",
   "metadata": {},
   "source": [
    "# Check the results for the 15B and the 3B models\n",
    "\n",
    "Here we join them with the test_df and make sure that we get similar results!"
   ]
  },
  {
   "cell_type": "code",
   "execution_count": 32,
   "id": "51766fa0",
   "metadata": {},
   "outputs": [
    {
     "name": "stdout",
     "output_type": "stream",
     "text": [
      "0\n",
      "\u001b[94m--------------------------------------------------------------------------------\u001b[0m\n",
      "\u001b[94mSquidly 3B\t\n",
      "F1\t0.6060000000000001\t\n",
      "precision:\t0.5188356164383562\t\n",
      " recall:\t0.7283653846153846\t\u001b[0m\n",
      "\u001b[94m--------------------------------------------------------------------------------\u001b[0m\n"
     ]
    },
    {
     "name": "stderr",
     "output_type": "stream",
     "text": [
      "  4%|█████                                                                                                                        | 2/50 [00:00<00:02, 19.29it/s]"
     ]
    },
    {
     "name": "stdout",
     "output_type": "stream",
     "text": [
      "0\n",
      "0\n",
      "0\n",
      "0\n"
     ]
    },
    {
     "name": "stderr",
     "output_type": "stream",
     "text": [
      " 16%|████████████████████                                                                                                         | 8/50 [00:00<00:02, 19.39it/s]"
     ]
    },
    {
     "name": "stdout",
     "output_type": "stream",
     "text": [
      "0\n",
      "0\n",
      "0\n",
      "0\n",
      "0\n"
     ]
    },
    {
     "name": "stderr",
     "output_type": "stream",
     "text": [
      " 24%|█████████████████████████████▊                                                                                              | 12/50 [00:00<00:01, 19.45it/s]"
     ]
    },
    {
     "name": "stdout",
     "output_type": "stream",
     "text": [
      "0\n",
      "0\n",
      "0\n",
      "0\n",
      "0\n"
     ]
    },
    {
     "name": "stderr",
     "output_type": "stream",
     "text": [
      " 36%|████████████████████████████████████████████▋                                                                               | 18/50 [00:00<00:01, 19.46it/s]"
     ]
    },
    {
     "name": "stdout",
     "output_type": "stream",
     "text": [
      "0\n",
      "0\n",
      "0\n",
      "0\n",
      "0\n"
     ]
    },
    {
     "name": "stderr",
     "output_type": "stream",
     "text": [
      " 44%|██████████████████████████████████████████████████████▌                                                                     | 22/50 [00:01<00:01, 19.46it/s]"
     ]
    },
    {
     "name": "stdout",
     "output_type": "stream",
     "text": [
      "0\n",
      "0\n",
      "0\n",
      "0\n",
      "0\n"
     ]
    },
    {
     "name": "stderr",
     "output_type": "stream",
     "text": [
      " 56%|█████████████████████████████████████████████████████████████████████▍                                                      | 28/50 [00:01<00:01, 19.48it/s]"
     ]
    },
    {
     "name": "stdout",
     "output_type": "stream",
     "text": [
      "0\n",
      "0\n",
      "0\n",
      "0\n",
      "0\n"
     ]
    },
    {
     "name": "stderr",
     "output_type": "stream",
     "text": [
      " 64%|███████████████████████████████████████████████████████████████████████████████▎                                            | 32/50 [00:01<00:00, 19.45it/s]"
     ]
    },
    {
     "name": "stdout",
     "output_type": "stream",
     "text": [
      "0\n",
      "0\n",
      "0\n",
      "0\n",
      "0\n"
     ]
    },
    {
     "name": "stderr",
     "output_type": "stream",
     "text": [
      " 76%|██████████████████████████████████████████████████████████████████████████████████████████████▏                             | 38/50 [00:01<00:00, 19.45it/s]"
     ]
    },
    {
     "name": "stdout",
     "output_type": "stream",
     "text": [
      "0\n",
      "0\n",
      "0\n",
      "0\n",
      "0\n"
     ]
    },
    {
     "name": "stderr",
     "output_type": "stream",
     "text": [
      " 84%|████████████████████████████████████████████████████████████████████████████████████████████████████████▏                   | 42/50 [00:02<00:00, 19.45it/s]"
     ]
    },
    {
     "name": "stdout",
     "output_type": "stream",
     "text": [
      "0\n",
      "0\n",
      "0\n",
      "0\n",
      "0\n"
     ]
    },
    {
     "name": "stderr",
     "output_type": "stream",
     "text": [
      " 96%|███████████████████████████████████████████████████████████████████████████████████████████████████████████████████████     | 48/50 [00:02<00:00, 19.42it/s]"
     ]
    },
    {
     "name": "stdout",
     "output_type": "stream",
     "text": [
      "0\n",
      "0\n",
      "0\n",
      "0\n",
      "0\n"
     ]
    },
    {
     "name": "stderr",
     "output_type": "stream",
     "text": [
      "100%|████████████████████████████████████████████████████████████████████████████████████████████████████████████████████████████| 50/50 [00:02<00:00, 19.43it/s]"
     ]
    },
    {
     "name": "stdout",
     "output_type": "stream",
     "text": [
      "0\n"
     ]
    },
    {
     "name": "stderr",
     "output_type": "stream",
     "text": [
      "\n"
     ]
    }
   ],
   "source": [
    "def ensemble_predictions(df, blast_col, squidly_col, seq_id_col, squidly_similarity_cutoff=30):\n",
    "    # Basically we update the choice of blast and squidly based on the cutoff \n",
    "    chosen_residues = []\n",
    "    for blast_res, squidly_res, seq_id in df[[blast_col, squidly_col, seq_id_col]].values:\n",
    "        # Also check if both are here otherwise pick the other one that was predicted\n",
    "        if not isinstance(blast_res, str):\n",
    "            chosen_residues.append(squidly_res)\n",
    "        elif not isinstance(squidly_res, str):\n",
    "            chosen_residues.append(blast_res)\n",
    "        elif seq_id < squidly_similarity_cutoff:\n",
    "            chosen_residues.append(squidly_res)\n",
    "        elif seq_id >= squidly_similarity_cutoff:\n",
    "            chosen_residues.append(blast_res)\n",
    "        else:\n",
    "            chosen_residues.append(None)\n",
    "    df['chosen_residues'] = chosen_residues\n",
    "    return df\n",
    "\n",
    "\n",
    "df = pd.read_csv(f'data/blast/cataloDB.csv')\n",
    "df.set_index('Entry', inplace=True)\n",
    "squidly = pd.read_pickle('data/squidly_as_pred_3B.pkl')\n",
    "squidly.set_index('label', inplace=True)\n",
    "df = df.join(squidly, how='left')\n",
    "\n",
    "# Print out the predictions for the 3B\n",
    "precision, recall, f1, support, agree, disagree, no_pred, mean_agreement = calculate_stats(df, 'From', 'True_residues', 'Squidly_CR_Position', 'Sequence')\n",
    "rows.append(['Squidly', '3B', f1, precision, recall, support, agree, disagree, no_pred, mean_agreement])\n",
    "u.dp(['Squidly 3B', '\\nF1', f1, '\\nprecision:', precision, '\\n recall:', recall])\n",
    "rows = []\n",
    "for squidly_cutoff in tqdm(range(0, 100, 2)):\n",
    "    # 'From', 'True_residues', 'BLAST_residues', 'Sequence'\n",
    "    tmp_df = ensemble_predictions(df, 'BLAST_residues', 'Squidly_CR_Position', 'sequence identity', squidly_cutoff)\n",
    "    precision, recall, f1, support, agree, disagree, no_pred, mean_agreement = calculate_stats(tmp_df, 'From', 'True_residues', 'chosen_residues', 'Sequence')\n",
    "    rows.append(['3B', squidly_cutoff, f1, precision, recall, support, agree, disagree, no_pred, mean_agreement])\n"
   ]
  },
  {
   "cell_type": "code",
   "execution_count": 33,
   "id": "34275a4e-fd13-4a81-ab54-ac964eee5afb",
   "metadata": {},
   "outputs": [
    {
     "name": "stdout",
     "output_type": "stream",
     "text": [
      "0\n",
      "\u001b[94m--------------------------------------------------------------------------------\u001b[0m\n",
      "\u001b[94mSquidly 15B\t\n",
      "F1\t0.5987780040733198\t\n",
      "precision:\t0.519434628975265\t\n",
      " recall:\t0.7067307692307693\t\u001b[0m\n",
      "\u001b[94m--------------------------------------------------------------------------------\u001b[0m\n"
     ]
    },
    {
     "name": "stderr",
     "output_type": "stream",
     "text": [
      "  0%|                                                                                                                                     | 0/50 [00:00<?, ?it/s]"
     ]
    },
    {
     "name": "stdout",
     "output_type": "stream",
     "text": [
      "0\n",
      "0\n"
     ]
    },
    {
     "name": "stderr",
     "output_type": "stream",
     "text": [
      "  4%|█████                                                                                                                        | 2/50 [00:00<00:02, 19.09it/s]"
     ]
    },
    {
     "name": "stdout",
     "output_type": "stream",
     "text": [
      "0\n",
      "0\n"
     ]
    },
    {
     "name": "stderr",
     "output_type": "stream",
     "text": [
      "  8%|██████████                                                                                                                   | 4/50 [00:00<00:02, 19.20it/s]"
     ]
    },
    {
     "name": "stdout",
     "output_type": "stream",
     "text": [
      "0"
     ]
    },
    {
     "name": "stderr",
     "output_type": "stream",
     "text": [
      " 12%|███████████████                                                                                                              | 6/50 [00:00<00:02, 19.26it/s]"
     ]
    },
    {
     "name": "stdout",
     "output_type": "stream",
     "text": [
      "\n",
      "0\n",
      "0\n"
     ]
    },
    {
     "name": "stderr",
     "output_type": "stream",
     "text": [
      " 16%|████████████████████                                                                                                         | 8/50 [00:00<00:02, 19.26it/s]"
     ]
    },
    {
     "name": "stdout",
     "output_type": "stream",
     "text": [
      "0\n",
      "0\n"
     ]
    },
    {
     "name": "stderr",
     "output_type": "stream",
     "text": [
      " 20%|████████████████████████▊                                                                                                   | 10/50 [00:00<00:02, 19.25it/s]"
     ]
    },
    {
     "name": "stdout",
     "output_type": "stream",
     "text": [
      "0\n",
      "0\n",
      "0\n"
     ]
    },
    {
     "name": "stderr",
     "output_type": "stream",
     "text": [
      " 24%|█████████████████████████████▊                                                                                              | 12/50 [00:00<00:01, 19.35it/s]"
     ]
    },
    {
     "name": "stdout",
     "output_type": "stream",
     "text": [
      "0\n",
      "0\n"
     ]
    },
    {
     "name": "stderr",
     "output_type": "stream",
     "text": [
      " 32%|███████████████████████████████████████▋                                                                                    | 16/50 [00:00<00:01, 19.33it/s]"
     ]
    },
    {
     "name": "stdout",
     "output_type": "stream",
     "text": [
      "0\n",
      "0\n",
      "0\n"
     ]
    },
    {
     "name": "stderr",
     "output_type": "stream",
     "text": [
      " 36%|████████████████████████████████████████████▋                                                                               | 18/50 [00:00<00:01, 19.29it/s]"
     ]
    },
    {
     "name": "stdout",
     "output_type": "stream",
     "text": [
      "0\n",
      "0\n"
     ]
    },
    {
     "name": "stderr",
     "output_type": "stream",
     "text": [
      " 40%|█████████████████████████████████████████████████▌                                                                          | 20/50 [00:01<00:01, 19.23it/s]"
     ]
    },
    {
     "name": "stdout",
     "output_type": "stream",
     "text": [
      "0\n",
      "0\n",
      "0\n"
     ]
    },
    {
     "name": "stderr",
     "output_type": "stream",
     "text": [
      " 44%|██████████████████████████████████████████████████████▌                                                                     | 22/50 [00:01<00:01, 19.30it/s]"
     ]
    },
    {
     "name": "stdout",
     "output_type": "stream",
     "text": [
      "0\n",
      "0\n"
     ]
    },
    {
     "name": "stderr",
     "output_type": "stream",
     "text": [
      " 52%|████████████████████████████████████████████████████████████████▍                                                           | 26/50 [00:01<00:01, 19.38it/s]"
     ]
    },
    {
     "name": "stdout",
     "output_type": "stream",
     "text": [
      "0\n",
      "0\n"
     ]
    },
    {
     "name": "stderr",
     "output_type": "stream",
     "text": [
      " 56%|█████████████████████████████████████████████████████████████████████▍                                                      | 28/50 [00:01<00:01, 19.33it/s]"
     ]
    },
    {
     "name": "stdout",
     "output_type": "stream",
     "text": [
      "0\n",
      "0\n",
      "0\n"
     ]
    },
    {
     "name": "stderr",
     "output_type": "stream",
     "text": [
      " 60%|██████████████████████████████████████████████████████████████████████████▍                                                 | 30/50 [00:01<00:01, 19.27it/s]"
     ]
    },
    {
     "name": "stdout",
     "output_type": "stream",
     "text": [
      "0\n",
      "0\n"
     ]
    },
    {
     "name": "stderr",
     "output_type": "stream",
     "text": [
      " 64%|███████████████████████████████████████████████████████████████████████████████▎                                            | 32/50 [00:01<00:00, 19.28it/s]"
     ]
    },
    {
     "name": "stdout",
     "output_type": "stream",
     "text": [
      "0\n",
      "0\n",
      "0\n"
     ]
    },
    {
     "name": "stderr",
     "output_type": "stream",
     "text": [
      " 68%|████████████████████████████████████████████████████████████████████████████████████▎                                       | 34/50 [00:01<00:00, 19.30it/s]"
     ]
    },
    {
     "name": "stdout",
     "output_type": "stream",
     "text": [
      "0\n",
      "0\n"
     ]
    },
    {
     "name": "stderr",
     "output_type": "stream",
     "text": [
      " 76%|██████████████████████████████████████████████████████████████████████████████████████████████▏                             | 38/50 [00:01<00:00, 19.28it/s]"
     ]
    },
    {
     "name": "stdout",
     "output_type": "stream",
     "text": [
      "0\n",
      "0\n",
      "0\n"
     ]
    },
    {
     "name": "stderr",
     "output_type": "stream",
     "text": [
      " 80%|███████████████████████████████████████████████████████████████████████████████████████████████████▏                        | 40/50 [00:02<00:00, 19.24it/s]"
     ]
    },
    {
     "name": "stdout",
     "output_type": "stream",
     "text": [
      "0\n",
      "0\n"
     ]
    },
    {
     "name": "stderr",
     "output_type": "stream",
     "text": [
      " 84%|████████████████████████████████████████████████████████████████████████████████████████████████████████▏                   | 42/50 [00:02<00:00, 19.25it/s]"
     ]
    },
    {
     "name": "stdout",
     "output_type": "stream",
     "text": [
      "0\n",
      "0\n",
      "0\n"
     ]
    },
    {
     "name": "stderr",
     "output_type": "stream",
     "text": [
      " 88%|█████████████████████████████████████████████████████████████████████████████████████████████████████████████               | 44/50 [00:02<00:00, 19.32it/s]"
     ]
    },
    {
     "name": "stdout",
     "output_type": "stream",
     "text": [
      "0\n",
      "0\n"
     ]
    },
    {
     "name": "stderr",
     "output_type": "stream",
     "text": [
      " 96%|███████████████████████████████████████████████████████████████████████████████████████████████████████████████████████     | 48/50 [00:02<00:00, 19.22it/s]"
     ]
    },
    {
     "name": "stdout",
     "output_type": "stream",
     "text": [
      "0\n",
      "0\n",
      "0\n"
     ]
    },
    {
     "name": "stderr",
     "output_type": "stream",
     "text": [
      "100%|████████████████████████████████████████████████████████████████████████████████████████████████████████████████████████████| 50/50 [00:02<00:00, 19.28it/s]"
     ]
    },
    {
     "name": "stdout",
     "output_type": "stream",
     "text": [
      "0\n"
     ]
    },
    {
     "name": "stderr",
     "output_type": "stream",
     "text": [
      "\n"
     ]
    }
   ],
   "source": [
    "df = pd.read_csv(f'data/blast/cataloDB.csv')\n",
    "df.set_index('Entry', inplace=True)\n",
    "squidly = pd.read_pickle('data/squidly_as_pred_15B.pkl')\n",
    "squidly.set_index('label', inplace=True)\n",
    "df = df.join(squidly, how='left')\n",
    "\n",
    "# Print out the predictions for the 3B\n",
    "precision, recall, f1, support, agree, disagree, no_pred, mean_agreement = calculate_stats(df, 'From', 'True_residues', 'Squidly_CR_Position', 'Sequence')\n",
    "#rows.append(['Squidly', '15B', f1, precision, recall, support, agree, disagree, no_pred, mean_agreement])\n",
    "u.dp(['Squidly 15B', '\\nF1', f1, '\\nprecision:', precision, '\\n recall:', recall])\n",
    "\n",
    "for squidly_cutoff in tqdm(range(0, 100, 2)):\n",
    "    # 'From', 'True_residues', 'BLAST_residues', 'Sequence'\n",
    "    tmp_df = ensemble_predictions(df, 'BLAST_residues', 'Squidly_CR_Position', 'sequence identity', squidly_cutoff)\n",
    "    precision, recall, f1, support, agree, disagree, no_pred, mean_agreement = calculate_stats(tmp_df, 'From', 'True_residues', 'chosen_residues', 'Sequence')\n",
    "    rows.append(['15B', squidly_cutoff, f1, precision, recall, support, agree, disagree, no_pred, mean_agreement])\n"
   ]
  },
  {
   "cell_type": "markdown",
   "id": "0911e537-8553-419c-a9be-90cd0526f130",
   "metadata": {},
   "source": [
    "# Finally look at the ensemble of the two datasets\n",
    "\n",
    "Here we want to look at ensembling "
   ]
  },
  {
   "cell_type": "code",
   "execution_count": 34,
   "id": "37944a4e-45b4-41d5-bd8c-9cf2bbaa9941",
   "metadata": {},
   "outputs": [],
   "source": [
    "vis_df = pd.DataFrame(rows, columns=['Dataset', '% cutoff', 'F1', 'Precision', 'Recall', 'Support', '% fully correct', ' % with difference', ' % missing', 'Mean correct'])\n",
    "vis_df.to_csv('data/Ensemble_Squidly_CataloDB_15B.csv', index=False)"
   ]
  },
  {
   "cell_type": "code",
   "execution_count": 35,
   "id": "c66bc447-5303-4291-8ac2-472217f30b19",
   "metadata": {},
   "outputs": [],
   "source": [
    "plt.rcParams['svg.fonttype'] = 'none'  # Ensure text is saved as text\n",
    "plt.rcParams['figure.figsize'] = (3,3)\n",
    "sns.set(rc={'figure.figsize': (3,3), 'font.family': 'sans-serif', 'font.sans-serif': 'Arial', 'font.size': 12}, \n",
    "        style='ticks')\n",
    "\n",
    "def clean_plt(ax):\n",
    "    ax.tick_params(direction='out', length=2, width=1.0)\n",
    "    ax.spines['bottom'].set_linewidth(1.0)\n",
    "    ax.spines['top'].set_linewidth(0)\n",
    "    ax.spines['left'].set_linewidth(1.0)\n",
    "    ax.spines['right'].set_linewidth(0)\n",
    "    ax.tick_params(labelsize=10.0)\n",
    "    ax.tick_params(axis='x', which='major', pad=2.0)\n",
    "    ax.tick_params(axis='y', which='major', pad=2.0)\n",
    "    return ax\n",
    "\n",
    "    "
   ]
  },
  {
   "cell_type": "code",
   "execution_count": 36,
   "id": "997184a3-f973-4d2c-975f-399c83deeb1e",
   "metadata": {},
   "outputs": [
    {
     "data": {
      "image/png": "[encoded data removed]",
      "text/plain": [
       "<Figure size 300x300 with 1 Axes>"
      ]
     },
     "metadata": {},
     "output_type": "display_data"
    }
   ],
   "source": [
    "sns.color_palette(['#FFC440', '#D7572B', '#3A53A4', '#AFC6CF', '#895981', '#937A64'])\n",
    "plt.rcParams['svg.fonttype'] = 'none'\n",
    "\n",
    "# BLAST\t\n",
    "# F1\t0.368515205724508\t\n",
    "# precision:\t0.7202797202797203\t\n",
    "#  recall:\t0.24759615384615385\n",
    "\n",
    "# Squidly 3B\t\n",
    "# F1\t0.6060000000000001\t\n",
    "# precision:\t0.5188356164383562\t\n",
    "#  recall:\t0.7283653846153846\n",
    "\n",
    "# Squidly 15B\t\n",
    "# F1\t0.5987780040733198\t\n",
    "# precision:\t0.519434628975265\t\n",
    "#  recall:\t0.7067307692307693\t\n",
    "\n",
    "ax = sns.lineplot(vis_df, x='% cutoff', y='Recall', legend=None, color='#D7572B') #palette=['#D7572B', '#D7572B', '#3A53A4', '#AFC6CF', '#895981', '#937A64'])\n",
    "ax.axvline(25, c='black', linestyle = 'dashed')\n",
    "ax.axvline(45, c='black', linestyle = 'dashed')\n",
    "\n",
    "ax = sns.scatterplot(vis_df, x='% cutoff', y='Recall', style='Dataset', legend=None, markers=['o', 'X'], s=10, color='#D7572B') #palette=['#D7572B', '#D7572B', '#3A53A4', '#AFC6CF', '#895981', '#937A64'])\n",
    "ax.axhline(0.24759615384615385, c='#D7572B', linestyle = 'dashed') # Recall for BLAST\n",
    "#ax.axhline(0.7283653846153846, c='#D7572B') # Squidly 3B Recall\n",
    "ax = sns.lineplot(vis_df, x='% cutoff', y='F1', ax = ax, legend=None, color='#3A53A4') # Blue is F1\n",
    "ax = sns.scatterplot(vis_df, x='% cutoff', y='F1', ax = ax,  style='Dataset', legend=None, markers=['o', 'X'], s=10, color='#3A53A4') # Blue is F1\n",
    "ax.axhline(0.368515205724508, c='#3A53A4', linestyle = 'dashed') # Blast F1\n",
    "#ax.axhline(0.6060000000000001, c='#3A53A4') # Squidly 3B F1\n",
    "ax = sns.lineplot(vis_df, x='% cutoff', y='Precision', legend=None, color='#AFC6CF') # light blue is precision\n",
    "ax = sns.scatterplot(vis_df, x='% cutoff', y='Precision',  style='Dataset', legend=None, markers=['o', 'X'], s=10, color='#AFC6CF') # light blue is precision\n",
    "ax.axhline(0.7202797202797203, c='#AFC6CF', linestyle='dashed') # BLAST Precision\n",
    "#ax.axhline(0.5188356164383562, c='#AFC6CF') # Squidly Precision\n",
    "\n",
    "plt.xlim(0, 100)\n",
    "plt.xlim(15, 45)\n",
    "clean_plt(plt.gca())\n",
    "plt.title('Squidly results on CataloDB')\n",
    "plt.ylabel('F1, Precision, Recall')\n",
    "plt.savefig('figures/Recall_3B-15B_BLAST.svg')\n",
    "plt.show()"
   ]
  },
  {
   "cell_type": "code",
   "execution_count": null,
   "id": "ada96e51-3fc9-4c93-b09b-2f0e1ef1c9e8",
   "metadata": {},
   "outputs": [],
   "source": []
  },
  {
   "cell_type": "code",
   "execution_count": null,
   "id": "b942c681-d242-4a77-b993-4066e02e25da",
   "metadata": {},
   "outputs": [],
   "source": []
  }
 ],
 "metadata": {
  "kernelspec": {
   "display_name": "Python 3 (ipykernel)",
   "language": "python",
   "name": "python3"
  },
  "language_info": {
   "codemirror_mode": {
    "name": "ipython",
    "version": 3
   },
   "file_extension": ".py",
   "mimetype": "text/x-python",
   "name": "python",
   "nbconvert_exporter": "python",
   "pygments_lexer": "ipython3",
   "version": "3.11.8"
  }
 },
 "nbformat": 4,
 "nbformat_minor": 5
}
