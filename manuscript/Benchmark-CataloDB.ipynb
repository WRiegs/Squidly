{
 "cells": [
  {
   "cell_type": "markdown",
   "id": "b5681fd4-fec3-473c-8a70-5d038a3f320d",
   "metadata": {},
   "source": [
    "# Test the accuracy against BLAST on CataloDB\n",
    "\n",
    "Here we have a low sequence homology set so we can really test how the model performs on low homology sequences.\n",
    "\n",
    "The first step is to get the residues and test the two sets.\n",
    "\n"
   ]
  },
  {
   "cell_type": "code",
   "execution_count": 1,
   "id": "9585c2af-7dcd-463c-9206-1b07cc05d825",
   "metadata": {},
   "outputs": [
    {
     "name": "stdout",
     "output_type": "stream",
     "text": [
      "\u001b[94m--------------------------------------------------------------------------------\u001b[0m\n",
      "\u001b[94m             Number of training set:\t5355\t\n",
      "Number of test set:\t239\t             \u001b[0m\n",
      "\u001b[94m--------------------------------------------------------------------------------\u001b[0m\n",
      "\u001b[94m--------------------------------------------------------------------------------\u001b[0m\n",
      "\u001b[94m             Number of training set:\t5355\t\n",
      "Number of test set:\t232\t             \u001b[0m\n",
      "\u001b[94m--------------------------------------------------------------------------------\u001b[0m\n"
     ]
    }
   ],
   "source": [
    "import pandas as pd\n",
    "import os \n",
    "import sys\n",
    "sys.path.append('/disk1/ariane/vscode/enzyme-tk/')\n",
    "from enzymetk.sequence_search_blast import BLAST\n",
    "from enzymetk.save_step import Save\n",
    "from sciutil import SciUtil\n",
    "from Bio import SeqIO\n",
    "\n",
    "\n",
    "u = SciUtil()\n",
    "\n",
    "swissprot = pd.read_csv('data/wills_metadata.tsv', sep='\\t')\n",
    "swissprot = pd.read_csv('data/reviewed_sprot_08042025.tsv', sep='\\t')\n",
    "\n",
    "def annotate_residue_from_uniprot(df):\n",
    "    # Organise the active sites of these guys to be better\n",
    "    active_sites = []\n",
    "    active_site_residue_counts = []\n",
    "    x = 0\n",
    "    for act_site in df['Active site'].values:\n",
    "        sites = []\n",
    "        if isinstance(act_site, str):\n",
    "            act_site = act_site.replace(\" \", '')\n",
    "            for act in act_site.split('ACT_SITE'):\n",
    "                try:\n",
    "                    sites.append(int(act.split(';')[0].replace(\" \", '')) - 1) # Need to subtract 1 to make it fit with the fact that python is 0 encoded lol\n",
    "                except:\n",
    "                    x = 1\n",
    "        if len(sites) != 0:\n",
    "            active_sites.append('|'.join([str(s) for s in sites]))\n",
    "            active_site_residue_counts.append(len(sites))\n",
    "        else:\n",
    "            active_sites.append('None')\n",
    "            active_site_residue_counts.append(0)\n",
    "    df['Residue'] = active_sites\n",
    "    df['active_site_residue_counts'] = active_site_residue_counts\n",
    "    return df\n",
    "    \n",
    "swissprot = annotate_residue_from_uniprot(swissprot)\n",
    "swissprot = swissprot[swissprot['active_site_residue_counts'] > 0]\n",
    "training_ids = set(pd.read_csv('data/Low30_mmseq_ID_exp_subset_train.csv')['Entry'].values)\n",
    "test_ids = set(pd.read_csv('data/Low30_mmseq_ID_exp_subset_test_foldseek.csv')['Entry'].values)\n",
    "\n",
    "u.dp(['Number of training set:', len(training_ids), '\\nNumber of test set:', len(test_ids)])\n",
    "\n",
    "# Filter to not include the ones that weren't in the test set\n",
    "# Read in the fasta files\n",
    "# Read a FASTA file\n",
    "test_ids = []\n",
    "for record in SeqIO.parse(\"data/fastas/test.fasta\", \"fasta\"):\n",
    "    test_ids.append(record.id.split('|')[1])\n",
    "\n",
    "# After filtering for those in SwissProt\n",
    "test_df = swissprot[swissprot['Entry'].isin(test_ids)]\n",
    "training_df = swissprot[swissprot['Entry'].isin(training_ids)]\n",
    "\n",
    "u.dp(['Number of training set:', len(training_df), '\\nNumber of test set:', len(test_df)])"
   ]
  },
  {
   "cell_type": "code",
   "execution_count": 2,
   "id": "24a47736-d251-4853-ba4b-a10dc058e0c5",
   "metadata": {},
   "outputs": [],
   "source": [
    "# Save the training data as a database we're going to save this as a fasta file \n",
    "fasta_label = f'cataloDB_test.fasta'\n",
    "with open(fasta_label, 'w+') as fout:\n",
    "    for entry, seq in test_df[['Entry', 'Sequence']].values:\n",
    "        if entry in test_ids:\n",
    "            fout.write(f'>{entry}\\n{seq}\\n')\n",
    "        else:\n",
    "            # Just making double sure no contamination\n",
    "            print(f\"{entry} in training set?\")"
   ]
  },
  {
   "cell_type": "code",
   "execution_count": 4,
   "id": "29efa4f4-d2a4-495d-b951-02d949f36b68",
   "metadata": {},
   "outputs": [
    {
     "name": "stdout",
     "output_type": "stream",
     "text": [
      "\u001b[94m--------------------------------------------------------------------------------\u001b[0m\n",
      "\u001b[94m                             Starting squidly... \t                              \u001b[0m\n",
      "\u001b[94m--------------------------------------------------------------------------------\u001b[0m\n"
     ]
    },
    {
     "name": "stderr",
     "output_type": "stream",
     "text": [
      "100%|██████████| 232/232 [00:00<00:00, 159494.92it/s]\n"
     ]
    },
    {
     "name": "stdout",
     "output_type": "stream",
     "text": [
      "\u001b[93m--------------------------------------------------------------------------------\u001b[0m\n",
      "\u001b[93mRunning with user supplied squidly models:  \tCataloDB_final_models/Squidly_CL_15B.pt\tCataloDB_final_models/Squidly_LSTM_15B.pth\t\u001b[0m\n",
      "\u001b[93m--------------------------------------------------------------------------------\u001b[0m\n",
      "\u001b[93m--------------------------------------------------------------------------------\u001b[0m\n",
      "\u001b[93mRunning command:\tpython /disk1/ariane/miniconda3/envs/squidly/lib/python3.10/site-packages/squidly/squidly.py cataloDB_test.fasta esm2_t48_15B_UR50D CataloDB_final_models/Squidly_CL_15B.pt CataloDB_final_models/Squidly_LSTM_15B.pth data/ --toks_per_batch 5 --AS_threshold 0.97\t\u001b[0m\n",
      "\u001b[93m--------------------------------------------------------------------------------\u001b[0m\n"
     ]
    },
    {
     "data": {
      "text/plain": [
       "0"
      ]
     },
     "execution_count": 4,
     "metadata": {},
     "output_type": "execute_result"
    }
   ],
   "source": [
    "\n",
    "os.system(f'squidly {fasta_label} esm2_t48_15B_UR50D data/ CataloDB_15B --as-threshold 0.97 --lstm-model-as CataloDB_final_models/Squidly_LSTM_15B.pth --cr-model-as CataloDB_final_models/Squidly_CL_15B.pt')\n"
   ]
  },
  {
   "cell_type": "code",
   "execution_count": 5,
   "id": "855c9bdd-7c75-4221-bce1-ddf82cb165aa",
   "metadata": {},
   "outputs": [
    {
     "name": "stdout",
     "output_type": "stream",
     "text": [
      "\u001b[94m--------------------------------------------------------------------------------\u001b[0m\n",
      "\u001b[94m                             Starting squidly... \t                              \u001b[0m\n",
      "\u001b[94m--------------------------------------------------------------------------------\u001b[0m\n"
     ]
    },
    {
     "name": "stderr",
     "output_type": "stream",
     "text": [
      "100%|██████████| 232/232 [00:00<00:00, 113280.39it/s]\n"
     ]
    },
    {
     "name": "stdout",
     "output_type": "stream",
     "text": [
      "\u001b[93m--------------------------------------------------------------------------------\u001b[0m\n",
      "\u001b[93mRunning with user supplied squidly models:  \tCataloDB_final_models/Squidly_CL_3B.pt\tCataloDB_final_models/Squidly_LSTM_3B.pth\t\u001b[0m\n",
      "\u001b[93m--------------------------------------------------------------------------------\u001b[0m\n",
      "\u001b[93m--------------------------------------------------------------------------------\u001b[0m\n",
      "\u001b[93mRunning command:\tpython /disk1/ariane/miniconda3/envs/squidly/lib/python3.10/site-packages/squidly/squidly.py cataloDB_test.fasta esm2_t36_3B_UR50D CataloDB_final_models/Squidly_CL_3B.pt CataloDB_final_models/Squidly_LSTM_3B.pth data/ --toks_per_batch 5 --AS_threshold 0.97\t\u001b[0m\n",
      "\u001b[93m--------------------------------------------------------------------------------\u001b[0m\n"
     ]
    },
    {
     "data": {
      "text/plain": [
       "0"
      ]
     },
     "execution_count": 5,
     "metadata": {},
     "output_type": "execute_result"
    }
   ],
   "source": [
    "\n",
    "os.system(f'squidly {fasta_label} esm2_t36_3B_UR50D data/ CataloDB_3B --as-threshold 0.97 --lstm-model-as CataloDB_final_models/Squidly_LSTM_3B.pth --cr-model-as CataloDB_final_models/Squidly_CL_3B.pt')\n"
   ]
  },
  {
   "cell_type": "code",
   "execution_count": 6,
   "id": "39b00600-59f7-4bd4-9399-1672bcc5a589",
   "metadata": {},
   "outputs": [],
   "source": [
    "training_df.to_csv('swissprot_with_active_site_seqs_SquidlyBenchmark.csv', index=False)"
   ]
  },
  {
   "cell_type": "code",
   "execution_count": 7,
   "id": "0b29dcad-73ed-464d-9a55-452f21946d26",
   "metadata": {},
   "outputs": [],
   "source": [
    "swissprot[['Entry', 'Sequence', 'Residue']].to_csv('/disk1/ariane/vscode/squidly/data/reviewed_sprot_08042025.csv', index=False)"
   ]
  },
  {
   "cell_type": "markdown",
   "id": "70e1ab38-557c-4b6c-bfe1-ae83a7711c9a",
   "metadata": {},
   "source": [
    "# Write these as a fasta and run BLAST on them to collect the nearest enzyme\n",
    "\n",
    "Here we are inferring the sequences using BLAST to combine with Squidly."
   ]
  },
  {
   "cell_type": "code",
   "execution_count": 8,
   "id": "13d3f02f-8866-4155-bf04-edb81e0b6bf1",
   "metadata": {
    "scrolled": true
   },
   "outputs": [
    {
     "name": "stderr",
     "output_type": "stream",
     "text": [
      "diamond v2.1.11.165 (C) Max Planck Society for the Advancement of Science, Benjamin Buchfink, University of Tuebingen\n",
      "Documentation, support and updates available at http://www.diamondsearch.org\n",
      "Please cite: http://dx.doi.org/10.1038/s41592-021-01101-x Nature Methods (2021)\n",
      "\n",
      "#CPU threads: 384\n",
      "Scoring parameters: (Matrix=BLOSUM62 Lambda=0.267 K=0.041 Penalties=11/1)\n",
      "Database input file: swissprot_with_active_site_seqs_SquidlyBenchmark.fasta\n",
      "Opening the database file...  [0.001s]\n",
      "Loading sequences...  [0.008s]\n",
      "Masking sequences...  [0.028s]\n",
      "Writing sequences...  [0.001s]\n",
      "Hashing sequences...  [0s]\n",
      "Loading sequences...  [0s]\n",
      "Writing trailer...  [0s]\n",
      "Closing the input file...  [0s]\n",
      "Closing the database file...  [0.002s]\n",
      "\n",
      "Database sequences  5355\n",
      "  Database letters  2195051\n",
      "     Database hash  c9ace6d022667b97e1802b18a96a2ca4\n",
      "        Total time  0.042000s\n"
     ]
    },
    {
     "ename": "ValueError",
     "evalue": "Invalid file path or buffer object type: <class 'pandas.core.frame.DataFrame'>",
     "output_type": "error",
     "traceback": [
      "\u001b[0;31m---------------------------------------------------------------------------\u001b[0m",
      "\u001b[0;31mValueError\u001b[0m                                Traceback (most recent call last)",
      "Cell \u001b[0;32mIn[8], line 16\u001b[0m\n\u001b[1;32m     14\u001b[0m id_col \u001b[38;5;241m=\u001b[39m \u001b[38;5;124m'\u001b[39m\u001b[38;5;124mEntry\u001b[39m\u001b[38;5;124m'\u001b[39m\n\u001b[1;32m     15\u001b[0m seq_col \u001b[38;5;241m=\u001b[39m \u001b[38;5;124m'\u001b[39m\u001b[38;5;124mSequence\u001b[39m\u001b[38;5;124m'\u001b[39m\n\u001b[0;32m---> 16\u001b[0m blast_df \u001b[38;5;241m=\u001b[39m (\u001b[43mtest_df\u001b[49m\u001b[43m \u001b[49m\u001b[38;5;241;43m<<\u001b[39;49m\u001b[43m \u001b[49m\u001b[43m(\u001b[49m\u001b[43mBLAST\u001b[49m\u001b[43m(\u001b[49m\u001b[43mid_col\u001b[49m\u001b[43m,\u001b[49m\u001b[43m \u001b[49m\u001b[43mseq_col\u001b[49m\u001b[43m,\u001b[49m\u001b[43m \u001b[49m\u001b[43mdatabase\u001b[49m\u001b[38;5;241;43m=\u001b[39;49m\u001b[43mfasta_label\u001b[49m\u001b[43m,\u001b[49m\u001b[43m \u001b[49m\u001b[43margs\u001b[49m\u001b[38;5;241;43m=\u001b[39;49m\u001b[43m[\u001b[49m\u001b[38;5;124;43m'\u001b[39;49m\u001b[38;5;124;43m--ultra-sensitive\u001b[39;49m\u001b[38;5;124;43m'\u001b[39;49m\u001b[43m]\u001b[49m\u001b[43m)\u001b[49m\u001b[43m \u001b[49m\u001b[38;5;241;43m>>\u001b[39;49m\u001b[43m \u001b[49m\u001b[43mSave\u001b[49m\u001b[43m(\u001b[49m\u001b[38;5;124;43mf\u001b[39;49m\u001b[38;5;124;43m'\u001b[39;49m\u001b[38;5;124;43mdata/blast/Squidly_BLAST_Low30_mmseq_ID_foldseek_subset.pkl\u001b[39;49m\u001b[38;5;124;43m'\u001b[39;49m\u001b[43m)\u001b[49m\u001b[43m)\u001b[49m)\n",
      "File \u001b[0;32m~/vscode/enzyme-tk/enzymetk/step.py:30\u001b[0m, in \u001b[0;36mPipeline.__rlshift__\u001b[0;34m(self, other)\u001b[0m\n\u001b[1;32m     29\u001b[0m \u001b[38;5;28;01mdef\u001b[39;00m \u001b[38;5;21m__rlshift__\u001b[39m(\u001b[38;5;28mself\u001b[39m, other: pd\u001b[38;5;241m.\u001b[39mDataFrame) \u001b[38;5;241m-\u001b[39m\u001b[38;5;241m>\u001b[39m pd\u001b[38;5;241m.\u001b[39mDataFrame:\n\u001b[0;32m---> 30\u001b[0m     \u001b[38;5;28;01mreturn\u001b[39;00m \u001b[38;5;28;43mself\u001b[39;49m\u001b[38;5;241;43m.\u001b[39;49m\u001b[43mexecute\u001b[49m\u001b[43m(\u001b[49m\u001b[43mother\u001b[49m\u001b[43m)\u001b[49m\n",
      "File \u001b[0;32m~/vscode/enzyme-tk/enzymetk/step.py:26\u001b[0m, in \u001b[0;36mPipeline.execute\u001b[0;34m(self, df)\u001b[0m\n\u001b[1;32m     22\u001b[0m \u001b[38;5;250m\u001b[39m\u001b[38;5;124;03m\"\"\" \u001b[39;00m\n\u001b[1;32m     23\u001b[0m \u001b[38;5;124;03mExecute some shit.\u001b[39;00m\n\u001b[1;32m     24\u001b[0m \u001b[38;5;124;03m\"\"\"\u001b[39;00m      \n\u001b[1;32m     25\u001b[0m \u001b[38;5;28;01mfor\u001b[39;00m step \u001b[38;5;129;01min\u001b[39;00m \u001b[38;5;28mself\u001b[39m\u001b[38;5;241m.\u001b[39msteps:\n\u001b[0;32m---> 26\u001b[0m     df \u001b[38;5;241m=\u001b[39m \u001b[43mstep\u001b[49m\u001b[38;5;241;43m.\u001b[39;49m\u001b[43mexecute\u001b[49m\u001b[43m(\u001b[49m\u001b[43mdf\u001b[49m\u001b[43m)\u001b[49m\n\u001b[1;32m     27\u001b[0m \u001b[38;5;28;01mreturn\u001b[39;00m df\n",
      "File \u001b[0;32m~/vscode/enzyme-tk/enzymetk/sequence_search_blast.py:106\u001b[0m, in \u001b[0;36mBLAST.execute\u001b[0;34m(self, df)\u001b[0m\n\u001b[1;32m    104\u001b[0m \u001b[38;5;28;01melse\u001b[39;00m:\n\u001b[1;32m    105\u001b[0m     output_filename \u001b[38;5;241m=\u001b[39m \u001b[38;5;28mself\u001b[39m\u001b[38;5;241m.\u001b[39m__execute([df, tmp_dir])\n\u001b[0;32m--> 106\u001b[0m     \u001b[38;5;28;01mreturn\u001b[39;00m \u001b[43mpd\u001b[49m\u001b[38;5;241;43m.\u001b[39;49m\u001b[43mread_pickle\u001b[49m\u001b[43m(\u001b[49m\u001b[43moutput_filename\u001b[49m\u001b[43m)\u001b[49m\n",
      "File \u001b[0;32m~/miniconda3/envs/protein/lib/python3.11/site-packages/pandas/io/pickle.py:187\u001b[0m, in \u001b[0;36mread_pickle\u001b[0;34m(filepath_or_buffer, compression, storage_options)\u001b[0m\n\u001b[1;32m    124\u001b[0m \u001b[38;5;250m\u001b[39m\u001b[38;5;124;03m\"\"\"\u001b[39;00m\n\u001b[1;32m    125\u001b[0m \u001b[38;5;124;03mLoad pickled pandas object (or any object) from file.\u001b[39;00m\n\u001b[1;32m    126\u001b[0m \n\u001b[0;32m   (...)\u001b[0m\n\u001b[1;32m    184\u001b[0m \u001b[38;5;124;03m4    4    9\u001b[39;00m\n\u001b[1;32m    185\u001b[0m \u001b[38;5;124;03m\"\"\"\u001b[39;00m  \u001b[38;5;66;03m# noqa: E501\u001b[39;00m\n\u001b[1;32m    186\u001b[0m excs_to_catch \u001b[38;5;241m=\u001b[39m (\u001b[38;5;167;01mAttributeError\u001b[39;00m, \u001b[38;5;167;01mImportError\u001b[39;00m, \u001b[38;5;167;01mModuleNotFoundError\u001b[39;00m, \u001b[38;5;167;01mTypeError\u001b[39;00m)\n\u001b[0;32m--> 187\u001b[0m \u001b[38;5;28;01mwith\u001b[39;00m \u001b[43mget_handle\u001b[49m\u001b[43m(\u001b[49m\n\u001b[1;32m    188\u001b[0m \u001b[43m    \u001b[49m\u001b[43mfilepath_or_buffer\u001b[49m\u001b[43m,\u001b[49m\n\u001b[1;32m    189\u001b[0m \u001b[43m    \u001b[49m\u001b[38;5;124;43m\"\u001b[39;49m\u001b[38;5;124;43mrb\u001b[39;49m\u001b[38;5;124;43m\"\u001b[39;49m\u001b[43m,\u001b[49m\n\u001b[1;32m    190\u001b[0m \u001b[43m    \u001b[49m\u001b[43mcompression\u001b[49m\u001b[38;5;241;43m=\u001b[39;49m\u001b[43mcompression\u001b[49m\u001b[43m,\u001b[49m\n\u001b[1;32m    191\u001b[0m \u001b[43m    \u001b[49m\u001b[43mis_text\u001b[49m\u001b[38;5;241;43m=\u001b[39;49m\u001b[38;5;28;43;01mFalse\u001b[39;49;00m\u001b[43m,\u001b[49m\n\u001b[1;32m    192\u001b[0m \u001b[43m    \u001b[49m\u001b[43mstorage_options\u001b[49m\u001b[38;5;241;43m=\u001b[39;49m\u001b[43mstorage_options\u001b[49m\u001b[43m,\u001b[49m\n\u001b[1;32m    193\u001b[0m \u001b[43m\u001b[49m\u001b[43m)\u001b[49m \u001b[38;5;28;01mas\u001b[39;00m handles:\n\u001b[1;32m    194\u001b[0m \n\u001b[1;32m    195\u001b[0m     \u001b[38;5;66;03m# 1) try standard library Pickle\u001b[39;00m\n\u001b[1;32m    196\u001b[0m     \u001b[38;5;66;03m# 2) try pickle_compat (older pandas version) to handle subclass changes\u001b[39;00m\n\u001b[1;32m    197\u001b[0m     \u001b[38;5;66;03m# 3) try pickle_compat with latin-1 encoding upon a UnicodeDecodeError\u001b[39;00m\n\u001b[1;32m    199\u001b[0m     \u001b[38;5;28;01mtry\u001b[39;00m:\n\u001b[1;32m    200\u001b[0m         \u001b[38;5;66;03m# TypeError for Cython complaints about object.__new__ vs Tick.__new__\u001b[39;00m\n\u001b[1;32m    201\u001b[0m         \u001b[38;5;28;01mtry\u001b[39;00m:\n",
      "File \u001b[0;32m~/miniconda3/envs/protein/lib/python3.11/site-packages/pandas/io/common.py:670\u001b[0m, in \u001b[0;36mget_handle\u001b[0;34m(path_or_buf, mode, encoding, compression, memory_map, is_text, errors, storage_options)\u001b[0m\n\u001b[1;32m    667\u001b[0m     codecs\u001b[38;5;241m.\u001b[39mlookup_error(errors)\n\u001b[1;32m    669\u001b[0m \u001b[38;5;66;03m# open URLs\u001b[39;00m\n\u001b[0;32m--> 670\u001b[0m ioargs \u001b[38;5;241m=\u001b[39m \u001b[43m_get_filepath_or_buffer\u001b[49m\u001b[43m(\u001b[49m\n\u001b[1;32m    671\u001b[0m \u001b[43m    \u001b[49m\u001b[43mpath_or_buf\u001b[49m\u001b[43m,\u001b[49m\n\u001b[1;32m    672\u001b[0m \u001b[43m    \u001b[49m\u001b[43mencoding\u001b[49m\u001b[38;5;241;43m=\u001b[39;49m\u001b[43mencoding\u001b[49m\u001b[43m,\u001b[49m\n\u001b[1;32m    673\u001b[0m \u001b[43m    \u001b[49m\u001b[43mcompression\u001b[49m\u001b[38;5;241;43m=\u001b[39;49m\u001b[43mcompression\u001b[49m\u001b[43m,\u001b[49m\n\u001b[1;32m    674\u001b[0m \u001b[43m    \u001b[49m\u001b[43mmode\u001b[49m\u001b[38;5;241;43m=\u001b[39;49m\u001b[43mmode\u001b[49m\u001b[43m,\u001b[49m\n\u001b[1;32m    675\u001b[0m \u001b[43m    \u001b[49m\u001b[43mstorage_options\u001b[49m\u001b[38;5;241;43m=\u001b[39;49m\u001b[43mstorage_options\u001b[49m\u001b[43m,\u001b[49m\n\u001b[1;32m    676\u001b[0m \u001b[43m\u001b[49m\u001b[43m)\u001b[49m\n\u001b[1;32m    678\u001b[0m handle \u001b[38;5;241m=\u001b[39m ioargs\u001b[38;5;241m.\u001b[39mfilepath_or_buffer\n\u001b[1;32m    679\u001b[0m handles: \u001b[38;5;28mlist\u001b[39m[BaseBuffer]\n",
      "File \u001b[0;32m~/miniconda3/envs/protein/lib/python3.11/site-packages/pandas/io/common.py:427\u001b[0m, in \u001b[0;36m_get_filepath_or_buffer\u001b[0;34m(filepath_or_buffer, encoding, compression, mode, storage_options)\u001b[0m\n\u001b[1;32m    423\u001b[0m \u001b[38;5;28;01mif\u001b[39;00m \u001b[38;5;129;01mnot\u001b[39;00m (\n\u001b[1;32m    424\u001b[0m     \u001b[38;5;28mhasattr\u001b[39m(filepath_or_buffer, \u001b[38;5;124m\"\u001b[39m\u001b[38;5;124mread\u001b[39m\u001b[38;5;124m\"\u001b[39m) \u001b[38;5;129;01mor\u001b[39;00m \u001b[38;5;28mhasattr\u001b[39m(filepath_or_buffer, \u001b[38;5;124m\"\u001b[39m\u001b[38;5;124mwrite\u001b[39m\u001b[38;5;124m\"\u001b[39m)\n\u001b[1;32m    425\u001b[0m ):\n\u001b[1;32m    426\u001b[0m     msg \u001b[38;5;241m=\u001b[39m \u001b[38;5;124mf\u001b[39m\u001b[38;5;124m\"\u001b[39m\u001b[38;5;124mInvalid file path or buffer object type: \u001b[39m\u001b[38;5;132;01m{\u001b[39;00m\u001b[38;5;28mtype\u001b[39m(filepath_or_buffer)\u001b[38;5;132;01m}\u001b[39;00m\u001b[38;5;124m\"\u001b[39m\n\u001b[0;32m--> 427\u001b[0m     \u001b[38;5;28;01mraise\u001b[39;00m \u001b[38;5;167;01mValueError\u001b[39;00m(msg)\n\u001b[1;32m    429\u001b[0m \u001b[38;5;28;01mreturn\u001b[39;00m IOArgs(\n\u001b[1;32m    430\u001b[0m     filepath_or_buffer\u001b[38;5;241m=\u001b[39mfilepath_or_buffer,\n\u001b[1;32m    431\u001b[0m     encoding\u001b[38;5;241m=\u001b[39mencoding,\n\u001b[0;32m   (...)\u001b[0m\n\u001b[1;32m    434\u001b[0m     mode\u001b[38;5;241m=\u001b[39mmode,\n\u001b[1;32m    435\u001b[0m )\n",
      "\u001b[0;31mValueError\u001b[0m: Invalid file path or buffer object type: <class 'pandas.core.frame.DataFrame'>"
     ]
    }
   ],
   "source": [
    "%%capture\n",
    "# Save the training data as a database we're going to save this as a fasta file \n",
    "fasta_label = f'swissprot_with_active_site_seqs_SquidlyBenchmark.fasta'\n",
    "with open(fasta_label, 'w+') as fout:\n",
    "    for entry, seq in training_df[['Entry', 'Sequence']].values:\n",
    "        if entry not in test_ids:\n",
    "            fout.write(f'>{entry}\\n{seq}\\n')\n",
    "        else:\n",
    "            # Just making double sure no contamination\n",
    "            print(f\"{entry} in training set?\")\n",
    "    \n",
    "# Do blast on this dataset \n",
    "# This should be where you downloaded the data from zotero, there is a folder in there called AS_inference\n",
    "# This contains the models and the data needed to run the tool\n",
    "id_col = 'Entry'\n",
    "seq_col = 'Sequence'\n",
    "blast_df = (test_df << (BLAST(id_col, seq_col, database=fasta_label, args=['--ultra-sensitive']) >> Save(f'data/blast/Squidly_BLAST_Low30_mmseq_ID_foldseek_subset.pkl')))"
   ]
  },
  {
   "cell_type": "markdown",
   "id": "a05f5970-170f-460a-9879-da5303dabc49",
   "metadata": {},
   "source": [
    "# Clean the BLAST results to only keep the top one\n",
    "\n",
    "Here we want to once we have a single enzyme, we want to align it to the most homologous sequence and then we can get the active site based on the annotation. To do this we align with clustalomega (you need this installed in order to do this!)\n",
    "http://www.clustal.org/omega/\n"
   ]
  },
  {
   "cell_type": "code",
   "execution_count": 9,
   "id": "4af078b6-bfb5-4f92-ad25-a5e2c21265f1",
   "metadata": {},
   "outputs": [
    {
     "name": "stderr",
     "output_type": "stream",
     "text": [
      "/tmp/ipykernel_2715360/4157254151.py:9: SettingWithCopyWarning: \n",
      "A value is trying to be set on a copy of a slice from a DataFrame.\n",
      "Try using .loc[row_indexer,col_indexer] = value instead\n",
      "\n",
      "See the caveats in the documentation: https://pandas.pydata.org/pandas-docs/stable/user_guide/indexing.html#returning-a-view-versus-a-copy\n",
      "  test_df['From'] = test_df.index\n"
     ]
    }
   ],
   "source": [
    "blast_df = pd.read_pickle(f'data/blast/Squidly_BLAST_Low30_mmseq_ID_foldseek_subset.pkl')\n",
    "blast_df = blast_df.sort_values(by='sequence identity', ascending=False)\n",
    "# Remove duplicates \n",
    "blast_df.drop_duplicates('query', inplace=True)\n",
    "\n",
    "#Then join up with all df\n",
    "blast_df.set_index('query', inplace=True)\n",
    "test_df.set_index('Entry', inplace=True)\n",
    "test_df['From'] = test_df.index\n",
    "test_df = test_df.join(blast_df, how='left')\n",
    "uniprot_id_to_seq = dict(zip(swissprot.Entry, swissprot.Sequence))\n",
    "for name, seq, uniprot in test_df[['From', 'Sequence', 'target']].values:\n",
    "    fin = f'msa/{uniprot}_{name}.fa'\n",
    "    with open(fin, 'w+') as fout:\n",
    "        fout.write(f'>{uniprot}\\n{uniprot_id_to_seq.get(uniprot)}\\n')\n",
    "        fout.write(f'>{name}\\n{seq}')\n",
    "    # Now run clustalomega\n",
    "    os.system(f'clustalo --force -i {fin} -o {fin.replace(\".fa\", \".msa\")}')"
   ]
  },
  {
   "cell_type": "markdown",
   "id": "51d7e09f-f791-45f2-b5a5-4fb244ccdb25",
   "metadata": {},
   "source": [
    "## Read in each of the alignments and infer the active site based on the aligend annotated sequnece"
   ]
  },
  {
   "cell_type": "code",
   "execution_count": 10,
   "id": "a56c712d-a08c-4a38-81a5-dccabd9e92a9",
   "metadata": {},
   "outputs": [
    {
     "name": "stdout",
     "output_type": "stream",
     "text": [
      "\u001b[94m--------------------------------------------------------------------------------\u001b[0m\n",
      "\u001b[94m                             Missing residues: \t1\t                              \u001b[0m\n",
      "\u001b[94m--------------------------------------------------------------------------------\u001b[0m\n"
     ]
    }
   ],
   "source": [
    "from Bio import AlignIO\n",
    "import matplotlib.pyplot as plt\n",
    "import numpy as np\n",
    "import seaborn as sns\n",
    "# Read in squidly results\n",
    "import numpy as np\n",
    "from sklearn.metrics import f1_score\n",
    "from sklearn.metrics import precision_recall_fscore_support\n",
    "from tqdm import tqdm \n",
    "\n",
    "predicted_active_sites = {}\n",
    "missing = 0\n",
    "uniprot_id_to_active_site = dict(zip(swissprot['Entry'], swissprot['Residue']))\n",
    "df = test_df.copy()\n",
    "for query, uniprot in df[['From', 'target']].values:\n",
    "    missing = 0\n",
    "    if not uniprot or not isinstance(uniprot, str):\n",
    "        missing += 1\n",
    "    else:\n",
    "        fin = f'msa/{uniprot}_{query}.msa'\n",
    "        # Read with bioseq\n",
    "        # Read the alignment\n",
    "        active_sites = [int(x) for x in uniprot_id_to_active_site.get(uniprot).split('|')]\n",
    "        alignment = AlignIO.read(fin, 'fasta')\n",
    "        # get the existing one and then calculate the position gapped\n",
    "        records = {}\n",
    "        for record in alignment:\n",
    "            records[record.id] = record.seq\n",
    "        # Now get the active site\n",
    "        position_count = 0\n",
    "        active_pred = []\n",
    "        query_seq = records[query]\n",
    "        query_count = 0\n",
    "        x = 0\n",
    "        for i, v in enumerate(records[uniprot]):\n",
    "            if position_count in active_sites:\n",
    "                if query_count < len(query_seq.replace('-', '')):\n",
    "                    active_pred.append(query_count)\n",
    "                if query_seq[i] != v:\n",
    "                    x += 1\n",
    "                    #print(query, uniprot, v, query_seq[i])\n",
    "            if v != '-':\n",
    "                position_count += 1\n",
    "            if query_seq[i] != '-' and query_seq[i] != ' ':\n",
    "                query_count += 1\n",
    "    \n",
    "        predicted_active_sites[query] = '|'.join([str(s) for s in active_pred])\n",
    "        # Now we can just add on the\n",
    "\n",
    "df['BLAST_residues'] = [predicted_active_sites.get(label) for label in df['From'].values]\n",
    "df['True_residues'] = [uniprot_id_to_active_site.get(label) for label in df['From'].values]\n",
    "df.to_csv(f'data/blast/cataloDB.csv')\n",
    "u.dp(['Missing residues: ', missing])"
   ]
  },
  {
   "cell_type": "code",
   "execution_count": 11,
   "id": "b0c47046-c6a1-4dd1-a01f-368c1345f68a",
   "metadata": {},
   "outputs": [],
   "source": [
    "df = pd.read_csv(f'data/blast/cataloDB.csv')"
   ]
  },
  {
   "cell_type": "markdown",
   "id": "09d604d8-b90f-48de-8726-611924024a28",
   "metadata": {},
   "source": [
    "## Finally check the recovery rate for BLAST\n",
    "\n"
   ]
  },
  {
   "cell_type": "code",
   "execution_count": 12,
   "id": "70be1e44-74cd-4c0e-a284-481d82ddb9e2",
   "metadata": {
    "scrolled": true
   },
   "outputs": [],
   "source": [
    "\n",
    "def calculate_stats(df, id_col, true_col, pred_col, seq_col):   \n",
    "    # Check the agreement:\n",
    "    agree, disagree, none_, atleast_one = 0, 0, 0, 0\n",
    "    percent_aggree = []\n",
    "    to_check = []\n",
    "    missing = 0\n",
    "    predictions = []\n",
    "    true = []\n",
    "    for seq_label, res_sq, res_pred, seq in df[[id_col, true_col, pred_col, seq_col]].values:\n",
    "        if not res_sq:\n",
    "            missing += 1\n",
    "        else:\n",
    "            # Calculate the F1 score\n",
    "            res_sq = res_sq.split('|')\n",
    "            if not res_pred or not isinstance(res_pred, str):\n",
    "                none_ += 1\n",
    "                percent_aggree.append(0)\n",
    "                res_sq = [int(i) for i in res_sq]\n",
    "                for pos in range(0, len(seq)):\n",
    "                    predictions.append(0) # Since we had no true predictions\n",
    "                    if pos in res_sq:\n",
    "                        true.append(1)\n",
    "                    else:\n",
    "                        true.append(0)\n",
    "            else:\n",
    "                res_pred = res_pred.split('|')\n",
    "                if len(set(res_pred) & set(res_sq)) > 0:\n",
    "                    atleast_one += 1 # Check for at least one agreement\n",
    "                if res_sq != res_pred:\n",
    "                    to_check.append(seq_label)\n",
    "                    # Check the % agree \n",
    "                    percent_aggree.append(len(set(res_sq) & set(res_pred))/max(len(res_sq), len(res_pred)))\n",
    "                    disagree += 1\n",
    "                else:\n",
    "                    percent_aggree.append(1)\n",
    "                    agree += 1\n",
    "                chosen_res_seq = [int(i) for i in res_pred]\n",
    "                res_sq = [int(i) for i in res_sq]\n",
    "                for pos in range(0, len(seq)):\n",
    "                    if pos in res_sq:\n",
    "                        true.append(1)\n",
    "                    else:\n",
    "                        true.append(0)\n",
    "                    if pos in chosen_res_seq:\n",
    "                        predictions.append(1)\n",
    "                    else:\n",
    "                        predictions.append(0)\n",
    "    print(missing)\n",
    "    precision, recall, f1, support = precision_recall_fscore_support(true, predictions)\n",
    "    # f1, precision, recall, support, agree, disagree, no_pred, mean_agreement\n",
    "    u.dp(['Total number:', len(df), 'Those with at least one overlap:', atleast_one])\n",
    "    return precision[1], recall[1], f1[1], support[1], agree/len(df), disagree/len(df), none_/len(df), np.mean(percent_aggree)\n"
   ]
  },
  {
   "cell_type": "code",
   "execution_count": 13,
   "id": "87a326ee-fc62-4cb4-9c3a-8a43cd5ae12b",
   "metadata": {},
   "outputs": [
    {
     "name": "stdout",
     "output_type": "stream",
     "text": [
      "0\n",
      "\u001b[94m--------------------------------------------------------------------------------\u001b[0m\n",
      "\u001b[94m             Total number:\t232\tThose with at least one overlap:\t68\t             \u001b[0m\n",
      "\u001b[94m--------------------------------------------------------------------------------\u001b[0m\n",
      "\u001b[94m--------------------------------------------------------------------------------\u001b[0m\n",
      "\u001b[94mBLAST\t\n",
      "F1\t0.368515205724508\t\n",
      "precision:\t0.7202797202797203\t\n",
      " recall:\t0.24759615384615385\t\u001b[0m\n",
      "\u001b[94m--------------------------------------------------------------------------------\u001b[0m\n"
     ]
    },
    {
     "data": {
      "text/plain": [
       "Text(0.5, 0, 'Sequence identity')"
      ]
     },
     "execution_count": 13,
     "metadata": {},
     "output_type": "execute_result"
    },
    {
     "data": {
      "image/png": "[encoded data removed]",
      "text/plain": [
       "<Figure size 640x480 with 1 Axes>"
      ]
     },
     "metadata": {},
     "output_type": "display_data"
    }
   ],
   "source": [
    "# Run this with BLAST residues\n",
    "precision, recall, f1, support, agree, disagree, no_pred, mean_agreement = calculate_stats(df, 'From', 'True_residues', 'BLAST_residues', 'Sequence')\n",
    "\n",
    "rows = []\n",
    "rows.append(['BLAST', None, f1, precision, recall, support, agree, disagree, no_pred, mean_agreement])\n",
    "u.dp(['BLAST', '\\nF1', f1, '\\nprecision:', precision, '\\n recall:', recall])\n",
    "\n",
    "plt.hist(df['sequence identity'].values, bins=20, color='grey', alpha=0.5)\n",
    "plt.title('Diamond blast results to SwissProt with AS')\n",
    "plt.ylabel('Frequency')\n",
    "plt.xlabel('Sequence identity')"
   ]
  },
  {
   "cell_type": "markdown",
   "id": "25c9294a-3d4c-4df7-9a44-417d45041a31",
   "metadata": {},
   "source": [
    "## Now run Squidly to predict the catalytic residues on the enzymes\n",
    "\n",
    "Predict active sites with both the 3B and the 15B models."
   ]
  },
  {
   "cell_type": "code",
   "execution_count": 14,
   "id": "464bf0b4",
   "metadata": {},
   "outputs": [],
   "source": [
    "# Run squidly\n",
    "from enzymetk.predict_catalyticsite_step import ActiveSitePred\n",
    "from enzymetk.save_step import Save\n",
    "import pandas as pd\n",
    "import os\n",
    "os.environ['MKL_THREADING_LAYER'] = 'GNU'\n",
    "\n",
    "# This should be where you downloaded the data from zotero, there is a folder in there called AS_inference\n",
    "# This contains the models and the data needed to run the tool\n",
    "squidly_dir = '/disk1/ariane/vscode/squidly/manuscript/CataloDB_final_models/'\n",
    "num_threads = 1\n",
    "id_col = 'Entry'\n",
    "seq_col = 'Sequence'\n",
    "test_df.reset_index(inplace=True)\n",
    "#squidly = (test_df << (ActiveSitePred(id_col, seq_col, squidly_dir, esm2_model = 'esm2_t36_3B_UR50D') >> Save('data/squidly_as_pred_3B_new.pkl')))\n"
   ]
  },
  {
   "cell_type": "code",
   "execution_count": 17,
   "id": "41288f22-d63e-4c28-8f29-4baf67eeafa7",
   "metadata": {},
   "outputs": [
    {
     "data": {
      "text/html": [
       "<div>\n",
       "<style scoped>\n",
       "    .dataframe tbody tr th:only-of-type {\n",
       "        vertical-align: middle;\n",
       "    }\n",
       "\n",
       "    .dataframe tbody tr th {\n",
       "        vertical-align: top;\n",
       "    }\n",
       "\n",
       "    .dataframe thead th {\n",
       "        text-align: right;\n",
       "    }\n",
       "</style>\n",
       "<table border=\"1\" class=\"dataframe\">\n",
       "  <thead>\n",
       "    <tr style=\"text-align: right;\">\n",
       "      <th></th>\n",
       "      <th>index</th>\n",
       "      <th>Entry</th>\n",
       "      <th>Length</th>\n",
       "      <th>Sequence</th>\n",
       "      <th>Active site</th>\n",
       "      <th>PDB</th>\n",
       "      <th>Residue</th>\n",
       "      <th>active_site_residue_counts</th>\n",
       "      <th>From</th>\n",
       "      <th>target</th>\n",
       "      <th>sequence identity</th>\n",
       "      <th>length</th>\n",
       "      <th>mismatch</th>\n",
       "      <th>gapopen</th>\n",
       "      <th>query start</th>\n",
       "      <th>query end</th>\n",
       "      <th>target start</th>\n",
       "      <th>target end</th>\n",
       "      <th>e-value</th>\n",
       "      <th>bitscore</th>\n",
       "    </tr>\n",
       "  </thead>\n",
       "  <tbody>\n",
       "    <tr>\n",
       "      <th>0</th>\n",
       "      <td>0</td>\n",
       "      <td>A2T3S5</td>\n",
       "      <td>835</td>\n",
       "      <td>MKVLALRHSVAQVYADTQVYVHDDTKDSYENAFLISNLTTHNILYL...</td>\n",
       "      <td>ACT_SITE 718; /note=\"For 2'-5'-phosphodiestera...</td>\n",
       "      <td>5AF2;</td>\n",
       "      <td>717|719|796|798</td>\n",
       "      <td>4</td>\n",
       "      <td>A2T3S5</td>\n",
       "      <td>NaN</td>\n",
       "      <td>NaN</td>\n",
       "      <td>NaN</td>\n",
       "      <td>NaN</td>\n",
       "      <td>NaN</td>\n",
       "      <td>NaN</td>\n",
       "      <td>NaN</td>\n",
       "      <td>NaN</td>\n",
       "      <td>NaN</td>\n",
       "      <td>NaN</td>\n",
       "      <td>NaN</td>\n",
       "    </tr>\n",
       "    <tr>\n",
       "      <th>1</th>\n",
       "      <td>1</td>\n",
       "      <td>A5JTM5</td>\n",
       "      <td>269</td>\n",
       "      <td>MYEAIGHRVEDGVAEITIKLPRHRNALSVKAMQEVTDALNRAEEDD...</td>\n",
       "      <td>ACT_SITE 90; /note=\"Proton acceptor\"; /evidenc...</td>\n",
       "      <td>1JXZ;1NZY;</td>\n",
       "      <td>89|144</td>\n",
       "      <td>2</td>\n",
       "      <td>A5JTM5</td>\n",
       "      <td>Q5SKU3</td>\n",
       "      <td>34.3</td>\n",
       "      <td>207.0</td>\n",
       "      <td>129.0</td>\n",
       "      <td>6.0</td>\n",
       "      <td>8.0</td>\n",
       "      <td>211.0</td>\n",
       "      <td>3.0</td>\n",
       "      <td>205.0</td>\n",
       "      <td>1.340000e-23</td>\n",
       "      <td>94.0</td>\n",
       "    </tr>\n",
       "    <tr>\n",
       "      <th>2</th>\n",
       "      <td>2</td>\n",
       "      <td>B3TMR8</td>\n",
       "      <td>332</td>\n",
       "      <td>MENPANANPIRVGVIGCADIAWRRALPALEAEPLTEVTAIASRRWD...</td>\n",
       "      <td>ACT_SITE 102; /note=\"Proton donor\"; /evidence=...</td>\n",
       "      <td>3RBV;3RC1;3RC2;3RC7;3RC9;3RCB;</td>\n",
       "      <td>101</td>\n",
       "      <td>1</td>\n",
       "      <td>B3TMR8</td>\n",
       "      <td>Q53TZ2</td>\n",
       "      <td>36.7</td>\n",
       "      <td>120.0</td>\n",
       "      <td>68.0</td>\n",
       "      <td>2.0</td>\n",
       "      <td>7.0</td>\n",
       "      <td>125.0</td>\n",
       "      <td>2.0</td>\n",
       "      <td>114.0</td>\n",
       "      <td>1.060000e-10</td>\n",
       "      <td>59.3</td>\n",
       "    </tr>\n",
       "    <tr>\n",
       "      <th>3</th>\n",
       "      <td>3</td>\n",
       "      <td>C0HLV2</td>\n",
       "      <td>380</td>\n",
       "      <td>MQAKFFTFVILSSVFYFNYPLAEARSIQARLANKPKGTIKTIKGDD...</td>\n",
       "      <td>ACT_SITE 188; /evidence=\"ECO:0000255|PROSITE-P...</td>\n",
       "      <td>7ZU8;7ZVA;7ZVB;7ZVC;</td>\n",
       "      <td>187|296</td>\n",
       "      <td>2</td>\n",
       "      <td>C0HLV2</td>\n",
       "      <td>NaN</td>\n",
       "      <td>NaN</td>\n",
       "      <td>NaN</td>\n",
       "      <td>NaN</td>\n",
       "      <td>NaN</td>\n",
       "      <td>NaN</td>\n",
       "      <td>NaN</td>\n",
       "      <td>NaN</td>\n",
       "      <td>NaN</td>\n",
       "      <td>NaN</td>\n",
       "      <td>NaN</td>\n",
       "    </tr>\n",
       "    <tr>\n",
       "      <th>4</th>\n",
       "      <td>4</td>\n",
       "      <td>C0SPC1</td>\n",
       "      <td>269</td>\n",
       "      <td>MNIDMNWLGQLLGSDWEIFPAGGATGDAYYAKHNGQQLFLKRNSSP...</td>\n",
       "      <td>ACT_SITE 166; /note=\"Proton acceptor\"; /eviden...</td>\n",
       "      <td>7S3L;</td>\n",
       "      <td>165</td>\n",
       "      <td>1</td>\n",
       "      <td>C0SPC1</td>\n",
       "      <td>NaN</td>\n",
       "      <td>NaN</td>\n",
       "      <td>NaN</td>\n",
       "      <td>NaN</td>\n",
       "      <td>NaN</td>\n",
       "      <td>NaN</td>\n",
       "      <td>NaN</td>\n",
       "      <td>NaN</td>\n",
       "      <td>NaN</td>\n",
       "      <td>NaN</td>\n",
       "      <td>NaN</td>\n",
       "    </tr>\n",
       "    <tr>\n",
       "      <th>...</th>\n",
       "      <td>...</td>\n",
       "      <td>...</td>\n",
       "      <td>...</td>\n",
       "      <td>...</td>\n",
       "      <td>...</td>\n",
       "      <td>...</td>\n",
       "      <td>...</td>\n",
       "      <td>...</td>\n",
       "      <td>...</td>\n",
       "      <td>...</td>\n",
       "      <td>...</td>\n",
       "      <td>...</td>\n",
       "      <td>...</td>\n",
       "      <td>...</td>\n",
       "      <td>...</td>\n",
       "      <td>...</td>\n",
       "      <td>...</td>\n",
       "      <td>...</td>\n",
       "      <td>...</td>\n",
       "      <td>...</td>\n",
       "    </tr>\n",
       "    <tr>\n",
       "      <th>227</th>\n",
       "      <td>227</td>\n",
       "      <td>P38488</td>\n",
       "      <td>403</td>\n",
       "      <td>MQMPKTLRIRNGDKVRSTFSAQEYANRQARLRAHLAAENIDAAIFT...</td>\n",
       "      <td>ACT_SITE 232</td>\n",
       "      <td>1CHM;</td>\n",
       "      <td>231</td>\n",
       "      <td>1</td>\n",
       "      <td>P38488</td>\n",
       "      <td>NaN</td>\n",
       "      <td>NaN</td>\n",
       "      <td>NaN</td>\n",
       "      <td>NaN</td>\n",
       "      <td>NaN</td>\n",
       "      <td>NaN</td>\n",
       "      <td>NaN</td>\n",
       "      <td>NaN</td>\n",
       "      <td>NaN</td>\n",
       "      <td>NaN</td>\n",
       "      <td>NaN</td>\n",
       "    </tr>\n",
       "    <tr>\n",
       "      <th>228</th>\n",
       "      <td>228</td>\n",
       "      <td>P78067</td>\n",
       "      <td>435</td>\n",
       "      <td>MKRVSQMTALAMALGLACASSWAAELAKPLTLDQLQQQNGKAIDTR...</td>\n",
       "      <td>ACT_SITE 385; /note=\"Cysteine persulfide inter...</td>\n",
       "      <td>2WLR;2WLX;3IPO;3IPP;</td>\n",
       "      <td>384</td>\n",
       "      <td>1</td>\n",
       "      <td>P78067</td>\n",
       "      <td>P00586</td>\n",
       "      <td>27.2</td>\n",
       "      <td>305.0</td>\n",
       "      <td>190.0</td>\n",
       "      <td>10.0</td>\n",
       "      <td>142.0</td>\n",
       "      <td>430.0</td>\n",
       "      <td>7.0</td>\n",
       "      <td>295.0</td>\n",
       "      <td>7.990000e-20</td>\n",
       "      <td>87.0</td>\n",
       "    </tr>\n",
       "    <tr>\n",
       "      <th>229</th>\n",
       "      <td>229</td>\n",
       "      <td>Q56148</td>\n",
       "      <td>178</td>\n",
       "      <td>MTTRMIILNGGSSAGKSGIVRCLQSVLPEPWLAFGVDSLIEAMPLK...</td>\n",
       "      <td>ACT_SITE 37</td>\n",
       "      <td>1GRQ;1GRR;1QHN;1QHS;1QHX;1QHY;</td>\n",
       "      <td>36</td>\n",
       "      <td>1</td>\n",
       "      <td>Q56148</td>\n",
       "      <td>NaN</td>\n",
       "      <td>NaN</td>\n",
       "      <td>NaN</td>\n",
       "      <td>NaN</td>\n",
       "      <td>NaN</td>\n",
       "      <td>NaN</td>\n",
       "      <td>NaN</td>\n",
       "      <td>NaN</td>\n",
       "      <td>NaN</td>\n",
       "      <td>NaN</td>\n",
       "      <td>NaN</td>\n",
       "    </tr>\n",
       "    <tr>\n",
       "      <th>230</th>\n",
       "      <td>230</td>\n",
       "      <td>Q56694</td>\n",
       "      <td>510</td>\n",
       "      <td>MNPQTDNVFYATNAFTGEALPLAFPVHTEVEVNQAATAAAKVARDF...</td>\n",
       "      <td>ACT_SITE 253; ACT_SITE 289</td>\n",
       "      <td>1EYY;1EZ0;</td>\n",
       "      <td>252|288</td>\n",
       "      <td>2</td>\n",
       "      <td>Q56694</td>\n",
       "      <td>P56533</td>\n",
       "      <td>30.6</td>\n",
       "      <td>160.0</td>\n",
       "      <td>100.0</td>\n",
       "      <td>5.0</td>\n",
       "      <td>137.0</td>\n",
       "      <td>296.0</td>\n",
       "      <td>156.0</td>\n",
       "      <td>304.0</td>\n",
       "      <td>2.590000e-06</td>\n",
       "      <td>47.4</td>\n",
       "    </tr>\n",
       "    <tr>\n",
       "      <th>231</th>\n",
       "      <td>231</td>\n",
       "      <td>Q8L9J9</td>\n",
       "      <td>260</td>\n",
       "      <td>MEGGSITPGEDKPEIQSPIPPNQIFILSGQSNMAGRGGVFKDHHNN...</td>\n",
       "      <td>ACT_SITE 31; ACT_SITE 235; ACT_SITE 238</td>\n",
       "      <td>2APJ;</td>\n",
       "      <td>30|234|237</td>\n",
       "      <td>3</td>\n",
       "      <td>Q8L9J9</td>\n",
       "      <td>NaN</td>\n",
       "      <td>NaN</td>\n",
       "      <td>NaN</td>\n",
       "      <td>NaN</td>\n",
       "      <td>NaN</td>\n",
       "      <td>NaN</td>\n",
       "      <td>NaN</td>\n",
       "      <td>NaN</td>\n",
       "      <td>NaN</td>\n",
       "      <td>NaN</td>\n",
       "      <td>NaN</td>\n",
       "    </tr>\n",
       "  </tbody>\n",
       "</table>\n",
       "<p>232 rows × 20 columns</p>\n",
       "</div>"
      ],
      "text/plain": [
       "     index   Entry  Length                                           Sequence  \\\n",
       "0        0  A2T3S5     835  MKVLALRHSVAQVYADTQVYVHDDTKDSYENAFLISNLTTHNILYL...   \n",
       "1        1  A5JTM5     269  MYEAIGHRVEDGVAEITIKLPRHRNALSVKAMQEVTDALNRAEEDD...   \n",
       "2        2  B3TMR8     332  MENPANANPIRVGVIGCADIAWRRALPALEAEPLTEVTAIASRRWD...   \n",
       "3        3  C0HLV2     380  MQAKFFTFVILSSVFYFNYPLAEARSIQARLANKPKGTIKTIKGDD...   \n",
       "4        4  C0SPC1     269  MNIDMNWLGQLLGSDWEIFPAGGATGDAYYAKHNGQQLFLKRNSSP...   \n",
       "..     ...     ...     ...                                                ...   \n",
       "227    227  P38488     403  MQMPKTLRIRNGDKVRSTFSAQEYANRQARLRAHLAAENIDAAIFT...   \n",
       "228    228  P78067     435  MKRVSQMTALAMALGLACASSWAAELAKPLTLDQLQQQNGKAIDTR...   \n",
       "229    229  Q56148     178  MTTRMIILNGGSSAGKSGIVRCLQSVLPEPWLAFGVDSLIEAMPLK...   \n",
       "230    230  Q56694     510  MNPQTDNVFYATNAFTGEALPLAFPVHTEVEVNQAATAAAKVARDF...   \n",
       "231    231  Q8L9J9     260  MEGGSITPGEDKPEIQSPIPPNQIFILSGQSNMAGRGGVFKDHHNN...   \n",
       "\n",
       "                                           Active site  \\\n",
       "0    ACT_SITE 718; /note=\"For 2'-5'-phosphodiestera...   \n",
       "1    ACT_SITE 90; /note=\"Proton acceptor\"; /evidenc...   \n",
       "2    ACT_SITE 102; /note=\"Proton donor\"; /evidence=...   \n",
       "3    ACT_SITE 188; /evidence=\"ECO:0000255|PROSITE-P...   \n",
       "4    ACT_SITE 166; /note=\"Proton acceptor\"; /eviden...   \n",
       "..                                                 ...   \n",
       "227                                       ACT_SITE 232   \n",
       "228  ACT_SITE 385; /note=\"Cysteine persulfide inter...   \n",
       "229                                        ACT_SITE 37   \n",
       "230                         ACT_SITE 253; ACT_SITE 289   \n",
       "231            ACT_SITE 31; ACT_SITE 235; ACT_SITE 238   \n",
       "\n",
       "                                PDB          Residue  \\\n",
       "0                             5AF2;  717|719|796|798   \n",
       "1                        1JXZ;1NZY;           89|144   \n",
       "2    3RBV;3RC1;3RC2;3RC7;3RC9;3RCB;              101   \n",
       "3              7ZU8;7ZVA;7ZVB;7ZVC;          187|296   \n",
       "4                             7S3L;              165   \n",
       "..                              ...              ...   \n",
       "227                           1CHM;              231   \n",
       "228            2WLR;2WLX;3IPO;3IPP;              384   \n",
       "229  1GRQ;1GRR;1QHN;1QHS;1QHX;1QHY;               36   \n",
       "230                      1EYY;1EZ0;          252|288   \n",
       "231                           2APJ;       30|234|237   \n",
       "\n",
       "     active_site_residue_counts    From  target  sequence identity  length  \\\n",
       "0                             4  A2T3S5     NaN                NaN     NaN   \n",
       "1                             2  A5JTM5  Q5SKU3               34.3   207.0   \n",
       "2                             1  B3TMR8  Q53TZ2               36.7   120.0   \n",
       "3                             2  C0HLV2     NaN                NaN     NaN   \n",
       "4                             1  C0SPC1     NaN                NaN     NaN   \n",
       "..                          ...     ...     ...                ...     ...   \n",
       "227                           1  P38488     NaN                NaN     NaN   \n",
       "228                           1  P78067  P00586               27.2   305.0   \n",
       "229                           1  Q56148     NaN                NaN     NaN   \n",
       "230                           2  Q56694  P56533               30.6   160.0   \n",
       "231                           3  Q8L9J9     NaN                NaN     NaN   \n",
       "\n",
       "     mismatch  gapopen  query start  query end  target start  target end  \\\n",
       "0         NaN      NaN          NaN        NaN           NaN         NaN   \n",
       "1       129.0      6.0          8.0      211.0           3.0       205.0   \n",
       "2        68.0      2.0          7.0      125.0           2.0       114.0   \n",
       "3         NaN      NaN          NaN        NaN           NaN         NaN   \n",
       "4         NaN      NaN          NaN        NaN           NaN         NaN   \n",
       "..        ...      ...          ...        ...           ...         ...   \n",
       "227       NaN      NaN          NaN        NaN           NaN         NaN   \n",
       "228     190.0     10.0        142.0      430.0           7.0       295.0   \n",
       "229       NaN      NaN          NaN        NaN           NaN         NaN   \n",
       "230     100.0      5.0        137.0      296.0         156.0       304.0   \n",
       "231       NaN      NaN          NaN        NaN           NaN         NaN   \n",
       "\n",
       "          e-value  bitscore  \n",
       "0             NaN       NaN  \n",
       "1    1.340000e-23      94.0  \n",
       "2    1.060000e-10      59.3  \n",
       "3             NaN       NaN  \n",
       "4             NaN       NaN  \n",
       "..            ...       ...  \n",
       "227           NaN       NaN  \n",
       "228  7.990000e-20      87.0  \n",
       "229           NaN       NaN  \n",
       "230  2.590000e-06      47.4  \n",
       "231           NaN       NaN  \n",
       "\n",
       "[232 rows x 20 columns]"
      ]
     },
     "execution_count": 17,
     "metadata": {},
     "output_type": "execute_result"
    }
   ],
   "source": [
    "test_df"
   ]
  },
  {
   "cell_type": "code",
   "execution_count": 15,
   "id": "0fabf79b",
   "metadata": {},
   "outputs": [],
   "source": [
    "# Do the same with the 15B model\n",
    "squidly_dir = '/disk1/ariane/vscode/squidly/manuscript/CataloDB_final_models/'\n",
    "num_threads = 1\n",
    "id_col = 'Entry'\n",
    "seq_col = 'Sequence'\n",
    "#squidly = (test_df << (ActiveSitePred(id_col, seq_col, squidly_dir, esm2_model = 'esm2_t48_15B_UR50D') >> Save('data/squidly_as_pred_15B_new.pkl')))"
   ]
  },
  {
   "cell_type": "code",
   "execution_count": 15,
   "id": "cd430d72-2f7b-4654-ae6c-b9408f7a520e",
   "metadata": {},
   "outputs": [],
   "source": [
    "test_df.rename(columns={'Entry': 'id', 'Sequence': 'seq'}).to_csv('squidly_cataloDB.csv', index=None)"
   ]
  },
  {
   "cell_type": "markdown",
   "id": "d34ddbf0-769d-4ac2-a7b0-ca3402eedae4",
   "metadata": {},
   "source": [
    "# Check the results for the 15B and the 3B models\n",
    "\n",
    "Here we join them with the test_df and make sure that we get similar results!"
   ]
  },
  {
   "cell_type": "code",
   "execution_count": 16,
   "id": "51766fa0",
   "metadata": {},
   "outputs": [
    {
     "name": "stdout",
     "output_type": "stream",
     "text": [
      "0\n",
      "\u001b[94m--------------------------------------------------------------------------------\u001b[0m\n",
      "\u001b[94m            Total number:\t232\tThose with at least one overlap:\t131\t             \u001b[0m\n",
      "\u001b[94m--------------------------------------------------------------------------------\u001b[0m\n",
      "\u001b[94m--------------------------------------------------------------------------------\u001b[0m\n",
      "\u001b[94mSquidly 3B\t\n",
      "F1\t0.5844748858447488\t\n",
      "precision:\t0.7966804979253111\t\n",
      " recall:\t0.46153846153846156\t\u001b[0m\n",
      "\u001b[94m--------------------------------------------------------------------------------\u001b[0m\n"
     ]
    },
    {
     "name": "stderr",
     "output_type": "stream",
     "text": [
      "  4%|███▏                                                                             | 2/50 [00:00<00:02, 19.92it/s]"
     ]
    },
    {
     "name": "stdout",
     "output_type": "stream",
     "text": [
      "0\n",
      "\u001b[94m--------------------------------------------------------------------------------\u001b[0m\n",
      "\u001b[94m            Total number:\t232\tThose with at least one overlap:\t136\t             \u001b[0m\n",
      "\u001b[94m--------------------------------------------------------------------------------\u001b[0m\n",
      "0\n",
      "\u001b[94m--------------------------------------------------------------------------------\u001b[0m\n",
      "\u001b[94m            Total number:\t232\tThose with at least one overlap:\t136\t             \u001b[0m\n",
      "\u001b[94m--------------------------------------------------------------------------------\u001b[0m\n",
      "0\n"
     ]
    },
    {
     "name": "stderr",
     "output_type": "stream",
     "text": [
      "  8%|██████▍                                                                          | 4/50 [00:00<00:02, 19.84it/s]"
     ]
    },
    {
     "name": "stdout",
     "output_type": "stream",
     "text": [
      "\u001b[94m--------------------------------------------------------------------------------\u001b[0m\n",
      "\u001b[94m            Total number:\t232\tThose with at least one overlap:\t136\t             \u001b[0m\n",
      "\u001b[94m--------------------------------------------------------------------------------\u001b[0m\n",
      "0\n",
      "\u001b[94m--------------------------------------------------------------------------------\u001b[0m\n",
      "\u001b[94m            Total number:\t232\tThose with at least one overlap:\t136\t             \u001b[0m\n",
      "\u001b[94m--------------------------------------------------------------------------------\u001b[0m\n",
      "0\n"
     ]
    },
    {
     "name": "stderr",
     "output_type": "stream",
     "text": [
      " 12%|█████████▋                                                                       | 6/50 [00:00<00:02, 19.74it/s]"
     ]
    },
    {
     "name": "stdout",
     "output_type": "stream",
     "text": [
      "\u001b[94m--------------------------------------------------------------------------------\u001b[0m\n",
      "\u001b[94m            Total number:\t232\tThose with at least one overlap:\t136\t             \u001b[0m\n",
      "\u001b[94m--------------------------------------------------------------------------------\u001b[0m\n",
      "0\n",
      "\u001b[94m--------------------------------------------------------------------------------\u001b[0m\n",
      "\u001b[94m            Total number:\t232\tThose with at least one overlap:\t136\t             \u001b[0m\n",
      "\u001b[94m--------------------------------------------------------------------------------\u001b[0m\n",
      "0\n"
     ]
    },
    {
     "name": "stderr",
     "output_type": "stream",
     "text": [
      " 16%|████████████▉                                                                    | 8/50 [00:00<00:02, 19.69it/s]"
     ]
    },
    {
     "name": "stdout",
     "output_type": "stream",
     "text": [
      "\u001b[94m--------------------------------------------------------------------------------\u001b[0m\n",
      "\u001b[94m            Total number:\t232\tThose with at least one overlap:\t136\t             \u001b[0m\n",
      "\u001b[94m--------------------------------------------------------------------------------\u001b[0m\n",
      "0\n",
      "\u001b[94m--------------------------------------------------------------------------------\u001b[0m\n",
      "\u001b[94m            Total number:\t232\tThose with at least one overlap:\t136\t             \u001b[0m\n",
      "\u001b[94m--------------------------------------------------------------------------------\u001b[0m\n",
      "0\n"
     ]
    },
    {
     "name": "stderr",
     "output_type": "stream",
     "text": [
      " 20%|████████████████                                                                | 10/50 [00:00<00:02, 19.71it/s]"
     ]
    },
    {
     "name": "stdout",
     "output_type": "stream",
     "text": [
      "\u001b[94m--------------------------------------------------------------------------------\u001b[0m\n",
      "\u001b[94m            Total number:\t232\tThose with at least one overlap:\t136\t             \u001b[0m\n",
      "\u001b[94m--------------------------------------------------------------------------------\u001b[0m\n",
      "0\n",
      "\u001b[94m--------------------------------------------------------------------------------\u001b[0m\n",
      "\u001b[94m            Total number:\t232\tThose with at least one overlap:\t136\t             \u001b[0m\n",
      "\u001b[94m--------------------------------------------------------------------------------\u001b[0m\n",
      "0\n"
     ]
    },
    {
     "name": "stderr",
     "output_type": "stream",
     "text": [
      " 24%|███████████████████▏                                                            | 12/50 [00:00<00:01, 19.75it/s]"
     ]
    },
    {
     "name": "stdout",
     "output_type": "stream",
     "text": [
      "\u001b[94m--------------------------------------------------------------------------------\u001b[0m\n",
      "\u001b[94m            Total number:\t232\tThose with at least one overlap:\t136\t             \u001b[0m\n",
      "\u001b[94m--------------------------------------------------------------------------------\u001b[0m\n",
      "0\n",
      "\u001b[94m--------------------------------------------------------------------------------\u001b[0m\n",
      "\u001b[94m            Total number:\t232\tThose with at least one overlap:\t136\t             \u001b[0m\n",
      "\u001b[94m--------------------------------------------------------------------------------\u001b[0m\n",
      "0\n",
      "\u001b[94m--------------------------------------------------------------------------------\u001b[0m\n",
      "\u001b[94m            Total number:\t232\tThose with at least one overlap:\t135\t             \u001b[0m\n",
      "\u001b[94m--------------------------------------------------------------------------------\u001b[0m\n"
     ]
    },
    {
     "name": "stderr",
     "output_type": "stream",
     "text": [
      " 28%|██████████████████████▍                                                         | 14/50 [00:00<00:01, 19.70it/s]"
     ]
    },
    {
     "name": "stdout",
     "output_type": "stream",
     "text": [
      "0\n",
      "\u001b[94m--------------------------------------------------------------------------------\u001b[0m\n",
      "\u001b[94m            Total number:\t232\tThose with at least one overlap:\t132\t             \u001b[0m\n",
      "\u001b[94m--------------------------------------------------------------------------------\u001b[0m\n",
      "0\n"
     ]
    },
    {
     "name": "stderr",
     "output_type": "stream",
     "text": [
      " 34%|███████████████████████████▏                                                    | 17/50 [00:00<00:01, 19.83it/s]"
     ]
    },
    {
     "name": "stdout",
     "output_type": "stream",
     "text": [
      "\u001b[94m--------------------------------------------------------------------------------\u001b[0m\n",
      "\u001b[94m            Total number:\t232\tThose with at least one overlap:\t133\t             \u001b[0m\n",
      "\u001b[94m--------------------------------------------------------------------------------\u001b[0m\n",
      "0\n",
      "\u001b[94m--------------------------------------------------------------------------------\u001b[0m\n",
      "\u001b[94m            Total number:\t232\tThose with at least one overlap:\t132\t             \u001b[0m\n",
      "\u001b[94m--------------------------------------------------------------------------------\u001b[0m\n",
      "0\n",
      "\u001b[94m--------------------------------------------------------------------------------\u001b[0m\n",
      "\u001b[94m            Total number:\t232\tThose with at least one overlap:\t131\t             \u001b[0m\n",
      "\u001b[94m--------------------------------------------------------------------------------\u001b[0m\n",
      "0\n",
      "\u001b[94m--------------------------------------------------------------------------------\u001b[0m\n",
      "\u001b[94m            Total number:\t232\tThose with at least one overlap:\t132\t             \u001b[0m\n",
      "\u001b[94m--------------------------------------------------------------------------------\u001b[0m\n",
      "0\n",
      "\u001b[94m--------------------------------------------------------------------------------\u001b[0m\n",
      "\u001b[94m            Total number:\t232\tThose with at least one overlap:\t132\t             \u001b[0m\n",
      "\u001b[94m--------------------------------------------------------------------------------\u001b[0m\n",
      "0\n"
     ]
    },
    {
     "name": "stderr",
     "output_type": "stream",
     "text": [
      " 44%|███████████████████████████████████▏                                            | 22/50 [00:01<00:01, 19.92it/s]"
     ]
    },
    {
     "name": "stdout",
     "output_type": "stream",
     "text": [
      "\u001b[94m--------------------------------------------------------------------------------\u001b[0m\n",
      "\u001b[94m            Total number:\t232\tThose with at least one overlap:\t131\t             \u001b[0m\n",
      "\u001b[94m--------------------------------------------------------------------------------\u001b[0m\n",
      "0\n",
      "\u001b[94m--------------------------------------------------------------------------------\u001b[0m\n",
      "\u001b[94m            Total number:\t232\tThose with at least one overlap:\t131\t             \u001b[0m\n",
      "\u001b[94m--------------------------------------------------------------------------------\u001b[0m\n",
      "0\n",
      "\u001b[94m--------------------------------------------------------------------------------\u001b[0m\n",
      "\u001b[94m            Total number:\t232\tThose with at least one overlap:\t131\t             \u001b[0m\n",
      "\u001b[94m--------------------------------------------------------------------------------\u001b[0m\n"
     ]
    },
    {
     "name": "stderr",
     "output_type": "stream",
     "text": [
      " 48%|██████████████████████████████████████▍                                         | 24/50 [00:01<00:01, 19.90it/s]"
     ]
    },
    {
     "name": "stdout",
     "output_type": "stream",
     "text": [
      "0\n",
      "\u001b[94m--------------------------------------------------------------------------------\u001b[0m\n",
      "\u001b[94m            Total number:\t232\tThose with at least one overlap:\t131\t             \u001b[0m\n",
      "\u001b[94m--------------------------------------------------------------------------------\u001b[0m\n",
      "0\n",
      "\u001b[94m--------------------------------------------------------------------------------\u001b[0m\n",
      "\u001b[94m            Total number:\t232\tThose with at least one overlap:\t131\t             \u001b[0m\n",
      "\u001b[94m--------------------------------------------------------------------------------\u001b[0m\n"
     ]
    },
    {
     "name": "stderr",
     "output_type": "stream",
     "text": [
      " 52%|█████████████████████████████████████████▌                                      | 26/50 [00:01<00:01, 19.88it/s]"
     ]
    },
    {
     "name": "stdout",
     "output_type": "stream",
     "text": [
      "0\n",
      "\u001b[94m--------------------------------------------------------------------------------\u001b[0m\n",
      "\u001b[94m            Total number:\t232\tThose with at least one overlap:\t131\t             \u001b[0m\n",
      "\u001b[94m--------------------------------------------------------------------------------\u001b[0m\n",
      "0\n",
      "\u001b[94m--------------------------------------------------------------------------------\u001b[0m\n",
      "\u001b[94m            Total number:\t232\tThose with at least one overlap:\t131\t             \u001b[0m\n",
      "\u001b[94m--------------------------------------------------------------------------------\u001b[0m\n",
      "0\n"
     ]
    },
    {
     "name": "stderr",
     "output_type": "stream",
     "text": [
      " 56%|████████████████████████████████████████████▊                                   | 28/50 [00:01<00:01, 19.89it/s]"
     ]
    },
    {
     "name": "stdout",
     "output_type": "stream",
     "text": [
      "\u001b[94m--------------------------------------------------------------------------------\u001b[0m\n",
      "\u001b[94m            Total number:\t232\tThose with at least one overlap:\t131\t             \u001b[0m\n",
      "\u001b[94m--------------------------------------------------------------------------------\u001b[0m\n",
      "0\n",
      "\u001b[94m--------------------------------------------------------------------------------\u001b[0m\n",
      "\u001b[94m            Total number:\t232\tThose with at least one overlap:\t131\t             \u001b[0m\n",
      "\u001b[94m--------------------------------------------------------------------------------\u001b[0m\n",
      "0\n"
     ]
    },
    {
     "name": "stderr",
     "output_type": "stream",
     "text": [
      " 60%|████████████████████████████████████████████████                                | 30/50 [00:01<00:01, 19.90it/s]"
     ]
    },
    {
     "name": "stdout",
     "output_type": "stream",
     "text": [
      "\u001b[94m--------------------------------------------------------------------------------\u001b[0m\n",
      "\u001b[94m            Total number:\t232\tThose with at least one overlap:\t131\t             \u001b[0m\n",
      "\u001b[94m--------------------------------------------------------------------------------\u001b[0m\n",
      "0\n",
      "\u001b[94m--------------------------------------------------------------------------------\u001b[0m\n",
      "\u001b[94m            Total number:\t232\tThose with at least one overlap:\t131\t             \u001b[0m\n",
      "\u001b[94m--------------------------------------------------------------------------------\u001b[0m\n",
      "0\n",
      "\u001b[94m--------------------------------------------------------------------------------\u001b[0m\n",
      "\u001b[94m            Total number:\t232\tThose with at least one overlap:\t131\t             \u001b[0m\n",
      "\u001b[94m--------------------------------------------------------------------------------\u001b[0m\n"
     ]
    },
    {
     "name": "stderr",
     "output_type": "stream",
     "text": [
      " 66%|████████████████████████████████████████████████████▊                           | 33/50 [00:01<00:00, 19.92it/s]"
     ]
    },
    {
     "name": "stdout",
     "output_type": "stream",
     "text": [
      "0\n",
      "\u001b[94m--------------------------------------------------------------------------------\u001b[0m\n",
      "\u001b[94m            Total number:\t232\tThose with at least one overlap:\t131\t             \u001b[0m\n",
      "\u001b[94m--------------------------------------------------------------------------------\u001b[0m\n",
      "0\n",
      "\u001b[94m--------------------------------------------------------------------------------\u001b[0m\n",
      "\u001b[94m            Total number:\t232\tThose with at least one overlap:\t131\t             \u001b[0m\n",
      "\u001b[94m--------------------------------------------------------------------------------\u001b[0m\n"
     ]
    },
    {
     "name": "stderr",
     "output_type": "stream",
     "text": [
      " 70%|████████████████████████████████████████████████████████                        | 35/50 [00:01<00:00, 19.83it/s]"
     ]
    },
    {
     "name": "stdout",
     "output_type": "stream",
     "text": [
      "0\n",
      "\u001b[94m--------------------------------------------------------------------------------\u001b[0m\n",
      "\u001b[94m            Total number:\t232\tThose with at least one overlap:\t131\t             \u001b[0m\n",
      "\u001b[94m--------------------------------------------------------------------------------\u001b[0m\n",
      "0\n",
      "\u001b[94m--------------------------------------------------------------------------------\u001b[0m\n",
      "\u001b[94m            Total number:\t232\tThose with at least one overlap:\t131\t             \u001b[0m\n",
      "\u001b[94m--------------------------------------------------------------------------------\u001b[0m\n",
      "0\n",
      "\u001b[94m--------------------------------------------------------------------------------\u001b[0m\n",
      "\u001b[94m            Total number:\t232\tThose with at least one overlap:\t131\t             \u001b[0m\n",
      "\u001b[94m--------------------------------------------------------------------------------\u001b[0m\n",
      "0\n",
      "\u001b[94m--------------------------------------------------------------------------------\u001b[0m\n",
      "\u001b[94m            Total number:\t232\tThose with at least one overlap:\t131\t             \u001b[0m\n",
      "\u001b[94m--------------------------------------------------------------------------------\u001b[0m\n",
      "0\n"
     ]
    },
    {
     "name": "stderr",
     "output_type": "stream",
     "text": [
      " 76%|████████████████████████████████████████████████████████████▊                   | 38/50 [00:01<00:00, 19.95it/s]"
     ]
    },
    {
     "name": "stdout",
     "output_type": "stream",
     "text": [
      "\u001b[94m--------------------------------------------------------------------------------\u001b[0m\n",
      "\u001b[94m            Total number:\t232\tThose with at least one overlap:\t131\t             \u001b[0m\n",
      "\u001b[94m--------------------------------------------------------------------------------\u001b[0m\n",
      "0\n",
      "\u001b[94m--------------------------------------------------------------------------------\u001b[0m\n",
      "\u001b[94m            Total number:\t232\tThose with at least one overlap:\t131\t             \u001b[0m\n",
      "\u001b[94m--------------------------------------------------------------------------------\u001b[0m\n",
      "0\n",
      "\u001b[94m--------------------------------------------------------------------------------\u001b[0m\n",
      "\u001b[94m            Total number:\t232\tThose with at least one overlap:\t131\t             \u001b[0m\n",
      "\u001b[94m--------------------------------------------------------------------------------\u001b[0m\n",
      "0\n"
     ]
    },
    {
     "name": "stderr",
     "output_type": "stream",
     "text": [
      " 82%|█████████████████████████████████████████████████████████████████▌              | 41/50 [00:02<00:00, 19.98it/s]"
     ]
    },
    {
     "name": "stdout",
     "output_type": "stream",
     "text": [
      "\u001b[94m--------------------------------------------------------------------------------\u001b[0m\n",
      "\u001b[94m            Total number:\t232\tThose with at least one overlap:\t131\t             \u001b[0m\n",
      "\u001b[94m--------------------------------------------------------------------------------\u001b[0m\n",
      "0\n",
      "\u001b[94m--------------------------------------------------------------------------------\u001b[0m\n",
      "\u001b[94m            Total number:\t232\tThose with at least one overlap:\t131\t             \u001b[0m\n",
      "\u001b[94m--------------------------------------------------------------------------------\u001b[0m\n"
     ]
    },
    {
     "name": "stderr",
     "output_type": "stream",
     "text": [
      " 90%|████████████████████████████████████████████████████████████████████████        | 45/50 [00:02<00:00, 19.98it/s]"
     ]
    },
    {
     "name": "stdout",
     "output_type": "stream",
     "text": [
      "0\n",
      "\u001b[94m--------------------------------------------------------------------------------\u001b[0m\n",
      "\u001b[94m            Total number:\t232\tThose with at least one overlap:\t131\t             \u001b[0m\n",
      "\u001b[94m--------------------------------------------------------------------------------\u001b[0m\n",
      "0\n",
      "\u001b[94m--------------------------------------------------------------------------------\u001b[0m\n",
      "\u001b[94m            Total number:\t232\tThose with at least one overlap:\t131\t             \u001b[0m\n",
      "\u001b[94m--------------------------------------------------------------------------------\u001b[0m\n",
      "0\n",
      "\u001b[94m--------------------------------------------------------------------------------\u001b[0m\n",
      "\u001b[94m            Total number:\t232\tThose with at least one overlap:\t131\t             \u001b[0m\n",
      "\u001b[94m--------------------------------------------------------------------------------\u001b[0m\n",
      "0\n",
      "\u001b[94m--------------------------------------------------------------------------------\u001b[0m\n",
      "\u001b[94m            Total number:\t232\tThose with at least one overlap:\t131\t             \u001b[0m\n",
      "\u001b[94m--------------------------------------------------------------------------------\u001b[0m\n",
      "0\n"
     ]
    },
    {
     "name": "stderr",
     "output_type": "stream",
     "text": [
      " 98%|██████████████████████████████████████████████████████████████████████████████▍ | 49/50 [00:02<00:00, 19.92it/s]"
     ]
    },
    {
     "name": "stdout",
     "output_type": "stream",
     "text": [
      "\u001b[94m--------------------------------------------------------------------------------\u001b[0m\n",
      "\u001b[94m            Total number:\t232\tThose with at least one overlap:\t131\t             \u001b[0m\n",
      "\u001b[94m--------------------------------------------------------------------------------\u001b[0m\n",
      "0\n",
      "\u001b[94m--------------------------------------------------------------------------------\u001b[0m\n",
      "\u001b[94m            Total number:\t232\tThose with at least one overlap:\t131\t             \u001b[0m\n",
      "\u001b[94m--------------------------------------------------------------------------------\u001b[0m\n",
      "0\n",
      "\u001b[94m--------------------------------------------------------------------------------\u001b[0m\n",
      "\u001b[94m            Total number:\t232\tThose with at least one overlap:\t131\t             \u001b[0m\n",
      "\u001b[94m--------------------------------------------------------------------------------\u001b[0m\n",
      "0\n"
     ]
    },
    {
     "name": "stderr",
     "output_type": "stream",
     "text": [
      "100%|████████████████████████████████████████████████████████████████████████████████| 50/50 [00:02<00:00, 19.87it/s]"
     ]
    },
    {
     "name": "stdout",
     "output_type": "stream",
     "text": [
      "\u001b[94m--------------------------------------------------------------------------------\u001b[0m\n",
      "\u001b[94m            Total number:\t232\tThose with at least one overlap:\t131\t             \u001b[0m\n",
      "\u001b[94m--------------------------------------------------------------------------------\u001b[0m\n"
     ]
    },
    {
     "name": "stderr",
     "output_type": "stream",
     "text": [
      "\n"
     ]
    }
   ],
   "source": [
    "def ensemble_predictions(df, blast_col, squidly_col, seq_id_col, squidly_similarity_cutoff=30):\n",
    "    # Basically we update the choice of blast and squidly based on the cutoff \n",
    "    chosen_residues = []\n",
    "    for blast_res, squidly_res, seq_id in df[[blast_col, squidly_col, seq_id_col]].values:\n",
    "        # Also check if both are here otherwise pick the other one that was predicted\n",
    "        if not isinstance(blast_res, str):\n",
    "            chosen_residues.append(squidly_res)\n",
    "        elif not isinstance(squidly_res, str):\n",
    "            chosen_residues.append(blast_res)\n",
    "        elif seq_id < squidly_similarity_cutoff:\n",
    "            chosen_residues.append(squidly_res)\n",
    "        elif seq_id >= squidly_similarity_cutoff:\n",
    "            chosen_residues.append(blast_res)\n",
    "        else:\n",
    "            chosen_residues.append(None)\n",
    "    df['chosen_residues'] = chosen_residues\n",
    "    return df\n",
    "\n",
    "\n",
    "df = pd.read_csv(f'data/blast/cataloDB.csv')\n",
    "df.set_index('Entry', inplace=True)\n",
    "squidly = pd.read_pickle('data/squidly_as_pred_3B_new.pkl')\n",
    "squidly.set_index('label', inplace=True)\n",
    "df = df.join(squidly, how='left')\n",
    "\n",
    "# Print out the predictions for the 3B\n",
    "precision, recall, f1, support, agree, disagree, no_pred, mean_agreement = calculate_stats(df, 'From', 'True_residues', 'Squidly_CR_Position', 'Sequence')\n",
    "precision, recall, f1, support, agree, disagree, no_pred, mean_agreement\n",
    "rows.append(['Squidly', '3B', f1, precision, recall, support, agree, disagree, no_pred, mean_agreement])\n",
    "u.dp(['Squidly 3B', '\\nF1', f1, '\\nprecision:', precision, '\\n recall:', recall])\n",
    "rows = []\n",
    "for squidly_cutoff in tqdm(range(0, 100, 2)):\n",
    "    # 'From', 'True_residues', 'BLAST_residues', 'Sequence'\n",
    "    tmp_df = ensemble_predictions(df, 'BLAST_residues', 'Squidly_CR_Position', 'sequence identity', squidly_cutoff)\n",
    "    precision, recall, f1, support, agree, disagree, no_pred, mean_agreement = calculate_stats(tmp_df, 'From', 'True_residues', 'chosen_residues', 'Sequence')\n",
    "    rows.append(['3B', squidly_cutoff, f1, precision, recall, support, agree, disagree, no_pred, mean_agreement])\n"
   ]
  },
  {
   "cell_type": "code",
   "execution_count": 17,
   "id": "34275a4e-fd13-4a81-ab54-ac964eee5afb",
   "metadata": {},
   "outputs": [
    {
     "name": "stdout",
     "output_type": "stream",
     "text": [
      "0\n",
      "\u001b[94m--------------------------------------------------------------------------------\u001b[0m\n",
      "\u001b[94m            Total number:\t232\tThose with at least one overlap:\t149\t             \u001b[0m\n",
      "\u001b[94m--------------------------------------------------------------------------------\u001b[0m\n",
      "\u001b[94m--------------------------------------------------------------------------------\u001b[0m\n",
      "\u001b[94mSquidly 15B\t\n",
      "F1\t0.6302864938608459\t\n",
      "precision:\t0.7287066246056783\t\n",
      " recall:\t0.5552884615384616\t\u001b[0m\n",
      "\u001b[94m--------------------------------------------------------------------------------\u001b[0m\n"
     ]
    },
    {
     "name": "stderr",
     "output_type": "stream",
     "text": [
      "  4%|███▏                                                                             | 2/50 [00:00<00:02, 19.80it/s]"
     ]
    },
    {
     "name": "stdout",
     "output_type": "stream",
     "text": [
      "0\n",
      "\u001b[94m--------------------------------------------------------------------------------\u001b[0m\n",
      "\u001b[94m            Total number:\t232\tThose with at least one overlap:\t147\t             \u001b[0m\n",
      "\u001b[94m--------------------------------------------------------------------------------\u001b[0m\n",
      "0\n",
      "\u001b[94m--------------------------------------------------------------------------------\u001b[0m\n",
      "\u001b[94m            Total number:\t232\tThose with at least one overlap:\t147\t             \u001b[0m\n",
      "\u001b[94m--------------------------------------------------------------------------------\u001b[0m\n",
      "0\n",
      "\u001b[94m--------------------------------------------------------------------------------\u001b[0m\n",
      "\u001b[94m            Total number:\t232\tThose with at least one overlap:\t147\t             \u001b[0m\n",
      "\u001b[94m--------------------------------------------------------------------------------\u001b[0m\n",
      "0\n"
     ]
    },
    {
     "name": "stderr",
     "output_type": "stream",
     "text": [
      "  8%|██████▍                                                                          | 4/50 [00:00<00:02, 19.75it/s]"
     ]
    },
    {
     "name": "stdout",
     "output_type": "stream",
     "text": [
      "\u001b[94m--------------------------------------------------------------------------------\u001b[0m\n",
      "\u001b[94m            Total number:\t232\tThose with at least one overlap:\t147\t             \u001b[0m\n",
      "\u001b[94m--------------------------------------------------------------------------------\u001b[0m\n",
      "0\n"
     ]
    },
    {
     "name": "stderr",
     "output_type": "stream",
     "text": [
      " 12%|█████████▋                                                                       | 6/50 [00:00<00:02, 19.60it/s]"
     ]
    },
    {
     "name": "stdout",
     "output_type": "stream",
     "text": [
      "\u001b[94m--------------------------------------------------------------------------------\u001b[0m\n",
      "\u001b[94m            Total number:\t232\tThose with at least one overlap:\t147\t             \u001b[0m\n",
      "\u001b[94m--------------------------------------------------------------------------------\u001b[0m\n",
      "0\n",
      "\u001b[94m--------------------------------------------------------------------------------\u001b[0m\n",
      "\u001b[94m            Total number:\t232\tThose with at least one overlap:\t147\t             \u001b[0m\n",
      "\u001b[94m--------------------------------------------------------------------------------\u001b[0m\n",
      "0\n",
      "\u001b[94m--------------------------------------------------------------------------------\u001b[0m\n",
      "\u001b[94m            Total number:\t232\tThose with at least one overlap:\t147\t             \u001b[0m\n",
      "\u001b[94m--------------------------------------------------------------------------------\u001b[0m\n",
      "0\n"
     ]
    },
    {
     "name": "stderr",
     "output_type": "stream",
     "text": [
      " 16%|████████████▉                                                                    | 8/50 [00:00<00:02, 19.61it/s]"
     ]
    },
    {
     "name": "stdout",
     "output_type": "stream",
     "text": [
      "\u001b[94m--------------------------------------------------------------------------------\u001b[0m\n",
      "\u001b[94m            Total number:\t232\tThose with at least one overlap:\t147\t             \u001b[0m\n",
      "\u001b[94m--------------------------------------------------------------------------------\u001b[0m\n",
      "0\n"
     ]
    },
    {
     "name": "stderr",
     "output_type": "stream",
     "text": [
      " 20%|████████████████                                                                | 10/50 [00:00<00:02, 19.56it/s]"
     ]
    },
    {
     "name": "stdout",
     "output_type": "stream",
     "text": [
      "\u001b[94m--------------------------------------------------------------------------------\u001b[0m\n",
      "\u001b[94m            Total number:\t232\tThose with at least one overlap:\t147\t             \u001b[0m\n",
      "\u001b[94m--------------------------------------------------------------------------------\u001b[0m\n",
      "0\n",
      "\u001b[94m--------------------------------------------------------------------------------\u001b[0m\n",
      "\u001b[94m            Total number:\t232\tThose with at least one overlap:\t147\t             \u001b[0m\n",
      "\u001b[94m--------------------------------------------------------------------------------\u001b[0m\n",
      "0\n",
      "\u001b[94m--------------------------------------------------------------------------------\u001b[0m\n",
      "\u001b[94m            Total number:\t232\tThose with at least one overlap:\t147\t             \u001b[0m\n",
      "\u001b[94m--------------------------------------------------------------------------------\u001b[0m\n",
      "0\n"
     ]
    },
    {
     "name": "stderr",
     "output_type": "stream",
     "text": [
      " 24%|███████████████████▏                                                            | 12/50 [00:00<00:01, 19.58it/s]"
     ]
    },
    {
     "name": "stdout",
     "output_type": "stream",
     "text": [
      "\u001b[94m--------------------------------------------------------------------------------\u001b[0m\n",
      "\u001b[94m            Total number:\t232\tThose with at least one overlap:\t147\t             \u001b[0m\n",
      "\u001b[94m--------------------------------------------------------------------------------\u001b[0m\n",
      "0\n"
     ]
    },
    {
     "name": "stderr",
     "output_type": "stream",
     "text": [
      " 28%|██████████████████████▍                                                         | 14/50 [00:00<00:01, 19.60it/s]"
     ]
    },
    {
     "name": "stdout",
     "output_type": "stream",
     "text": [
      "\u001b[94m--------------------------------------------------------------------------------\u001b[0m\n",
      "\u001b[94m            Total number:\t232\tThose with at least one overlap:\t147\t             \u001b[0m\n",
      "\u001b[94m--------------------------------------------------------------------------------\u001b[0m\n",
      "0\n",
      "\u001b[94m--------------------------------------------------------------------------------\u001b[0m\n",
      "\u001b[94m            Total number:\t232\tThose with at least one overlap:\t146\t             \u001b[0m\n",
      "\u001b[94m--------------------------------------------------------------------------------\u001b[0m\n",
      "0\n",
      "\u001b[94m--------------------------------------------------------------------------------\u001b[0m\n",
      "\u001b[94m            Total number:\t232\tThose with at least one overlap:\t148\t             \u001b[0m\n",
      "\u001b[94m--------------------------------------------------------------------------------\u001b[0m\n",
      "0\n"
     ]
    },
    {
     "name": "stderr",
     "output_type": "stream",
     "text": [
      " 32%|█████████████████████████▌                                                      | 16/50 [00:00<00:01, 19.67it/s]"
     ]
    },
    {
     "name": "stdout",
     "output_type": "stream",
     "text": [
      "\u001b[94m--------------------------------------------------------------------------------\u001b[0m\n",
      "\u001b[94m            Total number:\t232\tThose with at least one overlap:\t149\t             \u001b[0m\n",
      "\u001b[94m--------------------------------------------------------------------------------\u001b[0m\n",
      "0\n"
     ]
    },
    {
     "name": "stderr",
     "output_type": "stream",
     "text": [
      " 36%|████████████████████████████▊                                                   | 18/50 [00:00<00:01, 19.69it/s]"
     ]
    },
    {
     "name": "stdout",
     "output_type": "stream",
     "text": [
      "\u001b[94m--------------------------------------------------------------------------------\u001b[0m\n",
      "\u001b[94m            Total number:\t232\tThose with at least one overlap:\t149\t             \u001b[0m\n",
      "\u001b[94m--------------------------------------------------------------------------------\u001b[0m\n",
      "0\n",
      "\u001b[94m--------------------------------------------------------------------------------\u001b[0m\n",
      "\u001b[94m            Total number:\t232\tThose with at least one overlap:\t149\t             \u001b[0m\n",
      "\u001b[94m--------------------------------------------------------------------------------\u001b[0m\n",
      "0\n",
      "\u001b[94m--------------------------------------------------------------------------------\u001b[0m\n",
      "\u001b[94m            Total number:\t232\tThose with at least one overlap:\t150\t             \u001b[0m\n",
      "\u001b[94m--------------------------------------------------------------------------------\u001b[0m\n",
      "0\n",
      "\u001b[94m--------------------------------------------------------------------------------\u001b[0m\n",
      "\u001b[94m            Total number:\t232\tThose with at least one overlap:\t149\t             \u001b[0m\n",
      "\u001b[94m--------------------------------------------------------------------------------\u001b[0m\n"
     ]
    },
    {
     "name": "stderr",
     "output_type": "stream",
     "text": [
      " 42%|█████████████████████████████████▌                                              | 21/50 [00:01<00:01, 19.77it/s]"
     ]
    },
    {
     "name": "stdout",
     "output_type": "stream",
     "text": [
      "0\n",
      "\u001b[94m--------------------------------------------------------------------------------\u001b[0m\n",
      "\u001b[94m            Total number:\t232\tThose with at least one overlap:\t149\t             \u001b[0m\n",
      "\u001b[94m--------------------------------------------------------------------------------\u001b[0m\n"
     ]
    },
    {
     "name": "stderr",
     "output_type": "stream",
     "text": [
      " 46%|████████████████████████████████████▊                                           | 23/50 [00:01<00:01, 19.70it/s]"
     ]
    },
    {
     "name": "stdout",
     "output_type": "stream",
     "text": [
      "0\n",
      "\u001b[94m--------------------------------------------------------------------------------\u001b[0m\n",
      "\u001b[94m            Total number:\t232\tThose with at least one overlap:\t149\t             \u001b[0m\n",
      "\u001b[94m--------------------------------------------------------------------------------\u001b[0m\n",
      "0\n",
      "\u001b[94m--------------------------------------------------------------------------------\u001b[0m\n",
      "\u001b[94m            Total number:\t232\tThose with at least one overlap:\t149\t             \u001b[0m\n",
      "\u001b[94m--------------------------------------------------------------------------------\u001b[0m\n",
      "0\n",
      "\u001b[94m--------------------------------------------------------------------------------\u001b[0m\n",
      "\u001b[94m            Total number:\t232\tThose with at least one overlap:\t149\t             \u001b[0m\n",
      "\u001b[94m--------------------------------------------------------------------------------\u001b[0m\n",
      "0\n"
     ]
    },
    {
     "name": "stderr",
     "output_type": "stream",
     "text": [
      " 50%|████████████████████████████████████████                                        | 25/50 [00:01<00:01, 19.77it/s]"
     ]
    },
    {
     "name": "stdout",
     "output_type": "stream",
     "text": [
      "\u001b[94m--------------------------------------------------------------------------------\u001b[0m\n",
      "\u001b[94m            Total number:\t232\tThose with at least one overlap:\t149\t             \u001b[0m\n",
      "\u001b[94m--------------------------------------------------------------------------------\u001b[0m\n",
      "0\n"
     ]
    },
    {
     "name": "stderr",
     "output_type": "stream",
     "text": [
      " 54%|███████████████████████████████████████████▏                                    | 27/50 [00:01<00:01, 19.74it/s]"
     ]
    },
    {
     "name": "stdout",
     "output_type": "stream",
     "text": [
      "\u001b[94m--------------------------------------------------------------------------------\u001b[0m\n",
      "\u001b[94m            Total number:\t232\tThose with at least one overlap:\t149\t             \u001b[0m\n",
      "\u001b[94m--------------------------------------------------------------------------------\u001b[0m\n",
      "0\n",
      "\u001b[94m--------------------------------------------------------------------------------\u001b[0m\n",
      "\u001b[94m            Total number:\t232\tThose with at least one overlap:\t149\t             \u001b[0m\n",
      "\u001b[94m--------------------------------------------------------------------------------\u001b[0m\n",
      "0\n",
      "\u001b[94m--------------------------------------------------------------------------------\u001b[0m\n",
      "\u001b[94m            Total number:\t232\tThose with at least one overlap:\t149\t             \u001b[0m\n",
      "\u001b[94m--------------------------------------------------------------------------------\u001b[0m\n",
      "0\n",
      "\u001b[94m--------------------------------------------------------------------------------\u001b[0m\n",
      "\u001b[94m            Total number:\t232\tThose with at least one overlap:\t149\t             \u001b[0m\n",
      "\u001b[94m--------------------------------------------------------------------------------\u001b[0m\n"
     ]
    },
    {
     "name": "stderr",
     "output_type": "stream",
     "text": [
      " 60%|████████████████████████████████████████████████                                | 30/50 [00:01<00:01, 19.84it/s]"
     ]
    },
    {
     "name": "stdout",
     "output_type": "stream",
     "text": [
      "0\n",
      "\u001b[94m--------------------------------------------------------------------------------\u001b[0m\n",
      "\u001b[94m            Total number:\t232\tThose with at least one overlap:\t149\t             \u001b[0m\n",
      "\u001b[94m--------------------------------------------------------------------------------\u001b[0m\n"
     ]
    },
    {
     "name": "stderr",
     "output_type": "stream",
     "text": [
      " 64%|███████████████████████████████████████████████████▏                            | 32/50 [00:01<00:00, 19.77it/s]"
     ]
    },
    {
     "name": "stdout",
     "output_type": "stream",
     "text": [
      "0\n",
      "\u001b[94m--------------------------------------------------------------------------------\u001b[0m\n",
      "\u001b[94m            Total number:\t232\tThose with at least one overlap:\t149\t             \u001b[0m\n",
      "\u001b[94m--------------------------------------------------------------------------------\u001b[0m\n",
      "0\n",
      "\u001b[94m--------------------------------------------------------------------------------\u001b[0m\n",
      "\u001b[94m            Total number:\t232\tThose with at least one overlap:\t149\t             \u001b[0m\n",
      "\u001b[94m--------------------------------------------------------------------------------\u001b[0m\n",
      "0\n",
      "\u001b[94m--------------------------------------------------------------------------------\u001b[0m\n",
      "\u001b[94m            Total number:\t232\tThose with at least one overlap:\t149\t             \u001b[0m\n",
      "\u001b[94m--------------------------------------------------------------------------------\u001b[0m\n",
      "0\n"
     ]
    },
    {
     "name": "stderr",
     "output_type": "stream",
     "text": [
      " 68%|██████████████████████████████████████████████████████▍                         | 34/50 [00:01<00:00, 19.50it/s]"
     ]
    },
    {
     "name": "stdout",
     "output_type": "stream",
     "text": [
      "\u001b[94m--------------------------------------------------------------------------------\u001b[0m\n",
      "\u001b[94m            Total number:\t232\tThose with at least one overlap:\t149\t             \u001b[0m\n",
      "\u001b[94m--------------------------------------------------------------------------------\u001b[0m\n",
      "0\n"
     ]
    },
    {
     "name": "stderr",
     "output_type": "stream",
     "text": [
      " 72%|█████████████████████████████████████████████████████████▌                      | 36/50 [00:01<00:00, 19.42it/s]"
     ]
    },
    {
     "name": "stdout",
     "output_type": "stream",
     "text": [
      "\u001b[94m--------------------------------------------------------------------------------\u001b[0m\n",
      "\u001b[94m            Total number:\t232\tThose with at least one overlap:\t149\t             \u001b[0m\n",
      "\u001b[94m--------------------------------------------------------------------------------\u001b[0m\n",
      "0\n",
      "\u001b[94m--------------------------------------------------------------------------------\u001b[0m\n",
      "\u001b[94m            Total number:\t232\tThose with at least one overlap:\t149\t             \u001b[0m\n",
      "\u001b[94m--------------------------------------------------------------------------------\u001b[0m\n",
      "0\n",
      "\u001b[94m--------------------------------------------------------------------------------\u001b[0m\n",
      "\u001b[94m            Total number:\t232\tThose with at least one overlap:\t149\t             \u001b[0m\n",
      "\u001b[94m--------------------------------------------------------------------------------\u001b[0m\n",
      "0\n"
     ]
    },
    {
     "name": "stderr",
     "output_type": "stream",
     "text": [
      " 76%|████████████████████████████████████████████████████████████▊                   | 38/50 [00:01<00:00, 19.46it/s]"
     ]
    },
    {
     "name": "stdout",
     "output_type": "stream",
     "text": [
      "\u001b[94m--------------------------------------------------------------------------------\u001b[0m\n",
      "\u001b[94m            Total number:\t232\tThose with at least one overlap:\t149\t             \u001b[0m\n",
      "\u001b[94m--------------------------------------------------------------------------------\u001b[0m\n",
      "0\n"
     ]
    },
    {
     "name": "stderr",
     "output_type": "stream",
     "text": [
      " 80%|████████████████████████████████████████████████████████████████                | 40/50 [00:02<00:00, 19.54it/s]"
     ]
    },
    {
     "name": "stdout",
     "output_type": "stream",
     "text": [
      "\u001b[94m--------------------------------------------------------------------------------\u001b[0m\n",
      "\u001b[94m            Total number:\t232\tThose with at least one overlap:\t149\t             \u001b[0m\n",
      "\u001b[94m--------------------------------------------------------------------------------\u001b[0m\n",
      "0\n",
      "\u001b[94m--------------------------------------------------------------------------------\u001b[0m\n",
      "\u001b[94m            Total number:\t232\tThose with at least one overlap:\t149\t             \u001b[0m\n",
      "\u001b[94m--------------------------------------------------------------------------------\u001b[0m\n",
      "0\n",
      "\u001b[94m--------------------------------------------------------------------------------\u001b[0m\n",
      "\u001b[94m            Total number:\t232\tThose with at least one overlap:\t149\t             \u001b[0m\n",
      "\u001b[94m--------------------------------------------------------------------------------\u001b[0m\n",
      "0\n"
     ]
    },
    {
     "name": "stderr",
     "output_type": "stream",
     "text": [
      " 84%|███████████████████████████████████████████████████████████████████▏            | 42/50 [00:02<00:00, 19.63it/s]"
     ]
    },
    {
     "name": "stdout",
     "output_type": "stream",
     "text": [
      "\u001b[94m--------------------------------------------------------------------------------\u001b[0m\n",
      "\u001b[94m            Total number:\t232\tThose with at least one overlap:\t149\t             \u001b[0m\n",
      "\u001b[94m--------------------------------------------------------------------------------\u001b[0m\n",
      "0\n",
      "\u001b[94m--------------------------------------------------------------------------------\u001b[0m\n",
      "\u001b[94m            Total number:\t232\tThose with at least one overlap:\t149\t             \u001b[0m\n",
      "\u001b[94m--------------------------------------------------------------------------------\u001b[0m\n"
     ]
    },
    {
     "name": "stderr",
     "output_type": "stream",
     "text": [
      " 88%|██████████████████████████████████████████████████████████████████████▍         | 44/50 [00:02<00:00, 19.62it/s]"
     ]
    },
    {
     "name": "stdout",
     "output_type": "stream",
     "text": [
      "0\n",
      "\u001b[94m--------------------------------------------------------------------------------\u001b[0m\n",
      "\u001b[94m            Total number:\t232\tThose with at least one overlap:\t149\t             \u001b[0m\n",
      "\u001b[94m--------------------------------------------------------------------------------\u001b[0m\n",
      "0\n",
      "\u001b[94m--------------------------------------------------------------------------------\u001b[0m\n",
      "\u001b[94m            Total number:\t232\tThose with at least one overlap:\t149\t             \u001b[0m\n",
      "\u001b[94m--------------------------------------------------------------------------------\u001b[0m\n",
      "0\n"
     ]
    },
    {
     "name": "stderr",
     "output_type": "stream",
     "text": [
      " 92%|█████████████████████████████████████████████████████████████████████████▌      | 46/50 [00:02<00:00, 19.67it/s]"
     ]
    },
    {
     "name": "stdout",
     "output_type": "stream",
     "text": [
      "\u001b[94m--------------------------------------------------------------------------------\u001b[0m\n",
      "\u001b[94m            Total number:\t232\tThose with at least one overlap:\t149\t             \u001b[0m\n",
      "\u001b[94m--------------------------------------------------------------------------------\u001b[0m\n",
      "0\n",
      "\u001b[94m--------------------------------------------------------------------------------\u001b[0m\n",
      "\u001b[94m            Total number:\t232\tThose with at least one overlap:\t149\t             \u001b[0m\n",
      "\u001b[94m--------------------------------------------------------------------------------\u001b[0m\n",
      "0\n"
     ]
    },
    {
     "name": "stderr",
     "output_type": "stream",
     "text": [
      "100%|████████████████████████████████████████████████████████████████████████████████| 50/50 [00:02<00:00, 19.78it/s]"
     ]
    },
    {
     "name": "stdout",
     "output_type": "stream",
     "text": [
      "\u001b[94m--------------------------------------------------------------------------------\u001b[0m\n",
      "\u001b[94m            Total number:\t232\tThose with at least one overlap:\t149\t             \u001b[0m\n",
      "\u001b[94m--------------------------------------------------------------------------------\u001b[0m\n",
      "0\n",
      "\u001b[94m--------------------------------------------------------------------------------\u001b[0m\n",
      "\u001b[94m            Total number:\t232\tThose with at least one overlap:\t149\t             \u001b[0m\n",
      "\u001b[94m--------------------------------------------------------------------------------\u001b[0m\n",
      "0\n",
      "\u001b[94m--------------------------------------------------------------------------------\u001b[0m\n",
      "\u001b[94m            Total number:\t232\tThose with at least one overlap:\t149\t             \u001b[0m\n",
      "\u001b[94m--------------------------------------------------------------------------------\u001b[0m\n"
     ]
    },
    {
     "name": "stderr",
     "output_type": "stream",
     "text": [
      "100%|████████████████████████████████████████████████████████████████████████████████| 50/50 [00:02<00:00, 19.66it/s]\n"
     ]
    }
   ],
   "source": [
    "df = pd.read_csv(f'data/blast/cataloDB.csv')\n",
    "df.set_index('Entry', inplace=True)\n",
    "squidly = pd.read_pickle('data/squidly_as_pred_15B.pkl')\n",
    "squidly.set_index('label', inplace=True)\n",
    "df = df.join(squidly, how='left')\n",
    "\n",
    "# Print out the predictions for the 3B\n",
    "precision, recall, f1, support, agree, disagree, no_pred, mean_agreement = calculate_stats(df, 'From', 'True_residues', 'Squidly_CR_Position', 'Sequence')\n",
    "#rows.append(['Squidly', '15B', f1, precision, recall, support, agree, disagree, no_pred, mean_agreement])\n",
    "u.dp(['Squidly 15B', '\\nF1', f1, '\\nprecision:', precision, '\\n recall:', recall])\n",
    "\n",
    "for squidly_cutoff in tqdm(range(0, 100, 2)):\n",
    "    # 'From', 'True_residues', 'BLAST_residues', 'Sequence'\n",
    "    tmp_df = ensemble_predictions(df, 'BLAST_residues', 'Squidly_CR_Position', 'sequence identity', squidly_cutoff)\n",
    "    precision, recall, f1, support, agree, disagree, no_pred, mean_agreement = calculate_stats(tmp_df, 'From', 'True_residues', 'chosen_residues', 'Sequence')\n",
    "    rows.append(['15B', squidly_cutoff, f1, precision, recall, support, agree, disagree, no_pred, mean_agreement])\n"
   ]
  },
  {
   "cell_type": "markdown",
   "id": "0911e537-8553-419c-a9be-90cd0526f130",
   "metadata": {},
   "source": [
    "# Finally look at the ensemble of the two datasets\n",
    "\n",
    "Here we want to look at ensembling "
   ]
  },
  {
   "cell_type": "code",
   "execution_count": 18,
   "id": "37944a4e-45b4-41d5-bd8c-9cf2bbaa9941",
   "metadata": {},
   "outputs": [],
   "source": [
    "vis_df = pd.DataFrame(rows, columns=['Dataset', '% cutoff', 'F1', 'Precision', 'Recall', 'Support', '% fully correct', ' % with difference', ' % missing', 'Mean correct'])\n",
    "vis_df.to_csv('data/Ensemble_Squidly_CataloDB_15B.csv', index=False)"
   ]
  },
  {
   "cell_type": "code",
   "execution_count": 19,
   "id": "c66bc447-5303-4291-8ac2-472217f30b19",
   "metadata": {},
   "outputs": [],
   "source": [
    "plt.rcParams['svg.fonttype'] = 'none'  # Ensure text is saved as text\n",
    "plt.rcParams['figure.figsize'] = (3,3)\n",
    "sns.set(rc={'figure.figsize': (3,3), 'font.family': 'sans-serif', 'font.sans-serif': 'Arial', 'font.size': 12}, \n",
    "        style='ticks')\n",
    "\n",
    "def clean_plt(ax):\n",
    "    ax.tick_params(direction='out', length=2, width=1.0)\n",
    "    ax.spines['bottom'].set_linewidth(1.0)\n",
    "    ax.spines['top'].set_linewidth(0)\n",
    "    ax.spines['left'].set_linewidth(1.0)\n",
    "    ax.spines['right'].set_linewidth(0)\n",
    "    ax.tick_params(labelsize=10.0)\n",
    "    ax.tick_params(axis='x', which='major', pad=2.0)\n",
    "    ax.tick_params(axis='y', which='major', pad=2.0)\n",
    "    return ax\n",
    "\n",
    "    "
   ]
  },
  {
   "cell_type": "code",
   "execution_count": 22,
   "id": "997184a3-f973-4d2c-975f-399c83deeb1e",
   "metadata": {},
   "outputs": [
    {
     "data": {
      "image/png": "[encoded data removed]",
      "text/plain": [
       "<Figure size 300x300 with 1 Axes>"
      ]
     },
     "metadata": {},
     "output_type": "display_data"
    }
   ],
   "source": [
    "sns.color_palette(['#FFC440', '#D7572B', '#3A53A4', '#AFC6CF', '#895981', '#937A64'])\n",
    "plt.rcParams['svg.fonttype'] = 'none'\n",
    "\n",
    "# BLAST\t\n",
    "# F1\t0.368515205724508\t\n",
    "# precision:\t0.7202797202797203\t\n",
    "#  recall:\t0.24759615384615385\n",
    "\n",
    "# Squidly 3B\t\n",
    "# F1\t0.6060000000000001\t\n",
    "# precision:\t0.5188356164383562\t\n",
    "#  recall:\t0.7283653846153846\n",
    "\n",
    "# Squidly 15B\t\n",
    "# F1\t0.5987780040733198\t\n",
    "# precision:\t0.519434628975265\t\n",
    "#  recall:\t0.7067307692307693\t\n",
    "\n",
    "ax = sns.lineplot(vis_df, x='% cutoff', y='Recall', legend=None, color='#D7572B') #palette=['#D7572B', '#D7572B', '#3A53A4', '#AFC6CF', '#895981', '#937A64'])\n",
    "#ax.axvline(25, c='black', linestyle = 'dashed')\n",
    "#ax.axvline(45, c='black', linestyle = 'dashed')\n",
    "\n",
    "ax = sns.scatterplot(vis_df, x='% cutoff', y='Recall', style='Dataset', legend=None, markers=['o', 'X'], s=10, color='#D7572B') #palette=['#D7572B', '#D7572B', '#3A53A4', '#AFC6CF', '#895981', '#937A64'])\n",
    "ax.axhline(0.24759615384615385, c='#D7572B', linestyle = 'dashed') # Recall for BLAST\n",
    "#ax.axhline(0.7283653846153846, c='#D7572B') # Squidly 3B Recall\n",
    "ax = sns.lineplot(vis_df, x='% cutoff', y='F1', ax = ax, legend=None, color='#3A53A4') # Blue is F1\n",
    "ax = sns.scatterplot(vis_df, x='% cutoff', y='F1', ax = ax,  style='Dataset', legend=None, markers=['o', 'X'], s=10, color='#3A53A4') # Blue is F1\n",
    "ax.axhline(0.368515205724508, c='#3A53A4', linestyle = 'dashed') # Blast F1\n",
    "#ax.axhline(0.6060000000000001, c='#3A53A4') # Squidly 3B F1\n",
    "ax = sns.lineplot(vis_df, x='% cutoff', y='Precision', legend=None, color='#AFC6CF') # light blue is precision\n",
    "ax = sns.scatterplot(vis_df, x='% cutoff', y='Precision',  style='Dataset',  s=10, color='#AFC6CF') # light blue is precision\n",
    "ax.axhline(0.7202797202797203, c='#AFC6CF', linestyle='dashed') # BLAST Precision\n",
    "#ax.axhline(0.5188356164383562, c='#AFC6CF') # Squidly Precision\n",
    "# markers=['o', 'X'], o = 3B x = 15B\n",
    "plt.xlim(0, 100)\n",
    "plt.xlim(15, 45)\n",
    "clean_plt(plt.gca())\n",
    "plt.title('Squidly results on CataloDB')\n",
    "plt.ylabel('F1, Precision, Recall')\n",
    "plt.savefig('figures/Recall_3B-15B_BLAST.svg')\n",
    "plt.show()"
   ]
  },
  {
   "cell_type": "code",
   "execution_count": null,
   "id": "ada96e51-3fc9-4c93-b09b-2f0e1ef1c9e8",
   "metadata": {},
   "outputs": [],
   "source": []
  },
  {
   "cell_type": "code",
   "execution_count": null,
   "id": "b942c681-d242-4a77-b993-4066e02e25da",
   "metadata": {},
   "outputs": [],
   "source": []
  }
 ],
 "metadata": {
  "kernelspec": {
   "display_name": "Python 3 (ipykernel)",
   "language": "python",
   "name": "python3"
  },
  "language_info": {
   "codemirror_mode": {
    "name": "ipython",
    "version": 3
   },
   "file_extension": ".py",
   "mimetype": "text/x-python",
   "name": "python",
   "nbconvert_exporter": "python",
   "pygments_lexer": "ipython3",
   "version": "3.11.8"
  }
 },
 "nbformat": 4,
 "nbformat_minor": 5
}
