{
 "cells": [
  {
   "cell_type": "markdown",
   "id": "b5681fd4-fec3-473c-8a70-5d038a3f320d",
   "metadata": {},
   "source": [
    "# AEGAN datasets benchmark"
   ]
  },
  {
   "cell_type": "code",
   "execution_count": 88,
   "id": "13d3f02f-8866-4155-bf04-edb81e0b6bf1",
   "metadata": {
    "scrolled": true
   },
   "outputs": [
    {
     "name": "stdout",
     "output_type": "stream",
     "text": [
      "\u001b[94m--------------------------------------------------------------------------------\u001b[0m\n",
      "\u001b[94m                      Number of AEGAN training set:\t9888\t                       \u001b[0m\n",
      "\u001b[94m--------------------------------------------------------------------------------\u001b[0m\n"
     ]
    }
   ],
   "source": [
    "import pandas as pd\n",
    "import os \n",
    "import sys\n",
    "sys.path.append('/disk1/ariane/vscode/enzyme-tk/')\n",
    "from enzymetk.sequence_search_blast import BLAST\n",
    "from enzymetk.save_step import Save\n",
    "from sciutil import SciUtil \n",
    "\n",
    "u = SciUtil()\n",
    "\n",
    "# Basically want to run blast on each of the datasets and see how many get the correct active site\n",
    "# We do this filtering first to remove them from the sequence set\n",
    "data_dir = '/disk1/ariane/vscode/squidly/aegan_structures/AEGAN_extracted_sequences/'\n",
    "files = os.listdir(data_dir)\n",
    "swissprot = pd.read_csv('data/wills_metadata.tsv', sep='\\t')\n",
    "swissprot = pd.read_csv('../enzyme_datasets_benchmark/swissprot.tsv', sep='\\t')\n",
    "swissprot = pd.read_csv('data/reviewed_sprot_08042025.tsv', sep='\\t')\n",
    "\n",
    "def annotate_residue_from_uniprot(df):\n",
    "    # Organise the active sites of these guys to be better\n",
    "    active_sites = []\n",
    "    active_site_residue_counts = []\n",
    "    x = 0\n",
    "    for act_site in df['Active site'].values:\n",
    "        sites = []\n",
    "        if isinstance(act_site, str):\n",
    "            act_site = act_site.replace(\" \", '')\n",
    "            for act in act_site.split('ACT_SITE'):\n",
    "                try:\n",
    "                    sites.append(int(act.split(';')[0].replace(\" \", '')) - 1) # Need to subtract 1 to make it fit with the fact that python is 0 encoded lol\n",
    "                except:\n",
    "                    x = 1\n",
    "        if len(sites) != 0:\n",
    "            active_sites.append('|'.join([str(s) for s in sites]))\n",
    "            active_site_residue_counts.append(len(sites))\n",
    "        else:\n",
    "            active_sites.append('None')\n",
    "            active_site_residue_counts.append(0)\n",
    "    df['Residue'] = active_sites\n",
    "    df['active_site_residue_counts'] = active_site_residue_counts\n",
    "    return df\n",
    "    \n",
    "swissprot = annotate_residue_from_uniprot(swissprot)\n",
    "swissprot = swissprot[swissprot['active_site_residue_counts'] > 0]\n",
    "training_ids = set(pd.read_csv('data/AEGAN_real_training_set.txt', header=None)[0].values)\n",
    "training_df = swissprot[swissprot['Entry'].isin(training_ids)]\n",
    "\n",
    "u.dp(['Number of AEGAN training set:', len(training_df)])"
   ]
  },
  {
   "cell_type": "code",
   "execution_count": 89,
   "id": "c36e764d-edce-489e-bdc9-88404bfd520f",
   "metadata": {},
   "outputs": [
    {
     "data": {
      "text/html": [
       "<div>\n",
       "<style scoped>\n",
       "    .dataframe tbody tr th:only-of-type {\n",
       "        vertical-align: middle;\n",
       "    }\n",
       "\n",
       "    .dataframe tbody tr th {\n",
       "        vertical-align: top;\n",
       "    }\n",
       "\n",
       "    .dataframe thead th {\n",
       "        text-align: right;\n",
       "    }\n",
       "</style>\n",
       "<table border=\"1\" class=\"dataframe\">\n",
       "  <thead>\n",
       "    <tr style=\"text-align: right;\">\n",
       "      <th></th>\n",
       "      <th>Entry</th>\n",
       "      <th>Length</th>\n",
       "      <th>Sequence</th>\n",
       "      <th>Active site</th>\n",
       "      <th>PDB</th>\n",
       "      <th>Residue</th>\n",
       "      <th>active_site_residue_counts</th>\n",
       "    </tr>\n",
       "  </thead>\n",
       "  <tbody>\n",
       "  </tbody>\n",
       "</table>\n",
       "</div>"
      ],
      "text/plain": [
       "Empty DataFrame\n",
       "Columns: [Entry, Length, Sequence, Active site, PDB, Residue, active_site_residue_counts]\n",
       "Index: []"
      ]
     },
     "execution_count": 89,
     "metadata": {},
     "output_type": "execute_result"
    }
   ],
   "source": [
    "training_df[training_df['Residue'] == 'None']"
   ]
  },
  {
   "cell_type": "markdown",
   "id": "1912f802-93ac-419f-b3b8-2ca64b9a81ae",
   "metadata": {},
   "source": [
    "# Now for each test set we want to look for the closest sequence in the AEGAN training set \n",
    "\n",
    "We do this for each of the sequneces in AEGAN."
   ]
  },
  {
   "cell_type": "code",
   "execution_count": 90,
   "id": "23579460-05ae-429e-9ce4-d11513e979a2",
   "metadata": {},
   "outputs": [
    {
     "name": "stderr",
     "output_type": "stream",
     "text": [
      "diamond v2.1.11.165 (C) Max Planck Society for the Advancement of Science, Benjamin Buchfink, University of Tuebingen\n",
      "Documentation, support and updates available at http://www.diamondsearch.org\n",
      "Please cite: http://dx.doi.org/10.1038/s41592-021-01101-x Nature Methods (2021)\n",
      "\n",
      "#CPU threads: 384\n",
      "Scoring parameters: (Matrix=BLOSUM62 Lambda=0.267 K=0.041 Penalties=11/1)\n",
      "Database input file: data/AEGAN/AEGAN_with_active_site_seqs_PC.fasta\n",
      "Opening the database file...  [0.002s]\n",
      "Loading sequences...  [0.016s]\n",
      "Masking sequences...  [0.03s]\n",
      "Writing sequences...  [0.002s]\n",
      "Hashing sequences...  [0.001s]\n",
      "Loading sequences...  [0s]\n",
      "Writing trailer...  [0.004s]\n",
      "Closing the input file...  [0s]\n",
      "Closing the database file...  [0s]\n",
      "\n",
      "Database sequences  9870\n",
      "  Database letters  4032426\n",
      "     Database hash  129885c69cb938b471437545d84ffcb5\n",
      "        Total time  0.057000s\n",
      "diamond v2.1.11.165 (C) Max Planck Society for the Advancement of Science, Benjamin Buchfink, University of Tuebingen\n",
      "Documentation, support and updates available at http://www.diamondsearch.org\n",
      "Please cite: http://dx.doi.org/10.1038/s41592-021-01101-x Nature Methods (2021)\n",
      "\n",
      "#CPU threads: 384\n",
      "Scoring parameters: (Matrix=BLOSUM62 Lambda=0.267 K=0.041 Penalties=11/1)\n",
      "Database input file: data/AEGAN/AEGAN_with_active_site_seqs_NN.fasta\n",
      "Opening the database file...  [0.002s]\n",
      "Loading sequences...  [0.016s]\n",
      "Masking sequences...  [0.026s]\n",
      "Writing sequences...  [0.002s]\n",
      "Hashing sequences...  [0.001s]\n",
      "Loading sequences...  [0s]\n",
      "Writing trailer...  [0.005s]\n",
      "Closing the input file...  [0s]\n",
      "Closing the database file...  [0s]\n",
      "\n",
      "Database sequences  9851\n",
      "  Database letters  4024611\n",
      "     Database hash  bf2f3dcd5762da3d260a63bd3dbd9e06\n",
      "        Total time  0.054000s\n",
      "diamond v2.1.11.165 (C) Max Planck Society for the Advancement of Science, Benjamin Buchfink, University of Tuebingen\n",
      "Documentation, support and updates available at http://www.diamondsearch.org\n",
      "Please cite: http://dx.doi.org/10.1038/s41592-021-01101-x Nature Methods (2021)\n",
      "\n",
      "#CPU threads: 384\n",
      "Scoring parameters: (Matrix=BLOSUM62 Lambda=0.267 K=0.041 Penalties=11/1)\n",
      "Database input file: data/AEGAN/AEGAN_with_active_site_seqs_EF_superfamily.fasta\n",
      "Opening the database file...  [0.002s]\n",
      "Loading sequences...  [0.016s]\n",
      "Masking sequences...  [0.029s]\n",
      "Writing sequences...  [0.002s]\n",
      "Hashing sequences...  [0.001s]\n",
      "Loading sequences...  [0s]\n",
      "Writing trailer...  [0.004s]\n",
      "Closing the input file...  [0s]\n",
      "Closing the database file...  [0s]\n",
      "\n",
      "Database sequences  9845\n",
      "  Database letters  4022770\n",
      "     Database hash  3ef89e39f1ec5dbfe5fa1bd0357056d3\n",
      "        Total time  0.056000s\n",
      "diamond v2.1.11.165 (C) Max Planck Society for the Advancement of Science, Benjamin Buchfink, University of Tuebingen\n",
      "Documentation, support and updates available at http://www.diamondsearch.org\n",
      "Please cite: http://dx.doi.org/10.1038/s41592-021-01101-x Nature Methods (2021)\n",
      "\n",
      "#CPU threads: 384\n",
      "Scoring parameters: (Matrix=BLOSUM62 Lambda=0.267 K=0.041 Penalties=11/1)\n",
      "Database input file: data/AEGAN/AEGAN_with_active_site_seqs_EF_fold.fasta\n",
      "Opening the database file...  [0.002s]\n",
      "Loading sequences...  [0.016s]\n",
      "Masking sequences...  [0.026s]\n",
      "Writing sequences...  [0.002s]\n",
      "Hashing sequences...  [0.001s]\n",
      "Loading sequences...  [0s]\n",
      "Writing trailer...  [0.005s]\n",
      "Closing the input file...  [0s]\n",
      "Closing the database file...  [0s]\n",
      "\n",
      "Database sequences  9849\n",
      "  Database letters  4024331\n",
      "     Database hash  59150efa7a5f56e8f7d3242b5a243241\n",
      "        Total time  0.053000s\n",
      "diamond v2.1.11.165 (C) Max Planck Society for the Advancement of Science, Benjamin Buchfink, University of Tuebingen\n",
      "Documentation, support and updates available at http://www.diamondsearch.org\n",
      "Please cite: http://dx.doi.org/10.1038/s41592-021-01101-x Nature Methods (2021)\n",
      "\n",
      "#CPU threads: 384\n",
      "Scoring parameters: (Matrix=BLOSUM62 Lambda=0.267 K=0.041 Penalties=11/1)\n",
      "Database input file: data/AEGAN/AEGAN_with_active_site_seqs_EF_family.fasta\n",
      "Opening the database file...  [0.002s]\n",
      "Loading sequences...  [0.016s]\n",
      "Masking sequences...  [0.027s]\n",
      "Writing sequences...  [0.002s]\n",
      "Hashing sequences...  [0.001s]\n",
      "Loading sequences...  [0s]\n",
      "Writing trailer...  [0.005s]\n",
      "Closing the input file...  [0s]\n",
      "Closing the database file...  [0s]\n",
      "\n",
      "Database sequences  9824\n",
      "  Database letters  4012830\n",
      "     Database hash  d886b5efdd4bb074d40e0f2ddad4a386\n",
      "        Total time  0.055000s\n",
      "diamond v2.1.11.165 (C) Max Planck Society for the Advancement of Science, Benjamin Buchfink, University of Tuebingen\n",
      "Documentation, support and updates available at http://www.diamondsearch.org\n",
      "Please cite: http://dx.doi.org/10.1038/s41592-021-01101-x Nature Methods (2021)\n",
      "\n",
      "#CPU threads: 384\n",
      "Scoring parameters: (Matrix=BLOSUM62 Lambda=0.267 K=0.041 Penalties=11/1)\n",
      "Database input file: data/AEGAN/AEGAN_with_active_site_seqs_HA_superfamily.fasta\n",
      "Opening the database file...  [0.002s]\n",
      "Loading sequences...  [0.016s]\n",
      "Masking sequences...  [0.028s]\n",
      "Writing sequences...  [0.002s]\n",
      "Hashing sequences...  [0.001s]\n",
      "Loading sequences...  [0s]\n",
      "Writing trailer...  [0.004s]\n",
      "Closing the input file...  [0s]\n",
      "Closing the database file...  [0s]\n",
      "\n",
      "Database sequences  9836\n",
      "  Database letters  4020270\n",
      "     Database hash  6afe600245d2fd489d9e65e14df7c14b\n",
      "        Total time  0.056000s\n"
     ]
    }
   ],
   "source": [
    "%%capture\n",
    "\n",
    "for f in files:\n",
    "    try:\n",
    "        df = pd.read_csv(f'{data_dir}{f}/{f}.tsv', sep='\\t')\n",
    "        entries = set(list(df['Entry'].values))\n",
    "        # Remove from SwissProt\n",
    "        # Now we're going to save this as a fasta file \n",
    "        fasta_label = f'data/AEGAN/AEGAN_with_active_site_seqs_{f}.fasta'\n",
    "        with open(fasta_label, 'w+') as fout:\n",
    "            for entry, seq in training_df[['Entry', 'Sequence']].values:\n",
    "                if entry not in entries:\n",
    "                    fout.write(f'>{entry}\\n{seq}\\n')\n",
    "        # Do blast on this dataset \n",
    "        # This should be where you downloaded the data from zotero, there is a folder in there called AS_inference\n",
    "        # This contains the models and the data needed to run the tool\n",
    "        id_col = 'Entry'\n",
    "        seq_col = 'Sequence'\n",
    "        df << (BLAST(id_col, seq_col, database=fasta_label, args=['--ultra-sensitive']) >> Save(f'data/AEGAN/blast/{f}_BLAST.pkl'))\n",
    "    except:\n",
    "        print(f)\n",
    "        # Use this to suppress the output of the cell... "
   ]
  },
  {
   "cell_type": "markdown",
   "id": "9ec6986f-aa73-4792-866e-5606d3db1729",
   "metadata": {},
   "source": [
    "# For each of these now what we want to do is to pull out the familiies and align using the clustal omega "
   ]
  },
  {
   "cell_type": "code",
   "execution_count": 91,
   "id": "4af078b6-bfb5-4f92-ad25-a5e2c21265f1",
   "metadata": {},
   "outputs": [
    {
     "name": "stdout",
     "output_type": "stream",
     "text": [
      "EF_family_BLAST.csv\n",
      "PC_BLAST.csv\n",
      "EF_fold_BLAST.csv\n",
      "HA_superfamily_BLAST.csv\n",
      "NN_BLAST.csv\n",
      "EF_superfamily_BLAST.csv\n",
      "EF_family\n"
     ]
    }
   ],
   "source": [
    "files = os.listdir('data/AEGAN/blast/')\n",
    "results = {}\n",
    "for f in files:\n",
    "    try:\n",
    "        label = f.split('_BLAST.pkl')[0]\n",
    "        df = pd.read_csv(f'{data_dir}{label}/{label}.tsv', sep='\\t')\n",
    "        entries = set(list(df['Entry'].values))\n",
    "        blast_df = pd.read_pickle(f'data/AEGAN/blast/{f}')\n",
    "        blast_df = blast_df.sort_values(by='sequence identity', ascending=False)\n",
    "        blast_df.drop_duplicates('query', inplace=True)\n",
    "        # Then join up with all df\n",
    "        blast_df.set_index('query', inplace=True)\n",
    "        df.set_index('Entry', inplace=True)\n",
    "        df = df.join(blast_df, how='left')\n",
    "        results[f] = df\n",
    "        uniprot_id_to_seq = dict(zip(swissprot.Entry, swissprot.Sequence))\n",
    "        for name, seq, uniprot in df[['From', 'Sequence', 'target']].values:\n",
    "            fin = f'msa/{uniprot}_{name}.fa'\n",
    "            with open(fin, 'w+') as fout:\n",
    "                fout.write(f'>{uniprot}\\n{uniprot_id_to_seq.get(uniprot)}\\n')\n",
    "                fout.write(f'>{name}\\n{seq}')\n",
    "            # Now run clustalomega\n",
    "            os.system(f'clustalo --force -i {fin} -o {fin.replace(\".fa\", \".msa\")}')\n",
    "    except:\n",
    "        print(f)"
   ]
  },
  {
   "cell_type": "markdown",
   "id": "37e211f4-3f4b-4f69-8bc9-64249728010b",
   "metadata": {},
   "source": [
    "# Read in the datasets and annotate the residues predicted by BLAST"
   ]
  },
  {
   "cell_type": "code",
   "execution_count": 92,
   "id": "9f398270-2c94-4c17-bd90-34cf9a579a46",
   "metadata": {},
   "outputs": [],
   "source": [
    "from Bio import AlignIO\n",
    "import matplotlib.pyplot as plt\n",
    "import numpy as np\n",
    "import seaborn as sns\n",
    "# Read in squidly results\n",
    "import numpy as np\n",
    "from sklearn.metrics import f1_score\n",
    "from sklearn.metrics import precision_recall_fscore_support\n",
    "from tqdm import tqdm \n",
    "\n",
    "def get_evaluation_metrics(actuals, predictions):\n",
    "    # Calculate evaluation metrics\n",
    "    TP = sum([1 for i in range(len(actuals)) if actuals[i] == 1 and predictions[i] == 1])\n",
    "    TN = sum([1 for i in range(len(actuals)) if actuals[i] == 0 and predictions[i] == 0])\n",
    "    FP = sum([1 for i in range(len(actuals)) if actuals[i] == 0 and predictions[i] == 1])\n",
    "    FN = sum([1 for i in range(len(actuals)) if actuals[i] == 1 and predictions[i] == 0])\n",
    "    accuracy = (TP + TN) / (TP + TN + FP + FN)\n",
    "    precision = TP / (TP + FP) if TP + FP != 0 else 0\n",
    "    recall = TP / (TP + FN) if TP + FN != 0 else 0\n",
    "    f1 = 2 * precision * recall / (precision + recall) if precision + recall != 0 else 0\n",
    "    return f1, precision, recall, accuracy\n",
    "\n",
    "\n",
    "def calculate_stats(df, id_col, true_col, pred_col, seq_col):   \n",
    "    # Check the agreement:\n",
    "    agree, disagree, none_ = 0, 0, 0\n",
    "    percent_aggree = []\n",
    "    to_check = []\n",
    "    missing = 0\n",
    "    predictions = []\n",
    "    true = []\n",
    "    for seq_label, res_sq, res_pred, seq in df[[id_col, true_col, pred_col, seq_col]].values:\n",
    "        if not res_sq:\n",
    "            missing += 1\n",
    "        else:\n",
    "            # Calculate the F1 score\n",
    "            res_sq = res_sq.split('|')\n",
    "            if not res_pred or not isinstance(res_pred, str):\n",
    "                none_ += 1\n",
    "                percent_aggree.append(0)\n",
    "                res_sq = [int(i) for i in res_sq]\n",
    "                for pos in range(0, len(seq)):\n",
    "                    predictions.append(0) # Since we had no true predictions\n",
    "                    if pos in res_sq:\n",
    "                        true.append(1)\n",
    "                    else:\n",
    "                        true.append(0)\n",
    "            else:\n",
    "                res_pred = res_pred.split('|')\n",
    "                if res_sq != res_pred:\n",
    "                    to_check.append(seq_label)\n",
    "                    # Check the % agree \n",
    "                    percent_aggree.append(len(set(res_sq) & set(res_pred))/max(len(res_sq), len(res_pred)))\n",
    "                    disagree += 1\n",
    "                else:\n",
    "                    percent_aggree.append(1)\n",
    "                    agree += 1\n",
    "                chosen_res_seq = [int(i) for i in res_pred]\n",
    "                res_sq = [int(i) for i in res_sq]\n",
    "                for pos in range(0, len(seq)):\n",
    "                    if pos in res_sq:\n",
    "                        true.append(1)\n",
    "                    else:\n",
    "                        true.append(0)\n",
    "                    if pos in chosen_res_seq:\n",
    "                        predictions.append(1)\n",
    "                    else:\n",
    "                        predictions.append(0)\n",
    "    print(\"You were missing N reference sequences:\", missing)\n",
    "    precision, recall, f1, support = precision_recall_fscore_support(true, predictions)\n",
    "    f1_, precision_, recall_, accuracy_ = get_evaluation_metrics(true, predictions)\n",
    "    print(f1, f1_)\n",
    "    # f1, precision, recall, support, agree, disagree, no_pred, mean_agreement\n",
    "    return precision[1], recall[1], f1[1], support[1], agree/len(df), disagree/len(df), none_/len(df), np.mean(percent_aggree)\n"
   ]
  },
  {
   "cell_type": "code",
   "execution_count": 93,
   "id": "39b2263c-0e2d-4858-b8b4-ce64bcc5dcbf",
   "metadata": {},
   "outputs": [],
   "source": [
    "colors = ['#FFC440', '#D7572B', '#3A53A4', '#AFC6CF', '#895981', '#937A64']\n",
    "order = ['EF_family', \n",
    "         'NN',\n",
    "         'HA_superfamily',\n",
    "         'PC',\n",
    "         'EF_fold',\n",
    "         'EF_superfamily',\n",
    "         ]\n",
    "plt.rcParams['svg.fonttype'] = 'none'  # Ensure text is saved as text\n",
    "plt.rcParams['figure.figsize'] = (3,3)\n",
    "sns.set(rc={'figure.figsize': (3,3), 'font.family': 'sans-serif', 'font.sans-serif': 'Arial', 'font.size': 12}, \n",
    "        style='ticks')\n",
    "\n",
    "def clean_plt(ax):\n",
    "    ax.tick_params(direction='out', length=2, width=1.0)\n",
    "    ax.spines['bottom'].set_linewidth(1.0)\n",
    "    ax.spines['top'].set_linewidth(0)\n",
    "    ax.spines['left'].set_linewidth(1.0)\n",
    "    ax.spines['right'].set_linewidth(0)\n",
    "    ax.tick_params(labelsize=10.0)\n",
    "    ax.tick_params(axis='x', which='major', pad=2.0)\n",
    "    ax.tick_params(axis='y', which='major', pad=2.0)\n",
    "    return ax"
   ]
  },
  {
   "cell_type": "code",
   "execution_count": 117,
   "id": "70be1e44-74cd-4c0e-a284-481d82ddb9e2",
   "metadata": {},
   "outputs": [
    {
     "name": "stdout",
     "output_type": "stream",
     "text": [
      "\u001b[93m--------------------------------------------------------------------------------\u001b[0m\n",
      "\u001b[93m         Missing a BLAST sequence: \t20\tFound with BLAST sequences:\t176\t         \u001b[0m\n",
      "\u001b[93m--------------------------------------------------------------------------------\u001b[0m\n",
      "You were missing N reference sequences: 0\n",
      "[0.9993904  0.85260116] 0.8526011560693643\n",
      "\u001b[94m--------------------------------------------------------------------------------\u001b[0m\n",
      "\u001b[94mEF_family\t\n",
      "F1\t0.8526011560693643\t\n",
      "precision:\t0.913312693498452\t\n",
      " recall:\t0.7994579945799458\t\u001b[0m\n",
      "\u001b[94m--------------------------------------------------------------------------------\u001b[0m\n",
      "\u001b[93m--------------------------------------------------------------------------------\u001b[0m\n",
      "\u001b[93m         Missing a BLAST sequence: \t12\tFound with BLAST sequences:\t96\t          \u001b[0m\n",
      "\u001b[93m--------------------------------------------------------------------------------\u001b[0m\n",
      "You were missing N reference sequences: 0\n",
      "[0.99933647 0.83240223] 0.8324022346368716\n",
      "\u001b[94m--------------------------------------------------------------------------------\u001b[0m\n",
      "\u001b[94mNN\t\n",
      "F1\t0.8324022346368716\t\n",
      "precision:\t0.9085365853658537\t\n",
      " recall:\t0.7680412371134021\t\u001b[0m\n",
      "\u001b[94m--------------------------------------------------------------------------------\u001b[0m\n"
     ]
    },
    {
     "name": "stderr",
     "output_type": "stream",
     "text": [
      "/tmp/ipykernel_18717/1180285872.py:69: SettingWithCopyWarning: \n",
      "A value is trying to be set on a copy of a slice from a DataFrame.\n",
      "Try using .loc[row_indexer,col_indexer] = value instead\n",
      "\n",
      "See the caveats in the documentation: https://pandas.pydata.org/pandas-docs/stable/user_guide/indexing.html#returning-a-view-versus-a-copy\n",
      "  missing_df['Label'] = df_label.replace(\"_BLAST.pkl\", \"\")\n",
      "/tmp/ipykernel_18717/1180285872.py:69: SettingWithCopyWarning: \n",
      "A value is trying to be set on a copy of a slice from a DataFrame.\n",
      "Try using .loc[row_indexer,col_indexer] = value instead\n",
      "\n",
      "See the caveats in the documentation: https://pandas.pydata.org/pandas-docs/stable/user_guide/indexing.html#returning-a-view-versus-a-copy\n",
      "  missing_df['Label'] = df_label.replace(\"_BLAST.pkl\", \"\")\n"
     ]
    },
    {
     "name": "stdout",
     "output_type": "stream",
     "text": [
      "\u001b[93m--------------------------------------------------------------------------------\u001b[0m\n",
      "\u001b[93m         Missing a BLAST sequence: \t20\tFound with BLAST sequences:\t132\t         \u001b[0m\n",
      "\u001b[93m--------------------------------------------------------------------------------\u001b[0m\n",
      "You were missing N reference sequences: 0\n",
      "[0.99933628 0.83820663] 0.838206627680312\n",
      "\u001b[94m--------------------------------------------------------------------------------\u001b[0m\n",
      "\u001b[94mHA_superfamily\t\n",
      "F1\t0.838206627680312\t\n",
      "precision:\t0.9033613445378151\t\n",
      " recall:\t0.7818181818181819\t\u001b[0m\n",
      "\u001b[94m--------------------------------------------------------------------------------\u001b[0m\n",
      "\u001b[93m--------------------------------------------------------------------------------\u001b[0m\n",
      "\u001b[93m          Missing a BLAST sequence: \t2\tFound with BLAST sequences:\t53\t          \u001b[0m\n",
      "\u001b[93m--------------------------------------------------------------------------------\u001b[0m\n",
      "You were missing N reference sequences: 0\n",
      "[0.99947971 0.88541667] 0.8854166666666665\n",
      "\u001b[94m--------------------------------------------------------------------------------\u001b[0m\n",
      "\u001b[94mPC\t\n",
      "F1\t0.8854166666666665\t\n",
      "precision:\t0.9139784946236559\t\n",
      " recall:\t0.8585858585858586\t\u001b[0m\n",
      "\u001b[94m--------------------------------------------------------------------------------\u001b[0m\n",
      "\u001b[93m--------------------------------------------------------------------------------\u001b[0m\n",
      "\u001b[93m         Missing a BLAST sequence: \t10\tFound with BLAST sequences:\t83\t          \u001b[0m\n",
      "\u001b[93m--------------------------------------------------------------------------------\u001b[0m\n",
      "You were missing N reference sequences: 0\n",
      "[0.99954695 0.89389068] 0.8938906752411576\n",
      "\u001b[94m--------------------------------------------------------------------------------\u001b[0m\n",
      "\u001b[94mEF_fold\t\n",
      "F1\t0.8938906752411576\t\n",
      "precision:\t0.952054794520548\t\n",
      " recall:\t0.8424242424242424\t\u001b[0m\n",
      "\u001b[94m--------------------------------------------------------------------------------\u001b[0m\n"
     ]
    },
    {
     "name": "stderr",
     "output_type": "stream",
     "text": [
      "/tmp/ipykernel_18717/1180285872.py:69: SettingWithCopyWarning: \n",
      "A value is trying to be set on a copy of a slice from a DataFrame.\n",
      "Try using .loc[row_indexer,col_indexer] = value instead\n",
      "\n",
      "See the caveats in the documentation: https://pandas.pydata.org/pandas-docs/stable/user_guide/indexing.html#returning-a-view-versus-a-copy\n",
      "  missing_df['Label'] = df_label.replace(\"_BLAST.pkl\", \"\")\n",
      "/tmp/ipykernel_18717/1180285872.py:69: SettingWithCopyWarning: \n",
      "A value is trying to be set on a copy of a slice from a DataFrame.\n",
      "Try using .loc[row_indexer,col_indexer] = value instead\n",
      "\n",
      "See the caveats in the documentation: https://pandas.pydata.org/pandas-docs/stable/user_guide/indexing.html#returning-a-view-versus-a-copy\n",
      "  missing_df['Label'] = df_label.replace(\"_BLAST.pkl\", \"\")\n",
      "/tmp/ipykernel_18717/1180285872.py:69: SettingWithCopyWarning: \n",
      "A value is trying to be set on a copy of a slice from a DataFrame.\n",
      "Try using .loc[row_indexer,col_indexer] = value instead\n",
      "\n",
      "See the caveats in the documentation: https://pandas.pydata.org/pandas-docs/stable/user_guide/indexing.html#returning-a-view-versus-a-copy\n",
      "  missing_df['Label'] = df_label.replace(\"_BLAST.pkl\", \"\")\n"
     ]
    },
    {
     "name": "stdout",
     "output_type": "stream",
     "text": [
      "\u001b[93m--------------------------------------------------------------------------------\u001b[0m\n",
      "\u001b[93m         Missing a BLAST sequence: \t14\tFound with BLAST sequences:\t109\t         \u001b[0m\n",
      "\u001b[93m--------------------------------------------------------------------------------\u001b[0m\n",
      "You were missing N reference sequences: 0\n",
      "[0.99948484 0.88135593] 0.8813559322033898\n",
      "\u001b[94m--------------------------------------------------------------------------------\u001b[0m\n",
      "\u001b[94mEF_superfamily\t\n",
      "F1\t0.8813559322033898\t\n",
      "precision:\t0.9381443298969072\t\n",
      " recall:\t0.8310502283105022\t\u001b[0m\n",
      "\u001b[94m--------------------------------------------------------------------------------\u001b[0m\n",
      "78\n"
     ]
    },
    {
     "name": "stderr",
     "output_type": "stream",
     "text": [
      "/tmp/ipykernel_18717/1180285872.py:69: SettingWithCopyWarning: \n",
      "A value is trying to be set on a copy of a slice from a DataFrame.\n",
      "Try using .loc[row_indexer,col_indexer] = value instead\n",
      "\n",
      "See the caveats in the documentation: https://pandas.pydata.org/pandas-docs/stable/user_guide/indexing.html#returning-a-view-versus-a-copy\n",
      "  missing_df['Label'] = df_label.replace(\"_BLAST.pkl\", \"\")\n"
     ]
    },
    {
     "data": {
      "image/png": "[encoded data removed]",
      "text/plain": [
       "<Figure size 300x300 with 1 Axes>"
      ]
     },
     "metadata": {},
     "output_type": "display_data"
    }
   ],
   "source": [
    "from Bio import AlignIO\n",
    "import matplotlib.pyplot as plt\n",
    "import numpy as np\n",
    "\n",
    "# OK here we need to have all the swiss prot since we're searching fro both the test and the training to this set\n",
    "# so this is just uniprot to the active sites\n",
    "uniprot_id_to_active_site = dict(zip(swissprot['Entry'], swissprot['Residue']))\n",
    "\n",
    "dataset_to_blast = {}\n",
    "missing_blast_seq = pd.DataFrame()\n",
    "total_missing, total_found = 0, 0\n",
    "\n",
    "for di, df_label in enumerate(order):\n",
    "    df_label = df_label + '_BLAST.pkl'\n",
    "    df = results[df_label]\n",
    "    predicted_active_sites = {}\n",
    "    missing, found = 0, 0\n",
    "    missing_entries = []\n",
    "    for query, uniprot in df[['From', 'target']].values:\n",
    "        if not uniprot or not isinstance(uniprot, str):\n",
    "            missing += 1\n",
    "            missing_entries.append(query)\n",
    "        else:\n",
    "            fin = f'msa/{uniprot}_{query}.msa'\n",
    "            # Read with bioseq\n",
    "            # Read the alignment\n",
    "            active_sites = [int(x) for x in uniprot_id_to_active_site.get(uniprot).split('|')]\n",
    "            alignment = AlignIO.read(fin, 'fasta')\n",
    "            # get the existing one and then calculate the position gapped\n",
    "            records = {}\n",
    "            for record in alignment:\n",
    "                records[record.id] = record.seq\n",
    "            # Now get the active site\n",
    "            position_count = 0\n",
    "            active_pred = []\n",
    "            query_seq = records[query]\n",
    "            query_count = 0\n",
    "            x = 0\n",
    "            for i, v in enumerate(records[uniprot]):\n",
    "                if position_count in active_sites:\n",
    "                    if query_count < len(query_seq.replace('-', '')):\n",
    "                        active_pred.append(query_count)\n",
    "                    if query_seq[i] != v:\n",
    "                        x += 1\n",
    "                        #print(query, uniprot, v, query_seq[i])\n",
    "                if v != '-':\n",
    "                    position_count += 1\n",
    "                if query_seq[i] != '-' and query_seq[i] != ' ':\n",
    "                    query_count += 1\n",
    "        \n",
    "            predicted_active_sites[query] = '|'.join([str(s) for s in active_pred])\n",
    "            found += 1\n",
    "            # Now we can just add on the\n",
    "        # except:\n",
    "        #     missing += 1\n",
    "    \n",
    "    df['BLAST_residues'] = [predicted_active_sites.get(label) for label in df['From'].values]\n",
    "    df['True_residues'] = [uniprot_id_to_active_site.get(label) for label in df['From'].values]\n",
    "    results[df_label] = df\n",
    "    \n",
    "    df.to_csv(f'data/AEGAN/blast/{df_label.replace(\".pkl\", \".csv\")}')\n",
    "    u.warn_p(['Missing a BLAST sequence: ', missing, 'Found with BLAST sequences:', found])\n",
    "    # Check the agreement:\n",
    "    precision, recall, f1, support, agree, disagree, no_pred, mean_agreement = calculate_stats(df, 'From', 'True_residues', 'BLAST_residues', 'Sequence')\n",
    "    dataset_to_blast[df_label.replace(\"_BLAST.pkl\", \"\")] = {'recall': recall, 'f1': f1, 'precision': precision}\n",
    "    \n",
    "    # Keep track of the ones with missing BLAST and we'll check Squidly on these\n",
    "    missing_df = df[df['From'].isin(missing_entries)]\n",
    "    missing_df['Label'] = df_label.replace(\"_BLAST.pkl\", \"\")\n",
    "    missing_blast_seq = pd.concat([missing_df, missing_blast_seq])\n",
    "    \n",
    "    u.dp([df_label.replace(\"_BLAST.pkl\", \"\"), '\\nF1', f1, '\\nprecision:', precision, '\\n recall:', recall])\n",
    "    # Add the seq identity plot\n",
    "    plt.hist(df['sequence identity'].values, bins=20, label=df_label.replace(\"_BLAST.pkl\", \"\"), color=colors[di], alpha=0.5)\n",
    "    total_missing += missing\n",
    "    total_found += found\n",
    "\n",
    "plt.title('Diamond blast results to SwissProt with AS')\n",
    "plt.legend()\n",
    "ax = clean_plt(plt.gca())\n",
    "plt.ylabel('Frequency')\n",
    "plt.xlabel('Sequence identity')\n",
    "print(total_missing)\n",
    "plt.savefig(f'figures/DiamondBlast_histogram_{f}.svg')"
   ]
  },
  {
   "cell_type": "code",
   "execution_count": 139,
   "id": "0af8f2a7-a385-4bf6-9754-4c9c401ce1b1",
   "metadata": {},
   "outputs": [
    {
     "name": "stderr",
     "output_type": "stream",
     "text": [
      "  0%|                                                                                                                                     | 0/50 [00:00<?, ?it/s]"
     ]
    },
    {
     "name": "stdout",
     "output_type": "stream",
     "text": [
      "You were missing N reference sequences: 0\n",
      "[0.99939163 0.85488127] 0.8548812664907652\n",
      "You were missing N reference sequences: 0\n",
      "[0.99936806 0.85765766] 0.8576576576576577\n",
      "You were missing N reference sequences: 0\n",
      "[0.99947968 0.88659794] 0.88659793814433\n",
      "You were missing N reference sequences: 0\n",
      "[0.9995331 0.8969697] 0.896969696969697\n",
      "You were missing N reference sequences: 0\n",
      "[0.99949524 0.88990826] 0.8899082568807339\n",
      "You were missing N reference sequences: 0\n"
     ]
    },
    {
     "name": "stderr",
     "output_type": "stream",
     "text": [
      "  4%|█████                                                                                                                        | 2/50 [00:00<00:10,  4.72it/s]"
     ]
    },
    {
     "name": "stdout",
     "output_type": "stream",
     "text": [
      "[0.99941418 0.86575342] 0.8657534246575344\n",
      "You were missing N reference sequences: 0\n",
      "[0.99939163 0.85488127] 0.8548812664907652\n",
      "You were missing N reference sequences: 0\n",
      "[0.99936806 0.85765766] 0.8576576576576577\n",
      "You were missing N reference sequences: 0\n",
      "[0.99947968 0.88659794] 0.88659793814433\n",
      "You were missing N reference sequences: 0\n",
      "[0.9995331 0.8969697] 0.896969696969697\n",
      "You were missing N reference sequences: 0\n",
      "[0.99949524 0.88990826] 0.8899082568807339\n",
      "You were missing N reference sequences: 0\n",
      "[0.99941418 0.86575342] 0.8657534246575344\n"
     ]
    },
    {
     "name": "stderr",
     "output_type": "stream",
     "text": [
      "  6%|███████▌                                                                                                                     | 3/50 [00:00<00:09,  4.84it/s]"
     ]
    },
    {
     "name": "stdout",
     "output_type": "stream",
     "text": [
      "You were missing N reference sequences: 0\n",
      "[0.99939163 0.85488127] 0.8548812664907652\n",
      "You were missing N reference sequences: 0\n",
      "[0.99936806 0.85765766] 0.8576576576576577\n",
      "You were missing N reference sequences: 0\n",
      "[0.99947968 0.88659794] 0.88659793814433\n",
      "You were missing N reference sequences: 0\n",
      "[0.9995331 0.8969697] 0.896969696969697\n",
      "You were missing N reference sequences: 0\n",
      "[0.99949524 0.88990826] 0.8899082568807339\n",
      "You were missing N reference sequences: 0\n",
      "[0.99941418 0.86575342] 0.8657534246575344\n",
      "You were missing N reference sequences: 0\n"
     ]
    },
    {
     "name": "stderr",
     "output_type": "stream",
     "text": [
      "  8%|██████████                                                                                                                   | 4/50 [00:00<00:09,  4.91it/s]"
     ]
    },
    {
     "name": "stdout",
     "output_type": "stream",
     "text": [
      "[0.99939163 0.85488127] 0.8548812664907652\n",
      "You were missing N reference sequences: 0\n",
      "[0.99936806 0.85765766] 0.8576576576576577\n",
      "You were missing N reference sequences: 0\n",
      "[0.99947968 0.88659794] 0.88659793814433\n",
      "You were missing N reference sequences: 0\n",
      "[0.9995331 0.8969697] 0.896969696969697\n",
      "You were missing N reference sequences: 0\n",
      "[0.99949524 0.88990826] 0.8899082568807339\n",
      "You were missing N reference sequences: 0\n",
      "[0.99941418 0.86575342] 0.8657534246575344\n",
      "You were missing N reference sequences: 0\n",
      "[0.99939163 0.85488127] 0.8548812664907652\n",
      "You were missing N reference sequences: 0\n"
     ]
    },
    {
     "name": "stderr",
     "output_type": "stream",
     "text": [
      " 10%|████████████▌                                                                                                                | 5/50 [00:01<00:09,  4.95it/s]"
     ]
    },
    {
     "name": "stdout",
     "output_type": "stream",
     "text": [
      "[0.99936806 0.85765766] 0.8576576576576577\n",
      "You were missing N reference sequences: 0\n",
      "[0.99947968 0.88659794] 0.88659793814433\n",
      "You were missing N reference sequences: 0\n",
      "[0.9995331 0.8969697] 0.896969696969697\n",
      "You were missing N reference sequences: 0\n",
      "[0.99949524 0.88990826] 0.8899082568807339\n",
      "You were missing N reference sequences: 0\n",
      "[0.99941418 0.86575342] 0.8657534246575344\n",
      "You were missing N reference sequences: 0\n",
      "[0.99939163 0.85488127] 0.8548812664907652\n",
      "You were missing N reference sequences: 0\n",
      "[0.99936806 0.85765766] 0.8576576576576577\n",
      "You were missing N reference sequences: 0\n"
     ]
    },
    {
     "name": "stderr",
     "output_type": "stream",
     "text": [
      " 12%|███████████████                                                                                                              | 6/50 [00:01<00:08,  4.96it/s]"
     ]
    },
    {
     "name": "stdout",
     "output_type": "stream",
     "text": [
      "[0.99947968 0.88659794] 0.88659793814433\n",
      "You were missing N reference sequences: 0\n",
      "[0.9995331 0.8969697] 0.896969696969697\n",
      "You were missing N reference sequences: 0\n",
      "[0.99949524 0.88990826] 0.8899082568807339\n",
      "You were missing N reference sequences: 0\n",
      "[0.99941418 0.86575342] 0.8657534246575344\n",
      "You were missing N reference sequences: 0\n",
      "[0.99939163 0.85488127] 0.8548812664907652\n",
      "You were missing N reference sequences: 0\n",
      "[0.99936806 0.85765766] 0.8576576576576577\n",
      "You were missing N reference sequences: 0\n",
      "[0.99947968 0.88659794] 0.88659793814433\n"
     ]
    },
    {
     "name": "stderr",
     "output_type": "stream",
     "text": [
      " 14%|█████████████████▌                                                                                                           | 7/50 [00:01<00:08,  4.97it/s]"
     ]
    },
    {
     "name": "stdout",
     "output_type": "stream",
     "text": [
      "You were missing N reference sequences: 0\n",
      "[0.9995331 0.8969697] 0.896969696969697\n",
      "You were missing N reference sequences: 0\n",
      "[0.99949524 0.88990826] 0.8899082568807339\n",
      "You were missing N reference sequences: 0\n",
      "[0.99941418 0.86575342] 0.8657534246575344\n",
      "You were missing N reference sequences: 0\n",
      "[0.99939163 0.85488127] 0.8548812664907652\n",
      "You were missing N reference sequences: 0\n",
      "[0.99936806 0.85765766] 0.8576576576576577\n",
      "You were missing N reference sequences: 0\n",
      "[0.99947968 0.88659794] 0.88659793814433\n",
      "You were missing N reference sequences: 0\n"
     ]
    },
    {
     "name": "stderr",
     "output_type": "stream",
     "text": [
      " 16%|████████████████████                                                                                                         | 8/50 [00:01<00:08,  4.99it/s]"
     ]
    },
    {
     "name": "stdout",
     "output_type": "stream",
     "text": [
      "[0.9995331 0.8969697] 0.896969696969697\n",
      "You were missing N reference sequences: 0\n",
      "[0.99949524 0.88990826] 0.8899082568807339\n",
      "You were missing N reference sequences: 0\n",
      "[0.99941418 0.86575342] 0.8657534246575344\n",
      "You were missing N reference sequences: 0\n",
      "[0.99939163 0.85488127] 0.8548812664907652\n",
      "You were missing N reference sequences: 0\n",
      "[0.99936806 0.85765766] 0.8576576576576577\n",
      "You were missing N reference sequences: 0\n",
      "[0.99947968 0.88659794] 0.88659793814433\n",
      "You were missing N reference sequences: 0\n",
      "[0.9995331 0.8969697] 0.896969696969697\n"
     ]
    },
    {
     "name": "stderr",
     "output_type": "stream",
     "text": [
      " 18%|██████████████████████▌                                                                                                      | 9/50 [00:01<00:08,  5.01it/s]"
     ]
    },
    {
     "name": "stdout",
     "output_type": "stream",
     "text": [
      "You were missing N reference sequences: 0\n",
      "[0.99949524 0.88990826] 0.8899082568807339\n",
      "You were missing N reference sequences: 0\n",
      "[0.99941418 0.86575342] 0.8657534246575344\n",
      "You were missing N reference sequences: 0\n",
      "[0.99939163 0.85488127] 0.8548812664907652\n",
      "You were missing N reference sequences: 0\n",
      "[0.99936806 0.85765766] 0.8576576576576577\n",
      "You were missing N reference sequences: 0\n",
      "[0.99947968 0.88659794] 0.88659793814433\n",
      "You were missing N reference sequences: 0\n",
      "[0.9995331 0.8969697] 0.896969696969697\n",
      "You were missing N reference sequences: 0\n"
     ]
    },
    {
     "name": "stderr",
     "output_type": "stream",
     "text": [
      " 20%|████████████████████████▊                                                                                                   | 10/50 [00:02<00:07,  5.01it/s]"
     ]
    },
    {
     "name": "stdout",
     "output_type": "stream",
     "text": [
      "[0.99949524 0.88990826] 0.8899082568807339\n",
      "You were missing N reference sequences: 0\n",
      "[0.99941418 0.86575342] 0.8657534246575344\n",
      "You were missing N reference sequences: 0\n",
      "[0.99939163 0.85488127] 0.8548812664907652\n",
      "You were missing N reference sequences: 0\n",
      "[0.99936806 0.85765766] 0.8576576576576577\n",
      "You were missing N reference sequences: 0\n",
      "[0.99947968 0.88659794] 0.88659793814433\n",
      "You were missing N reference sequences: 0\n",
      "[0.9995331 0.8969697] 0.896969696969697\n",
      "You were missing N reference sequences: 0\n",
      "[0.99949524 0.88990826] 0.8899082568807339\n",
      "You were missing N reference sequences: 0\n"
     ]
    },
    {
     "name": "stderr",
     "output_type": "stream",
     "text": [
      " 24%|█████████████████████████████▊                                                                                              | 12/50 [00:02<00:07,  5.03it/s]"
     ]
    },
    {
     "name": "stdout",
     "output_type": "stream",
     "text": [
      "[0.99941418 0.86575342] 0.8657534246575344\n",
      "You were missing N reference sequences: 0\n",
      "[0.99939163 0.85488127] 0.8548812664907652\n",
      "You were missing N reference sequences: 0\n",
      "[0.99936806 0.85765766] 0.8576576576576577\n",
      "You were missing N reference sequences: 0\n",
      "[0.99947968 0.88659794] 0.88659793814433\n",
      "You were missing N reference sequences: 0\n",
      "[0.9995331 0.8969697] 0.896969696969697\n",
      "You were missing N reference sequences: 0\n",
      "[0.99949524 0.88990826] 0.8899082568807339\n",
      "You were missing N reference sequences: 0\n",
      "[0.99941418 0.86575342] 0.8657534246575344\n"
     ]
    },
    {
     "name": "stderr",
     "output_type": "stream",
     "text": [
      " 26%|████████████████████████████████▏                                                                                           | 13/50 [00:02<00:07,  5.02it/s]"
     ]
    },
    {
     "name": "stdout",
     "output_type": "stream",
     "text": [
      "You were missing N reference sequences: 0\n",
      "[0.99939163 0.85488127] 0.8548812664907652\n",
      "You were missing N reference sequences: 0\n",
      "[0.99936806 0.85765766] 0.8576576576576577\n",
      "You were missing N reference sequences: 0\n",
      "[0.99947968 0.88659794] 0.88659793814433\n",
      "You were missing N reference sequences: 0\n",
      "[0.9995331 0.8969697] 0.896969696969697\n",
      "You were missing N reference sequences: 0\n",
      "[0.99949524 0.88990826] 0.8899082568807339\n",
      "You were missing N reference sequences: 0\n",
      "[0.99941418 0.86575342] 0.8657534246575344\n",
      "You were missing N reference sequences: 0\n"
     ]
    },
    {
     "name": "stderr",
     "output_type": "stream",
     "text": [
      " 28%|██████████████████████████████████▋                                                                                         | 14/50 [00:02<00:07,  5.02it/s]"
     ]
    },
    {
     "name": "stdout",
     "output_type": "stream",
     "text": [
      "[0.99940265 0.859375  ] 0.8593750000000001\n",
      "You were missing N reference sequences: 0\n",
      "[0.99936004 0.85663082] 0.8566308243727598\n",
      "You were missing N reference sequences: 0\n",
      "[0.99952699 0.89690722] 0.8969072164948454\n",
      "You were missing N reference sequences: 0\n",
      "[0.99949188 0.88888889] 0.888888888888889\n",
      "You were missing N reference sequences: 0\n",
      "[0.9994847  0.88838269] 0.8883826879271072\n",
      "You were missing N reference sequences: 0\n",
      "[0.99940817 0.86567164] 0.8656716417910448\n",
      "You were missing N reference sequences: 0\n",
      "[0.99939159 0.85714286] 0.8571428571428571\n"
     ]
    },
    {
     "name": "stderr",
     "output_type": "stream",
     "text": [
      " 30%|█████████████████████████████████████▏                                                                                      | 15/50 [00:03<00:06,  5.02it/s]"
     ]
    },
    {
     "name": "stdout",
     "output_type": "stream",
     "text": [
      "You were missing N reference sequences: 0\n",
      "[0.99935204 0.85509839] 0.8550983899821109\n",
      "You were missing N reference sequences: 0\n",
      "[0.99950332 0.89230769] 0.8923076923076922\n",
      "You were missing N reference sequences: 0\n",
      "[0.99947814 0.88622754] 0.8862275449101796\n",
      "You were missing N reference sequences: 0\n",
      "[0.99947418 0.88636364] 0.8863636363636365\n",
      "You were missing N reference sequences: 0\n",
      "[0.99940817 0.86567164] 0.8656716417910448\n",
      "You were missing N reference sequences: 0\n",
      "[0.99936945 0.85271318] 0.8527131782945736\n",
      "You were missing N reference sequences: 0\n"
     ]
    },
    {
     "name": "stderr",
     "output_type": "stream",
     "text": [
      " 32%|███████████████████████████████████████▋                                                                                    | 16/50 [00:03<00:06,  5.02it/s]"
     ]
    },
    {
     "name": "stdout",
     "output_type": "stream",
     "text": [
      "[0.99931202 0.84697509] 0.8469750889679715\n",
      "You were missing N reference sequences: 0\n",
      "[0.99947966 0.8877551 ] 0.8877551020408163\n",
      "You were missing N reference sequences: 0\n",
      "[0.99943691 0.87833828] 0.8783382789317508\n",
      "You were missing N reference sequences: 0\n",
      "[0.99947418 0.88636364] 0.8863636363636365\n",
      "You were missing N reference sequences: 0\n",
      "[0.99940219 0.86449864] 0.86449864498645\n",
      "You were missing N reference sequences: 0\n",
      "[0.99936945 0.85271318] 0.8527131782945736\n",
      "You were missing N reference sequences: 0\n",
      "[0.99933602 0.85257549] 0.852575488454707\n",
      "You were missing N reference sequences: 0\n"
     ]
    },
    {
     "name": "stderr",
     "output_type": "stream",
     "text": [
      " 34%|██████████████████████████████████████████▏                                                                                 | 17/50 [00:03<00:06,  5.02it/s]"
     ]
    },
    {
     "name": "stdout",
     "output_type": "stream",
     "text": [
      "[0.99947966 0.8877551 ] 0.8877551020408163\n",
      "You were missing N reference sequences: 0\n",
      "[0.99943691 0.87833828] 0.8783382789317508\n",
      "You were missing N reference sequences: 0\n",
      "[0.99952676 0.89795918] 0.8979591836734694\n",
      "You were missing N reference sequences: 0\n",
      "[0.9994261  0.87027027] 0.8702702702702703\n",
      "You were missing N reference sequences: 0\n",
      "[0.99933624 0.84615385] 0.846153846153846\n",
      "You were missing N reference sequences: 0\n",
      "[0.99926398 0.83859649] 0.8385964912280702\n",
      "You were missing N reference sequences: 0\n",
      "[0.99940866 0.87437186] 0.8743718592964824\n",
      "You were missing N reference sequences: 0\n"
     ]
    },
    {
     "name": "stderr",
     "output_type": "stream",
     "text": [
      " 36%|████████████████████████████████████████████▋                                                                               | 18/50 [00:03<00:06,  5.02it/s]"
     ]
    },
    {
     "name": "stdout",
     "output_type": "stream",
     "text": [
      "[0.99943691 0.87833828] 0.8783382789317508\n",
      "You were missing N reference sequences: 0\n",
      "[0.99953728 0.9       ] 0.8999999999999999\n",
      "You were missing N reference sequences: 0\n",
      "[0.99936628 0.85866667] 0.8586666666666667\n",
      "You were missing N reference sequences: 0\n",
      "[0.99933624 0.84615385] 0.846153846153846\n",
      "You were missing N reference sequences: 0\n",
      "[0.99926398 0.83859649] 0.8385964912280702\n",
      "You were missing N reference sequences: 0\n",
      "[0.99940866 0.87437186] 0.8743718592964824\n",
      "You were missing N reference sequences: 0\n",
      "[0.99943691 0.87833828] 0.8783382789317508\n",
      "You were missing N reference sequences: 0\n"
     ]
    },
    {
     "name": "stderr",
     "output_type": "stream",
     "text": [
      " 38%|███████████████████████████████████████████████                                                                             | 19/50 [00:03<00:06,  5.03it/s]"
     ]
    },
    {
     "name": "stdout",
     "output_type": "stream",
     "text": [
      "[0.99954779 0.90249433] 0.9024943310657596\n",
      "You were missing N reference sequences: 0\n",
      "[0.99940214 0.86702128] 0.8670212765957447\n",
      "You were missing N reference sequences: 0\n",
      "[0.99931408 0.84263959] 0.8426395939086294\n",
      "You were missing N reference sequences: 0\n",
      "[0.99924794 0.83680556] 0.8368055555555556\n",
      "You were missing N reference sequences: 0\n",
      "[0.99931398 0.85714286] 0.8571428571428572\n",
      "You were missing N reference sequences: 0\n",
      "[0.99938193 0.86880466] 0.8688046647230321\n",
      "You were missing N reference sequences: 0\n",
      "[0.99949518 0.89237668] 0.8923766816143498\n"
     ]
    },
    {
     "name": "stderr",
     "output_type": "stream",
     "text": [
      " 40%|█████████████████████████████████████████████████▌                                                                          | 20/50 [00:04<00:05,  5.03it/s]"
     ]
    },
    {
     "name": "stdout",
     "output_type": "stream",
     "text": [
      "You were missing N reference sequences: 0\n",
      "[0.99938417 0.86465177] 0.8646517739816031\n",
      "You were missing N reference sequences: 0\n",
      "[0.99931407 0.84343434] 0.8434343434343435\n",
      "You were missing N reference sequences: 0\n",
      "[0.99923992 0.83592401] 0.8359240069084629\n",
      "You were missing N reference sequences: 0\n",
      "[0.99931398 0.85714286] 0.8571428571428572\n",
      "You were missing N reference sequences: 0\n",
      "[0.99938191 0.86956522] 0.8695652173913043\n",
      "You were missing N reference sequences: 0\n",
      "[0.99944258 0.88195991] 0.8819599109131403\n",
      "You were missing N reference sequences: 0\n"
     ]
    },
    {
     "name": "stderr",
     "output_type": "stream",
     "text": [
      " 44%|██████████████████████████████████████████████████████▌                                                                     | 22/50 [00:04<00:05,  5.02it/s]"
     ]
    },
    {
     "name": "stdout",
     "output_type": "stream",
     "text": [
      "[0.99940809 0.86990802] 0.8699080157687253\n",
      "You were missing N reference sequences: 0\n",
      "[0.9993362  0.84848485] 0.8484848484848486\n",
      "You were missing N reference sequences: 0\n",
      "[0.99921591 0.83103448] 0.8310344827586207\n",
      "You were missing N reference sequences: 0\n",
      "[0.99936129 0.86699507] 0.8669950738916256\n",
      "You were missing N reference sequences: 0\n",
      "[0.99940936 0.87608069] 0.8760806916426513\n",
      "You were missing N reference sequences: 0\n",
      "[0.9994636  0.88691796] 0.8869179600886917\n",
      "You were missing N reference sequences: 0\n",
      "[0.99939612 0.86797386] 0.8679738562091504\n"
     ]
    },
    {
     "name": "stderr",
     "output_type": "stream",
     "text": [
      " 46%|█████████████████████████████████████████████████████████                                                                   | 23/50 [00:04<00:05,  5.02it/s]"
     ]
    },
    {
     "name": "stdout",
     "output_type": "stream",
     "text": [
      "You were missing N reference sequences: 0\n",
      "[0.9993362  0.84848485] 0.8484848484848486\n",
      "You were missing N reference sequences: 0\n",
      "[0.99919189 0.82675815] 0.8267581475128644\n",
      "You were missing N reference sequences: 0\n",
      "[0.99936129 0.86699507] 0.8669950738916256\n",
      "You were missing N reference sequences: 0\n",
      "[0.99939564 0.87283237] 0.8728323699421965\n",
      "You were missing N reference sequences: 0\n",
      "[0.9994636  0.88691796] 0.8869179600886917\n",
      "You were missing N reference sequences: 0\n",
      "[0.99938416 0.86535948] 0.8653594771241832\n",
      "You were missing N reference sequences: 0\n"
     ]
    },
    {
     "name": "stderr",
     "output_type": "stream",
     "text": [
      " 48%|███████████████████████████████████████████████████████████▌                                                                | 24/50 [00:04<00:05,  5.00it/s]"
     ]
    },
    {
     "name": "stdout",
     "output_type": "stream",
     "text": [
      "[0.99932511 0.84711779] 0.8471177944862156\n",
      "You were missing N reference sequences: 0\n",
      "[0.99918386 0.82653061] 0.8265306122448979\n",
      "You were missing N reference sequences: 0\n",
      "[0.99936126 0.86829268] 0.8682926829268292\n",
      "You were missing N reference sequences: 0\n",
      "[0.99938189 0.870317  ] 0.8703170028818444\n",
      "You were missing N reference sequences: 0\n",
      "[0.99945308 0.88495575] 0.8849557522123894\n",
      "You were missing N reference sequences: 0\n",
      "[0.99934827 0.85825748] 0.8582574772431729\n",
      "You were missing N reference sequences: 0\n",
      "[0.99929189 0.84079602] 0.8407960199004976\n"
     ]
    },
    {
     "name": "stderr",
     "output_type": "stream",
     "text": [
      " 50%|██████████████████████████████████████████████████████████████                                                              | 25/50 [00:05<00:05,  4.98it/s]"
     ]
    },
    {
     "name": "stdout",
     "output_type": "stream",
     "text": [
      "You were missing N reference sequences: 0\n",
      "[0.99911985 0.81292517] 0.8129251700680273\n",
      "You were missing N reference sequences: 0\n",
      "[0.99929024 0.85576923] 0.8557692307692307\n",
      "You were missing N reference sequences: 0\n",
      "[0.99928573 0.85057471] 0.8505747126436782\n",
      "You were missing N reference sequences: 0\n",
      "[0.9993479  0.86283186] 0.8628318584070797\n",
      "You were missing N reference sequences: 0\n",
      "[0.99926455 0.84046693] 0.8404669260700388\n",
      "You were missing N reference sequences: 0\n",
      "[0.9991812  0.81862745] 0.8186274509803922\n",
      "You were missing N reference sequences: 0\n"
     ]
    },
    {
     "name": "stderr",
     "output_type": "stream",
     "text": [
      " 52%|████████████████████████████████████████████████████████████████▍                                                           | 26/50 [00:05<00:04,  4.98it/s]"
     ]
    },
    {
     "name": "stdout",
     "output_type": "stream",
     "text": [
      "[0.99900781 0.78983051] 0.7898305084745764\n",
      "You were missing N reference sequences: 0\n",
      "[0.9992666  0.85024155] 0.8502415458937197\n",
      "You were missing N reference sequences: 0\n",
      "[0.99909341 0.81142857] 0.8114285714285714\n",
      "You were missing N reference sequences: 0\n",
      "[0.99919011 0.83076923] 0.8307692307692308\n",
      "You were missing N reference sequences: 0\n",
      "[0.99919873 0.8286445 ] 0.8286445012787722\n",
      "You were missing N reference sequences: 0\n",
      "[0.9991812  0.81862745] 0.8186274509803922\n",
      "You were missing N reference sequences: 0\n",
      "[0.99900781 0.78983051] 0.7898305084745764\n",
      "You were missing N reference sequences: 0\n"
     ]
    },
    {
     "name": "stderr",
     "output_type": "stream",
     "text": [
      " 54%|██████████████████████████████████████████████████████████████████▉                                                         | 27/50 [00:05<00:04,  4.99it/s]"
     ]
    },
    {
     "name": "stdout",
     "output_type": "stream",
     "text": [
      "[0.9992666  0.85024155] 0.8502415458937197\n",
      "You were missing N reference sequences: 0\n",
      "[0.99906596 0.8045977 ] 0.8045977011494252\n",
      "You were missing N reference sequences: 0\n",
      "[0.99919011 0.83076923] 0.8307692307692308\n",
      "You were missing N reference sequences: 0\n",
      "[0.99917481 0.82352941] 0.823529411764706\n",
      "You were missing N reference sequences: 0\n",
      "[0.99914798 0.81265207] 0.8126520681265207\n",
      "You were missing N reference sequences: 0\n",
      "[0.99900781 0.78983051] 0.7898305084745764\n",
      "You were missing N reference sequences: 0\n",
      "[0.99924293 0.84615385] 0.8461538461538461\n",
      "You were missing N reference sequences: 0\n"
     ]
    },
    {
     "name": "stderr",
     "output_type": "stream",
     "text": [
      " 56%|█████████████████████████████████████████████████████████████████████▍                                                      | 28/50 [00:05<00:04,  5.00it/s]"
     ]
    },
    {
     "name": "stdout",
     "output_type": "stream",
     "text": [
      "[0.99906596 0.8045977 ] 0.8045977011494252\n",
      "You were missing N reference sequences: 0\n",
      "[0.99919011 0.83076923] 0.8307692307692308\n",
      "You were missing N reference sequences: 0\n",
      "[0.99917481 0.82352941] 0.823529411764706\n",
      "You were missing N reference sequences: 0\n",
      "[0.99911475 0.80676329] 0.8067632850241546\n",
      "You were missing N reference sequences: 0\n",
      "[0.99896778 0.78246206] 0.7824620573355817\n",
      "You were missing N reference sequences: 0\n",
      "[0.99919557 0.83809524] 0.8380952380952381\n",
      "You were missing N reference sequences: 0\n",
      "[0.99898349 0.78977273] 0.7897727272727273\n"
     ]
    },
    {
     "name": "stderr",
     "output_type": "stream",
     "text": [
      " 58%|███████████████████████████████████████████████████████████████████████▉                                                    | 29/50 [00:05<00:04,  5.00it/s]"
     ]
    },
    {
     "name": "stdout",
     "output_type": "stream",
     "text": [
      "You were missing N reference sequences: 0\n",
      "[0.99916906 0.82713348] 0.8271334792122538\n",
      "You were missing N reference sequences: 0\n",
      "[0.99910303 0.80916031] 0.8091603053435114\n",
      "You were missing N reference sequences: 0\n",
      "[0.99910367 0.80481928] 0.8048192771084337\n",
      "You were missing N reference sequences: 0\n",
      "[0.99892776 0.77441077] 0.7744107744107744\n",
      "You were missing N reference sequences: 0\n",
      "[0.99917189 0.83412322] 0.8341232227488152\n",
      "You were missing N reference sequences: 0\n",
      "[0.99895599 0.78531073] 0.7853107344632769\n",
      "You were missing N reference sequences: 0\n"
     ]
    },
    {
     "name": "stderr",
     "output_type": "stream",
     "text": [
      " 60%|██████████████████████████████████████████████████████████████████████████▍                                                 | 30/50 [00:06<00:04,  4.96it/s]"
     ]
    },
    {
     "name": "stdout",
     "output_type": "stream",
     "text": [
      "[0.99902166 0.80254777] 0.802547770700637\n",
      "You were missing N reference sequences: 0\n",
      "[0.99901922 0.79551122] 0.7955112219451372\n",
      "You were missing N reference sequences: 0\n",
      "[0.9990926  0.80288462] 0.8028846153846154\n",
      "You were missing N reference sequences: 0\n",
      "[0.99891975 0.77310924] 0.7731092436974789\n",
      "You were missing N reference sequences: 0\n",
      "[0.99914821 0.83018868] 0.8301886792452831\n",
      "You were missing N reference sequences: 0\n",
      "[0.99890098 0.77653631] 0.776536312849162\n",
      "You were missing N reference sequences: 0\n",
      "[0.99900062 0.79830149] 0.7983014861995753\n"
     ]
    },
    {
     "name": "stderr",
     "output_type": "stream",
     "text": [
      " 62%|████████████████████████████████████████████████████████████████████████████▉                                               | 31/50 [00:06<00:03,  4.97it/s]"
     ]
    },
    {
     "name": "stdout",
     "output_type": "stream",
     "text": [
      "You were missing N reference sequences: 0\n",
      "[0.99900724 0.79404467] 0.7940446650124068\n",
      "You were missing N reference sequences: 0\n",
      "[0.99889322 0.76851852] 0.7685185185185186\n",
      "You were missing N reference sequences: 0\n",
      "[0.99877556 0.74959083] 0.7495908346972177\n",
      "You were missing N reference sequences: 0\n",
      "[0.99881657 0.77876106] 0.7787610619469025\n",
      "You were missing N reference sequences: 0\n",
      "[0.99887347 0.77222222] 0.7722222222222221\n",
      "You were missing N reference sequences: 0\n",
      "[0.99892693 0.78571429] 0.7857142857142857\n",
      "You were missing N reference sequences: 0\n"
     ]
    },
    {
     "name": "stderr",
     "output_type": "stream",
     "text": [
      " 66%|█████████████████████████████████████████████████████████████████████████████████▊                                          | 33/50 [00:06<00:03,  4.99it/s]"
     ]
    },
    {
     "name": "stdout",
     "output_type": "stream",
     "text": [
      "[0.99896534 0.78668311] 0.7866831072749692\n",
      "You were missing N reference sequences: 0\n",
      "[0.99888214 0.76674365] 0.766743648960739\n",
      "You were missing N reference sequences: 0\n",
      "[0.99875953 0.74714519] 0.7471451876019576\n",
      "You were missing N reference sequences: 0\n",
      "[0.99879287 0.7753304 ] 0.7753303964757708\n",
      "You were missing N reference sequences: 0\n",
      "[0.99887347 0.77222222] 0.7722222222222221\n",
      "You were missing N reference sequences: 0\n",
      "[0.99891639 0.78406709] 0.7840670859538784\n",
      "You were missing N reference sequences: 0\n",
      "[0.99895936 0.78571429] 0.7857142857142856\n"
     ]
    },
    {
     "name": "stderr",
     "output_type": "stream",
     "text": [
      " 68%|████████████████████████████████████████████████████████████████████████████████████▎                                       | 34/50 [00:06<00:03,  5.00it/s]"
     ]
    },
    {
     "name": "stdout",
     "output_type": "stream",
     "text": [
      "You were missing N reference sequences: 0\n",
      "[0.99886    0.76212471] 0.7621247113163973\n",
      "You were missing N reference sequences: 0\n",
      "[0.99874353 0.74388254] 0.7438825448613378\n",
      "You were missing N reference sequences: 0\n",
      "[0.99879287 0.7753304 ] 0.7753303964757708\n",
      "You were missing N reference sequences: 0\n",
      "[0.99887347 0.77222222] 0.7722222222222221\n",
      "You were missing N reference sequences: 0\n",
      "[0.99893741 0.78914405] 0.7891440501043842\n",
      "You were missing N reference sequences: 0\n",
      "[0.99895932 0.78728606] 0.7872860635696821\n",
      "You were missing N reference sequences: 0\n"
     ]
    },
    {
     "name": "stderr",
     "output_type": "stream",
     "text": [
      " 70%|██████████████████████████████████████████████████████████████████████████████████████▊                                     | 35/50 [00:07<00:03,  4.98it/s]"
     ]
    },
    {
     "name": "stdout",
     "output_type": "stream",
     "text": [
      "[0.99886    0.76212471] 0.7621247113163973\n",
      "You were missing N reference sequences: 0\n",
      "[0.9987275  0.74146341] 0.7414634146341463\n",
      "You were missing N reference sequences: 0\n",
      "[0.99879287 0.7753304 ] 0.7753303964757708\n",
      "You were missing N reference sequences: 0\n",
      "[0.99887347 0.77222222] 0.7722222222222221\n",
      "You were missing N reference sequences: 0\n",
      "[0.99893741 0.78914405] 0.7891440501043842\n",
      "You were missing N reference sequences: 0\n",
      "[0.99894734 0.78536585] 0.7853658536585365\n",
      "You were missing N reference sequences: 0\n",
      "[0.9988046  0.75342466] 0.7534246575342466\n"
     ]
    },
    {
     "name": "stderr",
     "output_type": "stream",
     "text": [
      " 72%|█████████████████████████████████████████████████████████████████████████████████████████▎                                  | 36/50 [00:07<00:02,  4.98it/s]"
     ]
    },
    {
     "name": "stdout",
     "output_type": "stream",
     "text": [
      "You were missing N reference sequences: 0\n",
      "[0.99868743 0.73548387] 0.7354838709677419\n",
      "You were missing N reference sequences: 0\n",
      "[0.99879287 0.7753304 ] 0.7753303964757708\n",
      "You were missing N reference sequences: 0\n",
      "[0.99887347 0.77222222] 0.7722222222222221\n",
      "You were missing N reference sequences: 0\n",
      "[0.99891637 0.78496868] 0.7849686847599165\n",
      "You were missing N reference sequences: 0\n",
      "[0.99891142 0.77966102] 0.7796610169491525\n",
      "You were missing N reference sequences: 0\n",
      "[0.99876027 0.74660633] 0.746606334841629\n",
      "You were missing N reference sequences: 0\n"
     ]
    },
    {
     "name": "stderr",
     "output_type": "stream",
     "text": [
      " 74%|███████████████████████████████████████████████████████████████████████████████████████████▊                                | 37/50 [00:07<00:02,  4.99it/s]"
     ]
    },
    {
     "name": "stdout",
     "output_type": "stream",
     "text": [
      "[0.99865535 0.73162939] 0.731629392971246\n",
      "You were missing N reference sequences: 0\n",
      "[0.99872177 0.76521739] 0.7652173913043478\n",
      "You were missing N reference sequences: 0\n",
      "[0.99881852 0.76111111] 0.7611111111111112\n",
      "You were missing N reference sequences: 0\n",
      "[0.99891637 0.78496868] 0.7849686847599165\n",
      "You were missing N reference sequences: 0\n",
      "[0.99889348 0.77575758] 0.7757575757575758\n",
      "You were missing N reference sequences: 0\n",
      "[0.99874921 0.74376417] 0.7437641723356009\n",
      "You were missing N reference sequences: 0\n",
      "[0.99864734 0.73046252] 0.730462519936204\n",
      "You were missing N reference sequences: 0\n"
     ]
    },
    {
     "name": "stderr",
     "output_type": "stream",
     "text": [
      " 76%|██████████████████████████████████████████████████████████████████████████████████████████████▏                             | 38/50 [00:07<00:02,  4.99it/s]"
     ]
    },
    {
     "name": "stdout",
     "output_type": "stream",
     "text": [
      "[0.99872177 0.76521739] 0.7652173913043478\n",
      "You were missing N reference sequences: 0\n",
      "[0.99881852 0.76111111] 0.7611111111111112\n",
      "You were missing N reference sequences: 0\n",
      "[0.99890584 0.78333333] 0.7833333333333332\n",
      "You were missing N reference sequences: 0\n",
      "[0.99888751 0.77427184] 0.774271844660194\n",
      "You were missing N reference sequences: 0\n",
      "[0.99874921 0.74376417] 0.7437641723356009\n",
      "You were missing N reference sequences: 0\n",
      "[0.99864734 0.73046252] 0.730462519936204\n",
      "You were missing N reference sequences: 0\n",
      "[0.99872177 0.76521739] 0.7652173913043478\n"
     ]
    },
    {
     "name": "stderr",
     "output_type": "stream",
     "text": [
      " 78%|████████████████████████████████████████████████████████████████████████████████████████████████▋                           | 39/50 [00:07<00:02,  4.98it/s]"
     ]
    },
    {
     "name": "stdout",
     "output_type": "stream",
     "text": [
      "You were missing N reference sequences: 0\n",
      "[0.99879108 0.75418994] 0.7541899441340784\n",
      "You were missing N reference sequences: 0\n",
      "[0.99888482 0.77824268] 0.7782426778242678\n",
      "You were missing N reference sequences: 0\n",
      "[0.99887556 0.77128954] 0.7712895377128954\n",
      "You were missing N reference sequences: 0\n",
      "[0.99871596 0.73873874] 0.7387387387387386\n",
      "You were missing N reference sequences: 0\n",
      "[0.99863935 0.7284345 ] 0.7284345047923324\n",
      "You were missing N reference sequences: 0\n",
      "[0.99865066 0.75536481] 0.7553648068669527\n",
      "You were missing N reference sequences: 0\n"
     ]
    },
    {
     "name": "stderr",
     "output_type": "stream",
     "text": [
      " 80%|███████████████████████████████████████████████████████████████████████████████████████████████████▏                        | 40/50 [00:08<00:02,  4.99it/s]"
     ]
    },
    {
     "name": "stdout",
     "output_type": "stream",
     "text": [
      "[0.99874981 0.74792244] 0.7479224376731302\n",
      "You were missing N reference sequences: 0\n",
      "[0.99885322 0.77338877] 0.7733887733887733\n",
      "You were missing N reference sequences: 0\n",
      "[0.99885161 0.76755448] 0.7675544794188863\n",
      "You were missing N reference sequences: 0\n",
      "[0.99869379 0.73542601] 0.7354260089686099\n",
      "You were missing N reference sequences: 0\n",
      "[0.99860733 0.72204473] 0.7220447284345047\n",
      "You were missing N reference sequences: 0\n",
      "[0.99865066 0.75536481] 0.7553648068669527\n",
      "You were missing N reference sequences: 0\n",
      "[0.9987223  0.74380165] 0.7438016528925621\n"
     ]
    },
    {
     "name": "stderr",
     "output_type": "stream",
     "text": [
      " 82%|█████████████████████████████████████████████████████████████████████████████████████████████████████▋                      | 41/50 [00:08<00:01,  5.00it/s]"
     ]
    },
    {
     "name": "stdout",
     "output_type": "stream",
     "text": [
      "You were missing N reference sequences: 0\n",
      "[0.99884269 0.77178423] 0.7717842323651453\n",
      "You were missing N reference sequences: 0\n",
      "[0.99883364 0.76477684] 0.7647768395657418\n",
      "You were missing N reference sequences: 0\n",
      "[0.99868274 0.73258427] 0.7325842696629213\n",
      "You were missing N reference sequences: 0\n",
      "[0.99859132 0.71884984] 0.7188498402555912\n",
      "You were missing N reference sequences: 0\n",
      "[0.99865066 0.75536481] 0.7553648068669527\n",
      "You were missing N reference sequences: 0\n",
      "[0.9987223  0.74380165] 0.7438016528925621\n",
      "You were missing N reference sequences: 0\n"
     ]
    },
    {
     "name": "stderr",
     "output_type": "stream",
     "text": [
      " 84%|████████████████████████████████████████████████████████████████████████████████████████████████████████▏                   | 42/50 [00:08<00:01,  4.99it/s]"
     ]
    },
    {
     "name": "stdout",
     "output_type": "stream",
     "text": [
      "[0.99884269 0.77178423] 0.7717842323651453\n",
      "You were missing N reference sequences: 0\n",
      "[0.99883364 0.76477684] 0.7647768395657418\n",
      "You were missing N reference sequences: 0\n",
      "[0.99868274 0.73258427] 0.7325842696629213\n",
      "You were missing N reference sequences: 0\n",
      "[0.99857529 0.71656051] 0.7165605095541403\n",
      "You were missing N reference sequences: 0\n",
      "[0.99865066 0.75536481] 0.7553648068669527\n",
      "You were missing N reference sequences: 0\n",
      "[0.9987223  0.74380165] 0.7438016528925621\n",
      "You were missing N reference sequences: 0\n",
      "[0.99884269 0.77178423] 0.7717842323651453\n"
     ]
    },
    {
     "name": "stderr",
     "output_type": "stream",
     "text": [
      " 86%|██████████████████████████████████████████████████████████████████████████████████████████████████████████▋                 | 43/50 [00:08<00:01,  4.98it/s]"
     ]
    },
    {
     "name": "stdout",
     "output_type": "stream",
     "text": [
      "You were missing N reference sequences: 0\n",
      "[0.99882765 0.76385542] 0.7638554216867471\n",
      "You were missing N reference sequences: 0\n",
      "[0.99868274 0.73258427] 0.7325842696629213\n",
      "You were missing N reference sequences: 0\n",
      "[0.99855926 0.71428571] 0.7142857142857142\n",
      "You were missing N reference sequences: 0\n",
      "[0.99865066 0.75536481] 0.7553648068669527\n",
      "You were missing N reference sequences: 0\n",
      "[0.9987223  0.74380165] 0.7438016528925621\n",
      "You were missing N reference sequences: 0\n",
      "[0.99884269 0.77178423] 0.7717842323651453\n",
      "You were missing N reference sequences: 0\n"
     ]
    },
    {
     "name": "stderr",
     "output_type": "stream",
     "text": [
      " 90%|███████████████████████████████████████████████████████████████████████████████████████████████████████████████▌            | 45/50 [00:09<00:01,  4.99it/s]"
     ]
    },
    {
     "name": "stdout",
     "output_type": "stream",
     "text": [
      "[0.99881568 0.76201923] 0.7620192307692307\n",
      "You were missing N reference sequences: 0\n",
      "[0.99868274 0.73258427] 0.7325842696629213\n",
      "You were missing N reference sequences: 0\n",
      "[0.99855125 0.71315372] 0.7131537242472267\n",
      "You were missing N reference sequences: 0\n",
      "[0.99865066 0.75536481] 0.7553648068669527\n",
      "You were missing N reference sequences: 0\n",
      "[0.99870854 0.74175824] 0.7417582417582418\n",
      "You were missing N reference sequences: 0\n",
      "[0.99882162 0.76859504] 0.768595041322314\n",
      "You were missing N reference sequences: 0\n",
      "[0.99880969 0.76110444] 0.7611044417767108\n"
     ]
    },
    {
     "name": "stderr",
     "output_type": "stream",
     "text": [
      " 92%|██████████████████████████████████████████████████████████████████████████████████████████████████████████████████          | 46/50 [00:09<00:00,  4.98it/s]"
     ]
    },
    {
     "name": "stdout",
     "output_type": "stream",
     "text": [
      "You were missing N reference sequences: 0\n",
      "[0.99868274 0.73258427] 0.7325842696629213\n",
      "You were missing N reference sequences: 0\n",
      "[0.99855125 0.71315372] 0.7131537242472267\n",
      "You were missing N reference sequences: 0\n",
      "[0.99865066 0.75536481] 0.7553648068669527\n",
      "You were missing N reference sequences: 0\n",
      "[0.99870854 0.74175824] 0.7417582417582418\n",
      "You were missing N reference sequences: 0\n",
      "[0.99881109 0.76701031] 0.7670103092783506\n",
      "You were missing N reference sequences: 0\n",
      "[0.99880969 0.76110444] 0.7611044417767108\n",
      "You were missing N reference sequences: 0\n"
     ]
    },
    {
     "name": "stderr",
     "output_type": "stream",
     "text": [
      " 94%|████████████████████████████████████████████████████████████████████████████████████████████████████████████████████▌       | 47/50 [00:09<00:00,  4.99it/s]"
     ]
    },
    {
     "name": "stdout",
     "output_type": "stream",
     "text": [
      "[0.99868274 0.73258427] 0.7325842696629213\n",
      "You were missing N reference sequences: 0\n",
      "[0.99855125 0.71315372] 0.7131537242472267\n",
      "You were missing N reference sequences: 0\n",
      "[0.99865066 0.75536481] 0.7553648068669527\n",
      "You were missing N reference sequences: 0\n",
      "[0.99870854 0.74175824] 0.7417582417582418\n",
      "You were missing N reference sequences: 0\n",
      "[0.99881109 0.76701031] 0.7670103092783506\n",
      "You were missing N reference sequences: 0\n",
      "[0.99878573 0.75746714] 0.7574671445639188\n",
      "You were missing N reference sequences: 0\n",
      "[0.99868274 0.73258427] 0.7325842696629213\n"
     ]
    },
    {
     "name": "stderr",
     "output_type": "stream",
     "text": [
      " 96%|███████████████████████████████████████████████████████████████████████████████████████████████████████████████████████     | 48/50 [00:09<00:00,  4.98it/s]"
     ]
    },
    {
     "name": "stdout",
     "output_type": "stream",
     "text": [
      "You were missing N reference sequences: 0\n",
      "[0.99855125 0.71315372] 0.7131537242472267\n",
      "You were missing N reference sequences: 0\n",
      "[0.99865066 0.75536481] 0.7553648068669527\n",
      "You were missing N reference sequences: 0\n",
      "[0.99866727 0.73569482] 0.7356948228882835\n",
      "You were missing N reference sequences: 0\n",
      "[0.99877949 0.76229508] 0.762295081967213\n",
      "You were missing N reference sequences: 0\n",
      "[0.99878573 0.75746714] 0.7574671445639188\n",
      "You were missing N reference sequences: 0\n",
      "[0.99868274 0.73258427] 0.7325842696629213\n",
      "You were missing N reference sequences: 0\n"
     ]
    },
    {
     "name": "stderr",
     "output_type": "stream",
     "text": [
      " 98%|█████████████████████████████████████████████████████████████████████████████████████████████████████████████████████████▌  | 49/50 [00:09<00:00,  4.99it/s]"
     ]
    },
    {
     "name": "stdout",
     "output_type": "stream",
     "text": [
      "[0.99854323 0.71202532] 0.7120253164556961\n",
      "You were missing N reference sequences: 0\n",
      "[0.99865066 0.75536481] 0.7553648068669527\n",
      "You were missing N reference sequences: 0\n",
      "[0.99866727 0.73569482] 0.7356948228882835\n",
      "You were missing N reference sequences: 0\n",
      "[0.99877949 0.76229508] 0.762295081967213\n",
      "You were missing N reference sequences: 0\n",
      "[0.99878573 0.75746714] 0.7574671445639188\n",
      "You were missing N reference sequences: 0\n",
      "[0.99868274 0.73258427] 0.7325842696629213\n",
      "You were missing N reference sequences: 0\n",
      "[0.99854323 0.71202532] 0.7120253164556961\n"
     ]
    },
    {
     "name": "stderr",
     "output_type": "stream",
     "text": [
      "100%|████████████████████████████████████████████████████████████████████████████████████████████████████████████████████████████| 50/50 [00:10<00:00,  4.99it/s]"
     ]
    },
    {
     "name": "stdout",
     "output_type": "stream",
     "text": [
      "You were missing N reference sequences: 0\n",
      "[0.99865066 0.75536481] 0.7553648068669527\n",
      "You were missing N reference sequences: 0\n",
      "[0.99866727 0.73569482] 0.7356948228882835\n",
      "You were missing N reference sequences: 0\n",
      "[0.99877949 0.76229508] 0.762295081967213\n",
      "You were missing N reference sequences: 0\n",
      "[0.99878573 0.75746714] 0.7574671445639188\n"
     ]
    },
    {
     "name": "stderr",
     "output_type": "stream",
     "text": [
      "\n"
     ]
    }
   ],
   "source": [
    "def ensemble_predictions(df, blast_col, squidly_col, seq_id_col, squidly_similarity_cutoff=30):\n",
    "    # Basically we update the choice of blast and squidly based on the cutoff \n",
    "    chosen_residues = []\n",
    "    for blast_res, squidly_res, seq_id in df[[blast_col, squidly_col, seq_id_col]].values:\n",
    "        # Also check if both are here otherwise pick the other one that was predicted\n",
    "        if not isinstance(blast_res, str):\n",
    "            chosen_residues.append(squidly_res)\n",
    "        elif not isinstance(squidly_res, str):\n",
    "            chosen_residues.append(blast_res)\n",
    "        elif seq_id < squidly_similarity_cutoff:\n",
    "            chosen_residues.append(squidly_res)\n",
    "        elif seq_id >= squidly_similarity_cutoff:\n",
    "            chosen_residues.append(blast_res)\n",
    "        else:\n",
    "            chosen_residues.append(None)\n",
    "    df['chosen_residues'] = chosen_residues\n",
    "    return df\n",
    "\n",
    "rows = []\n",
    "entry_to_squidly_prediction = {}\n",
    "for squidly_cutoff in tqdm(range(0, 100, 2)):\n",
    "    for df_label in results:\n",
    "        if df_label == 'label':\n",
    "            continue\n",
    "        df = results[df_label]\n",
    "        squidly_df = pd.read_pickle(f'data/AEGAN/squidly/squidly_as_pred_{df_label.replace(\"_BLAST\", \"\")}')\n",
    "        squidly_df.set_index('label', inplace=True)\n",
    "        df = df.join(squidly_df, how='left')\n",
    "        for query, pred in df[['From', 'Squidly_CR_Position']].values:\n",
    "            entry_to_squidly_prediction[query] = pred\n",
    "        # 'From', 'True_residues', 'BLAST_residues', 'Sequence'\n",
    "        tmp_df = ensemble_predictions(df, 'BLAST_residues', 'Squidly_CR_Position', 'sequence identity', squidly_cutoff)\n",
    "        precision, recall, f1, support, agree, disagree, no_pred, mean_agreement = calculate_stats(tmp_df, 'From', 'True_residues', 'chosen_residues', 'Sequence')\n",
    "        rows.append([df_label.replace(\".pkl\", \"\"), squidly_cutoff, f1, precision, recall, support, agree, disagree, no_pred, mean_agreement])\n"
   ]
  },
  {
   "cell_type": "markdown",
   "id": "ba9fb69f-1db1-40ec-a7f8-4e193d51b347",
   "metadata": {},
   "source": [
    "# Check the recovery rate of those 78 sequences "
   ]
  },
  {
   "cell_type": "code",
   "execution_count": 140,
   "id": "c9326dce-50bb-4426-be90-55bb4fecd4dc",
   "metadata": {},
   "outputs": [
    {
     "name": "stdout",
     "output_type": "stream",
     "text": [
      "You were missing N reference sequences: 0\n",
      "[0.99876777 0.7547619 ] 0.7547619047619049\n"
     ]
    },
    {
     "data": {
      "text/plain": [
       "(0.673036093418259,\n",
       " 0.8590785907859079,\n",
       " 0.7547619047619049,\n",
       " 369,\n",
       " 0.5204081632653061,\n",
       " 0.44387755102040816,\n",
       " 0.03571428571428571,\n",
       " 0.7241861030126335)"
      ]
     },
     "execution_count": 140,
     "metadata": {},
     "output_type": "execute_result"
    }
   ],
   "source": [
    "# No\n",
    "missing_blast_seq['Squidly_CR_Position'] = [entry_to_squidly_prediction[q] for q in missing_blast_seq['From'].values]\n",
    "precision, recall, f1, support, agree, disagree, no_pred, mean_agreement = calculate_stats(tmp_df, 'From', 'True_residues', 'Squidly_CR_Position', 'Sequence')\n",
    "precision, recall, f1, support, agree, disagree, no_pred, mean_agreement"
   ]
  },
  {
   "cell_type": "code",
   "execution_count": 141,
   "id": "114e3852-2d07-48e6-b189-fd77e68dcbec",
   "metadata": {},
   "outputs": [],
   "source": [
    "df = pd.DataFrame(rows, columns=['Dataset', '% cutoff', 'F1', 'Precision', 'Recall', 'Support', '% fully correct', ' % with difference', ' % missing', 'Mean correct'])\n",
    "df['Dataset'] = [d.replace('_BLAST', '') for d in df['Dataset'].values]\n",
    "df.to_csv('data/Ensemble_Squidly_AEGAN_3B.csv', index=False)"
   ]
  },
  {
   "cell_type": "code",
   "execution_count": 142,
   "id": "57a8adcc-465e-458b-997c-07b595794f2d",
   "metadata": {},
   "outputs": [],
   "source": [
    "def make_figure(df, x, y, hue, filename):\n",
    "    ax = sns.lineplot(df, x=x, y=y, hue=hue, hue_order=order, palette=colors, legend=None)\n",
    "    ax.axvline(30, c='black', linestyle = 'dashed')\n",
    "    ax = sns.scatterplot(df, x=x, y=y, hue=hue, \n",
    "                         hue_order=order, ax=ax,\n",
    "                         palette=colors, s=10, legend=None)\n",
    "    for i, ds in enumerate(order):\n",
    "        ax.axhline(dataset_to_blast.get(ds).get(y.lower()), c=colors[i], linestyle='dashed')\n",
    "    ax = clean_plt(ax)\n",
    "    plt.title(f'{filename.replace(\".svg\", \"\")}')\n",
    "    plt.ylim(0.45, 1.0)\n",
    "    plt.xlim(15, 75)\n",
    "    plt.savefig(f'figures/{filename}')\n",
    "    plt.show()\n",
    "    "
   ]
  },
  {
   "cell_type": "code",
   "execution_count": 143,
   "id": "6267d2c0-c396-482d-8c2d-cb60d9df45a7",
   "metadata": {},
   "outputs": [
    {
     "data": {
      "image/png": "[encoded data removed]",
      "text/plain": [
       "<Figure size 300x300 with 1 Axes>"
      ]
     },
     "metadata": {},
     "output_type": "display_data"
    },
    {
     "data": {
      "image/png": "[encoded data removed]",
      "text/plain": [
       "<Figure size 300x300 with 1 Axes>"
      ]
     },
     "metadata": {},
     "output_type": "display_data"
    },
    {
     "data": {
      "image/png": "[encoded data removed]",
      "text/plain": [
       "<Figure size 300x300 with 1 Axes>"
      ]
     },
     "metadata": {},
     "output_type": "display_data"
    }
   ],
   "source": [
    "make_figure(df, x='% cutoff', y='F1', hue='Dataset', filename='AEGAN_3B_F1.svg')\n",
    "make_figure(df, x='% cutoff', y='Recall', hue='Dataset', filename='AEGAN_3B_Recall.svg')\n",
    "make_figure(df, x='% cutoff', y='Precision', hue='Dataset', filename='AEGAN_3B_Precision.svg')"
   ]
  },
  {
   "cell_type": "code",
   "execution_count": 144,
   "id": "da74179a-968b-4dea-8a75-1d05e8c96842",
   "metadata": {},
   "outputs": [
    {
     "data": {
      "text/html": [
       "<div>\n",
       "<style scoped>\n",
       "    .dataframe tbody tr th:only-of-type {\n",
       "        vertical-align: middle;\n",
       "    }\n",
       "\n",
       "    .dataframe tbody tr th {\n",
       "        vertical-align: top;\n",
       "    }\n",
       "\n",
       "    .dataframe thead th {\n",
       "        text-align: right;\n",
       "    }\n",
       "</style>\n",
       "<table border=\"1\" class=\"dataframe\">\n",
       "  <thead>\n",
       "    <tr style=\"text-align: right;\">\n",
       "      <th></th>\n",
       "      <th>Dataset</th>\n",
       "      <th>% cutoff</th>\n",
       "      <th>F1</th>\n",
       "      <th>Precision</th>\n",
       "      <th>Recall</th>\n",
       "      <th>Support</th>\n",
       "      <th>% fully correct</th>\n",
       "      <th>% with difference</th>\n",
       "      <th>% missing</th>\n",
       "      <th>Mean correct</th>\n",
       "    </tr>\n",
       "  </thead>\n",
       "  <tbody>\n",
       "    <tr>\n",
       "      <th>90</th>\n",
       "      <td>NN</td>\n",
       "      <td>30</td>\n",
       "      <td>0.852713</td>\n",
       "      <td>0.854922</td>\n",
       "      <td>0.850515</td>\n",
       "      <td>194</td>\n",
       "      <td>0.731481</td>\n",
       "      <td>0.250000</td>\n",
       "      <td>0.018519</td>\n",
       "      <td>0.822377</td>\n",
       "    </tr>\n",
       "    <tr>\n",
       "      <th>91</th>\n",
       "      <td>HA_superfamily</td>\n",
       "      <td>30</td>\n",
       "      <td>0.846975</td>\n",
       "      <td>0.829268</td>\n",
       "      <td>0.865455</td>\n",
       "      <td>275</td>\n",
       "      <td>0.697368</td>\n",
       "      <td>0.289474</td>\n",
       "      <td>0.013158</td>\n",
       "      <td>0.801974</td>\n",
       "    </tr>\n",
       "    <tr>\n",
       "      <th>92</th>\n",
       "      <td>PC</td>\n",
       "      <td>30</td>\n",
       "      <td>0.887755</td>\n",
       "      <td>0.896907</td>\n",
       "      <td>0.878788</td>\n",
       "      <td>99</td>\n",
       "      <td>0.763636</td>\n",
       "      <td>0.218182</td>\n",
       "      <td>0.018182</td>\n",
       "      <td>0.843939</td>\n",
       "    </tr>\n",
       "    <tr>\n",
       "      <th>93</th>\n",
       "      <td>EF_fold</td>\n",
       "      <td>30</td>\n",
       "      <td>0.878338</td>\n",
       "      <td>0.860465</td>\n",
       "      <td>0.896970</td>\n",
       "      <td>165</td>\n",
       "      <td>0.731183</td>\n",
       "      <td>0.258065</td>\n",
       "      <td>0.010753</td>\n",
       "      <td>0.822939</td>\n",
       "    </tr>\n",
       "    <tr>\n",
       "      <th>94</th>\n",
       "      <td>EF_superfamily</td>\n",
       "      <td>30</td>\n",
       "      <td>0.886364</td>\n",
       "      <td>0.882353</td>\n",
       "      <td>0.890411</td>\n",
       "      <td>219</td>\n",
       "      <td>0.772358</td>\n",
       "      <td>0.227642</td>\n",
       "      <td>0.000000</td>\n",
       "      <td>0.849458</td>\n",
       "    </tr>\n",
       "    <tr>\n",
       "      <th>95</th>\n",
       "      <td>EF_family</td>\n",
       "      <td>30</td>\n",
       "      <td>0.864499</td>\n",
       "      <td>0.864499</td>\n",
       "      <td>0.864499</td>\n",
       "      <td>369</td>\n",
       "      <td>0.760204</td>\n",
       "      <td>0.229592</td>\n",
       "      <td>0.010204</td>\n",
       "      <td>0.848299</td>\n",
       "    </tr>\n",
       "  </tbody>\n",
       "</table>\n",
       "</div>"
      ],
      "text/plain": [
       "           Dataset  % cutoff        F1  Precision    Recall  Support  \\\n",
       "90              NN        30  0.852713   0.854922  0.850515      194   \n",
       "91  HA_superfamily        30  0.846975   0.829268  0.865455      275   \n",
       "92              PC        30  0.887755   0.896907  0.878788       99   \n",
       "93         EF_fold        30  0.878338   0.860465  0.896970      165   \n",
       "94  EF_superfamily        30  0.886364   0.882353  0.890411      219   \n",
       "95       EF_family        30  0.864499   0.864499  0.864499      369   \n",
       "\n",
       "    % fully correct   % with difference   % missing  Mean correct  \n",
       "90         0.731481            0.250000    0.018519      0.822377  \n",
       "91         0.697368            0.289474    0.013158      0.801974  \n",
       "92         0.763636            0.218182    0.018182      0.843939  \n",
       "93         0.731183            0.258065    0.010753      0.822939  \n",
       "94         0.772358            0.227642    0.000000      0.849458  \n",
       "95         0.760204            0.229592    0.010204      0.848299  "
      ]
     },
     "execution_count": 144,
     "metadata": {},
     "output_type": "execute_result"
    }
   ],
   "source": [
    "df[df['% cutoff'] == 30]"
   ]
  },
  {
   "cell_type": "code",
   "execution_count": 145,
   "id": "43fd143f-ae0d-4d28-8b61-8b2f0fd7b864",
   "metadata": {},
   "outputs": [
    {
     "data": {
      "text/html": [
       "<div>\n",
       "<style scoped>\n",
       "    .dataframe tbody tr th:only-of-type {\n",
       "        vertical-align: middle;\n",
       "    }\n",
       "\n",
       "    .dataframe tbody tr th {\n",
       "        vertical-align: top;\n",
       "    }\n",
       "\n",
       "    .dataframe thead th {\n",
       "        text-align: right;\n",
       "    }\n",
       "</style>\n",
       "<table border=\"1\" class=\"dataframe\">\n",
       "  <thead>\n",
       "    <tr style=\"text-align: right;\">\n",
       "      <th></th>\n",
       "      <th>Dataset</th>\n",
       "      <th>% cutoff</th>\n",
       "      <th>F1</th>\n",
       "      <th>Precision</th>\n",
       "      <th>Recall</th>\n",
       "      <th>Support</th>\n",
       "      <th>% fully correct</th>\n",
       "      <th>% with difference</th>\n",
       "      <th>% missing</th>\n",
       "      <th>Mean correct</th>\n",
       "    </tr>\n",
       "  </thead>\n",
       "  <tbody>\n",
       "    <tr>\n",
       "      <th>120</th>\n",
       "      <td>NN</td>\n",
       "      <td>40</td>\n",
       "      <td>0.843434</td>\n",
       "      <td>0.826733</td>\n",
       "      <td>0.860825</td>\n",
       "      <td>194</td>\n",
       "      <td>0.731481</td>\n",
       "      <td>0.250000</td>\n",
       "      <td>0.018519</td>\n",
       "      <td>0.830247</td>\n",
       "    </tr>\n",
       "    <tr>\n",
       "      <th>121</th>\n",
       "      <td>HA_superfamily</td>\n",
       "      <td>40</td>\n",
       "      <td>0.835924</td>\n",
       "      <td>0.796053</td>\n",
       "      <td>0.880000</td>\n",
       "      <td>275</td>\n",
       "      <td>0.684211</td>\n",
       "      <td>0.302632</td>\n",
       "      <td>0.013158</td>\n",
       "      <td>0.806360</td>\n",
       "    </tr>\n",
       "    <tr>\n",
       "      <th>122</th>\n",
       "      <td>PC</td>\n",
       "      <td>40</td>\n",
       "      <td>0.857143</td>\n",
       "      <td>0.836538</td>\n",
       "      <td>0.878788</td>\n",
       "      <td>99</td>\n",
       "      <td>0.745455</td>\n",
       "      <td>0.236364</td>\n",
       "      <td>0.018182</td>\n",
       "      <td>0.842727</td>\n",
       "    </tr>\n",
       "    <tr>\n",
       "      <th>123</th>\n",
       "      <td>EF_fold</td>\n",
       "      <td>40</td>\n",
       "      <td>0.869565</td>\n",
       "      <td>0.833333</td>\n",
       "      <td>0.909091</td>\n",
       "      <td>165</td>\n",
       "      <td>0.709677</td>\n",
       "      <td>0.279570</td>\n",
       "      <td>0.010753</td>\n",
       "      <td>0.819534</td>\n",
       "    </tr>\n",
       "    <tr>\n",
       "      <th>124</th>\n",
       "      <td>EF_superfamily</td>\n",
       "      <td>40</td>\n",
       "      <td>0.881960</td>\n",
       "      <td>0.860870</td>\n",
       "      <td>0.904110</td>\n",
       "      <td>219</td>\n",
       "      <td>0.739837</td>\n",
       "      <td>0.260163</td>\n",
       "      <td>0.000000</td>\n",
       "      <td>0.852304</td>\n",
       "    </tr>\n",
       "    <tr>\n",
       "      <th>125</th>\n",
       "      <td>EF_family</td>\n",
       "      <td>40</td>\n",
       "      <td>0.869908</td>\n",
       "      <td>0.844388</td>\n",
       "      <td>0.897019</td>\n",
       "      <td>369</td>\n",
       "      <td>0.755102</td>\n",
       "      <td>0.234694</td>\n",
       "      <td>0.010204</td>\n",
       "      <td>0.860046</td>\n",
       "    </tr>\n",
       "  </tbody>\n",
       "</table>\n",
       "</div>"
      ],
      "text/plain": [
       "            Dataset  % cutoff        F1  Precision    Recall  Support  \\\n",
       "120              NN        40  0.843434   0.826733  0.860825      194   \n",
       "121  HA_superfamily        40  0.835924   0.796053  0.880000      275   \n",
       "122              PC        40  0.857143   0.836538  0.878788       99   \n",
       "123         EF_fold        40  0.869565   0.833333  0.909091      165   \n",
       "124  EF_superfamily        40  0.881960   0.860870  0.904110      219   \n",
       "125       EF_family        40  0.869908   0.844388  0.897019      369   \n",
       "\n",
       "     % fully correct   % with difference   % missing  Mean correct  \n",
       "120         0.731481            0.250000    0.018519      0.830247  \n",
       "121         0.684211            0.302632    0.013158      0.806360  \n",
       "122         0.745455            0.236364    0.018182      0.842727  \n",
       "123         0.709677            0.279570    0.010753      0.819534  \n",
       "124         0.739837            0.260163    0.000000      0.852304  \n",
       "125         0.755102            0.234694    0.010204      0.860046  "
      ]
     },
     "execution_count": 145,
     "metadata": {},
     "output_type": "execute_result"
    }
   ],
   "source": [
    "df[df['% cutoff'] == 40]"
   ]
  },
  {
   "cell_type": "code",
   "execution_count": 146,
   "id": "32772a9a-be4a-4a68-8503-954622e7ec20",
   "metadata": {},
   "outputs": [
    {
     "name": "stderr",
     "output_type": "stream",
     "text": [
      "  2%|██▌                                                                                                                          | 1/50 [00:00<00:09,  5.03it/s]"
     ]
    },
    {
     "name": "stdout",
     "output_type": "stream",
     "text": [
      "You were missing N reference sequences: 0\n",
      "[0.99940271 0.85638298] 0.8563829787234043\n",
      "You were missing N reference sequences: 0\n",
      "[0.99939206 0.86281588] 0.8628158844765343\n",
      "You were missing N reference sequences: 0\n",
      "[0.99947968 0.88659794] 0.88659793814433\n",
      "You were missing N reference sequences: 0\n",
      "[0.99956056 0.9030303 ] 0.9030303030303031\n",
      "You were missing N reference sequences: 0\n",
      "[0.99951628 0.89400922] 0.8940092165898617\n",
      "You were missing N reference sequences: 0\n",
      "[0.9994441  0.87101248] 0.871012482662968\n",
      "You were missing N reference sequences: 0\n"
     ]
    },
    {
     "name": "stderr",
     "output_type": "stream",
     "text": [
      "  4%|█████                                                                                                                        | 2/50 [00:00<00:09,  5.05it/s]"
     ]
    },
    {
     "name": "stdout",
     "output_type": "stream",
     "text": [
      "[0.99940271 0.85638298] 0.8563829787234043\n",
      "You were missing N reference sequences: 0\n",
      "[0.99939206 0.86281588] 0.8628158844765343\n",
      "You were missing N reference sequences: 0\n",
      "[0.99947968 0.88659794] 0.88659793814433\n",
      "You were missing N reference sequences: 0\n",
      "[0.99956056 0.9030303 ] 0.9030303030303031\n",
      "You were missing N reference sequences: 0\n",
      "[0.99951628 0.89400922] 0.8940092165898617\n",
      "You were missing N reference sequences: 0\n",
      "[0.9994441  0.87101248] 0.871012482662968\n",
      "You were missing N reference sequences: 0\n",
      "[0.99940271 0.85638298] 0.8563829787234043\n",
      "You were missing N reference sequences: 0\n"
     ]
    },
    {
     "name": "stderr",
     "output_type": "stream",
     "text": [
      "  6%|███████▌                                                                                                                     | 3/50 [00:00<00:09,  5.05it/s]"
     ]
    },
    {
     "name": "stdout",
     "output_type": "stream",
     "text": [
      "[0.99939206 0.86281588] 0.8628158844765343\n",
      "You were missing N reference sequences: 0\n",
      "[0.99947968 0.88659794] 0.88659793814433\n",
      "You were missing N reference sequences: 0\n",
      "[0.99956056 0.9030303 ] 0.9030303030303031\n",
      "You were missing N reference sequences: 0\n",
      "[0.99951628 0.89400922] 0.8940092165898617\n",
      "You were missing N reference sequences: 0\n",
      "[0.9994441  0.87101248] 0.871012482662968\n",
      "You were missing N reference sequences: 0\n",
      "[0.99940271 0.85638298] 0.8563829787234043\n",
      "You were missing N reference sequences: 0\n",
      "[0.99939206 0.86281588] 0.8628158844765343\n",
      "You were missing N reference sequences: 0\n"
     ]
    },
    {
     "name": "stderr",
     "output_type": "stream",
     "text": [
      "  8%|██████████                                                                                                                   | 4/50 [00:00<00:09,  5.05it/s]"
     ]
    },
    {
     "name": "stdout",
     "output_type": "stream",
     "text": [
      "[0.99947968 0.88659794] 0.88659793814433\n",
      "You were missing N reference sequences: 0\n",
      "[0.99956056 0.9030303 ] 0.9030303030303031\n",
      "You were missing N reference sequences: 0\n",
      "[0.99951628 0.89400922] 0.8940092165898617\n",
      "You were missing N reference sequences: 0\n",
      "[0.9994441  0.87101248] 0.871012482662968\n",
      "You were missing N reference sequences: 0\n",
      "[0.99940271 0.85638298] 0.8563829787234043\n",
      "You were missing N reference sequences: 0\n",
      "[0.99939206 0.86281588] 0.8628158844765343\n",
      "You were missing N reference sequences: 0\n",
      "[0.99947968 0.88659794] 0.88659793814433\n",
      "You were missing N reference sequences: 0\n"
     ]
    },
    {
     "name": "stderr",
     "output_type": "stream",
     "text": [
      " 10%|████████████▌                                                                                                                | 5/50 [00:00<00:08,  5.05it/s]"
     ]
    },
    {
     "name": "stdout",
     "output_type": "stream",
     "text": [
      "[0.99956056 0.9030303 ] 0.9030303030303031\n",
      "You were missing N reference sequences: 0\n",
      "[0.99951628 0.89400922] 0.8940092165898617\n",
      "You were missing N reference sequences: 0\n",
      "[0.9994441  0.87101248] 0.871012482662968\n",
      "You were missing N reference sequences: 0\n",
      "[0.99940271 0.85638298] 0.8563829787234043\n",
      "You were missing N reference sequences: 0\n",
      "[0.99939206 0.86281588] 0.8628158844765343\n",
      "You were missing N reference sequences: 0\n",
      "[0.99947968 0.88659794] 0.88659793814433\n",
      "You were missing N reference sequences: 0\n",
      "[0.99956056 0.9030303 ] 0.9030303030303031\n",
      "You were missing N reference sequences: 0\n"
     ]
    },
    {
     "name": "stderr",
     "output_type": "stream",
     "text": [
      " 12%|███████████████                                                                                                              | 6/50 [00:01<00:08,  5.06it/s]"
     ]
    },
    {
     "name": "stdout",
     "output_type": "stream",
     "text": [
      "[0.99951628 0.89400922] 0.8940092165898617\n",
      "You were missing N reference sequences: 0\n",
      "[0.9994441  0.87101248] 0.871012482662968\n",
      "You were missing N reference sequences: 0\n",
      "[0.99940271 0.85638298] 0.8563829787234043\n",
      "You were missing N reference sequences: 0\n",
      "[0.99939206 0.86281588] 0.8628158844765343\n",
      "You were missing N reference sequences: 0\n",
      "[0.99947968 0.88659794] 0.88659793814433\n",
      "You were missing N reference sequences: 0\n",
      "[0.99956056 0.9030303 ] 0.9030303030303031\n",
      "You were missing N reference sequences: 0\n",
      "[0.99951628 0.89400922] 0.8940092165898617\n",
      "You were missing N reference sequences: 0\n"
     ]
    },
    {
     "name": "stderr",
     "output_type": "stream",
     "text": [
      " 16%|████████████████████                                                                                                         | 8/50 [00:01<00:08,  5.06it/s]"
     ]
    },
    {
     "name": "stdout",
     "output_type": "stream",
     "text": [
      "[0.9994441  0.87101248] 0.871012482662968\n",
      "You were missing N reference sequences: 0\n",
      "[0.99940271 0.85638298] 0.8563829787234043\n",
      "You were missing N reference sequences: 0\n",
      "[0.99939206 0.86281588] 0.8628158844765343\n",
      "You were missing N reference sequences: 0\n",
      "[0.99947968 0.88659794] 0.88659793814433\n",
      "You were missing N reference sequences: 0\n",
      "[0.99956056 0.9030303 ] 0.9030303030303031\n",
      "You were missing N reference sequences: 0\n",
      "[0.99951628 0.89400922] 0.8940092165898617\n",
      "You were missing N reference sequences: 0\n",
      "[0.9994441  0.87101248] 0.871012482662968\n",
      "You were missing N reference sequences: 0\n"
     ]
    },
    {
     "name": "stderr",
     "output_type": "stream",
     "text": [
      " 18%|██████████████████████▌                                                                                                      | 9/50 [00:01<00:08,  5.06it/s]"
     ]
    },
    {
     "name": "stdout",
     "output_type": "stream",
     "text": [
      "[0.99940271 0.85638298] 0.8563829787234043\n",
      "You were missing N reference sequences: 0\n",
      "[0.99939206 0.86281588] 0.8628158844765343\n",
      "You were missing N reference sequences: 0\n",
      "[0.99947968 0.88659794] 0.88659793814433\n",
      "You were missing N reference sequences: 0\n",
      "[0.99956056 0.9030303 ] 0.9030303030303031\n",
      "You were missing N reference sequences: 0\n",
      "[0.99951628 0.89400922] 0.8940092165898617\n",
      "You were missing N reference sequences: 0\n",
      "[0.9994441  0.87101248] 0.871012482662968\n",
      "You were missing N reference sequences: 0\n",
      "[0.99940271 0.85638298] 0.8563829787234043\n",
      "You were missing N reference sequences: 0\n"
     ]
    },
    {
     "name": "stderr",
     "output_type": "stream",
     "text": [
      " 20%|████████████████████████▊                                                                                                   | 10/50 [00:01<00:07,  5.05it/s]"
     ]
    },
    {
     "name": "stdout",
     "output_type": "stream",
     "text": [
      "[0.99939206 0.86281588] 0.8628158844765343\n",
      "You were missing N reference sequences: 0\n",
      "[0.99947968 0.88659794] 0.88659793814433\n",
      "You were missing N reference sequences: 0\n",
      "[0.99956056 0.9030303 ] 0.9030303030303031\n",
      "You were missing N reference sequences: 0\n",
      "[0.99951628 0.89400922] 0.8940092165898617\n",
      "You were missing N reference sequences: 0\n",
      "[0.9994441  0.87101248] 0.871012482662968\n",
      "You were missing N reference sequences: 0\n",
      "[0.99940271 0.85638298] 0.8563829787234043\n",
      "You were missing N reference sequences: 0\n",
      "[0.99939206 0.86281588] 0.8628158844765343\n",
      "You were missing N reference sequences: 0\n"
     ]
    },
    {
     "name": "stderr",
     "output_type": "stream",
     "text": [
      " 22%|███████████████████████████▎                                                                                                | 11/50 [00:02<00:07,  5.04it/s]"
     ]
    },
    {
     "name": "stdout",
     "output_type": "stream",
     "text": [
      "[0.99947968 0.88659794] 0.88659793814433\n",
      "You were missing N reference sequences: 0\n",
      "[0.99956056 0.9030303 ] 0.9030303030303031\n",
      "You were missing N reference sequences: 0\n",
      "[0.99951628 0.89400922] 0.8940092165898617\n",
      "You were missing N reference sequences: 0\n",
      "[0.9994441  0.87101248] 0.871012482662968\n",
      "You were missing N reference sequences: 0\n",
      "[0.99940271 0.85638298] 0.8563829787234043\n",
      "You were missing N reference sequences: 0\n",
      "[0.99939206 0.86281588] 0.8628158844765343\n",
      "You were missing N reference sequences: 0\n",
      "[0.99947968 0.88659794] 0.88659793814433\n",
      "You were missing N reference sequences: 0\n"
     ]
    },
    {
     "name": "stderr",
     "output_type": "stream",
     "text": [
      " 24%|█████████████████████████████▊                                                                                              | 12/50 [00:02<00:07,  5.05it/s]"
     ]
    },
    {
     "name": "stdout",
     "output_type": "stream",
     "text": [
      "[0.99956056 0.9030303 ] 0.9030303030303031\n",
      "You were missing N reference sequences: 0\n",
      "[0.99951628 0.89400922] 0.8940092165898617\n",
      "You were missing N reference sequences: 0\n",
      "[0.9994441  0.87101248] 0.871012482662968\n",
      "You were missing N reference sequences: 0\n",
      "[0.99940271 0.85638298] 0.8563829787234043\n",
      "You were missing N reference sequences: 0\n",
      "[0.99939206 0.86281588] 0.8628158844765343\n",
      "You were missing N reference sequences: 0\n",
      "[0.99947968 0.88659794] 0.88659793814433\n",
      "You were missing N reference sequences: 0\n",
      "[0.99956056 0.9030303 ] 0.9030303030303031\n",
      "You were missing N reference sequences: 0\n"
     ]
    },
    {
     "name": "stderr",
     "output_type": "stream",
     "text": [
      " 26%|████████████████████████████████▏                                                                                           | 13/50 [00:02<00:07,  5.06it/s]"
     ]
    },
    {
     "name": "stdout",
     "output_type": "stream",
     "text": [
      "[0.99951628 0.89400922] 0.8940092165898617\n",
      "You were missing N reference sequences: 0\n",
      "[0.9994441  0.87101248] 0.871012482662968\n",
      "You were missing N reference sequences: 0\n",
      "[0.99945801 0.87002653] 0.8700265251989391\n",
      "You were missing N reference sequences: 0\n",
      "[0.99940006 0.86437613] 0.864376130198915\n",
      "You were missing N reference sequences: 0\n",
      "[0.99955065 0.9015544 ] 0.9015544041450778\n",
      "You were missing N reference sequences: 0\n",
      "[0.9995743  0.90577508] 0.9057750759878421\n",
      "You were missing N reference sequences: 0\n",
      "[0.99952679 0.89655172] 0.896551724137931\n",
      "You were missing N reference sequences: 0\n"
     ]
    },
    {
     "name": "stderr",
     "output_type": "stream",
     "text": [
      " 30%|█████████████████████████████████████▏                                                                                      | 15/50 [00:02<00:06,  5.07it/s]"
     ]
    },
    {
     "name": "stdout",
     "output_type": "stream",
     "text": [
      "[0.99946202 0.87534626] 0.8753462603878117\n",
      "You were missing N reference sequences: 0\n",
      "[0.99945801 0.87002653] 0.8700265251989391\n",
      "You were missing N reference sequences: 0\n",
      "[0.99940006 0.86437613] 0.864376130198915\n",
      "You were missing N reference sequences: 0\n",
      "[0.99955065 0.9015544 ] 0.9015544041450778\n",
      "You were missing N reference sequences: 0\n",
      "[0.9995743  0.90577508] 0.9057750759878421\n",
      "You were missing N reference sequences: 0\n",
      "[0.99952679 0.89655172] 0.896551724137931\n",
      "You were missing N reference sequences: 0\n",
      "[0.99946202 0.87534626] 0.8753462603878117\n",
      "You were missing N reference sequences: 0\n"
     ]
    },
    {
     "name": "stderr",
     "output_type": "stream",
     "text": [
      " 32%|███████████████████████████████████████▋                                                                                    | 16/50 [00:03<00:06,  5.06it/s]"
     ]
    },
    {
     "name": "stdout",
     "output_type": "stream",
     "text": [
      "[0.99944694 0.86772487] 0.8677248677248677\n",
      "You were missing N reference sequences: 0\n",
      "[0.99939207 0.86231884] 0.8623188405797101\n",
      "You were missing N reference sequences: 0\n",
      "[0.99955065 0.9015544 ] 0.9015544041450778\n",
      "You were missing N reference sequences: 0\n",
      "[0.99956056 0.9030303 ] 0.9030303030303031\n",
      "You were missing N reference sequences: 0\n",
      "[0.99952679 0.89655172] 0.896551724137931\n",
      "You were missing N reference sequences: 0\n",
      "[0.99946202 0.87534626] 0.8753462603878117\n",
      "You were missing N reference sequences: 0\n",
      "[0.99944694 0.86772487] 0.8677248677248677\n",
      "You were missing N reference sequences: 0\n"
     ]
    },
    {
     "name": "stderr",
     "output_type": "stream",
     "text": [
      " 34%|██████████████████████████████████████████▏                                                                                 | 17/50 [00:03<00:06,  5.06it/s]"
     ]
    },
    {
     "name": "stdout",
     "output_type": "stream",
     "text": [
      "[0.99939205 0.86330935] 0.8633093525179856\n",
      "You were missing N reference sequences: 0\n",
      "[0.99955065 0.9015544 ] 0.9015544041450778\n",
      "You were missing N reference sequences: 0\n",
      "[0.99956056 0.9030303 ] 0.9030303030303031\n",
      "You were missing N reference sequences: 0\n",
      "[0.99956884 0.90617849] 0.9061784897025171\n",
      "You were missing N reference sequences: 0\n",
      "[0.99947995 0.88      ] 0.8800000000000001\n",
      "You were missing N reference sequences: 0\n",
      "[0.99943587 0.86543536] 0.8654353562005278\n",
      "You were missing N reference sequences: 0\n",
      "[0.99934403 0.85357143] 0.8535714285714286\n",
      "You were missing N reference sequences: 0\n"
     ]
    },
    {
     "name": "stderr",
     "output_type": "stream",
     "text": [
      " 36%|████████████████████████████████████████████▋                                                                               | 18/50 [00:03<00:06,  5.07it/s]"
     ]
    },
    {
     "name": "stdout",
     "output_type": "stream",
     "text": [
      "[0.99952699 0.89690722] 0.8969072164948454\n",
      "You were missing N reference sequences: 0\n",
      "[0.99956056 0.9030303 ] 0.9030303030303031\n",
      "You were missing N reference sequences: 0\n",
      "[0.99957936 0.90825688] 0.908256880733945\n",
      "You were missing N reference sequences: 0\n",
      "[0.99943808 0.8715847 ] 0.871584699453552\n",
      "You were missing N reference sequences: 0\n",
      "[0.99943587 0.86543536] 0.8654353562005278\n",
      "You were missing N reference sequences: 0\n",
      "[0.99933603 0.85204991] 0.8520499108734403\n",
      "You were missing N reference sequences: 0\n",
      "[0.99952699 0.89690722] 0.8969072164948454\n",
      "You were missing N reference sequences: 0\n"
     ]
    },
    {
     "name": "stderr",
     "output_type": "stream",
     "text": [
      " 38%|███████████████████████████████████████████████                                                                             | 19/50 [00:03<00:06,  5.07it/s]"
     ]
    },
    {
     "name": "stdout",
     "output_type": "stream",
     "text": [
      "[0.99956056 0.9030303 ] 0.9030303030303031\n",
      "You were missing N reference sequences: 0\n",
      "[0.99955831 0.90454545] 0.9045454545454545\n",
      "You were missing N reference sequences: 0\n",
      "[0.99947394 0.88010899] 0.8801089918256131\n",
      "You were missing N reference sequences: 0\n",
      "[0.9993916  0.85639687] 0.8563968668407311\n",
      "You were missing N reference sequences: 0\n",
      "[0.99932001 0.84955752] 0.8495575221238938\n",
      "You were missing N reference sequences: 0\n",
      "[0.99947966 0.8877551 ] 0.8877551020408163\n",
      "You were missing N reference sequences: 0\n",
      "[0.99949186 0.88955224] 0.8895522388059701\n",
      "You were missing N reference sequences: 0\n"
     ]
    },
    {
     "name": "stderr",
     "output_type": "stream",
     "text": [
      " 40%|█████████████████████████████████████████████████▌                                                                          | 20/50 [00:03<00:05,  5.07it/s]"
     ]
    },
    {
     "name": "stdout",
     "output_type": "stream",
     "text": [
      "[0.99951624 0.8959276 ] 0.8959276018099547\n",
      "You were missing N reference sequences: 0\n",
      "[0.99944402 0.87483176] 0.8748317631224766\n",
      "You were missing N reference sequences: 0\n",
      "[0.99940265 0.859375  ] 0.8593750000000001\n",
      "You were missing N reference sequences: 0\n",
      "[0.99931999 0.85008818] 0.8500881834215167\n",
      "You were missing N reference sequences: 0\n",
      "[0.99947966 0.8877551 ] 0.8877551020408163\n",
      "You were missing N reference sequences: 0\n",
      "[0.99949185 0.89020772] 0.8902077151335313\n",
      "You were missing N reference sequences: 0\n",
      "[0.99947415 0.88789238] 0.8878923766816142\n",
      "You were missing N reference sequences: 0\n"
     ]
    },
    {
     "name": "stderr",
     "output_type": "stream",
     "text": [
      " 44%|██████████████████████████████████████████████████████▌                                                                     | 22/50 [00:04<00:05,  5.08it/s]"
     ]
    },
    {
     "name": "stdout",
     "output_type": "stream",
     "text": [
      "[0.99946794 0.88021534] 0.8802153432032301\n",
      "You were missing N reference sequences: 0\n",
      "[0.99942477 0.86528497] 0.8652849740932643\n",
      "You were missing N reference sequences: 0\n",
      "[0.99928798 0.84358524] 0.843585237258348\n",
      "You were missing N reference sequences: 0\n",
      "[0.99952696 0.89795918] 0.8979591836734694\n",
      "You were missing N reference sequences: 0\n",
      "[0.99953304 0.89940828] 0.8994082840236686\n",
      "You were missing N reference sequences: 0\n",
      "[0.9995057  0.89485459] 0.8948545861297539\n",
      "You were missing N reference sequences: 0\n",
      "[0.99944998 0.87700535] 0.8770053475935828\n",
      "You were missing N reference sequences: 0\n"
     ]
    },
    {
     "name": "stderr",
     "output_type": "stream",
     "text": [
      " 46%|█████████████████████████████████████████████████████████                                                                   | 23/50 [00:04<00:05,  5.08it/s]"
     ]
    },
    {
     "name": "stdout",
     "output_type": "stream",
     "text": [
      "[0.99942477 0.86528497] 0.8652849740932643\n",
      "You were missing N reference sequences: 0\n",
      "[0.99925596 0.83769634] 0.8376963350785339\n",
      "You were missing N reference sequences: 0\n",
      "[0.99952696 0.89795918] 0.8979591836734694\n",
      "You were missing N reference sequences: 0\n",
      "[0.99950558 0.89349112] 0.893491124260355\n",
      "You were missing N reference sequences: 0\n",
      "[0.99949518 0.89237668] 0.8923766816143498\n",
      "You were missing N reference sequences: 0\n",
      "[0.99943803 0.87433155] 0.8743315508021391\n",
      "You were missing N reference sequences: 0\n",
      "[0.99942475 0.86597938] 0.8659793814432989\n",
      "You were missing N reference sequences: 0\n"
     ]
    },
    {
     "name": "stderr",
     "output_type": "stream",
     "text": [
      " 48%|███████████████████████████████████████████████████████████▌                                                                | 24/50 [00:04<00:05,  5.07it/s]"
     ]
    },
    {
     "name": "stdout",
     "output_type": "stream",
     "text": [
      "[0.99927195 0.84173913] 0.8417391304347827\n",
      "You were missing N reference sequences: 0\n",
      "[0.99952694 0.8989899 ] 0.898989898989899\n",
      "You were missing N reference sequences: 0\n",
      "[0.99949184 0.89085546] 0.8908554572271387\n",
      "You were missing N reference sequences: 0\n",
      "[0.99948466 0.89038031] 0.890380313199105\n",
      "You were missing N reference sequences: 0\n",
      "[0.99941411 0.86898396] 0.8689839572192514\n",
      "You were missing N reference sequences: 0\n",
      "[0.99938049 0.85641026] 0.8564102564102565\n",
      "You were missing N reference sequences: 0\n",
      "[0.99923195 0.83275261] 0.832752613240418\n",
      "You were missing N reference sequences: 0\n"
     ]
    },
    {
     "name": "stderr",
     "output_type": "stream",
     "text": [
      " 50%|██████████████████████████████████████████████████████████████                                                              | 25/50 [00:04<00:04,  5.06it/s]"
     ]
    },
    {
     "name": "stdout",
     "output_type": "stream",
     "text": [
      "[0.9994323 0.88     ] 0.88\n",
      "You were missing N reference sequences: 0\n",
      "[0.99940945 0.87240356] 0.8724035608308605\n",
      "You were missing N reference sequences: 0\n",
      "[0.99937952 0.86681716] 0.8668171557562077\n",
      "You were missing N reference sequences: 0\n",
      "[0.99933641 0.85100671] 0.8510067114093959\n",
      "You were missing N reference sequences: 0\n",
      "[0.9992809 0.8346056] 0.8346055979643766\n",
      "You were missing N reference sequences: 0\n",
      "[0.99915995 0.81675393] 0.8167539267015708\n",
      "You were missing N reference sequences: 0\n",
      "[0.99933769 0.86      ] 0.86\n",
      "You were missing N reference sequences: 0\n"
     ]
    },
    {
     "name": "stderr",
     "output_type": "stream",
     "text": [
      " 52%|████████████████████████████████████████████████████████████████▍                                                           | 26/50 [00:05<00:04,  5.07it/s]"
     ]
    },
    {
     "name": "stdout",
     "output_type": "stream",
     "text": [
      "[0.99931334 0.8502994 ] 0.8502994011976047\n",
      "You were missing N reference sequences: 0\n",
      "[0.99931644 0.85193622] 0.8519362186788154\n",
      "You were missing N reference sequences: 0\n",
      "[0.99930649 0.84574468] 0.8457446808510639\n",
      "You were missing N reference sequences: 0\n",
      "[0.9992809 0.8346056] 0.8346055979643766\n",
      "You were missing N reference sequences: 0\n",
      "[0.99915995 0.81675393] 0.8167539267015708\n",
      "You were missing N reference sequences: 0\n",
      "[0.99933769 0.86      ] 0.86\n",
      "You were missing N reference sequences: 0\n",
      "[0.99928587 0.84431138] 0.844311377245509\n",
      "You were missing N reference sequences: 0\n"
     ]
    },
    {
     "name": "stderr",
     "output_type": "stream",
     "text": [
      " 54%|██████████████████████████████████████████████████████████████████▉                                                         | 27/50 [00:05<00:04,  5.07it/s]"
     ]
    },
    {
     "name": "stdout",
     "output_type": "stream",
     "text": [
      "[0.9992954  0.84807256] 0.8480725623582767\n",
      "You were missing N reference sequences: 0\n",
      "[0.99928855 0.84196547] 0.8419654714475431\n",
      "You were missing N reference sequences: 0\n",
      "[0.99924769 0.82828283] 0.8282828282828284\n",
      "You were missing N reference sequences: 0\n",
      "[0.99915995 0.81675393] 0.8167539267015708\n",
      "You were missing N reference sequences: 0\n",
      "[0.99929034 0.85148515] 0.8514851485148516\n",
      "You were missing N reference sequences: 0\n",
      "[0.99925838 0.83928571] 0.8392857142857144\n",
      "You were missing N reference sequences: 0\n",
      "[0.99925333 0.83900227] 0.8390022675736961\n",
      "You were missing N reference sequences: 0\n"
     ]
    },
    {
     "name": "stderr",
     "output_type": "stream",
     "text": [
      " 58%|███████████████████████████████████████████████████████████████████████▉                                                    | 29/50 [00:05<00:04,  5.07it/s]"
     ]
    },
    {
     "name": "stdout",
     "output_type": "stream",
     "text": [
      "[0.99925865 0.83554377] 0.8355437665782494\n",
      "You were missing N reference sequences: 0\n",
      "[0.99922554 0.8241206 ] 0.8241206030150755\n",
      "You were missing N reference sequences: 0\n",
      "[0.99912795 0.80977312] 0.8097731239092496\n",
      "You were missing N reference sequences: 0\n",
      "[0.99926667 0.84729064] 0.8472906403940886\n",
      "You were missing N reference sequences: 0\n",
      "[0.99923092 0.83333333] 0.8333333333333334\n",
      "You were missing N reference sequences: 0\n",
      "[0.99923228 0.83521445] 0.835214446952596\n",
      "You were missing N reference sequences: 0\n",
      "[0.9991869  0.81962865] 0.8196286472148542\n"
     ]
    },
    {
     "name": "stderr",
     "output_type": "stream",
     "text": [
      " 60%|██████████████████████████████████████████████████████████████████████████▍                                                 | 30/50 [00:05<00:03,  5.05it/s]"
     ]
    },
    {
     "name": "stdout",
     "output_type": "stream",
     "text": [
      "You were missing N reference sequences: 0\n",
      "[0.99921447 0.82205514] 0.8220551378446116\n",
      "You were missing N reference sequences: 0\n",
      "[0.99910396 0.8041958 ] 0.8041958041958043\n",
      "You were missing N reference sequences: 0\n",
      "[0.99926667 0.84729064] 0.8472906403940886\n",
      "You were missing N reference sequences: 0\n",
      "[0.99920343 0.82840237] 0.8284023668639054\n",
      "You were missing N reference sequences: 0\n",
      "[0.9991586  0.82222222] 0.8222222222222222\n",
      "You were missing N reference sequences: 0\n",
      "[0.99915099 0.81364829] 0.8136482939632547\n",
      "You were missing N reference sequences: 0\n"
     ]
    },
    {
     "name": "stderr",
     "output_type": "stream",
     "text": [
      " 62%|████████████████████████████████████████████████████████████████████████████▉                                               | 31/50 [00:06<00:03,  5.06it/s]"
     ]
    },
    {
     "name": "stdout",
     "output_type": "stream",
     "text": [
      "[0.9992034 0.82     ] 0.82\n",
      "You were missing N reference sequences: 0\n",
      "[0.99909595 0.80279232] 0.8027923211169284\n",
      "You were missing N reference sequences: 0\n",
      "[0.999243   0.84313725] 0.8431372549019608\n",
      "You were missing N reference sequences: 0\n",
      "[0.99916219 0.82111437] 0.8211143695014661\n",
      "You were missing N reference sequences: 0\n",
      "[0.99912704 0.81596452] 0.8159645232815965\n",
      "You were missing N reference sequences: 0\n",
      "[0.99913901 0.81201044] 0.8120104438642297\n",
      "You were missing N reference sequences: 0\n",
      "[0.9990816  0.79706601] 0.7970660146699265\n",
      "You were missing N reference sequences: 0\n"
     ]
    },
    {
     "name": "stderr",
     "output_type": "stream",
     "text": [
      " 64%|███████████████████████████████████████████████████████████████████████████████▎                                            | 32/50 [00:06<00:03,  5.06it/s]"
     ]
    },
    {
     "name": "stdout",
     "output_type": "stream",
     "text": [
      "[0.99902388 0.79037801] 0.7903780068728522\n",
      "You were missing N reference sequences: 0\n",
      "[0.99907725 0.81516588] 0.8151658767772512\n",
      "You were missing N reference sequences: 0\n",
      "[0.9991072 0.8115942] 0.8115942028985507\n",
      "You were missing N reference sequences: 0\n",
      "[0.99906388 0.80525164] 0.8052516411378556\n",
      "You were missing N reference sequences: 0\n",
      "[0.99910909 0.80674449] 0.8067444876783398\n",
      "You were missing N reference sequences: 0\n",
      "[0.99907053 0.79512195] 0.7951219512195122\n",
      "You were missing N reference sequences: 0\n",
      "[0.99901587 0.7890223 ] 0.7890222984562607\n",
      "You were missing N reference sequences: 0\n"
     ]
    },
    {
     "name": "stderr",
     "output_type": "stream",
     "text": [
      " 66%|█████████████████████████████████████████████████████████████████████████████████▊                                          | 33/50 [00:06<00:03,  5.07it/s]"
     ]
    },
    {
     "name": "stdout",
     "output_type": "stream",
     "text": [
      "[0.99907725 0.81516588] 0.8151658767772512\n",
      "You were missing N reference sequences: 0\n",
      "[0.9991072 0.8115942] 0.8115942028985507\n",
      "You were missing N reference sequences: 0\n",
      "[0.99906388 0.80525164] 0.8052516411378556\n",
      "You were missing N reference sequences: 0\n",
      "[0.99910909 0.80674449] 0.8067444876783398\n",
      "You were missing N reference sequences: 0\n",
      "[0.99905945 0.79318735] 0.7931873479318734\n",
      "You were missing N reference sequences: 0\n",
      "[0.99900786 0.78767123] 0.7876712328767125\n",
      "You were missing N reference sequences: 0\n",
      "[0.99907725 0.81516588] 0.8151658767772512\n",
      "You were missing N reference sequences: 0\n"
     ]
    },
    {
     "name": "stderr",
     "output_type": "stream",
     "text": [
      " 68%|████████████████████████████████████████████████████████████████████████████████████▎                                       | 34/50 [00:06<00:03,  5.06it/s]"
     ]
    },
    {
     "name": "stdout",
     "output_type": "stream",
     "text": [
      "[0.9991072 0.8115942] 0.8115942028985507\n",
      "You were missing N reference sequences: 0\n",
      "[0.99908489 0.81045752] 0.8104575163398693\n",
      "You were missing N reference sequences: 0\n",
      "[0.99913299 0.81290323] 0.8129032258064516\n",
      "You were missing N reference sequences: 0\n",
      "[0.99905945 0.79318735] 0.7931873479318734\n",
      "You were missing N reference sequences: 0\n",
      "[0.99900786 0.78767123] 0.7876712328767125\n",
      "You were missing N reference sequences: 0\n",
      "[0.99907725 0.81516588] 0.8151658767772512\n",
      "You were missing N reference sequences: 0\n",
      "[0.9991072 0.8115942] 0.8115942028985507\n"
     ]
    },
    {
     "name": "stderr",
     "output_type": "stream",
     "text": [
      " 70%|██████████████████████████████████████████████████████████████████████████████████████▊                                     | 35/50 [00:06<00:02,  5.04it/s]"
     ]
    },
    {
     "name": "stdout",
     "output_type": "stream",
     "text": [
      "You were missing N reference sequences: 0\n",
      "[0.99908489 0.81045752] 0.8104575163398693\n",
      "You were missing N reference sequences: 0\n",
      "[0.999127   0.81185567] 0.8118556701030928\n",
      "You were missing N reference sequences: 0\n",
      "[0.99900407 0.78365385] 0.7836538461538463\n",
      "You were missing N reference sequences: 0\n",
      "[0.99897582 0.78231293] 0.782312925170068\n",
      "You were missing N reference sequences: 0\n",
      "[0.99905357 0.81132075] 0.8113207547169812\n",
      "You were missing N reference sequences: 0\n",
      "[0.99909346 0.80924855] 0.8092485549132948\n",
      "You were missing N reference sequences: 0\n"
     ]
    },
    {
     "name": "stderr",
     "output_type": "stream",
     "text": [
      " 72%|█████████████████████████████████████████████████████████████████████████████████████████▎                                  | 36/50 [00:07<00:02,  5.02it/s]"
     ]
    },
    {
     "name": "stdout",
     "output_type": "stream",
     "text": [
      "[0.99907437 0.80869565] 0.8086956521739131\n",
      "You were missing N reference sequences: 0\n",
      "[0.99908512 0.80409731] 0.8040973111395646\n",
      "You were missing N reference sequences: 0\n",
      "[0.99898192 0.77990431] 0.7799043062200958\n",
      "You were missing N reference sequences: 0\n",
      "[0.99893575 0.77647059] 0.776470588235294\n",
      "You were missing N reference sequences: 0\n",
      "[0.99905357 0.81132075] 0.8113207547169812\n",
      "You were missing N reference sequences: 0\n",
      "[0.99905221 0.80229226] 0.8022922636103152\n",
      "You were missing N reference sequences: 0\n",
      "[0.99906384 0.80694143] 0.806941431670282\n"
     ]
    },
    {
     "name": "stderr",
     "output_type": "stream",
     "text": [
      " 74%|███████████████████████████████████████████████████████████████████████████████████████████▊                                | 37/50 [00:07<00:02,  5.03it/s]"
     ]
    },
    {
     "name": "stdout",
     "output_type": "stream",
     "text": [
      "You were missing N reference sequences: 0\n",
      "[0.99906716 0.80102041] 0.8010204081632654\n",
      "You were missing N reference sequences: 0\n",
      "[0.99898192 0.77990431] 0.7799043062200958\n",
      "You were missing N reference sequences: 0\n",
      "[0.99892776 0.77441077] 0.7744107744107744\n",
      "You were missing N reference sequences: 0\n",
      "[0.99905357 0.81132075] 0.8113207547169812\n",
      "You were missing N reference sequences: 0\n",
      "[0.99905221 0.80229226] 0.8022922636103152\n",
      "You were missing N reference sequences: 0\n",
      "[0.99906384 0.80694143] 0.806941431670282\n",
      "You were missing N reference sequences: 0\n"
     ]
    },
    {
     "name": "stderr",
     "output_type": "stream",
     "text": [
      " 78%|████████████████████████████████████████████████████████████████████████████████████████████████▋                           | 39/50 [00:07<00:02,  5.05it/s]"
     ]
    },
    {
     "name": "stdout",
     "output_type": "stream",
     "text": [
      "[0.99906118 0.8       ] 0.7999999999999999\n",
      "You were missing N reference sequences: 0\n",
      "[0.99898192 0.77990431] 0.7799043062200958\n",
      "You were missing N reference sequences: 0\n",
      "[0.99892776 0.77441077] 0.7744107744107744\n",
      "You were missing N reference sequences: 0\n",
      "[0.99905357 0.81132075] 0.8113207547169812\n",
      "You were missing N reference sequences: 0\n",
      "[0.99903849 0.79885057] 0.7988505747126436\n",
      "You were missing N reference sequences: 0\n",
      "[0.99905333 0.80434783] 0.8043478260869565\n",
      "You were missing N reference sequences: 0\n",
      "[0.9990552  0.79846939] 0.7984693877551019\n",
      "You were missing N reference sequences: 0\n"
     ]
    },
    {
     "name": "stderr",
     "output_type": "stream",
     "text": [
      " 80%|███████████████████████████████████████████████████████████████████████████████████████████████████▏                        | 40/50 [00:07<00:01,  5.04it/s]"
     ]
    },
    {
     "name": "stdout",
     "output_type": "stream",
     "text": [
      "[0.99898192 0.77990431] 0.7799043062200958\n",
      "You were missing N reference sequences: 0\n",
      "[0.99891977 0.77234401] 0.7723440134907252\n",
      "You were missing N reference sequences: 0\n",
      "[0.99905357 0.81132075] 0.8113207547169812\n",
      "You were missing N reference sequences: 0\n",
      "[0.99903849 0.79885057] 0.7988505747126436\n",
      "You were missing N reference sequences: 0\n",
      "[0.99905333 0.80434783] 0.8043478260869565\n",
      "You were missing N reference sequences: 0\n",
      "[0.99904325 0.79591837] 0.7959183673469388\n",
      "You were missing N reference sequences: 0\n",
      "[0.99894868 0.77434679] 0.7743467933491686\n",
      "You were missing N reference sequences: 0\n"
     ]
    },
    {
     "name": "stderr",
     "output_type": "stream",
     "text": [
      " 82%|█████████████████████████████████████████████████████████████████████████████████████████████████████▋                      | 41/50 [00:08<00:01,  5.04it/s]"
     ]
    },
    {
     "name": "stdout",
     "output_type": "stream",
     "text": [
      "[0.99890376 0.76897133] 0.7689713322091063\n",
      "You were missing N reference sequences: 0\n",
      "[0.99905357 0.81132075] 0.8113207547169812\n",
      "You were missing N reference sequences: 0\n",
      "[0.99903849 0.79885057] 0.7988505747126436\n",
      "You were missing N reference sequences: 0\n",
      "[0.99905333 0.80434783] 0.8043478260869565\n",
      "You were missing N reference sequences: 0\n",
      "[0.99903726 0.79490446] 0.794904458598726\n",
      "You were missing N reference sequences: 0\n",
      "[0.99893763 0.77142857] 0.7714285714285714\n",
      "You were missing N reference sequences: 0\n",
      "[0.99889577 0.76689189] 0.7668918918918919\n",
      "You were missing N reference sequences: 0\n"
     ]
    },
    {
     "name": "stderr",
     "output_type": "stream",
     "text": [
      " 84%|████████████████████████████████████████████████████████████████████████████████████████████████████████▏                   | 42/50 [00:08<00:01,  5.01it/s]"
     ]
    },
    {
     "name": "stdout",
     "output_type": "stream",
     "text": [
      "[0.99905357 0.81132075] 0.8113207547169812\n",
      "You were missing N reference sequences: 0\n",
      "[0.99903849 0.79885057] 0.7988505747126436\n",
      "You were missing N reference sequences: 0\n",
      "[0.99905333 0.80434783] 0.8043478260869565\n",
      "You were missing N reference sequences: 0\n",
      "[0.99903726 0.79490446] 0.794904458598726\n",
      "You were missing N reference sequences: 0\n",
      "[0.99893763 0.77142857] 0.7714285714285714\n",
      "You were missing N reference sequences: 0\n",
      "[0.99888776 0.76559865] 0.7655986509274874\n",
      "You were missing N reference sequences: 0\n"
     ]
    },
    {
     "name": "stderr",
     "output_type": "stream",
     "text": [
      " 86%|██████████████████████████████████████████████████████████████████████████████████████████████████████████▋                 | 43/50 [00:08<00:01,  5.01it/s]"
     ]
    },
    {
     "name": "stdout",
     "output_type": "stream",
     "text": [
      "[0.99905357 0.81132075] 0.8113207547169812\n",
      "You were missing N reference sequences: 0\n",
      "[0.99903849 0.79885057] 0.7988505747126436\n",
      "You were missing N reference sequences: 0\n",
      "[0.99905333 0.80434783] 0.8043478260869565\n",
      "You were missing N reference sequences: 0\n",
      "[0.99903127 0.79389313] 0.7938931297709925\n",
      "You were missing N reference sequences: 0\n",
      "[0.99893763 0.77142857] 0.7714285714285714\n",
      "You were missing N reference sequences: 0\n",
      "[0.99887174 0.76302521] 0.7630252100840337\n",
      "You were missing N reference sequences: 0\n",
      "[0.99905357 0.81132075] 0.8113207547169812\n",
      "You were missing N reference sequences: 0\n"
     ]
    },
    {
     "name": "stderr",
     "output_type": "stream",
     "text": [
      " 88%|█████████████████████████████████████████████████████████████████████████████████████████████████████████████               | 44/50 [00:08<00:01,  5.02it/s]"
     ]
    },
    {
     "name": "stdout",
     "output_type": "stream",
     "text": [
      "[0.99903849 0.79885057] 0.7988505747126436\n",
      "You were missing N reference sequences: 0\n",
      "[0.99905333 0.80434783] 0.8043478260869565\n",
      "You were missing N reference sequences: 0\n",
      "[0.9990193  0.79187817] 0.7918781725888325\n",
      "You were missing N reference sequences: 0\n",
      "[0.99892655 0.7695962 ] 0.7695961995249406\n",
      "You were missing N reference sequences: 0\n",
      "[0.99886375 0.76094276] 0.760942760942761\n",
      "You were missing N reference sequences: 0\n",
      "[0.99905357 0.81132075] 0.8113207547169812\n",
      "You were missing N reference sequences: 0\n",
      "[0.99901102 0.79310345] 0.793103448275862\n",
      "You were missing N reference sequences: 0\n"
     ]
    },
    {
     "name": "stderr",
     "output_type": "stream",
     "text": [
      " 90%|███████████████████████████████████████████████████████████████████████████████████████████████████████████████▌            | 45/50 [00:08<00:00,  5.03it/s]"
     ]
    },
    {
     "name": "stdout",
     "output_type": "stream",
     "text": [
      "[0.99903229 0.8       ] 0.7999999999999999\n",
      "You were missing N reference sequences: 0\n",
      "[0.99900734 0.7893401 ] 0.7893401015228427\n",
      "You were missing N reference sequences: 0\n",
      "[0.99892655 0.7695962 ] 0.7695961995249406\n",
      "You were missing N reference sequences: 0\n",
      "[0.99886375 0.76094276] 0.760942760942761\n",
      "You were missing N reference sequences: 0\n",
      "[0.99905357 0.81132075] 0.8113207547169812\n",
      "You were missing N reference sequences: 0\n",
      "[0.99901102 0.79310345] 0.793103448275862\n",
      "You were missing N reference sequences: 0\n",
      "[0.99903229 0.8       ] 0.7999999999999999\n",
      "You were missing N reference sequences: 0\n"
     ]
    },
    {
     "name": "stderr",
     "output_type": "stream",
     "text": [
      " 94%|████████████████████████████████████████████████████████████████████████████████████████████████████████████████████▌       | 47/50 [00:09<00:00,  5.04it/s]"
     ]
    },
    {
     "name": "stdout",
     "output_type": "stream",
     "text": [
      "[0.99900734 0.7893401 ] 0.7893401015228427\n",
      "You were missing N reference sequences: 0\n",
      "[0.99892655 0.7695962 ] 0.7695961995249406\n",
      "You were missing N reference sequences: 0\n",
      "[0.99886375 0.76094276] 0.760942760942761\n",
      "You were missing N reference sequences: 0\n",
      "[0.99905357 0.81132075] 0.8113207547169812\n",
      "You were missing N reference sequences: 0\n",
      "[0.99901102 0.79310345] 0.793103448275862\n",
      "You were missing N reference sequences: 0\n",
      "[0.99903229 0.8       ] 0.7999999999999999\n",
      "You were missing N reference sequences: 0\n",
      "[0.99900734 0.7893401 ] 0.7893401015228427\n",
      "You were missing N reference sequences: 0\n"
     ]
    },
    {
     "name": "stderr",
     "output_type": "stream",
     "text": [
      " 96%|███████████████████████████████████████████████████████████████████████████████████████████████████████████████████████     | 48/50 [00:09<00:00,  5.03it/s]"
     ]
    },
    {
     "name": "stdout",
     "output_type": "stream",
     "text": [
      "[0.99892655 0.7695962 ] 0.7695961995249406\n",
      "You were missing N reference sequences: 0\n",
      "[0.99886375 0.76094276] 0.760942760942761\n",
      "You were missing N reference sequences: 0\n",
      "[0.99905357 0.81132075] 0.8113207547169812\n",
      "You were missing N reference sequences: 0\n",
      "[0.99899727 0.79083095] 0.7908309455587391\n",
      "You were missing N reference sequences: 0\n",
      "[0.99902176 0.79826464] 0.7982646420824294\n",
      "You were missing N reference sequences: 0\n",
      "[0.99900734 0.7893401 ] 0.7893401015228427\n",
      "You were missing N reference sequences: 0\n",
      "[0.99892655 0.7695962 ] 0.7695961995249406\n"
     ]
    },
    {
     "name": "stderr",
     "output_type": "stream",
     "text": [
      " 98%|█████████████████████████████████████████████████████████████████████████████████████████████████████████████████████████▌  | 49/50 [00:09<00:00,  5.01it/s]"
     ]
    },
    {
     "name": "stdout",
     "output_type": "stream",
     "text": [
      "You were missing N reference sequences: 0\n",
      "[0.99885573 0.75966387] 0.7596638655462185\n",
      "You were missing N reference sequences: 0\n",
      "[0.99905357 0.81132075] 0.8113207547169812\n",
      "You were missing N reference sequences: 0\n",
      "[0.99899727 0.79083095] 0.7908309455587391\n",
      "You were missing N reference sequences: 0\n",
      "[0.99902176 0.79826464] 0.7982646420824294\n",
      "You were missing N reference sequences: 0\n",
      "[0.99900734 0.7893401 ] 0.7893401015228427\n",
      "You were missing N reference sequences: 0\n",
      "[0.99892655 0.7695962 ] 0.7695961995249406\n",
      "You were missing N reference sequences: 0\n"
     ]
    },
    {
     "name": "stderr",
     "output_type": "stream",
     "text": [
      "100%|████████████████████████████████████████████████████████████████████████████████████████████████████████████████████████████| 50/50 [00:09<00:00,  5.05it/s]"
     ]
    },
    {
     "name": "stdout",
     "output_type": "stream",
     "text": [
      "[0.99885573 0.75966387] 0.7596638655462185\n",
      "You were missing N reference sequences: 0\n",
      "[0.99905357 0.81132075] 0.8113207547169812\n",
      "You were missing N reference sequences: 0\n",
      "[0.99899727 0.79083095] 0.7908309455587391\n",
      "You were missing N reference sequences: 0\n",
      "[0.99902176 0.79826464] 0.7982646420824294\n",
      "You were missing N reference sequences: 0\n",
      "[0.99900136 0.78833967] 0.7883396704689482\n"
     ]
    },
    {
     "name": "stderr",
     "output_type": "stream",
     "text": [
      "\n"
     ]
    }
   ],
   "source": [
    "rows = []\n",
    "for squidly_cutoff in tqdm(range(0, 100, 2)):\n",
    "    for df_label in results:\n",
    "        if df_label == 'label':\n",
    "            continue\n",
    "        df = results[df_label]\n",
    "        squidly_df = pd.read_pickle(f'data/AEGAN/squidly/squidly_as_pred_15B_{df_label.replace(\"_BLAST\", \"\")}')\n",
    "        squidly_df.set_index('label', inplace=True)\n",
    "        df = df.join(squidly_df, how='left')\n",
    "        # 'From', 'True_residues', 'BLAST_residues', 'Sequence'\n",
    "        tmp_df = ensemble_predictions(df, 'BLAST_residues', 'Squidly_CR_Position', 'sequence identity', squidly_cutoff)\n",
    "        precision, recall, f1, support, agree, disagree, no_pred, mean_agreement = calculate_stats(tmp_df, 'From', 'True_residues', 'chosen_residues', 'Sequence')\n",
    "        rows.append([df_label.replace(\".pkl\", \"\"), squidly_cutoff, f1, precision, recall, support, agree, disagree, no_pred, mean_agreement])\n"
   ]
  },
  {
   "cell_type": "code",
   "execution_count": 147,
   "id": "14114679-fa60-4321-ba4c-198f8fcfcd0c",
   "metadata": {},
   "outputs": [],
   "source": [
    "df = pd.DataFrame(rows, columns=['Dataset', '% cutoff', 'F1', 'Precision', 'Recall', 'Support', '% fully correct', ' % with difference', ' % missing', 'Mean correct'])\n",
    "df.to_csv('data/Ensemble_Squidly_15B.csv', index=False)"
   ]
  },
  {
   "cell_type": "code",
   "execution_count": 148,
   "id": "74ecbc80-a134-4cb6-b703-cb2782a3842c",
   "metadata": {},
   "outputs": [],
   "source": [
    "df['Dataset'] = [d.replace('_BLAST', '') for d in df['Dataset'].values]"
   ]
  },
  {
   "cell_type": "code",
   "execution_count": 149,
   "id": "7455b694-1fc4-4f67-841a-0651aa976f80",
   "metadata": {},
   "outputs": [
    {
     "data": {
      "image/png": "[encoded data removed]",
      "text/plain": [
       "<Figure size 300x300 with 1 Axes>"
      ]
     },
     "metadata": {},
     "output_type": "display_data"
    },
    {
     "data": {
      "image/png": "[encoded data removed]",
      "text/plain": [
       "<Figure size 300x300 with 1 Axes>"
      ]
     },
     "metadata": {},
     "output_type": "display_data"
    },
    {
     "data": {
      "image/png": "[encoded data removed]",
      "text/plain": [
       "<Figure size 300x300 with 1 Axes>"
      ]
     },
     "metadata": {},
     "output_type": "display_data"
    }
   ],
   "source": [
    "make_figure(df, x='% cutoff', y='F1', hue='Dataset', filename='AEGAN_15B_F1.svg')\n",
    "make_figure(df, x='% cutoff', y='Recall', hue='Dataset', filename='AEGAN_15B_Recall.svg')\n",
    "make_figure(df, x='% cutoff', y='Precision', hue='Dataset', filename='AEGAN_15B_Precision.svg')"
   ]
  },
  {
   "cell_type": "code",
   "execution_count": 150,
   "id": "7380f0a5-95ad-481d-87e3-5ba38e6d58fd",
   "metadata": {},
   "outputs": [
    {
     "data": {
      "text/html": [
       "<div>\n",
       "<style scoped>\n",
       "    .dataframe tbody tr th:only-of-type {\n",
       "        vertical-align: middle;\n",
       "    }\n",
       "\n",
       "    .dataframe tbody tr th {\n",
       "        vertical-align: top;\n",
       "    }\n",
       "\n",
       "    .dataframe thead th {\n",
       "        text-align: right;\n",
       "    }\n",
       "</style>\n",
       "<table border=\"1\" class=\"dataframe\">\n",
       "  <thead>\n",
       "    <tr style=\"text-align: right;\">\n",
       "      <th></th>\n",
       "      <th>Dataset</th>\n",
       "      <th>% cutoff</th>\n",
       "      <th>F1</th>\n",
       "      <th>Precision</th>\n",
       "      <th>Recall</th>\n",
       "      <th>Support</th>\n",
       "      <th>% fully correct</th>\n",
       "      <th>% with difference</th>\n",
       "      <th>% missing</th>\n",
       "      <th>Mean correct</th>\n",
       "    </tr>\n",
       "  </thead>\n",
       "  <tbody>\n",
       "    <tr>\n",
       "      <th>90</th>\n",
       "      <td>NN</td>\n",
       "      <td>30</td>\n",
       "      <td>0.867725</td>\n",
       "      <td>0.891304</td>\n",
       "      <td>0.845361</td>\n",
       "      <td>194</td>\n",
       "      <td>0.750000</td>\n",
       "      <td>0.212963</td>\n",
       "      <td>0.037037</td>\n",
       "      <td>0.829475</td>\n",
       "    </tr>\n",
       "    <tr>\n",
       "      <th>91</th>\n",
       "      <td>HA_superfamily</td>\n",
       "      <td>30</td>\n",
       "      <td>0.862319</td>\n",
       "      <td>0.859206</td>\n",
       "      <td>0.865455</td>\n",
       "      <td>275</td>\n",
       "      <td>0.736842</td>\n",
       "      <td>0.230263</td>\n",
       "      <td>0.032895</td>\n",
       "      <td>0.816557</td>\n",
       "    </tr>\n",
       "    <tr>\n",
       "      <th>92</th>\n",
       "      <td>PC</td>\n",
       "      <td>30</td>\n",
       "      <td>0.901554</td>\n",
       "      <td>0.925532</td>\n",
       "      <td>0.878788</td>\n",
       "      <td>99</td>\n",
       "      <td>0.818182</td>\n",
       "      <td>0.163636</td>\n",
       "      <td>0.018182</td>\n",
       "      <td>0.860606</td>\n",
       "    </tr>\n",
       "    <tr>\n",
       "      <th>93</th>\n",
       "      <td>EF_fold</td>\n",
       "      <td>30</td>\n",
       "      <td>0.903030</td>\n",
       "      <td>0.903030</td>\n",
       "      <td>0.903030</td>\n",
       "      <td>165</td>\n",
       "      <td>0.774194</td>\n",
       "      <td>0.204301</td>\n",
       "      <td>0.021505</td>\n",
       "      <td>0.848566</td>\n",
       "    </tr>\n",
       "    <tr>\n",
       "      <th>94</th>\n",
       "      <td>EF_superfamily</td>\n",
       "      <td>30</td>\n",
       "      <td>0.896552</td>\n",
       "      <td>0.902778</td>\n",
       "      <td>0.890411</td>\n",
       "      <td>219</td>\n",
       "      <td>0.788618</td>\n",
       "      <td>0.186992</td>\n",
       "      <td>0.024390</td>\n",
       "      <td>0.853659</td>\n",
       "    </tr>\n",
       "    <tr>\n",
       "      <th>95</th>\n",
       "      <td>EF_family</td>\n",
       "      <td>30</td>\n",
       "      <td>0.875346</td>\n",
       "      <td>0.895184</td>\n",
       "      <td>0.856369</td>\n",
       "      <td>369</td>\n",
       "      <td>0.775510</td>\n",
       "      <td>0.198980</td>\n",
       "      <td>0.025510</td>\n",
       "      <td>0.851616</td>\n",
       "    </tr>\n",
       "  </tbody>\n",
       "</table>\n",
       "</div>"
      ],
      "text/plain": [
       "           Dataset  % cutoff        F1  Precision    Recall  Support  \\\n",
       "90              NN        30  0.867725   0.891304  0.845361      194   \n",
       "91  HA_superfamily        30  0.862319   0.859206  0.865455      275   \n",
       "92              PC        30  0.901554   0.925532  0.878788       99   \n",
       "93         EF_fold        30  0.903030   0.903030  0.903030      165   \n",
       "94  EF_superfamily        30  0.896552   0.902778  0.890411      219   \n",
       "95       EF_family        30  0.875346   0.895184  0.856369      369   \n",
       "\n",
       "    % fully correct   % with difference   % missing  Mean correct  \n",
       "90         0.750000            0.212963    0.037037      0.829475  \n",
       "91         0.736842            0.230263    0.032895      0.816557  \n",
       "92         0.818182            0.163636    0.018182      0.860606  \n",
       "93         0.774194            0.204301    0.021505      0.848566  \n",
       "94         0.788618            0.186992    0.024390      0.853659  \n",
       "95         0.775510            0.198980    0.025510      0.851616  "
      ]
     },
     "execution_count": 150,
     "metadata": {},
     "output_type": "execute_result"
    }
   ],
   "source": [
    "df[df['% cutoff'] == 30]"
   ]
  },
  {
   "cell_type": "code",
   "execution_count": 151,
   "id": "0638f656-17b2-4345-a8f8-7a823f35b794",
   "metadata": {},
   "outputs": [
    {
     "data": {
      "text/html": [
       "<div>\n",
       "<style scoped>\n",
       "    .dataframe tbody tr th:only-of-type {\n",
       "        vertical-align: middle;\n",
       "    }\n",
       "\n",
       "    .dataframe tbody tr th {\n",
       "        vertical-align: top;\n",
       "    }\n",
       "\n",
       "    .dataframe thead th {\n",
       "        text-align: right;\n",
       "    }\n",
       "</style>\n",
       "<table border=\"1\" class=\"dataframe\">\n",
       "  <thead>\n",
       "    <tr style=\"text-align: right;\">\n",
       "      <th></th>\n",
       "      <th>Dataset</th>\n",
       "      <th>% cutoff</th>\n",
       "      <th>F1</th>\n",
       "      <th>Precision</th>\n",
       "      <th>Recall</th>\n",
       "      <th>Support</th>\n",
       "      <th>% fully correct</th>\n",
       "      <th>% with difference</th>\n",
       "      <th>% missing</th>\n",
       "      <th>Mean correct</th>\n",
       "    </tr>\n",
       "  </thead>\n",
       "  <tbody>\n",
       "    <tr>\n",
       "      <th>0</th>\n",
       "      <td>NN</td>\n",
       "      <td>0</td>\n",
       "      <td>0.856383</td>\n",
       "      <td>0.884615</td>\n",
       "      <td>0.829897</td>\n",
       "      <td>194</td>\n",
       "      <td>0.750000</td>\n",
       "      <td>0.222222</td>\n",
       "      <td>0.027778</td>\n",
       "      <td>0.824846</td>\n",
       "    </tr>\n",
       "    <tr>\n",
       "      <th>1</th>\n",
       "      <td>HA_superfamily</td>\n",
       "      <td>0</td>\n",
       "      <td>0.862816</td>\n",
       "      <td>0.856631</td>\n",
       "      <td>0.869091</td>\n",
       "      <td>275</td>\n",
       "      <td>0.743421</td>\n",
       "      <td>0.236842</td>\n",
       "      <td>0.019737</td>\n",
       "      <td>0.823136</td>\n",
       "    </tr>\n",
       "    <tr>\n",
       "      <th>2</th>\n",
       "      <td>PC</td>\n",
       "      <td>0</td>\n",
       "      <td>0.886598</td>\n",
       "      <td>0.905263</td>\n",
       "      <td>0.868687</td>\n",
       "      <td>99</td>\n",
       "      <td>0.800000</td>\n",
       "      <td>0.200000</td>\n",
       "      <td>0.000000</td>\n",
       "      <td>0.851515</td>\n",
       "    </tr>\n",
       "    <tr>\n",
       "      <th>3</th>\n",
       "      <td>EF_fold</td>\n",
       "      <td>0</td>\n",
       "      <td>0.903030</td>\n",
       "      <td>0.903030</td>\n",
       "      <td>0.903030</td>\n",
       "      <td>165</td>\n",
       "      <td>0.784946</td>\n",
       "      <td>0.204301</td>\n",
       "      <td>0.010753</td>\n",
       "      <td>0.853943</td>\n",
       "    </tr>\n",
       "    <tr>\n",
       "      <th>4</th>\n",
       "      <td>EF_superfamily</td>\n",
       "      <td>0</td>\n",
       "      <td>0.894009</td>\n",
       "      <td>0.902326</td>\n",
       "      <td>0.885845</td>\n",
       "      <td>219</td>\n",
       "      <td>0.788618</td>\n",
       "      <td>0.186992</td>\n",
       "      <td>0.024390</td>\n",
       "      <td>0.852304</td>\n",
       "    </tr>\n",
       "    <tr>\n",
       "      <th>5</th>\n",
       "      <td>EF_family</td>\n",
       "      <td>0</td>\n",
       "      <td>0.871012</td>\n",
       "      <td>0.892045</td>\n",
       "      <td>0.850949</td>\n",
       "      <td>369</td>\n",
       "      <td>0.770408</td>\n",
       "      <td>0.204082</td>\n",
       "      <td>0.025510</td>\n",
       "      <td>0.847364</td>\n",
       "    </tr>\n",
       "  </tbody>\n",
       "</table>\n",
       "</div>"
      ],
      "text/plain": [
       "          Dataset  % cutoff        F1  Precision    Recall  Support  \\\n",
       "0              NN         0  0.856383   0.884615  0.829897      194   \n",
       "1  HA_superfamily         0  0.862816   0.856631  0.869091      275   \n",
       "2              PC         0  0.886598   0.905263  0.868687       99   \n",
       "3         EF_fold         0  0.903030   0.903030  0.903030      165   \n",
       "4  EF_superfamily         0  0.894009   0.902326  0.885845      219   \n",
       "5       EF_family         0  0.871012   0.892045  0.850949      369   \n",
       "\n",
       "   % fully correct   % with difference   % missing  Mean correct  \n",
       "0         0.750000            0.222222    0.027778      0.824846  \n",
       "1         0.743421            0.236842    0.019737      0.823136  \n",
       "2         0.800000            0.200000    0.000000      0.851515  \n",
       "3         0.784946            0.204301    0.010753      0.853943  \n",
       "4         0.788618            0.186992    0.024390      0.852304  \n",
       "5         0.770408            0.204082    0.025510      0.847364  "
      ]
     },
     "execution_count": 151,
     "metadata": {},
     "output_type": "execute_result"
    }
   ],
   "source": [
    "df[df['% cutoff'] == 0]"
   ]
  },
  {
   "cell_type": "code",
   "execution_count": null,
   "id": "1868ae94-2c16-4e0c-8c02-aa0afb0bf742",
   "metadata": {},
   "outputs": [],
   "source": []
  },
  {
   "cell_type": "code",
   "execution_count": null,
   "id": "b24a1d67-4096-48d4-9e28-cd5bf9bd4eaf",
   "metadata": {},
   "outputs": [],
   "source": []
  },
  {
   "cell_type": "code",
   "execution_count": null,
   "id": "13a0b93c-ad84-43cc-bc60-58797b2855aa",
   "metadata": {},
   "outputs": [],
   "source": []
  }
 ],
 "metadata": {
  "kernelspec": {
   "display_name": "Python 3 (ipykernel)",
   "language": "python",
   "name": "python3"
  },
  "language_info": {
   "codemirror_mode": {
    "name": "ipython",
    "version": 3
   },
   "file_extension": ".py",
   "mimetype": "text/x-python",
   "name": "python",
   "nbconvert_exporter": "python",
   "pygments_lexer": "ipython3",
   "version": "3.11.8"
  }
 },
 "nbformat": 4,
 "nbformat_minor": 5
}
