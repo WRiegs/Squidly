{
 "cells": [
  {
   "cell_type": "markdown",
   "id": "b5681fd4-fec3-473c-8a70-5d038a3f320d",
   "metadata": {},
   "source": [
    "# AEGAN datasets benchmark"
   ]
  },
  {
   "cell_type": "code",
   "execution_count": 67,
   "id": "13d3f02f-8866-4155-bf04-edb81e0b6bf1",
   "metadata": {
    "scrolled": true
   },
   "outputs": [
    {
     "name": "stdout",
     "output_type": "stream",
     "text": [
      "\u001b[94m--------------------------------------------------------------------------------\u001b[0m\n",
      "\u001b[94m                      Number of AEGAN training set:\t9888\t                       \u001b[0m\n",
      "\u001b[94m--------------------------------------------------------------------------------\u001b[0m\n"
     ]
    }
   ],
   "source": [
    "import pandas as pd\n",
    "import os \n",
    "import sys\n",
    "sys.path.append('/disk1/ariane/vscode/enzyme-tk/')\n",
    "from enzymetk.sequence_search_blast import BLAST\n",
    "from enzymetk.save_step import Save\n",
    "from sciutil import SciUtil \n",
    "\n",
    "u = SciUtil()\n",
    "\n",
    "# Basically want to run blast on each of the datasets and see how many get the correct active site\n",
    "# We do this filtering first to remove them from the sequence set\n",
    "data_dir = '/disk1/ariane/vscode/squidly/aegan_structures/AEGAN_extracted_sequences/'\n",
    "files = os.listdir(data_dir)\n",
    "swissprot = pd.read_csv('data/wills_metadata.tsv', sep='\\t')\n",
    "swissprot = pd.read_csv('../enzyme_datasets_benchmark/swissprot.tsv', sep='\\t')\n",
    "swissprot = pd.read_csv('data/reviewed_sprot_08042025.tsv', sep='\\t')\n",
    "\n",
    "def annotate_residue_from_uniprot(df):\n",
    "    # Organise the active sites of these guys to be better\n",
    "    active_sites = []\n",
    "    active_site_residue_counts = []\n",
    "    x = 0\n",
    "    for act_site in df['Active site'].values:\n",
    "        sites = []\n",
    "        if isinstance(act_site, str):\n",
    "            act_site = act_site.replace(\" \", '')\n",
    "            for act in act_site.split('ACT_SITE'):\n",
    "                try:\n",
    "                    sites.append(int(act.split(';')[0].replace(\" \", '')) - 1) # Need to subtract 1 to make it fit with the fact that python is 0 encoded lol\n",
    "                except:\n",
    "                    x = 1\n",
    "        if len(sites) != 0:\n",
    "            active_sites.append('|'.join([str(s) for s in sites]))\n",
    "            active_site_residue_counts.append(len(sites))\n",
    "        else:\n",
    "            active_sites.append('None')\n",
    "            active_site_residue_counts.append(0)\n",
    "    df['Residue'] = active_sites\n",
    "    df['active_site_residue_counts'] = active_site_residue_counts\n",
    "    return df\n",
    "    \n",
    "swissprot = annotate_residue_from_uniprot(swissprot)\n",
    "swissprot = swissprot[swissprot['active_site_residue_counts'] > 0]\n",
    "training_ids = set(pd.read_csv('data/AEGAN_real_training_set.txt', header=None)[0].values)\n",
    "training_df = swissprot[swissprot['Entry'].isin(training_ids)]\n",
    "\n",
    "u.dp(['Number of AEGAN training set:', len(training_df)])"
   ]
  },
  {
   "cell_type": "code",
   "execution_count": 31,
   "id": "c36e764d-edce-489e-bdc9-88404bfd520f",
   "metadata": {},
   "outputs": [
    {
     "data": {
      "text/html": [
       "<div>\n",
       "<style scoped>\n",
       "    .dataframe tbody tr th:only-of-type {\n",
       "        vertical-align: middle;\n",
       "    }\n",
       "\n",
       "    .dataframe tbody tr th {\n",
       "        vertical-align: top;\n",
       "    }\n",
       "\n",
       "    .dataframe thead th {\n",
       "        text-align: right;\n",
       "    }\n",
       "</style>\n",
       "<table border=\"1\" class=\"dataframe\">\n",
       "  <thead>\n",
       "    <tr style=\"text-align: right;\">\n",
       "      <th></th>\n",
       "      <th>Entry</th>\n",
       "      <th>Length</th>\n",
       "      <th>Sequence</th>\n",
       "      <th>Active site</th>\n",
       "      <th>PDB</th>\n",
       "      <th>Residue</th>\n",
       "      <th>active_site_residue_counts</th>\n",
       "    </tr>\n",
       "  </thead>\n",
       "  <tbody>\n",
       "  </tbody>\n",
       "</table>\n",
       "</div>"
      ],
      "text/plain": [
       "Empty DataFrame\n",
       "Columns: [Entry, Length, Sequence, Active site, PDB, Residue, active_site_residue_counts]\n",
       "Index: []"
      ]
     },
     "execution_count": 31,
     "metadata": {},
     "output_type": "execute_result"
    }
   ],
   "source": [
    "training_df[training_df['Residue'] == 'None']"
   ]
  },
  {
   "cell_type": "code",
   "execution_count": 53,
   "id": "56c38964-5db8-4a05-a35b-b37a4e791164",
   "metadata": {},
   "outputs": [
    {
     "name": "stdout",
     "output_type": "stream",
     "text": [
      "EF_family_BLAST.csv\n",
      "NN_BLAST.pkl\n",
      "HA_superfamily_BLAST.pkl\n",
      "PC_BLAST.csv\n",
      "EF_fold_BLAST.csv\n",
      "PC_BLAST.pkl\n",
      "HA_superfamily_BLAST.csv\n",
      "EF_fold_BLAST.pkl\n",
      "NN_BLAST.csv\n",
      "EF_superfamily_BLAST.pkl\n",
      "EF_superfamily_BLAST.csv\n",
      "EF_family\n",
      "EF_family_BLAST.pkl\n"
     ]
    }
   ],
   "source": [
    "\n",
    "import sys\n",
    "sys.path.append('/disk1/ariane/vscode/enzyme-tk/')\n",
    "from enzymetk.predict_catalyticsite_step import ActiveSitePred\n",
    "\n",
    "squidly_dir = '/disk1/ariane/vscode/enzyme-tk/models/squidly_final_models/'\n",
    "\n",
    "for f in files:\n",
    "    try:\n",
    "        df = pd.read_csv(f'{data_dir}{f}/{f}.tsv', sep='\\t')\n",
    "        entries = set(list(df['Entry'].values))\n",
    "        # Remove from SwissProt\n",
    "        # Now we're going to save this as a fasta file \n",
    "        fasta_label = f'data/AEGAN/AEGAN_with_active_site_seqs_{f}.fasta'\n",
    "        with open(fasta_label, 'w+') as fout:\n",
    "            for entry, seq in training_df[['Entry', 'Sequence']].values:\n",
    "                if entry not in entries:\n",
    "                    fout.write(f'>{entry}\\n{seq}\\n')\n",
    "        # Do blast on this dataset \n",
    "        # This should be where you downloaded the data from zotero, there is a folder in there called AS_inference\n",
    "        # This contains the models and the data needed to run the tool\n",
    "        id_col = 'Entry'\n",
    "        seq_col = 'Sequence'\n",
    "        squidly = (df << (ActiveSitePred(id_col, seq_col, squidly_dir, esm2_model = 'esm2_t36_3B_UR50D') >> Save(f'data/squidly/{f}_squidly_as_pred_3B.pkl')))\n",
    "    except:\n",
    "        print(f)"
   ]
  },
  {
   "cell_type": "code",
   "execution_count": 68,
   "id": "76be7985-59ad-4e0d-99c5-d905f9a9e146",
   "metadata": {},
   "outputs": [
    {
     "name": "stdout",
     "output_type": "stream",
     "text": [
      "Starting\n",
      "GOING\n"
     ]
    }
   ],
   "source": [
    "from enzymetk.predict_catalyticsite_step import ActiveSitePred\n",
    "\n",
    "import sys\n",
    "sys.path.append('/disk1/ariane/vscode/enzyme-tk/')\n",
    "squidly_dir = '/disk1/ariane/vscode/enzyme-tk/models/squidly_final_models/'\n",
    "\n",
    "for f in files:\n",
    "    try:\n",
    "        if f == 'PC':\n",
    "            print('Starting')\n",
    "            df = pd.read_csv(f'{data_dir}{f}/{f}.tsv', sep='\\t')\n",
    "            entries = set(list(df['Entry'].values))\n",
    "            # Remove from SwissProt\n",
    "            # Now we're going to save this as a fasta file \n",
    "            fasta_label = f'data/AEGAN/AEGAN_with_active_site_seqs_{f}.fasta'\n",
    "            with open(fasta_label, 'w+') as fout:\n",
    "                for entry, seq in training_df[['Entry', 'Sequence']].values:\n",
    "                    if entry not in entries:\n",
    "                        fout.write(f'>{entry}\\n{seq}\\n')\n",
    "            # Do blast on this dataset \n",
    "            # This should be where you downloaded the data from zotero, there is a folder in there called AS_inference\n",
    "            # This contains the models and the data needed to run the tool\n",
    "            id_col = 'Entry'\n",
    "            seq_col = 'Sequence'\n",
    "            print('GOING')\n",
    "            squidly = (df << (ActiveSitePred(id_col, seq_col, squidly_dir, esm2_model = 'esm2_t48_15B_UR50D') >> Save(f'data/Squidly/{f}_squidly_as_pred_15B.pkl')))\n",
    "    except:\n",
    "        print(f)"
   ]
  },
  {
   "cell_type": "markdown",
   "id": "1912f802-93ac-419f-b3b8-2ca64b9a81ae",
   "metadata": {},
   "source": [
    "# Now for each test set we want to look for the closest sequence in the AEGAN training set \n",
    "\n",
    "We do this for each of the sequneces in AEGAN."
   ]
  },
  {
   "cell_type": "code",
   "execution_count": 7,
   "id": "23579460-05ae-429e-9ce4-d11513e979a2",
   "metadata": {},
   "outputs": [
    {
     "name": "stderr",
     "output_type": "stream",
     "text": [
      "diamond v2.1.11.165 (C) Max Planck Society for the Advancement of Science, Benjamin Buchfink, University of Tuebingen\n",
      "Documentation, support and updates available at http://www.diamondsearch.org\n",
      "Please cite: http://dx.doi.org/10.1038/s41592-021-01101-x Nature Methods (2021)\n",
      "\n",
      "#CPU threads: 384\n",
      "Scoring parameters: (Matrix=BLOSUM62 Lambda=0.267 K=0.041 Penalties=11/1)\n",
      "Database input file: data/AEGAN/AEGAN_with_active_site_seqs_PC.fasta\n",
      "Opening the database file...  [0.002s]\n",
      "Loading sequences...  [0.016s]\n",
      "Masking sequences...  [0.029s]\n",
      "Writing sequences...  [0.002s]\n",
      "Hashing sequences...  [0.001s]\n",
      "Loading sequences...  [0s]\n",
      "Writing trailer...  [0.008s]\n",
      "Closing the input file...  [0s]\n",
      "Closing the database file...  [0s]\n",
      "\n",
      "Database sequences  9870\n",
      "  Database letters  4032426\n",
      "     Database hash  129885c69cb938b471437545d84ffcb5\n",
      "        Total time  0.060000s\n",
      "diamond v2.1.11.165 (C) Max Planck Society for the Advancement of Science, Benjamin Buchfink, University of Tuebingen\n",
      "Documentation, support and updates available at http://www.diamondsearch.org\n",
      "Please cite: http://dx.doi.org/10.1038/s41592-021-01101-x Nature Methods (2021)\n",
      "\n",
      "#CPU threads: 384\n",
      "Scoring parameters: (Matrix=BLOSUM62 Lambda=0.267 K=0.041 Penalties=11/1)\n",
      "Database input file: data/AEGAN/AEGAN_with_active_site_seqs_NN.fasta\n",
      "Opening the database file...  [0.002s]\n",
      "Loading sequences...  [0.016s]\n",
      "Masking sequences...  [0.05s]\n",
      "Writing sequences...  [0.002s]\n",
      "Hashing sequences...  [0.001s]\n",
      "Loading sequences...  [0s]\n",
      "Writing trailer...  [0.007s]\n",
      "Closing the input file...  [0s]\n",
      "Closing the database file...  [0s]\n",
      "\n",
      "Database sequences  9851\n",
      "  Database letters  4024611\n",
      "     Database hash  bf2f3dcd5762da3d260a63bd3dbd9e06\n",
      "        Total time  0.082000s\n",
      "diamond v2.1.11.165 (C) Max Planck Society for the Advancement of Science, Benjamin Buchfink, University of Tuebingen\n",
      "Documentation, support and updates available at http://www.diamondsearch.org\n",
      "Please cite: http://dx.doi.org/10.1038/s41592-021-01101-x Nature Methods (2021)\n",
      "\n",
      "#CPU threads: 384\n",
      "Scoring parameters: (Matrix=BLOSUM62 Lambda=0.267 K=0.041 Penalties=11/1)\n",
      "Database input file: data/AEGAN/AEGAN_with_active_site_seqs_EF_superfamily.fasta\n",
      "Opening the database file...  [0.002s]\n",
      "Loading sequences...  [0.016s]\n",
      "Masking sequences...  [0.052s]\n",
      "Writing sequences...  [0.002s]\n",
      "Hashing sequences...  [0.001s]\n",
      "Loading sequences...  [0s]\n",
      "Writing trailer...  [0.006s]\n",
      "Closing the input file...  [0s]\n",
      "Closing the database file...  [0s]\n",
      "\n",
      "Database sequences  9845\n",
      "  Database letters  4022770\n",
      "     Database hash  3ef89e39f1ec5dbfe5fa1bd0357056d3\n",
      "        Total time  0.083000s\n",
      "diamond v2.1.11.165 (C) Max Planck Society for the Advancement of Science, Benjamin Buchfink, University of Tuebingen\n",
      "Documentation, support and updates available at http://www.diamondsearch.org\n",
      "Please cite: http://dx.doi.org/10.1038/s41592-021-01101-x Nature Methods (2021)\n",
      "\n",
      "#CPU threads: 384\n",
      "Scoring parameters: (Matrix=BLOSUM62 Lambda=0.267 K=0.041 Penalties=11/1)\n",
      "Database input file: data/AEGAN/AEGAN_with_active_site_seqs_EF_fold.fasta\n",
      "Opening the database file...  [0.002s]\n",
      "Loading sequences...  [0.016s]\n",
      "Masking sequences...  [0.029s]\n",
      "Writing sequences...  [0.002s]\n",
      "Hashing sequences...  [0.001s]\n",
      "Loading sequences...  [0s]\n",
      "Writing trailer...  [0.006s]\n",
      "Closing the input file...  [0s]\n",
      "Closing the database file...  [0s]\n",
      "\n",
      "Database sequences  9849\n",
      "  Database letters  4024331\n",
      "     Database hash  59150efa7a5f56e8f7d3242b5a243241\n",
      "        Total time  0.059000s\n",
      "diamond v2.1.11.165 (C) Max Planck Society for the Advancement of Science, Benjamin Buchfink, University of Tuebingen\n",
      "Documentation, support and updates available at http://www.diamondsearch.org\n",
      "Please cite: http://dx.doi.org/10.1038/s41592-021-01101-x Nature Methods (2021)\n",
      "\n",
      "#CPU threads: 384\n",
      "Scoring parameters: (Matrix=BLOSUM62 Lambda=0.267 K=0.041 Penalties=11/1)\n",
      "Database input file: data/AEGAN/AEGAN_with_active_site_seqs_EF_family.fasta\n",
      "Opening the database file...  [0.002s]\n",
      "Loading sequences...  [0.016s]\n",
      "Masking sequences...  [0.027s]\n",
      "Writing sequences...  [0.002s]\n",
      "Hashing sequences...  [0.001s]\n",
      "Loading sequences...  [0s]\n",
      "Writing trailer...  [0.007s]\n",
      "Closing the input file...  [0s]\n",
      "Closing the database file...  [0s]\n",
      "\n",
      "Database sequences  9824\n",
      "  Database letters  4012830\n",
      "     Database hash  d886b5efdd4bb074d40e0f2ddad4a386\n",
      "        Total time  0.057000s\n",
      "diamond v2.1.11.165 (C) Max Planck Society for the Advancement of Science, Benjamin Buchfink, University of Tuebingen\n",
      "Documentation, support and updates available at http://www.diamondsearch.org\n",
      "Please cite: http://dx.doi.org/10.1038/s41592-021-01101-x Nature Methods (2021)\n",
      "\n",
      "#CPU threads: 384\n",
      "Scoring parameters: (Matrix=BLOSUM62 Lambda=0.267 K=0.041 Penalties=11/1)\n",
      "Database input file: data/AEGAN/AEGAN_with_active_site_seqs_HA_superfamily.fasta\n",
      "Opening the database file...  [0.002s]\n",
      "Loading sequences...  [0.016s]\n",
      "Masking sequences...  [0.041s]\n",
      "Writing sequences...  [0.002s]\n",
      "Hashing sequences...  [0.001s]\n",
      "Loading sequences...  [0s]\n",
      "Writing trailer...  [0.007s]\n",
      "Closing the input file...  [0s]\n",
      "Closing the database file...  [0s]\n",
      "\n",
      "Database sequences  9836\n",
      "  Database letters  4020270\n",
      "     Database hash  6afe600245d2fd489d9e65e14df7c14b\n",
      "        Total time  0.071000s\n"
     ]
    }
   ],
   "source": [
    "%%capture\n",
    "\n",
    "for f in files:\n",
    "    try:\n",
    "        df = pd.read_csv(f'{data_dir}{f}/{f}.tsv', sep='\\t')\n",
    "        entries = set(list(df['Entry'].values))\n",
    "        # Remove from SwissProt\n",
    "        # Now we're going to save this as a fasta file \n",
    "        fasta_label = f'data/AEGAN/AEGAN_with_active_site_seqs_{f}.fasta'\n",
    "        with open(fasta_label, 'w+') as fout:\n",
    "            for entry, seq in training_df[['Entry', 'Sequence']].values:\n",
    "                if entry not in entries:\n",
    "                    fout.write(f'>{entry}\\n{seq}\\n')\n",
    "        # Do blast on this dataset \n",
    "        # This should be where you downloaded the data from zotero, there is a folder in there called AS_inference\n",
    "        # This contains the models and the data needed to run the tool\n",
    "        id_col = 'Entry'\n",
    "        seq_col = 'Sequence'\n",
    "        df << (BLAST(id_col, seq_col, database=fasta_label, args=['--ultra-sensitive']) >> Save(f'data/AEGAN/blast/{f}_BLAST.pkl'))\n",
    "    except:\n",
    "        print(f)\n",
    "        # Use this to suppress the output of the cell... "
   ]
  },
  {
   "cell_type": "markdown",
   "id": "9ec6986f-aa73-4792-866e-5606d3db1729",
   "metadata": {},
   "source": [
    "# For each of these now what we want to do is to pull out the familiies and align using the clustal omega "
   ]
  },
  {
   "cell_type": "code",
   "execution_count": 33,
   "id": "4af078b6-bfb5-4f92-ad25-a5e2c21265f1",
   "metadata": {},
   "outputs": [
    {
     "name": "stdout",
     "output_type": "stream",
     "text": [
      "EF_family_BLAST.csv\n",
      "PC_BLAST.csv\n",
      "EF_fold_BLAST.csv\n",
      "HA_superfamily_BLAST.csv\n",
      "EF_fold_BLAST.pkl\n",
      "NN_BLAST.csv\n",
      "EF_superfamily_BLAST.csv\n",
      "EF_family\n"
     ]
    }
   ],
   "source": [
    "files = os.listdir('data/AEGAN/blast/')\n",
    "results = {}\n",
    "for f in files:\n",
    "    try:\n",
    "        label = f.split('_BLAST.pkl')[0]\n",
    "        df = pd.read_csv(f'{data_dir}{label}/{label}.tsv', sep='\\t')\n",
    "        entries = set(list(df['Entry'].values))\n",
    "        blast_df = pd.read_pickle(f'data/AEGAN/blast/{f}')\n",
    "        blast_df = blast_df.sort_values(by='sequence identity', ascending=False)\n",
    "        blast_df.drop_duplicates('query', inplace=True)\n",
    "        # Then join up with all df\n",
    "        blast_df.set_index('query', inplace=True)\n",
    "        df.set_index('Entry', inplace=True)\n",
    "        df = df.join(blast_df, how='left')\n",
    "        results[f] = df\n",
    "        uniprot_id_to_seq = dict(zip(swissprot.Entry, swissprot.Sequence))\n",
    "        for name, seq, uniprot in df[['From', 'Sequence', 'target']].values:\n",
    "            fin = f'msa/{uniprot}_{name}.fa'\n",
    "            with open(fin, 'w+') as fout:\n",
    "                fout.write(f'>{uniprot}\\n{uniprot_id_to_seq.get(uniprot)}\\n')\n",
    "                fout.write(f'>{name}\\n{seq}')\n",
    "            # Now run clustalomega\n",
    "            os.system(f'clustalo --force -i {fin} -o {fin.replace(\".fa\", \".msa\")}')\n",
    "    except:\n",
    "        print(f)"
   ]
  },
  {
   "cell_type": "markdown",
   "id": "37e211f4-3f4b-4f69-8bc9-64249728010b",
   "metadata": {},
   "source": [
    "# Read in the datasets and annotate the residues predicted by BLAST"
   ]
  },
  {
   "cell_type": "code",
   "execution_count": 87,
   "id": "9f398270-2c94-4c17-bd90-34cf9a579a46",
   "metadata": {},
   "outputs": [],
   "source": [
    "from Bio import AlignIO\n",
    "import matplotlib.pyplot as plt\n",
    "import numpy as np\n",
    "import seaborn as sns\n",
    "# Read in squidly results\n",
    "import numpy as np\n",
    "from sklearn.metrics import f1_score\n",
    "from sklearn.metrics import precision_recall_fscore_support\n",
    "from tqdm import tqdm \n",
    "\n",
    "def get_evaluation_metrics(actuals, predictions):\n",
    "    # Calculate evaluation metrics\n",
    "    TP = sum([1 for i in range(len(actuals)) if actuals[i] == 1 and predictions[i] == 1])\n",
    "    TN = sum([1 for i in range(len(actuals)) if actuals[i] == 0 and predictions[i] == 0])\n",
    "    FP = sum([1 for i in range(len(actuals)) if actuals[i] == 0 and predictions[i] == 1])\n",
    "    FN = sum([1 for i in range(len(actuals)) if actuals[i] == 1 and predictions[i] == 0])\n",
    "    accuracy = (TP + TN) / (TP + TN + FP + FN)\n",
    "    precision = TP / (TP + FP) if TP + FP != 0 else 0\n",
    "    recall = TP / (TP + FN) if TP + FN != 0 else 0\n",
    "    f1 = 2 * precision * recall / (precision + recall) if precision + recall != 0 else 0\n",
    "    return f1, precision, recall, accuracy\n",
    "\n",
    "\n",
    "def calculate_stats(df, id_col, true_col, pred_col, seq_col):   \n",
    "    # Check the agreement:\n",
    "    agree, disagree, none_ = 0, 0, 0\n",
    "    percent_aggree = []\n",
    "    to_check = []\n",
    "    missing = 0\n",
    "    predictions = []\n",
    "    true = []\n",
    "    for seq_label, res_sq, res_pred, seq in df[[id_col, true_col, pred_col, seq_col]].values:\n",
    "        if not res_sq:\n",
    "            missing += 1\n",
    "        else:\n",
    "            # Calculate the F1 score\n",
    "            res_sq = res_sq.split('|')\n",
    "            if not res_pred or not isinstance(res_pred, str):\n",
    "                none_ += 1\n",
    "                percent_aggree.append(0)\n",
    "                res_sq = [int(i) for i in res_sq]\n",
    "                for pos in range(0, len(seq)):\n",
    "                    predictions.append(0) # Since we had no true predictions\n",
    "                    if pos in res_sq:\n",
    "                        true.append(1)\n",
    "                    else:\n",
    "                        true.append(0)\n",
    "            else:\n",
    "                res_pred = res_pred.split('|')\n",
    "                if res_sq != res_pred:\n",
    "                    to_check.append(seq_label)\n",
    "                    # Check the % agree \n",
    "                    percent_aggree.append(len(set(res_sq) & set(res_pred))/max(len(res_sq), len(res_pred)))\n",
    "                    disagree += 1\n",
    "                else:\n",
    "                    percent_aggree.append(1)\n",
    "                    agree += 1\n",
    "                chosen_res_seq = [int(i) for i in res_pred]\n",
    "                res_sq = [int(i) for i in res_sq]\n",
    "                for pos in range(0, len(seq)):\n",
    "                    if pos in res_sq:\n",
    "                        true.append(1)\n",
    "                    else:\n",
    "                        true.append(0)\n",
    "                    if pos in chosen_res_seq:\n",
    "                        predictions.append(1)\n",
    "                    else:\n",
    "                        predictions.append(0)\n",
    "    print(\"You were missing N reference sequences:\", missing)\n",
    "    precision, recall, f1, support = precision_recall_fscore_support(true, predictions)\n",
    "    f1_, precision_, recall_, accuracy_ = get_evaluation_metrics(true, predictions)\n",
    "    print(f1, f1_)\n",
    "    # f1, precision, recall, support, agree, disagree, no_pred, mean_agreement\n",
    "    return precision[1], recall[1], f1[1], support[1], agree/len(df), disagree/len(df), none_/len(df), np.mean(percent_aggree)\n"
   ]
  },
  {
   "cell_type": "code",
   "execution_count": 88,
   "id": "39b2263c-0e2d-4858-b8b4-ce64bcc5dcbf",
   "metadata": {},
   "outputs": [],
   "source": [
    "colors = ['#FFC440', '#D7572B', '#3A53A4', '#AFC6CF', '#895981', '#937A64']\n",
    "order = ['EF_family', \n",
    "         'NN',\n",
    "         'HA_superfamily',\n",
    "         'PC',\n",
    "         'EF_fold',\n",
    "         'EF_superfamily',\n",
    "         ]\n",
    "plt.rcParams['svg.fonttype'] = 'none'  # Ensure text is saved as text\n",
    "plt.rcParams['figure.figsize'] = (3,3)\n",
    "sns.set(rc={'figure.figsize': (3,3), 'font.family': 'sans-serif', 'font.sans-serif': 'Arial', 'font.size': 12}, \n",
    "        style='ticks')\n",
    "\n",
    "def clean_plt(ax):\n",
    "    ax.tick_params(direction='out', length=2, width=1.0)\n",
    "    ax.spines['bottom'].set_linewidth(1.0)\n",
    "    ax.spines['top'].set_linewidth(0)\n",
    "    ax.spines['left'].set_linewidth(1.0)\n",
    "    ax.spines['right'].set_linewidth(0)\n",
    "    ax.tick_params(labelsize=10.0)\n",
    "    ax.tick_params(axis='x', which='major', pad=2.0)\n",
    "    ax.tick_params(axis='y', which='major', pad=2.0)\n",
    "    return ax"
   ]
  },
  {
   "cell_type": "code",
   "execution_count": 89,
   "id": "70be1e44-74cd-4c0e-a284-481d82ddb9e2",
   "metadata": {},
   "outputs": [
    {
     "name": "stdout",
     "output_type": "stream",
     "text": [
      "\u001b[93m--------------------------------------------------------------------------------\u001b[0m\n",
      "\u001b[93m         Missing a BLAST sequence: \t20\tFound with BLAST sequences:\t176\t         \u001b[0m\n",
      "\u001b[93m--------------------------------------------------------------------------------\u001b[0m\n",
      "You were missing N reference sequences: 0\n",
      "[0.9993904  0.85260116] 0.8526011560693643\n",
      "\u001b[94m--------------------------------------------------------------------------------\u001b[0m\n",
      "\u001b[94mEF_family\t\n",
      "F1\t0.8526011560693643\t\n",
      "precision:\t0.913312693498452\t\n",
      " recall:\t0.7994579945799458\t\u001b[0m\n",
      "\u001b[94m--------------------------------------------------------------------------------\u001b[0m\n",
      "\u001b[93m--------------------------------------------------------------------------------\u001b[0m\n",
      "\u001b[93m         Missing a BLAST sequence: \t12\tFound with BLAST sequences:\t96\t          \u001b[0m\n",
      "\u001b[93m--------------------------------------------------------------------------------\u001b[0m\n",
      "You were missing N reference sequences: 0\n",
      "[0.99933647 0.83240223] 0.8324022346368716\n",
      "\u001b[94m--------------------------------------------------------------------------------\u001b[0m\n",
      "\u001b[94mNN\t\n",
      "F1\t0.8324022346368716\t\n",
      "precision:\t0.9085365853658537\t\n",
      " recall:\t0.7680412371134021\t\u001b[0m\n",
      "\u001b[94m--------------------------------------------------------------------------------\u001b[0m\n"
     ]
    },
    {
     "name": "stderr",
     "output_type": "stream",
     "text": [
      "/tmp/ipykernel_390939/1180285872.py:69: SettingWithCopyWarning: \n",
      "A value is trying to be set on a copy of a slice from a DataFrame.\n",
      "Try using .loc[row_indexer,col_indexer] = value instead\n",
      "\n",
      "See the caveats in the documentation: https://pandas.pydata.org/pandas-docs/stable/user_guide/indexing.html#returning-a-view-versus-a-copy\n",
      "  missing_df['Label'] = df_label.replace(\"_BLAST.pkl\", \"\")\n",
      "/tmp/ipykernel_390939/1180285872.py:69: SettingWithCopyWarning: \n",
      "A value is trying to be set on a copy of a slice from a DataFrame.\n",
      "Try using .loc[row_indexer,col_indexer] = value instead\n",
      "\n",
      "See the caveats in the documentation: https://pandas.pydata.org/pandas-docs/stable/user_guide/indexing.html#returning-a-view-versus-a-copy\n",
      "  missing_df['Label'] = df_label.replace(\"_BLAST.pkl\", \"\")\n"
     ]
    },
    {
     "name": "stdout",
     "output_type": "stream",
     "text": [
      "\u001b[93m--------------------------------------------------------------------------------\u001b[0m\n",
      "\u001b[93m         Missing a BLAST sequence: \t20\tFound with BLAST sequences:\t132\t         \u001b[0m\n",
      "\u001b[93m--------------------------------------------------------------------------------\u001b[0m\n",
      "You were missing N reference sequences: 0\n",
      "[0.99933628 0.83820663] 0.838206627680312\n",
      "\u001b[94m--------------------------------------------------------------------------------\u001b[0m\n",
      "\u001b[94mHA_superfamily\t\n",
      "F1\t0.838206627680312\t\n",
      "precision:\t0.9033613445378151\t\n",
      " recall:\t0.7818181818181819\t\u001b[0m\n",
      "\u001b[94m--------------------------------------------------------------------------------\u001b[0m\n",
      "\u001b[93m--------------------------------------------------------------------------------\u001b[0m\n",
      "\u001b[93m          Missing a BLAST sequence: \t2\tFound with BLAST sequences:\t53\t          \u001b[0m\n",
      "\u001b[93m--------------------------------------------------------------------------------\u001b[0m\n",
      "You were missing N reference sequences: 0\n",
      "[0.99947971 0.88541667] 0.8854166666666665\n",
      "\u001b[94m--------------------------------------------------------------------------------\u001b[0m\n",
      "\u001b[94mPC\t\n",
      "F1\t0.8854166666666665\t\n",
      "precision:\t0.9139784946236559\t\n",
      " recall:\t0.8585858585858586\t\u001b[0m\n",
      "\u001b[94m--------------------------------------------------------------------------------\u001b[0m\n",
      "\u001b[93m--------------------------------------------------------------------------------\u001b[0m\n",
      "\u001b[93m         Missing a BLAST sequence: \t10\tFound with BLAST sequences:\t83\t          \u001b[0m\n",
      "\u001b[93m--------------------------------------------------------------------------------\u001b[0m\n",
      "You were missing N reference sequences: 0\n",
      "[0.99954695 0.89389068] 0.8938906752411576\n",
      "\u001b[94m--------------------------------------------------------------------------------\u001b[0m\n",
      "\u001b[94mEF_fold\t\n",
      "F1\t0.8938906752411576\t\n",
      "precision:\t0.952054794520548\t\n",
      " recall:\t0.8424242424242424\t\u001b[0m\n",
      "\u001b[94m--------------------------------------------------------------------------------\u001b[0m\n"
     ]
    },
    {
     "name": "stderr",
     "output_type": "stream",
     "text": [
      "/tmp/ipykernel_390939/1180285872.py:69: SettingWithCopyWarning: \n",
      "A value is trying to be set on a copy of a slice from a DataFrame.\n",
      "Try using .loc[row_indexer,col_indexer] = value instead\n",
      "\n",
      "See the caveats in the documentation: https://pandas.pydata.org/pandas-docs/stable/user_guide/indexing.html#returning-a-view-versus-a-copy\n",
      "  missing_df['Label'] = df_label.replace(\"_BLAST.pkl\", \"\")\n",
      "/tmp/ipykernel_390939/1180285872.py:69: SettingWithCopyWarning: \n",
      "A value is trying to be set on a copy of a slice from a DataFrame.\n",
      "Try using .loc[row_indexer,col_indexer] = value instead\n",
      "\n",
      "See the caveats in the documentation: https://pandas.pydata.org/pandas-docs/stable/user_guide/indexing.html#returning-a-view-versus-a-copy\n",
      "  missing_df['Label'] = df_label.replace(\"_BLAST.pkl\", \"\")\n",
      "/tmp/ipykernel_390939/1180285872.py:69: SettingWithCopyWarning: \n",
      "A value is trying to be set on a copy of a slice from a DataFrame.\n",
      "Try using .loc[row_indexer,col_indexer] = value instead\n",
      "\n",
      "See the caveats in the documentation: https://pandas.pydata.org/pandas-docs/stable/user_guide/indexing.html#returning-a-view-versus-a-copy\n",
      "  missing_df['Label'] = df_label.replace(\"_BLAST.pkl\", \"\")\n"
     ]
    },
    {
     "name": "stdout",
     "output_type": "stream",
     "text": [
      "\u001b[93m--------------------------------------------------------------------------------\u001b[0m\n",
      "\u001b[93m         Missing a BLAST sequence: \t14\tFound with BLAST sequences:\t109\t         \u001b[0m\n",
      "\u001b[93m--------------------------------------------------------------------------------\u001b[0m\n",
      "You were missing N reference sequences: 0\n",
      "[0.99948484 0.88135593] 0.8813559322033898\n",
      "\u001b[94m--------------------------------------------------------------------------------\u001b[0m\n",
      "\u001b[94mEF_superfamily\t\n",
      "F1\t0.8813559322033898\t\n",
      "precision:\t0.9381443298969072\t\n",
      " recall:\t0.8310502283105022\t\u001b[0m\n",
      "\u001b[94m--------------------------------------------------------------------------------\u001b[0m\n",
      "78\n"
     ]
    },
    {
     "name": "stderr",
     "output_type": "stream",
     "text": [
      "/tmp/ipykernel_390939/1180285872.py:69: SettingWithCopyWarning: \n",
      "A value is trying to be set on a copy of a slice from a DataFrame.\n",
      "Try using .loc[row_indexer,col_indexer] = value instead\n",
      "\n",
      "See the caveats in the documentation: https://pandas.pydata.org/pandas-docs/stable/user_guide/indexing.html#returning-a-view-versus-a-copy\n",
      "  missing_df['Label'] = df_label.replace(\"_BLAST.pkl\", \"\")\n"
     ]
    },
    {
     "data": {
      "image/png": "[encoded data removed]",
      "text/plain": [
       "<Figure size 300x300 with 1 Axes>"
      ]
     },
     "metadata": {},
     "output_type": "display_data"
    }
   ],
   "source": [
    "from Bio import AlignIO\n",
    "import matplotlib.pyplot as plt\n",
    "import numpy as np\n",
    "\n",
    "# OK here we need to have all the swiss prot since we're searching fro both the test and the training to this set\n",
    "# so this is just uniprot to the active sites\n",
    "uniprot_id_to_active_site = dict(zip(swissprot['Entry'], swissprot['Residue']))\n",
    "\n",
    "dataset_to_blast = {}\n",
    "missing_blast_seq = pd.DataFrame()\n",
    "total_missing, total_found = 0, 0\n",
    "\n",
    "for di, df_label in enumerate(order):\n",
    "    df_label = df_label + '_BLAST.pkl'\n",
    "    df = results[df_label]\n",
    "    predicted_active_sites = {}\n",
    "    missing, found = 0, 0\n",
    "    missing_entries = []\n",
    "    for query, uniprot in df[['From', 'target']].values:\n",
    "        if not uniprot or not isinstance(uniprot, str):\n",
    "            missing += 1\n",
    "            missing_entries.append(query)\n",
    "        else:\n",
    "            fin = f'msa/{uniprot}_{query}.msa'\n",
    "            # Read with bioseq\n",
    "            # Read the alignment\n",
    "            active_sites = [int(x) for x in uniprot_id_to_active_site.get(uniprot).split('|')]\n",
    "            alignment = AlignIO.read(fin, 'fasta')\n",
    "            # get the existing one and then calculate the position gapped\n",
    "            records = {}\n",
    "            for record in alignment:\n",
    "                records[record.id] = record.seq\n",
    "            # Now get the active site\n",
    "            position_count = 0\n",
    "            active_pred = []\n",
    "            query_seq = records[query]\n",
    "            query_count = 0\n",
    "            x = 0\n",
    "            for i, v in enumerate(records[uniprot]):\n",
    "                if position_count in active_sites:\n",
    "                    if query_count < len(query_seq.replace('-', '')):\n",
    "                        active_pred.append(query_count)\n",
    "                    if query_seq[i] != v:\n",
    "                        x += 1\n",
    "                        #print(query, uniprot, v, query_seq[i])\n",
    "                if v != '-':\n",
    "                    position_count += 1\n",
    "                if query_seq[i] != '-' and query_seq[i] != ' ':\n",
    "                    query_count += 1\n",
    "        \n",
    "            predicted_active_sites[query] = '|'.join([str(s) for s in active_pred])\n",
    "            found += 1\n",
    "            # Now we can just add on the\n",
    "        # except:\n",
    "        #     missing += 1\n",
    "    \n",
    "    df['BLAST_residues'] = [predicted_active_sites.get(label) for label in df['From'].values]\n",
    "    df['True_residues'] = [uniprot_id_to_active_site.get(label) for label in df['From'].values]\n",
    "    results[df_label] = df\n",
    "    \n",
    "    df.to_csv(f'data/AEGAN/blast/{df_label.replace(\".pkl\", \".csv\")}')\n",
    "    u.warn_p(['Missing a BLAST sequence: ', missing, 'Found with BLAST sequences:', found])\n",
    "    # Check the agreement:\n",
    "    precision, recall, f1, support, agree, disagree, no_pred, mean_agreement = calculate_stats(df, 'From', 'True_residues', 'BLAST_residues', 'Sequence')\n",
    "    dataset_to_blast[df_label.replace(\"_BLAST.pkl\", \"\")] = {'recall': recall, 'f1': f1, 'precision': precision}\n",
    "    \n",
    "    # Keep track of the ones with missing BLAST and we'll check Squidly on these\n",
    "    missing_df = df[df['From'].isin(missing_entries)]\n",
    "    missing_df['Label'] = df_label.replace(\"_BLAST.pkl\", \"\")\n",
    "    missing_blast_seq = pd.concat([missing_df, missing_blast_seq])\n",
    "    \n",
    "    u.dp([df_label.replace(\"_BLAST.pkl\", \"\"), '\\nF1', f1, '\\nprecision:', precision, '\\n recall:', recall])\n",
    "    # Add the seq identity plot\n",
    "    plt.hist(df['sequence identity'].values, bins=20, label=df_label.replace(\"_BLAST.pkl\", \"\"), color=colors[di], alpha=0.5)\n",
    "    total_missing += missing\n",
    "    total_found += found\n",
    "\n",
    "plt.title('Diamond blast results to SwissProt with AS')\n",
    "plt.legend()\n",
    "ax = clean_plt(plt.gca())\n",
    "plt.ylabel('Frequency')\n",
    "plt.xlabel('Sequence identity')\n",
    "print(total_missing)\n",
    "plt.savefig(f'figures/DiamondBlast_histogram_{f}.svg')"
   ]
  },
  {
   "cell_type": "code",
   "execution_count": 90,
   "id": "0af8f2a7-a385-4bf6-9754-4c9c401ce1b1",
   "metadata": {},
   "outputs": [
    {
     "name": "stderr",
     "output_type": "stream",
     "text": [
      "  0%|                                                                                                                                     | 0/50 [00:00<?, ?it/s]"
     ]
    },
    {
     "name": "stdout",
     "output_type": "stream",
     "text": [
      "You were missing N reference sequences: 0\n",
      "[0.99943592 0.86253369] 0.8625336927223719\n",
      "You were missing N reference sequences: 0\n",
      "[0.99944812 0.87198516] 0.8719851576994433\n",
      "You were missing N reference sequences: 0\n",
      "[0.99950335 0.89119171] 0.8911917098445595\n",
      "You were missing N reference sequences: 0\n",
      "[0.99962926 0.91640867] 0.9164086687306501\n",
      "You were missing N reference sequences: 0\n",
      "[0.99954787 0.89882353] 0.8988235294117647\n",
      "You were missing N reference sequences: 0\n",
      "[0.9994501  0.87078652] 0.8707865168539326\n"
     ]
    },
    {
     "name": "stderr",
     "output_type": "stream",
     "text": [
      "  2%|██▌                                                                                                                          | 1/50 [00:00<00:10,  4.55it/s]"
     ]
    },
    {
     "name": "stdout",
     "output_type": "stream",
     "text": [
      "You were missing N reference sequences: 0\n",
      "[0.99943592 0.86253369] 0.8625336927223719\n",
      "You were missing N reference sequences: 0\n",
      "[0.99944812 0.87198516] 0.8719851576994433\n",
      "You were missing N reference sequences: 0\n",
      "[0.99950335 0.89119171] 0.8911917098445595\n",
      "You were missing N reference sequences: 0\n",
      "[0.99962926 0.91640867] 0.9164086687306501\n",
      "You were missing N reference sequences: 0\n",
      "[0.99954787 0.89882353] 0.8988235294117647\n",
      "You were missing N reference sequences: 0\n",
      "[0.9994501  0.87078652] 0.8707865168539326\n"
     ]
    },
    {
     "name": "stderr",
     "output_type": "stream",
     "text": [
      "  4%|█████                                                                                                                        | 2/50 [00:00<00:10,  4.60it/s]"
     ]
    },
    {
     "name": "stdout",
     "output_type": "stream",
     "text": [
      "You were missing N reference sequences: 0\n",
      "[0.99943592 0.86253369] 0.8625336927223719\n",
      "You were missing N reference sequences: 0\n",
      "[0.99944812 0.87198516] 0.8719851576994433\n",
      "You were missing N reference sequences: 0\n",
      "[0.99950335 0.89119171] 0.8911917098445595\n",
      "You were missing N reference sequences: 0\n",
      "[0.99962926 0.91640867] 0.9164086687306501\n",
      "You were missing N reference sequences: 0\n",
      "[0.99954787 0.89882353] 0.8988235294117647\n",
      "You were missing N reference sequences: 0\n"
     ]
    },
    {
     "name": "stderr",
     "output_type": "stream",
     "text": [
      "  6%|███████▌                                                                                                                     | 3/50 [00:00<00:10,  4.61it/s]"
     ]
    },
    {
     "name": "stdout",
     "output_type": "stream",
     "text": [
      "[0.9994501  0.87078652] 0.8707865168539326\n",
      "You were missing N reference sequences: 0\n",
      "[0.99943592 0.86253369] 0.8625336927223719\n",
      "You were missing N reference sequences: 0\n",
      "[0.99944812 0.87198516] 0.8719851576994433\n",
      "You were missing N reference sequences: 0\n",
      "[0.99950335 0.89119171] 0.8911917098445595\n",
      "You were missing N reference sequences: 0\n",
      "[0.99962926 0.91640867] 0.9164086687306501\n",
      "You were missing N reference sequences: 0\n",
      "[0.99954787 0.89882353] 0.8988235294117647\n",
      "You were missing N reference sequences: 0\n"
     ]
    },
    {
     "name": "stderr",
     "output_type": "stream",
     "text": [
      "  8%|██████████                                                                                                                   | 4/50 [00:00<00:09,  4.64it/s]"
     ]
    },
    {
     "name": "stdout",
     "output_type": "stream",
     "text": [
      "[0.9994501  0.87078652] 0.8707865168539326\n",
      "You were missing N reference sequences: 0\n",
      "[0.99943592 0.86253369] 0.8625336927223719\n",
      "You were missing N reference sequences: 0\n",
      "[0.99944812 0.87198516] 0.8719851576994433\n",
      "You were missing N reference sequences: 0\n",
      "[0.99950335 0.89119171] 0.8911917098445595\n",
      "You were missing N reference sequences: 0\n",
      "[0.99962926 0.91640867] 0.9164086687306501\n",
      "You were missing N reference sequences: 0\n",
      "[0.99954787 0.89882353] 0.8988235294117647\n",
      "You were missing N reference sequences: 0\n"
     ]
    },
    {
     "name": "stderr",
     "output_type": "stream",
     "text": [
      " 10%|████████████▌                                                                                                                | 5/50 [00:01<00:09,  4.63it/s]"
     ]
    },
    {
     "name": "stdout",
     "output_type": "stream",
     "text": [
      "[0.9994501  0.87078652] 0.8707865168539326\n",
      "You were missing N reference sequences: 0\n",
      "[0.99943592 0.86253369] 0.8625336927223719\n",
      "You were missing N reference sequences: 0\n",
      "[0.99944812 0.87198516] 0.8719851576994433\n",
      "You were missing N reference sequences: 0\n",
      "[0.99950335 0.89119171] 0.8911917098445595\n",
      "You were missing N reference sequences: 0\n",
      "[0.99962926 0.91640867] 0.9164086687306501\n",
      "You were missing N reference sequences: 0\n",
      "[0.99954787 0.89882353] 0.8988235294117647\n",
      "You were missing N reference sequences: 0\n"
     ]
    },
    {
     "name": "stderr",
     "output_type": "stream",
     "text": [
      " 12%|███████████████                                                                                                              | 6/50 [00:01<00:09,  4.60it/s]"
     ]
    },
    {
     "name": "stdout",
     "output_type": "stream",
     "text": [
      "[0.9994501  0.87078652] 0.8707865168539326\n",
      "You were missing N reference sequences: 0\n",
      "[0.99943592 0.86253369] 0.8625336927223719\n",
      "You were missing N reference sequences: 0\n",
      "[0.99944812 0.87198516] 0.8719851576994433\n",
      "You were missing N reference sequences: 0\n",
      "[0.99950335 0.89119171] 0.8911917098445595\n",
      "You were missing N reference sequences: 0\n",
      "[0.99962926 0.91640867] 0.9164086687306501\n",
      "You were missing N reference sequences: 0\n",
      "[0.99954787 0.89882353] 0.8988235294117647\n",
      "You were missing N reference sequences: 0\n"
     ]
    },
    {
     "name": "stderr",
     "output_type": "stream",
     "text": [
      " 14%|█████████████████▌                                                                                                           | 7/50 [00:01<00:09,  4.54it/s]"
     ]
    },
    {
     "name": "stdout",
     "output_type": "stream",
     "text": [
      "[0.9994501  0.87078652] 0.8707865168539326\n",
      "You were missing N reference sequences: 0\n",
      "[0.99943592 0.86253369] 0.8625336927223719\n",
      "You were missing N reference sequences: 0\n",
      "[0.99944812 0.87198516] 0.8719851576994433\n",
      "You were missing N reference sequences: 0\n",
      "[0.99950335 0.89119171] 0.8911917098445595\n",
      "You were missing N reference sequences: 0\n",
      "[0.99962926 0.91640867] 0.9164086687306501\n",
      "You were missing N reference sequences: 0\n",
      "[0.99954787 0.89882353] 0.8988235294117647\n",
      "You were missing N reference sequences: 0\n"
     ]
    },
    {
     "name": "stderr",
     "output_type": "stream",
     "text": [
      " 16%|████████████████████                                                                                                         | 8/50 [00:01<00:09,  4.58it/s]"
     ]
    },
    {
     "name": "stdout",
     "output_type": "stream",
     "text": [
      "[0.9994501  0.87078652] 0.8707865168539326\n",
      "You were missing N reference sequences: 0\n",
      "[0.99943592 0.86253369] 0.8625336927223719\n",
      "You were missing N reference sequences: 0\n",
      "[0.99944812 0.87198516] 0.8719851576994433\n",
      "You were missing N reference sequences: 0\n",
      "[0.99950335 0.89119171] 0.8911917098445595\n",
      "You were missing N reference sequences: 0\n",
      "[0.99962926 0.91640867] 0.9164086687306501\n",
      "You were missing N reference sequences: 0\n",
      "[0.99954787 0.89882353] 0.8988235294117647\n",
      "You were missing N reference sequences: 0\n"
     ]
    },
    {
     "name": "stderr",
     "output_type": "stream",
     "text": [
      " 18%|██████████████████████▌                                                                                                      | 9/50 [00:01<00:08,  4.57it/s]"
     ]
    },
    {
     "name": "stdout",
     "output_type": "stream",
     "text": [
      "[0.9994501  0.87078652] 0.8707865168539326\n",
      "You were missing N reference sequences: 0\n",
      "[0.99943592 0.86253369] 0.8625336927223719\n",
      "You were missing N reference sequences: 0\n",
      "[0.99944812 0.87198516] 0.8719851576994433\n",
      "You were missing N reference sequences: 0\n",
      "[0.99950335 0.89119171] 0.8911917098445595\n",
      "You were missing N reference sequences: 0\n",
      "[0.99962926 0.91640867] 0.9164086687306501\n",
      "You were missing N reference sequences: 0\n",
      "[0.99954787 0.89882353] 0.8988235294117647\n",
      "You were missing N reference sequences: 0\n"
     ]
    },
    {
     "name": "stderr",
     "output_type": "stream",
     "text": [
      " 20%|████████████████████████▊                                                                                                   | 10/50 [00:02<00:08,  4.59it/s]"
     ]
    },
    {
     "name": "stdout",
     "output_type": "stream",
     "text": [
      "[0.9994501  0.87078652] 0.8707865168539326\n",
      "You were missing N reference sequences: 0\n",
      "[0.99943592 0.86253369] 0.8625336927223719\n",
      "You were missing N reference sequences: 0\n",
      "[0.99944812 0.87198516] 0.8719851576994433\n",
      "You were missing N reference sequences: 0\n",
      "[0.99950335 0.89119171] 0.8911917098445595\n",
      "You were missing N reference sequences: 0\n",
      "[0.99962926 0.91640867] 0.9164086687306501\n",
      "You were missing N reference sequences: 0\n",
      "[0.99954787 0.89882353] 0.8988235294117647\n",
      "You were missing N reference sequences: 0\n"
     ]
    },
    {
     "name": "stderr",
     "output_type": "stream",
     "text": [
      " 22%|███████████████████████████▎                                                                                                | 11/50 [00:02<00:08,  4.60it/s]"
     ]
    },
    {
     "name": "stdout",
     "output_type": "stream",
     "text": [
      "[0.9994501  0.87078652] 0.8707865168539326\n",
      "You were missing N reference sequences: 0\n",
      "[0.99943592 0.86253369] 0.8625336927223719\n",
      "You were missing N reference sequences: 0\n",
      "[0.99944812 0.87198516] 0.8719851576994433\n",
      "You were missing N reference sequences: 0\n",
      "[0.99950335 0.89119171] 0.8911917098445595\n",
      "You were missing N reference sequences: 0\n",
      "[0.99962926 0.91640867] 0.9164086687306501\n",
      "You were missing N reference sequences: 0\n",
      "[0.99954787 0.89882353] 0.8988235294117647\n",
      "You were missing N reference sequences: 0\n"
     ]
    },
    {
     "name": "stderr",
     "output_type": "stream",
     "text": [
      " 24%|█████████████████████████████▊                                                                                              | 12/50 [00:02<00:08,  4.60it/s]"
     ]
    },
    {
     "name": "stdout",
     "output_type": "stream",
     "text": [
      "[0.9994501  0.87078652] 0.8707865168539326\n",
      "You were missing N reference sequences: 0\n",
      "[0.99943592 0.86253369] 0.8625336927223719\n",
      "You were missing N reference sequences: 0\n",
      "[0.99944812 0.87198516] 0.8719851576994433\n",
      "You were missing N reference sequences: 0\n",
      "[0.99950335 0.89119171] 0.8911917098445595\n",
      "You were missing N reference sequences: 0\n",
      "[0.99962926 0.91640867] 0.9164086687306501\n",
      "You were missing N reference sequences: 0\n",
      "[0.99954787 0.89882353] 0.8988235294117647\n",
      "You were missing N reference sequences: 0\n"
     ]
    },
    {
     "name": "stderr",
     "output_type": "stream",
     "text": [
      " 26%|████████████████████████████████▏                                                                                           | 13/50 [00:02<00:08,  4.61it/s]"
     ]
    },
    {
     "name": "stdout",
     "output_type": "stream",
     "text": [
      "[0.9994501  0.87078652] 0.8707865168539326\n",
      "You were missing N reference sequences: 0\n",
      "[0.9994691  0.87096774] 0.870967741935484\n",
      "You were missing N reference sequences: 0\n",
      "[0.99945612 0.87360595] 0.8736059479553903\n",
      "You were missing N reference sequences: 0\n",
      "[0.99952701 0.89583333] 0.8958333333333334\n",
      "You were missing N reference sequences: 0\n",
      "[0.99958806 0.90740741] 0.9074074074074073\n",
      "You were missing N reference sequences: 0\n",
      "[0.99955838 0.90140845] 0.9014084507042253\n",
      "You were missing N reference sequences: 0\n"
     ]
    },
    {
     "name": "stderr",
     "output_type": "stream",
     "text": [
      " 28%|██████████████████████████████████▋                                                                                         | 14/50 [00:03<00:07,  4.66it/s]"
     ]
    },
    {
     "name": "stdout",
     "output_type": "stream",
     "text": [
      "[0.99945608 0.87237027] 0.8723702664796635\n",
      "You were missing N reference sequences: 0\n",
      "[0.9994691  0.87096774] 0.870967741935484\n",
      "You were missing N reference sequences: 0\n",
      "[0.99945612 0.87360595] 0.8736059479553903\n",
      "You were missing N reference sequences: 0\n",
      "[0.99952701 0.89583333] 0.8958333333333334\n",
      "You were missing N reference sequences: 0\n",
      "[0.99958806 0.90740741] 0.9074074074074073\n",
      "You were missing N reference sequences: 0\n",
      "[0.9995689  0.90352941] 0.9035294117647059\n",
      "You were missing N reference sequences: 0\n"
     ]
    },
    {
     "name": "stderr",
     "output_type": "stream",
     "text": [
      " 30%|█████████████████████████████████████▏                                                                                      | 15/50 [00:03<00:07,  4.64it/s]"
     ]
    },
    {
     "name": "stdout",
     "output_type": "stream",
     "text": [
      "[0.99946206 0.87359551] 0.8735955056179775\n",
      "You were missing N reference sequences: 0\n",
      "[0.99948016 0.87331536] 0.8733153638814017\n",
      "You were missing N reference sequences: 0\n",
      "[0.99941614 0.86405959] 0.8640595903165736\n",
      "You were missing N reference sequences: 0\n",
      "[0.99955067 0.90052356] 0.9005235602094241\n",
      "You were missing N reference sequences: 0\n",
      "[0.99953313 0.89506173] 0.8950617283950616\n",
      "You were missing N reference sequences: 0\n",
      "[0.9995689  0.90352941] 0.9035294117647059\n",
      "You were missing N reference sequences: 0\n"
     ]
    },
    {
     "name": "stderr",
     "output_type": "stream",
     "text": [
      " 32%|███████████████████████████████████████▋                                                                                    | 16/50 [00:03<00:07,  4.55it/s]"
     ]
    },
    {
     "name": "stdout",
     "output_type": "stream",
     "text": [
      "[0.99945608 0.87201125] 0.8720112517580872\n",
      "You were missing N reference sequences: 0\n",
      "[0.99948016 0.87331536] 0.8733153638814017\n",
      "You were missing N reference sequences: 0\n",
      "[0.99942414 0.86567164] 0.8656716417910447\n",
      "You were missing N reference sequences: 0\n",
      "[0.99955067 0.90052356] 0.9005235602094241\n",
      "You were missing N reference sequences: 0\n",
      "[0.99953313 0.89506173] 0.8950617283950616\n",
      "You were missing N reference sequences: 0\n",
      "[0.99963199 0.91764706] 0.9176470588235295\n",
      "You were missing N reference sequences: 0\n"
     ]
    },
    {
     "name": "stderr",
     "output_type": "stream",
     "text": [
      " 34%|██████████████████████████████████████████▏                                                                                 | 17/50 [00:03<00:07,  4.43it/s]"
     ]
    },
    {
     "name": "stdout",
     "output_type": "stream",
     "text": [
      "[0.99948597 0.87921348] 0.8792134831460674\n",
      "You were missing N reference sequences: 0\n",
      "[0.99949123 0.87567568] 0.8756756756756756\n",
      "You were missing N reference sequences: 0\n",
      "[0.99937616 0.85393258] 0.8539325842696629\n",
      "You were missing N reference sequences: 0\n",
      "[0.99957433 0.90526316] 0.9052631578947369\n",
      "You were missing N reference sequences: 0\n",
      "[0.99953313 0.89506173] 0.8950617283950616\n",
      "You were missing N reference sequences: 0\n",
      "[0.9996425  0.91981132] 0.9198113207547169\n",
      "You were missing N reference sequences: 0\n"
     ]
    },
    {
     "name": "stderr",
     "output_type": "stream",
     "text": [
      " 36%|████████████████████████████████████████████▋                                                                               | 18/50 [00:03<00:07,  4.50it/s]"
     ]
    },
    {
     "name": "stdout",
     "output_type": "stream",
     "text": [
      "[0.99945607 0.87272727] 0.8727272727272728\n",
      "You were missing N reference sequences: 0\n",
      "[0.99948017 0.87262873] 0.872628726287263\n",
      "You were missing N reference sequences: 0\n",
      "[0.99936017 0.84962406] 0.8496240601503758\n",
      "You were missing N reference sequences: 0\n",
      "[0.99955069 0.8994709 ] 0.8994708994708994\n",
      "You were missing N reference sequences: 0\n",
      "[0.99951941 0.89164087] 0.891640866873065\n",
      "You were missing N reference sequences: 0\n",
      "[0.99963199 0.91725768] 0.91725768321513\n",
      "You were missing N reference sequences: 0\n"
     ]
    },
    {
     "name": "stderr",
     "output_type": "stream",
     "text": [
      " 38%|███████████████████████████████████████████████                                                                             | 19/50 [00:04<00:06,  4.55it/s]"
     ]
    },
    {
     "name": "stdout",
     "output_type": "stream",
     "text": [
      "[0.99948596 0.87955182] 0.8795518207282914\n",
      "You were missing N reference sequences: 0\n",
      "[0.99948017 0.87262873] 0.872628726287263\n",
      "You were missing N reference sequences: 0\n",
      "[0.99937617 0.85338346] 0.8533834586466166\n",
      "You were missing N reference sequences: 0\n",
      "[0.99952703 0.89473684] 0.8947368421052632\n",
      "You were missing N reference sequences: 0\n",
      "[0.99949193 0.88615385] 0.8861538461538461\n",
      "You were missing N reference sequences: 0\n",
      "[0.99961096 0.91252955] 0.9125295508274233\n",
      "You were missing N reference sequences: 0\n"
     ]
    },
    {
     "name": "stderr",
     "output_type": "stream",
     "text": [
      " 40%|█████████████████████████████████████████████████▌                                                                          | 20/50 [00:04<00:06,  4.58it/s]"
     ]
    },
    {
     "name": "stdout",
     "output_type": "stream",
     "text": [
      "[0.99949791 0.88235294] 0.8823529411764706\n",
      "You were missing N reference sequences: 0\n",
      "[0.99949123 0.87567568] 0.8756756756756756\n",
      "You were missing N reference sequences: 0\n",
      "[0.99939217 0.85714286] 0.8571428571428571\n",
      "You were missing N reference sequences: 0\n",
      "[0.99952703 0.89473684] 0.8947368421052632\n",
      "You were missing N reference sequences: 0\n",
      "[0.99950566 0.88957055] 0.8895705521472393\n",
      "You were missing N reference sequences: 0\n",
      "[0.99962149 0.91428571] 0.9142857142857143\n",
      "You were missing N reference sequences: 0\n"
     ]
    },
    {
     "name": "stderr",
     "output_type": "stream",
     "text": [
      " 42%|████████████████████████████████████████████████████                                                                        | 21/50 [00:04<00:06,  4.63it/s]"
     ]
    },
    {
     "name": "stdout",
     "output_type": "stream",
     "text": [
      "[0.99953379 0.89014085] 0.8901408450704226\n",
      "You were missing N reference sequences: 0\n",
      "[0.99951336 0.88043478] 0.8804347826086957\n",
      "You were missing N reference sequences: 0\n",
      "[0.9993682  0.85009488] 0.8500948766603417\n",
      "You were missing N reference sequences: 0\n",
      "[0.99957433 0.90526316] 0.9052631578947369\n",
      "You were missing N reference sequences: 0\n",
      "[0.99953312 0.89570552] 0.8957055214723927\n",
      "You were missing N reference sequences: 0\n",
      "[0.99964252 0.91904762] 0.919047619047619\n",
      "You were missing N reference sequences: 0\n"
     ]
    },
    {
     "name": "stderr",
     "output_type": "stream",
     "text": [
      " 44%|██████████████████████████████████████████████████████▌                                                                     | 22/50 [00:04<00:06,  4.65it/s]"
     ]
    },
    {
     "name": "stdout",
     "output_type": "stream",
     "text": [
      "[0.99952184 0.88700565] 0.8870056497175142\n",
      "You were missing N reference sequences: 0\n",
      "[0.99951336 0.88043478] 0.8804347826086957\n",
      "You were missing N reference sequences: 0\n",
      "[0.99935219 0.84688091] 0.8468809073724006\n",
      "You were missing N reference sequences: 0\n",
      "[0.99957433 0.90526316] 0.9052631578947369\n",
      "You were missing N reference sequences: 0\n",
      "[0.99950567 0.88888889] 0.8888888888888888\n",
      "You were missing N reference sequences: 0\n",
      "[0.99964252 0.91904762] 0.919047619047619\n",
      "You were missing N reference sequences: 0\n"
     ]
    },
    {
     "name": "stderr",
     "output_type": "stream",
     "text": [
      " 46%|█████████████████████████████████████████████████████████                                                                   | 23/50 [00:05<00:05,  4.65it/s]"
     ]
    },
    {
     "name": "stdout",
     "output_type": "stream",
     "text": [
      "[0.99951587 0.8854314 ] 0.8854314002828854\n",
      "You were missing N reference sequences: 0\n",
      "[0.99952442 0.88346883] 0.8834688346883469\n",
      "You were missing N reference sequences: 0\n",
      "[0.99937618 0.85283019] 0.8528301886792453\n",
      "You were missing N reference sequences: 0\n",
      "[0.99959797 0.91099476] 0.9109947643979057\n",
      "You were missing N reference sequences: 0\n",
      "[0.99949193 0.88615385] 0.8861538461538461\n",
      "You were missing N reference sequences: 0\n",
      "[0.999632   0.91686461] 0.9168646080760093\n",
      "You were missing N reference sequences: 0\n"
     ]
    },
    {
     "name": "stderr",
     "output_type": "stream",
     "text": [
      " 48%|███████████████████████████████████████████████████████████▌                                                                | 24/50 [00:05<00:05,  4.64it/s]"
     ]
    },
    {
     "name": "stdout",
     "output_type": "stream",
     "text": [
      "[0.99948598 0.87853107] 0.8785310734463276\n",
      "You were missing N reference sequences: 0\n",
      "[0.99951335 0.88108108] 0.8810810810810811\n",
      "You were missing N reference sequences: 0\n",
      "[0.99933621 0.84250474] 0.8425047438330171\n",
      "You were missing N reference sequences: 0\n",
      "[0.99957431 0.90625   ] 0.90625\n",
      "You were missing N reference sequences: 0\n",
      "[0.99945076 0.8757764 ] 0.8757763975155278\n",
      "You were missing N reference sequences: 0\n",
      "[0.99955842 0.89903846] 0.8990384615384615\n",
      "You were missing N reference sequences: 0\n"
     ]
    },
    {
     "name": "stderr",
     "output_type": "stream",
     "text": [
      " 50%|██████████████████████████████████████████████████████████████                                                              | 25/50 [00:05<00:05,  4.65it/s]"
     ]
    },
    {
     "name": "stdout",
     "output_type": "stream",
     "text": [
      "[0.9994322  0.86486486] 0.8648648648648648\n",
      "You were missing N reference sequences: 0\n",
      "[0.99945807 0.86648501] 0.8664850136239782\n",
      "You were missing N reference sequences: 0\n",
      "[0.99926426 0.82375479] 0.8237547892720307\n",
      "You were missing N reference sequences: 0\n",
      "[0.99952705 0.89361702] 0.8936170212765958\n",
      "You were missing N reference sequences: 0\n",
      "[0.99932723 0.84542587] 0.8454258675078864\n",
      "You were missing N reference sequences: 0\n",
      "[0.99945331 0.87378641] 0.8737864077669902\n",
      "You were missing N reference sequences: 0\n"
     ]
    },
    {
     "name": "stderr",
     "output_type": "stream",
     "text": [
      " 52%|████████████████████████████████████████████████████████████████▍                                                           | 26/50 [00:05<00:05,  4.64it/s]"
     ]
    },
    {
     "name": "stdout",
     "output_type": "stream",
     "text": [
      "[0.99940829 0.85957447] 0.8595744680851064\n",
      "You were missing N reference sequences: 0\n",
      "[0.99945807 0.86648501] 0.8664850136239782\n",
      "You were missing N reference sequences: 0\n",
      "[0.99926426 0.82375479] 0.8237547892720307\n",
      "You were missing N reference sequences: 0\n",
      "[0.99952705 0.89361702] 0.8936170212765958\n",
      "You were missing N reference sequences: 0\n",
      "[0.99929979 0.83809524] 0.8380952380952381\n",
      "You were missing N reference sequences: 0\n",
      "[0.9994428  0.87104623] 0.8710462287104623\n",
      "You were missing N reference sequences: 0\n"
     ]
    },
    {
     "name": "stderr",
     "output_type": "stream",
     "text": [
      " 54%|██████████████████████████████████████████████████████████████████▉                                                         | 27/50 [00:05<00:04,  4.64it/s]"
     ]
    },
    {
     "name": "stdout",
     "output_type": "stream",
     "text": [
      "[0.99939036 0.85511364] 0.8551136363636364\n",
      "You were missing N reference sequences: 0\n",
      "[0.999447   0.86413043] 0.8641304347826086\n",
      "You were missing N reference sequences: 0\n",
      "[0.99926426 0.82375479] 0.8237547892720307\n",
      "You were missing N reference sequences: 0\n",
      "[0.99952705 0.89361702] 0.8936170212765958\n",
      "You were missing N reference sequences: 0\n",
      "[0.99929979 0.83809524] 0.8380952380952381\n",
      "You were missing N reference sequences: 0\n",
      "[0.9994428  0.87104623] 0.8710462287104623\n",
      "You were missing N reference sequences: 0\n"
     ]
    },
    {
     "name": "stderr",
     "output_type": "stream",
     "text": [
      " 56%|█████████████████████████████████████████████████████████████████████▍                                                      | 28/50 [00:06<00:04,  4.68it/s]"
     ]
    },
    {
     "name": "stdout",
     "output_type": "stream",
     "text": [
      "[0.99939036 0.85511364] 0.8551136363636364\n",
      "You were missing N reference sequences: 0\n",
      "[0.99941383 0.85558583] 0.8555858310626703\n",
      "You were missing N reference sequences: 0\n",
      "[0.99921629 0.81153846] 0.8115384615384614\n",
      "You were missing N reference sequences: 0\n",
      "[0.99952705 0.89361702] 0.8936170212765958\n",
      "You were missing N reference sequences: 0\n",
      "[0.99924489 0.82428115] 0.8242811501597443\n",
      "You were missing N reference sequences: 0\n",
      "[0.99941127 0.86341463] 0.8634146341463416\n",
      "You were missing N reference sequences: 0\n"
     ]
    },
    {
     "name": "stderr",
     "output_type": "stream",
     "text": [
      " 58%|███████████████████████████████████████████████████████████████████████▉                                                    | 29/50 [00:06<00:04,  4.65it/s]"
     ]
    },
    {
     "name": "stdout",
     "output_type": "stream",
     "text": [
      "[0.99931267 0.83594864] 0.8359486447931526\n",
      "You were missing N reference sequences: 0\n",
      "[0.99941383 0.85558583] 0.8555858310626703\n",
      "You were missing N reference sequences: 0\n",
      "[0.99918431 0.8030888 ] 0.803088803088803\n",
      "You were missing N reference sequences: 0\n",
      "[0.99952705 0.89361702] 0.8936170212765958\n",
      "You were missing N reference sequences: 0\n",
      "[0.99923117 0.82051282] 0.8205128205128205\n",
      "You were missing N reference sequences: 0\n",
      "[0.99935868 0.85230024] 0.8523002421307506\n",
      "You were missing N reference sequences: 0\n"
     ]
    },
    {
     "name": "stderr",
     "output_type": "stream",
     "text": [
      " 60%|██████████████████████████████████████████████████████████████████████████▍                                                 | 30/50 [00:06<00:04,  4.61it/s]"
     ]
    },
    {
     "name": "stdout",
     "output_type": "stream",
     "text": [
      "[0.99928875 0.83120567] 0.8312056737588652\n",
      "You were missing N reference sequences: 0\n",
      "[0.99941383 0.85558583] 0.8555858310626703\n",
      "You were missing N reference sequences: 0\n",
      "[0.99918431 0.8030888 ] 0.803088803088803\n",
      "You were missing N reference sequences: 0\n",
      "[0.99952705 0.89361702] 0.8936170212765958\n",
      "You were missing N reference sequences: 0\n",
      "[0.99921745 0.81672026] 0.8167202572347266\n",
      "You were missing N reference sequences: 0\n",
      "[0.99933767 0.84671533] 0.8467153284671532\n",
      "You were missing N reference sequences: 0\n"
     ]
    },
    {
     "name": "stderr",
     "output_type": "stream",
     "text": [
      " 62%|████████████████████████████████████████████████████████████████████████████▉                                               | 31/50 [00:06<00:04,  4.64it/s]"
     ]
    },
    {
     "name": "stdout",
     "output_type": "stream",
     "text": [
      "[0.99928875 0.83120567] 0.8312056737588652\n",
      "You were missing N reference sequences: 0\n",
      "[0.99930318 0.8310992 ] 0.8310991957104559\n",
      "You were missing N reference sequences: 0\n",
      "[0.9991043  0.78625954] 0.7862595419847328\n",
      "You were missing N reference sequences: 0\n",
      "[0.99938508 0.86597938] 0.865979381443299\n",
      "You were missing N reference sequences: 0\n",
      "[0.99920371 0.81410256] 0.814102564102564\n",
      "You were missing N reference sequences: 0\n",
      "[0.9992956 0.8377724] 0.8377723970944311\n",
      "You were missing N reference sequences: 0\n"
     ]
    },
    {
     "name": "stderr",
     "output_type": "stream",
     "text": [
      " 64%|███████████████████████████████████████████████████████████████████████████████▎                                            | 32/50 [00:06<00:03,  4.58it/s]"
     ]
    },
    {
     "name": "stdout",
     "output_type": "stream",
     "text": [
      "[0.99926483 0.82602546] 0.826025459688826\n",
      "You were missing N reference sequences: 0\n",
      "[0.99929213 0.82795699] 0.8279569892473119\n",
      "You were missing N reference sequences: 0\n",
      "[0.99909631 0.78393881] 0.7839388145315487\n",
      "You were missing N reference sequences: 0\n",
      "[0.99936145 0.86010363] 0.8601036269430052\n",
      "You were missing N reference sequences: 0\n",
      "[0.99920371 0.81410256] 0.814102564102564\n",
      "You were missing N reference sequences: 0\n",
      "[0.9992851  0.83495146] 0.8349514563106796\n",
      "You were missing N reference sequences: 0\n"
     ]
    },
    {
     "name": "stderr",
     "output_type": "stream",
     "text": [
      " 66%|█████████████████████████████████████████████████████████████████████████████████▊                                          | 33/50 [00:07<00:03,  4.61it/s]"
     ]
    },
    {
     "name": "stdout",
     "output_type": "stream",
     "text": [
      "[0.99924692 0.82102273] 0.8210227272727273\n",
      "You were missing N reference sequences: 0\n",
      "[0.99927001 0.82258065] 0.8225806451612904\n",
      "You were missing N reference sequences: 0\n",
      "[0.99908032 0.78011472] 0.780114722753346\n",
      "You were missing N reference sequences: 0\n",
      "[0.99936145 0.86010363] 0.8601036269430052\n",
      "You were missing N reference sequences: 0\n",
      "[0.99920371 0.81410256] 0.814102564102564\n",
      "You were missing N reference sequences: 0\n",
      "[0.99930611 0.84057971] 0.8405797101449275\n",
      "You were missing N reference sequences: 0\n"
     ]
    },
    {
     "name": "stderr",
     "output_type": "stream",
     "text": [
      " 68%|████████████████████████████████████████████████████████████████████████████████████▎                                       | 34/50 [00:07<00:03,  4.63it/s]"
     ]
    },
    {
     "name": "stdout",
     "output_type": "stream",
     "text": [
      "[0.99926483 0.82602546] 0.826025459688826\n",
      "You were missing N reference sequences: 0\n",
      "[0.99927001 0.82258065] 0.8225806451612904\n",
      "You were missing N reference sequences: 0\n",
      "[0.99908032 0.78011472] 0.780114722753346\n",
      "You were missing N reference sequences: 0\n",
      "[0.99933781 0.85416667] 0.8541666666666666\n",
      "You were missing N reference sequences: 0\n",
      "[0.99920371 0.81410256] 0.814102564102564\n",
      "You were missing N reference sequences: 0\n",
      "[0.99930611 0.84057971] 0.8405797101449275\n",
      "You were missing N reference sequences: 0\n"
     ]
    },
    {
     "name": "stderr",
     "output_type": "stream",
     "text": [
      " 70%|██████████████████████████████████████████████████████████████████████████████████████▊                                     | 35/50 [00:07<00:03,  4.59it/s]"
     ]
    },
    {
     "name": "stdout",
     "output_type": "stream",
     "text": [
      "[0.99925885 0.82485876] 0.8248587570621468\n",
      "You were missing N reference sequences: 0\n",
      "[0.9992368 0.816    ] 0.8160000000000001\n",
      "You were missing N reference sequences: 0\n",
      "[0.9990563 0.7756654] 0.7756653992395437\n",
      "You were missing N reference sequences: 0\n",
      "[0.99933781 0.85416667] 0.8541666666666666\n",
      "You were missing N reference sequences: 0\n",
      "[0.99920371 0.81410256] 0.814102564102564\n",
      "You were missing N reference sequences: 0\n",
      "[0.9992851  0.83495146] 0.8349514563106796\n",
      "You were missing N reference sequences: 0\n"
     ]
    },
    {
     "name": "stderr",
     "output_type": "stream",
     "text": [
      " 72%|█████████████████████████████████████████████████████████████████████████████████████████▎                                  | 36/50 [00:07<00:03,  4.60it/s]"
     ]
    },
    {
     "name": "stdout",
     "output_type": "stream",
     "text": [
      "[0.99922896 0.8180536 ] 0.8180535966149506\n",
      "You were missing N reference sequences: 0\n",
      "[0.99922573 0.81382979] 0.8138297872340425\n",
      "You were missing N reference sequences: 0\n",
      "[0.99904029 0.77272727] 0.7727272727272726\n",
      "You were missing N reference sequences: 0\n",
      "[0.99931415 0.84974093] 0.8497409326424871\n",
      "You were missing N reference sequences: 0\n",
      "[0.99917628 0.80645161] 0.8064516129032258\n",
      "You were missing N reference sequences: 0\n",
      "[0.9992851  0.83495146] 0.8349514563106796\n",
      "You were missing N reference sequences: 0\n"
     ]
    },
    {
     "name": "stderr",
     "output_type": "stream",
     "text": [
      " 74%|███████████████████████████████████████████████████████████████████████████████████████████▊                                | 37/50 [00:08<00:02,  4.63it/s]"
     ]
    },
    {
     "name": "stdout",
     "output_type": "stream",
     "text": [
      "[0.99921702 0.81471004] 0.8147100424328146\n",
      "You were missing N reference sequences: 0\n",
      "[0.99921468 0.81066667] 0.8106666666666666\n",
      "You were missing N reference sequences: 0\n",
      "[0.99903229 0.77126654] 0.771266540642722\n",
      "You were missing N reference sequences: 0\n",
      "[0.99931415 0.84974093] 0.8497409326424871\n",
      "You were missing N reference sequences: 0\n",
      "[0.99917628 0.80645161] 0.8064516129032258\n",
      "You were missing N reference sequences: 0\n",
      "[0.99927458 0.83292978] 0.8329297820823244\n",
      "You were missing N reference sequences: 0\n"
     ]
    },
    {
     "name": "stderr",
     "output_type": "stream",
     "text": [
      " 76%|██████████████████████████████████████████████████████████████████████████████████████████████▏                             | 38/50 [00:08<00:02,  4.63it/s]"
     ]
    },
    {
     "name": "stdout",
     "output_type": "stream",
     "text": [
      "[0.99921105 0.81303116] 0.813031161473088\n",
      "You were missing N reference sequences: 0\n",
      "[0.99921468 0.81066667] 0.8106666666666666\n",
      "You were missing N reference sequences: 0\n",
      "[0.99903229 0.77126654] 0.771266540642722\n",
      "You were missing N reference sequences: 0\n",
      "[0.99931415 0.84974093] 0.8497409326424871\n",
      "You were missing N reference sequences: 0\n",
      "[0.99914884 0.7987013 ] 0.7987012987012987\n",
      "You were missing N reference sequences: 0\n",
      "[0.99925357 0.82725061] 0.827250608272506\n",
      "You were missing N reference sequences: 0\n"
     ]
    },
    {
     "name": "stderr",
     "output_type": "stream",
     "text": [
      " 78%|████████████████████████████████████████████████████████████████████████████████████████████████▋                           | 39/50 [00:08<00:02,  4.66it/s]"
     ]
    },
    {
     "name": "stdout",
     "output_type": "stream",
     "text": [
      "[0.9991991  0.80965909] 0.8096590909090908\n",
      "You were missing N reference sequences: 0\n",
      "[0.99918149 0.80319149] 0.8031914893617021\n",
      "You were missing N reference sequences: 0\n",
      "[0.9990243  0.76893939] 0.7689393939393939\n",
      "You were missing N reference sequences: 0\n",
      "[0.99924318 0.83505155] 0.8350515463917525\n",
      "You were missing N reference sequences: 0\n",
      "[0.99910765 0.78964401] 0.7896440129449839\n",
      "You were missing N reference sequences: 0\n",
      "[0.99922202 0.82038835] 0.8203883495145631\n",
      "You were missing N reference sequences: 0\n"
     ]
    },
    {
     "name": "stderr",
     "output_type": "stream",
     "text": [
      " 80%|███████████████████████████████████████████████████████████████████████████████████████████████████▏                        | 40/50 [00:08<00:02,  4.63it/s]"
     ]
    },
    {
     "name": "stdout",
     "output_type": "stream",
     "text": [
      "[0.99916921 0.80283688] 0.8028368794326242\n",
      "You were missing N reference sequences: 0\n",
      "[0.99917042 0.80106101] 0.8010610079575596\n",
      "You were missing N reference sequences: 0\n",
      "[0.99899232 0.76045627] 0.7604562737642586\n",
      "You were missing N reference sequences: 0\n",
      "[0.99924318 0.83505155] 0.8350515463917525\n",
      "You were missing N reference sequences: 0\n",
      "[0.99909393 0.78571429] 0.7857142857142856\n",
      "You were missing N reference sequences: 0\n",
      "[0.99921151 0.81751825] 0.8175182481751825\n",
      "You were missing N reference sequences: 0\n"
     ]
    },
    {
     "name": "stderr",
     "output_type": "stream",
     "text": [
      " 82%|█████████████████████████████████████████████████████████████████████████████████████████████████████▋                      | 41/50 [00:08<00:01,  4.67it/s]"
     ]
    },
    {
     "name": "stdout",
     "output_type": "stream",
     "text": [
      "[0.99916324 0.80113636] 0.8011363636363638\n",
      "You were missing N reference sequences: 0\n",
      "[0.99915937 0.79787234] 0.7978723404255318\n",
      "You were missing N reference sequences: 0\n",
      "[0.99898433 0.75809524] 0.758095238095238\n",
      "You were missing N reference sequences: 0\n",
      "[0.99924318 0.83505155] 0.8350515463917525\n",
      "You were missing N reference sequences: 0\n",
      "[0.99909393 0.78571429] 0.7857142857142856\n",
      "You were missing N reference sequences: 0\n",
      "[0.99921151 0.81751825] 0.8175182481751825\n",
      "You were missing N reference sequences: 0\n"
     ]
    },
    {
     "name": "stderr",
     "output_type": "stream",
     "text": [
      " 84%|████████████████████████████████████████████████████████████████████████████████████████████████████████▏                   | 42/50 [00:09<00:01,  4.66it/s]"
     ]
    },
    {
     "name": "stdout",
     "output_type": "stream",
     "text": [
      "[0.99916324 0.80113636] 0.8011363636363638\n",
      "You were missing N reference sequences: 0\n",
      "[0.99915937 0.79787234] 0.7978723404255318\n",
      "You were missing N reference sequences: 0\n",
      "[0.99897634 0.75572519] 0.7557251908396946\n",
      "You were missing N reference sequences: 0\n",
      "[0.99924318 0.83505155] 0.8350515463917525\n",
      "You were missing N reference sequences: 0\n",
      "[0.99909393 0.78571429] 0.7857142857142856\n",
      "You were missing N reference sequences: 0\n",
      "[0.99921151 0.81751825] 0.8175182481751825\n",
      "You were missing N reference sequences: 0\n"
     ]
    },
    {
     "name": "stderr",
     "output_type": "stream",
     "text": [
      " 86%|██████████████████████████████████████████████████████████████████████████████████████████████████████████▋                 | 43/50 [00:09<00:01,  4.67it/s]"
     ]
    },
    {
     "name": "stdout",
     "output_type": "stream",
     "text": [
      "[0.99915726 0.8       ] 0.7999999999999999\n",
      "You were missing N reference sequences: 0\n",
      "[0.99915937 0.79787234] 0.7978723404255318\n",
      "You were missing N reference sequences: 0\n",
      "[0.99896834 0.75428571] 0.7542857142857142\n",
      "You were missing N reference sequences: 0\n",
      "[0.99924318 0.83505155] 0.8350515463917525\n",
      "You were missing N reference sequences: 0\n",
      "[0.99909393 0.78571429] 0.7857142857142856\n",
      "You were missing N reference sequences: 0\n",
      "[0.99921151 0.81751825] 0.8175182481751825\n",
      "You were missing N reference sequences: 0\n"
     ]
    },
    {
     "name": "stderr",
     "output_type": "stream",
     "text": [
      " 88%|█████████████████████████████████████████████████████████████████████████████████████████████████████████████               | 44/50 [00:09<00:01,  4.68it/s]"
     ]
    },
    {
     "name": "stdout",
     "output_type": "stream",
     "text": [
      "[0.99915128 0.79886686] 0.7988668555240793\n",
      "You were missing N reference sequences: 0\n",
      "[0.99915937 0.79787234] 0.7978723404255318\n",
      "You were missing N reference sequences: 0\n",
      "[0.99896035 0.7519084 ] 0.7519083969465647\n",
      "You were missing N reference sequences: 0\n",
      "[0.99924318 0.83505155] 0.8350515463917525\n",
      "You were missing N reference sequences: 0\n",
      "[0.99908021 0.78175896] 0.7817589576547233\n",
      "You were missing N reference sequences: 0\n",
      "[0.99920101 0.81463415] 0.8146341463414634\n",
      "You were missing N reference sequences: 0\n"
     ]
    },
    {
     "name": "stderr",
     "output_type": "stream",
     "text": [
      " 90%|███████████████████████████████████████████████████████████████████████████████████████████████████████████████▌            | 45/50 [00:09<00:01,  4.66it/s]"
     ]
    },
    {
     "name": "stdout",
     "output_type": "stream",
     "text": [
      "[0.9991453  0.79716312] 0.7971631205673759\n",
      "You were missing N reference sequences: 0\n",
      "[0.99915937 0.79787234] 0.7978723404255318\n",
      "You were missing N reference sequences: 0\n",
      "[0.99896035 0.7519084 ] 0.7519083969465647\n",
      "You were missing N reference sequences: 0\n",
      "[0.99924318 0.83505155] 0.8350515463917525\n",
      "You were missing N reference sequences: 0\n",
      "[0.99908021 0.78175896] 0.7817589576547233\n",
      "You were missing N reference sequences: 0\n",
      "[0.99920101 0.81463415] 0.8146341463414634\n",
      "You were missing N reference sequences: 0\n"
     ]
    },
    {
     "name": "stderr",
     "output_type": "stream",
     "text": [
      " 92%|██████████████████████████████████████████████████████████████████████████████████████████████████████████████████          | 46/50 [00:09<00:00,  4.66it/s]"
     ]
    },
    {
     "name": "stdout",
     "output_type": "stream",
     "text": [
      "[0.9991453  0.79716312] 0.7971631205673759\n",
      "You were missing N reference sequences: 0\n",
      "[0.99915937 0.79787234] 0.7978723404255318\n",
      "You were missing N reference sequences: 0\n",
      "[0.99896035 0.7519084 ] 0.7519083969465647\n",
      "You were missing N reference sequences: 0\n",
      "[0.99924318 0.83505155] 0.8350515463917525\n",
      "You were missing N reference sequences: 0\n",
      "[0.99908021 0.78175896] 0.7817589576547233\n",
      "You were missing N reference sequences: 0\n",
      "[0.99920101 0.81463415] 0.8146341463414634\n",
      "You were missing N reference sequences: 0\n"
     ]
    },
    {
     "name": "stderr",
     "output_type": "stream",
     "text": [
      " 94%|████████████████████████████████████████████████████████████████████████████████████████████████████████████████████▌       | 47/50 [00:10<00:00,  4.63it/s]"
     ]
    },
    {
     "name": "stdout",
     "output_type": "stream",
     "text": [
      "[0.99913932 0.79603399] 0.7960339943342776\n",
      "You were missing N reference sequences: 0\n",
      "[0.99915937 0.79787234] 0.7978723404255318\n",
      "You were missing N reference sequences: 0\n",
      "[0.99896035 0.7519084 ] 0.7519083969465647\n",
      "You were missing N reference sequences: 0\n",
      "[0.99924318 0.83505155] 0.8350515463917525\n",
      "You were missing N reference sequences: 0\n",
      "[0.99906647 0.77922078] 0.7792207792207791\n",
      "You were missing N reference sequences: 0\n",
      "[0.99919049 0.81265207] 0.8126520681265206\n",
      "You were missing N reference sequences: 0\n"
     ]
    },
    {
     "name": "stderr",
     "output_type": "stream",
     "text": [
      " 96%|███████████████████████████████████████████████████████████████████████████████████████████████████████████████████████     | 48/50 [00:10<00:00,  4.64it/s]"
     ]
    },
    {
     "name": "stdout",
     "output_type": "stream",
     "text": [
      "[0.99913932 0.79603399] 0.7960339943342776\n",
      "You were missing N reference sequences: 0\n",
      "[0.99915937 0.79787234] 0.7978723404255318\n",
      "You were missing N reference sequences: 0\n",
      "[0.99896035 0.7519084 ] 0.7519083969465647\n",
      "You were missing N reference sequences: 0\n",
      "[0.99924318 0.83505155] 0.8350515463917525\n",
      "You were missing N reference sequences: 0\n",
      "[0.99906647 0.77922078] 0.7792207792207791\n",
      "You were missing N reference sequences: 0\n",
      "[0.99919049 0.81265207] 0.8126520681265206\n",
      "You were missing N reference sequences: 0\n",
      "[0.99913932 0.79603399] 0.7960339943342776\n"
     ]
    },
    {
     "name": "stderr",
     "output_type": "stream",
     "text": [
      " 98%|█████████████████████████████████████████████████████████████████████████████████████████████████████████████████████████▌  | 49/50 [00:10<00:00,  4.69it/s]"
     ]
    },
    {
     "name": "stdout",
     "output_type": "stream",
     "text": [
      "You were missing N reference sequences: 0\n",
      "[0.99914831 0.79466667] 0.7946666666666667\n",
      "You were missing N reference sequences: 0\n",
      "[0.99896035 0.7519084 ] 0.7519083969465647\n",
      "You were missing N reference sequences: 0\n",
      "[0.99921954 0.82901554] 0.8290155440414508\n",
      "You were missing N reference sequences: 0\n",
      "[0.99906647 0.77922078] 0.7792207792207791\n",
      "You were missing N reference sequences: 0\n",
      "[0.99919049 0.81265207] 0.8126520681265206\n",
      "You were missing N reference sequences: 0\n"
     ]
    },
    {
     "name": "stderr",
     "output_type": "stream",
     "text": [
      "100%|████████████████████████████████████████████████████████████████████████████████████████████████████████████████████████████| 50/50 [00:10<00:00,  4.62it/s]"
     ]
    },
    {
     "name": "stdout",
     "output_type": "stream",
     "text": [
      "[0.99913932 0.79603399] 0.7960339943342776\n"
     ]
    },
    {
     "name": "stderr",
     "output_type": "stream",
     "text": [
      "\n"
     ]
    }
   ],
   "source": [
    "def ensemble_predictions(df, blast_col, squidly_col, seq_id_col, squidly_similarity_cutoff=30):\n",
    "    # Basically we update the choice of blast and squidly based on the cutoff \n",
    "    chosen_residues = []\n",
    "    for blast_res, squidly_res, seq_id in df[[blast_col, squidly_col, seq_id_col]].values:\n",
    "        # Also check if both are here otherwise pick the other one that was predicted\n",
    "        if not isinstance(blast_res, str):\n",
    "            chosen_residues.append(squidly_res)\n",
    "        elif not isinstance(squidly_res, str):\n",
    "            chosen_residues.append(blast_res)\n",
    "        elif seq_id < squidly_similarity_cutoff:\n",
    "            chosen_residues.append(squidly_res)\n",
    "        elif seq_id >= squidly_similarity_cutoff:\n",
    "            chosen_residues.append(blast_res)\n",
    "        else:\n",
    "            chosen_residues.append(None)\n",
    "    df['chosen_residues'] = chosen_residues\n",
    "    return df\n",
    "\n",
    "rows = []\n",
    "entry_to_squidly_prediction = {}\n",
    "for squidly_cutoff in tqdm(range(0, 100, 2)):\n",
    "    for df_label in results:\n",
    "        if df_label == 'label':\n",
    "            continue\n",
    "        df = results[df_label]\n",
    "        squidly_df = pd.read_pickle(f'data/Squidly/{df_label.replace(\"_BLAST.pkl\", \"\")}_squidly_as_pred_3B.pkl')\n",
    "        squidly_df.set_index('label', inplace=True)\n",
    "        df = df.join(squidly_df, how='left')\n",
    "        for query, pred in df[['From', 'Squidly_CR_Position']].values:\n",
    "            entry_to_squidly_prediction[query] = pred\n",
    "        # 'From', 'True_residues', 'BLAST_residues', 'Sequence'\n",
    "        tmp_df = ensemble_predictions(df, 'BLAST_residues', 'Squidly_CR_Position', 'sequence identity', squidly_cutoff)\n",
    "        precision, recall, f1, support, agree, disagree, no_pred, mean_agreement = calculate_stats(tmp_df, 'From', 'True_residues', 'chosen_residues', 'Sequence')\n",
    "        rows.append([df_label.replace(\".pkl\", \"\"), squidly_cutoff, f1, precision, recall, support, agree, disagree, no_pred, mean_agreement])\n"
   ]
  },
  {
   "cell_type": "code",
   "execution_count": 91,
   "id": "43420cb8-adc7-4298-9994-0e4355d958d9",
   "metadata": {},
   "outputs": [
    {
     "name": "stdout",
     "output_type": "stream",
     "text": [
      "You were missing N reference sequences: 0\n",
      "[0.99914831 0.79466667] 0.7946666666666667\n",
      "\u001b[94m--------------------------------------------------------------------------------\u001b[0m\n",
      "\u001b[94mNN\t\n",
      "F1\t0.7946666666666667\t\n",
      "precision:\t0.8232044198895028\t\n",
      " recall:\t0.7680412371134021\t\u001b[0m\n",
      "\u001b[94m--------------------------------------------------------------------------------\u001b[0m\n",
      "You were missing N reference sequences: 0\n",
      "[0.99896035 0.7519084 ] 0.7519083969465647\n",
      "\u001b[94m--------------------------------------------------------------------------------\u001b[0m\n",
      "\u001b[94mHA_superfamily\t\n",
      "F1\t0.7519083969465647\t\n",
      "precision:\t0.7911646586345381\t\n",
      " recall:\t0.7163636363636363\t\u001b[0m\n",
      "\u001b[94m--------------------------------------------------------------------------------\u001b[0m\n",
      "You were missing N reference sequences: 0\n",
      "[0.99921954 0.82901554] 0.8290155440414508\n",
      "\u001b[94m--------------------------------------------------------------------------------\u001b[0m\n",
      "\u001b[94mPC\t\n",
      "F1\t0.8290155440414508\t\n",
      "precision:\t0.851063829787234\t\n",
      " recall:\t0.8080808080808081\t\u001b[0m\n",
      "\u001b[94m--------------------------------------------------------------------------------\u001b[0m\n",
      "You were missing N reference sequences: 0\n",
      "[0.99906647 0.77922078] 0.7792207792207791\n",
      "\u001b[94m--------------------------------------------------------------------------------\u001b[0m\n",
      "\u001b[94mEF_fold\t\n",
      "F1\t0.7792207792207791\t\n",
      "precision:\t0.8391608391608392\t\n",
      " recall:\t0.7272727272727273\t\u001b[0m\n",
      "\u001b[94m--------------------------------------------------------------------------------\u001b[0m\n",
      "You were missing N reference sequences: 0\n",
      "[0.99919049 0.81265207] 0.8126520681265206\n",
      "\u001b[94m--------------------------------------------------------------------------------\u001b[0m\n",
      "\u001b[94mEF_superfamily\t\n",
      "F1\t0.8126520681265206\t\n",
      "precision:\t0.8697916666666666\t\n",
      " recall:\t0.7625570776255708\t\u001b[0m\n",
      "\u001b[94m--------------------------------------------------------------------------------\u001b[0m\n",
      "You were missing N reference sequences: 0\n",
      "[0.99913932 0.79603399] 0.7960339943342776\n",
      "\u001b[94m--------------------------------------------------------------------------------\u001b[0m\n",
      "\u001b[94mEF_family\t\n",
      "F1\t0.7960339943342776\t\n",
      "precision:\t0.8338278931750742\t\n",
      " recall:\t0.7615176151761518\t\u001b[0m\n",
      "\u001b[94m--------------------------------------------------------------------------------\u001b[0m\n"
     ]
    }
   ],
   "source": [
    "for df_label in results:\n",
    "    if df_label == 'label':\n",
    "        continue\n",
    "    df = results[df_label]\n",
    "    squidly_df = pd.read_pickle(f'data/Squidly/{df_label.replace(\"_BLAST.pkl\", \"\")}_squidly_as_pred_3B.pkl')\n",
    "    squidly_df.set_index('label', inplace=True)\n",
    "    df = df.join(squidly_df, how='left')\n",
    "    for query, pred in df[['From', 'Squidly_CR_Position']].values:\n",
    "        entry_to_squidly_prediction[query] = pred\n",
    "    # 'From', 'True_residues', 'BLAST_residues', 'Sequence'\n",
    "    tmp_df = ensemble_predictions(df, 'BLAST_residues', 'Squidly_CR_Position', 'sequence identity', squidly_cutoff)\n",
    "    precision, recall, f1, support, agree, disagree, no_pred, mean_agreement = calculate_stats(tmp_df, 'From', 'True_residues', 'chosen_residues', 'Sequence')\n",
    "    u.dp([df_label.replace(\"_BLAST.pkl\", \"\"), '\\nF1', f1, '\\nprecision:', precision, '\\n recall:', recall])\n"
   ]
  },
  {
   "cell_type": "markdown",
   "id": "ba9fb69f-1db1-40ec-a7f8-4e193d51b347",
   "metadata": {},
   "source": [
    "# Check the recovery rate of those 78 sequences "
   ]
  },
  {
   "cell_type": "code",
   "execution_count": 106,
   "id": "c9326dce-50bb-4426-be90-55bb4fecd4dc",
   "metadata": {},
   "outputs": [
    {
     "name": "stdout",
     "output_type": "stream",
     "text": [
      "You were missing N reference sequences: 0\n",
      "[0.9991634  0.79166667] 0.7916666666666667\n"
     ]
    },
    {
     "data": {
      "text/plain": [
       "(0.8778877887788779,\n",
       " 0.7208672086720868,\n",
       " 0.7916666666666667,\n",
       " 369,\n",
       " 0.6071428571428571,\n",
       " 0.25,\n",
       " 0.14285714285714285,\n",
       " 0.7019557823129251)"
      ]
     },
     "execution_count": 106,
     "metadata": {},
     "output_type": "execute_result"
    }
   ],
   "source": [
    "# No\n",
    "missing_blast_seq['Squidly_CR_Position'] = [entry_to_squidly_prediction[q] for q in missing_blast_seq['From'].values]\n",
    "precision, recall, f1, support, agree, disagree, no_pred, mean_agreement = calculate_stats(tmp_df, 'From', 'True_residues', 'Squidly_CR_Position', 'Sequence')\n",
    "precision, recall, f1, support, agree, disagree, no_pred, mean_agreement"
   ]
  },
  {
   "cell_type": "code",
   "execution_count": 107,
   "id": "114e3852-2d07-48e6-b189-fd77e68dcbec",
   "metadata": {},
   "outputs": [],
   "source": [
    "df = pd.DataFrame(rows, columns=['Dataset', '% cutoff', 'F1', 'Precision', 'Recall', 'Support', '% fully correct', ' % with difference', ' % missing', 'Mean correct'])\n",
    "df['Dataset'] = [d.replace('_BLAST', '') for d in df['Dataset'].values]\n",
    "df.to_csv('data/Ensemble_Squidly_AEGAN_3B.csv', index=False)"
   ]
  },
  {
   "cell_type": "code",
   "execution_count": 108,
   "id": "57a8adcc-465e-458b-997c-07b595794f2d",
   "metadata": {},
   "outputs": [],
   "source": [
    "def make_figure(df, x, y, hue, filename):\n",
    "    ax = sns.lineplot(df, x=x, y=y, hue=hue, hue_order=order, palette=colors, legend=None)\n",
    "    ax.axvline(30, c='black', linestyle = 'dashed')\n",
    "    ax = sns.scatterplot(df, x=x, y=y, hue=hue, \n",
    "                         hue_order=order, ax=ax,\n",
    "                         palette=colors, s=10, legend=None)\n",
    "    for i, ds in enumerate(order):\n",
    "        ax.axhline(dataset_to_blast.get(ds).get(y.lower()), c=colors[i], linestyle='dashed')\n",
    "    ax = clean_plt(ax)\n",
    "    plt.title(f'{filename.replace(\".svg\", \"\")}')\n",
    "    plt.ylim(0.45, 1.0)\n",
    "    plt.xlim(15, 75)\n",
    "    plt.savefig(f'figures/{filename}')\n",
    "    plt.show()\n",
    "    "
   ]
  },
  {
   "cell_type": "code",
   "execution_count": 109,
   "id": "6267d2c0-c396-482d-8c2d-cb60d9df45a7",
   "metadata": {},
   "outputs": [
    {
     "data": {
      "image/png": "[encoded data removed]",
      "text/plain": [
       "<Figure size 300x300 with 1 Axes>"
      ]
     },
     "metadata": {},
     "output_type": "display_data"
    },
    {
     "data": {
      "image/png": "[encoded data removed]",
      "text/plain": [
       "<Figure size 300x300 with 1 Axes>"
      ]
     },
     "metadata": {},
     "output_type": "display_data"
    },
    {
     "data": {
      "image/png": "[encoded data removed]",
      "text/plain": [
       "<Figure size 300x300 with 1 Axes>"
      ]
     },
     "metadata": {},
     "output_type": "display_data"
    }
   ],
   "source": [
    "make_figure(df, x='% cutoff', y='F1', hue='Dataset', filename='AEGAN_3B_F1.svg')\n",
    "make_figure(df, x='% cutoff', y='Recall', hue='Dataset', filename='AEGAN_3B_Recall.svg')\n",
    "make_figure(df, x='% cutoff', y='Precision', hue='Dataset', filename='AEGAN_3B_Precision.svg')"
   ]
  },
  {
   "cell_type": "code",
   "execution_count": 110,
   "id": "da74179a-968b-4dea-8a75-1d05e8c96842",
   "metadata": {},
   "outputs": [
    {
     "data": {
      "text/html": [
       "<div>\n",
       "<style scoped>\n",
       "    .dataframe tbody tr th:only-of-type {\n",
       "        vertical-align: middle;\n",
       "    }\n",
       "\n",
       "    .dataframe tbody tr th {\n",
       "        vertical-align: top;\n",
       "    }\n",
       "\n",
       "    .dataframe thead th {\n",
       "        text-align: right;\n",
       "    }\n",
       "</style>\n",
       "<table border=\"1\" class=\"dataframe\">\n",
       "  <thead>\n",
       "    <tr style=\"text-align: right;\">\n",
       "      <th></th>\n",
       "      <th>Dataset</th>\n",
       "      <th>% cutoff</th>\n",
       "      <th>F1</th>\n",
       "      <th>Precision</th>\n",
       "      <th>Recall</th>\n",
       "      <th>Support</th>\n",
       "      <th>% fully correct</th>\n",
       "      <th>% with difference</th>\n",
       "      <th>% missing</th>\n",
       "      <th>Mean correct</th>\n",
       "    </tr>\n",
       "  </thead>\n",
       "  <tbody>\n",
       "    <tr>\n",
       "      <th>90</th>\n",
       "      <td>NN</td>\n",
       "      <td>30</td>\n",
       "      <td>0.867725</td>\n",
       "      <td>0.891304</td>\n",
       "      <td>0.845361</td>\n",
       "      <td>194</td>\n",
       "      <td>0.750000</td>\n",
       "      <td>0.212963</td>\n",
       "      <td>0.037037</td>\n",
       "      <td>0.829475</td>\n",
       "    </tr>\n",
       "    <tr>\n",
       "      <th>91</th>\n",
       "      <td>HA_superfamily</td>\n",
       "      <td>30</td>\n",
       "      <td>0.862319</td>\n",
       "      <td>0.859206</td>\n",
       "      <td>0.865455</td>\n",
       "      <td>275</td>\n",
       "      <td>0.736842</td>\n",
       "      <td>0.230263</td>\n",
       "      <td>0.032895</td>\n",
       "      <td>0.816557</td>\n",
       "    </tr>\n",
       "    <tr>\n",
       "      <th>92</th>\n",
       "      <td>PC</td>\n",
       "      <td>30</td>\n",
       "      <td>0.901554</td>\n",
       "      <td>0.925532</td>\n",
       "      <td>0.878788</td>\n",
       "      <td>99</td>\n",
       "      <td>0.818182</td>\n",
       "      <td>0.163636</td>\n",
       "      <td>0.018182</td>\n",
       "      <td>0.860606</td>\n",
       "    </tr>\n",
       "    <tr>\n",
       "      <th>93</th>\n",
       "      <td>EF_fold</td>\n",
       "      <td>30</td>\n",
       "      <td>0.903030</td>\n",
       "      <td>0.903030</td>\n",
       "      <td>0.903030</td>\n",
       "      <td>165</td>\n",
       "      <td>0.774194</td>\n",
       "      <td>0.204301</td>\n",
       "      <td>0.021505</td>\n",
       "      <td>0.848566</td>\n",
       "    </tr>\n",
       "    <tr>\n",
       "      <th>94</th>\n",
       "      <td>EF_superfamily</td>\n",
       "      <td>30</td>\n",
       "      <td>0.896552</td>\n",
       "      <td>0.902778</td>\n",
       "      <td>0.890411</td>\n",
       "      <td>219</td>\n",
       "      <td>0.788618</td>\n",
       "      <td>0.186992</td>\n",
       "      <td>0.024390</td>\n",
       "      <td>0.853659</td>\n",
       "    </tr>\n",
       "    <tr>\n",
       "      <th>95</th>\n",
       "      <td>EF_family</td>\n",
       "      <td>30</td>\n",
       "      <td>0.875346</td>\n",
       "      <td>0.895184</td>\n",
       "      <td>0.856369</td>\n",
       "      <td>369</td>\n",
       "      <td>0.775510</td>\n",
       "      <td>0.198980</td>\n",
       "      <td>0.025510</td>\n",
       "      <td>0.851616</td>\n",
       "    </tr>\n",
       "  </tbody>\n",
       "</table>\n",
       "</div>"
      ],
      "text/plain": [
       "           Dataset  % cutoff        F1  Precision    Recall  Support  \\\n",
       "90              NN        30  0.867725   0.891304  0.845361      194   \n",
       "91  HA_superfamily        30  0.862319   0.859206  0.865455      275   \n",
       "92              PC        30  0.901554   0.925532  0.878788       99   \n",
       "93         EF_fold        30  0.903030   0.903030  0.903030      165   \n",
       "94  EF_superfamily        30  0.896552   0.902778  0.890411      219   \n",
       "95       EF_family        30  0.875346   0.895184  0.856369      369   \n",
       "\n",
       "    % fully correct   % with difference   % missing  Mean correct  \n",
       "90         0.750000            0.212963    0.037037      0.829475  \n",
       "91         0.736842            0.230263    0.032895      0.816557  \n",
       "92         0.818182            0.163636    0.018182      0.860606  \n",
       "93         0.774194            0.204301    0.021505      0.848566  \n",
       "94         0.788618            0.186992    0.024390      0.853659  \n",
       "95         0.775510            0.198980    0.025510      0.851616  "
      ]
     },
     "execution_count": 110,
     "metadata": {},
     "output_type": "execute_result"
    }
   ],
   "source": [
    "df[df['% cutoff'] == 30]"
   ]
  },
  {
   "cell_type": "code",
   "execution_count": 112,
   "id": "43fd143f-ae0d-4d28-8b61-8b2f0fd7b864",
   "metadata": {},
   "outputs": [
    {
     "data": {
      "text/html": [
       "<div>\n",
       "<style scoped>\n",
       "    .dataframe tbody tr th:only-of-type {\n",
       "        vertical-align: middle;\n",
       "    }\n",
       "\n",
       "    .dataframe tbody tr th {\n",
       "        vertical-align: top;\n",
       "    }\n",
       "\n",
       "    .dataframe thead th {\n",
       "        text-align: right;\n",
       "    }\n",
       "</style>\n",
       "<table border=\"1\" class=\"dataframe\">\n",
       "  <thead>\n",
       "    <tr style=\"text-align: right;\">\n",
       "      <th></th>\n",
       "      <th>Dataset</th>\n",
       "      <th>% cutoff</th>\n",
       "      <th>F1</th>\n",
       "      <th>Precision</th>\n",
       "      <th>Recall</th>\n",
       "      <th>Support</th>\n",
       "      <th>% fully correct</th>\n",
       "      <th>% with difference</th>\n",
       "      <th>% missing</th>\n",
       "      <th>Mean correct</th>\n",
       "    </tr>\n",
       "  </thead>\n",
       "  <tbody>\n",
       "    <tr>\n",
       "      <th>0</th>\n",
       "      <td>NN</td>\n",
       "      <td>0</td>\n",
       "      <td>0.856383</td>\n",
       "      <td>0.884615</td>\n",
       "      <td>0.829897</td>\n",
       "      <td>194</td>\n",
       "      <td>0.750000</td>\n",
       "      <td>0.222222</td>\n",
       "      <td>0.027778</td>\n",
       "      <td>0.824846</td>\n",
       "    </tr>\n",
       "    <tr>\n",
       "      <th>1</th>\n",
       "      <td>HA_superfamily</td>\n",
       "      <td>0</td>\n",
       "      <td>0.862816</td>\n",
       "      <td>0.856631</td>\n",
       "      <td>0.869091</td>\n",
       "      <td>275</td>\n",
       "      <td>0.743421</td>\n",
       "      <td>0.236842</td>\n",
       "      <td>0.019737</td>\n",
       "      <td>0.823136</td>\n",
       "    </tr>\n",
       "    <tr>\n",
       "      <th>2</th>\n",
       "      <td>PC</td>\n",
       "      <td>0</td>\n",
       "      <td>0.886598</td>\n",
       "      <td>0.905263</td>\n",
       "      <td>0.868687</td>\n",
       "      <td>99</td>\n",
       "      <td>0.800000</td>\n",
       "      <td>0.200000</td>\n",
       "      <td>0.000000</td>\n",
       "      <td>0.851515</td>\n",
       "    </tr>\n",
       "    <tr>\n",
       "      <th>3</th>\n",
       "      <td>EF_fold</td>\n",
       "      <td>0</td>\n",
       "      <td>0.903030</td>\n",
       "      <td>0.903030</td>\n",
       "      <td>0.903030</td>\n",
       "      <td>165</td>\n",
       "      <td>0.784946</td>\n",
       "      <td>0.204301</td>\n",
       "      <td>0.010753</td>\n",
       "      <td>0.853943</td>\n",
       "    </tr>\n",
       "    <tr>\n",
       "      <th>4</th>\n",
       "      <td>EF_superfamily</td>\n",
       "      <td>0</td>\n",
       "      <td>0.894009</td>\n",
       "      <td>0.902326</td>\n",
       "      <td>0.885845</td>\n",
       "      <td>219</td>\n",
       "      <td>0.788618</td>\n",
       "      <td>0.186992</td>\n",
       "      <td>0.024390</td>\n",
       "      <td>0.852304</td>\n",
       "    </tr>\n",
       "    <tr>\n",
       "      <th>5</th>\n",
       "      <td>EF_family</td>\n",
       "      <td>0</td>\n",
       "      <td>0.871012</td>\n",
       "      <td>0.892045</td>\n",
       "      <td>0.850949</td>\n",
       "      <td>369</td>\n",
       "      <td>0.770408</td>\n",
       "      <td>0.204082</td>\n",
       "      <td>0.025510</td>\n",
       "      <td>0.847364</td>\n",
       "    </tr>\n",
       "  </tbody>\n",
       "</table>\n",
       "</div>"
      ],
      "text/plain": [
       "          Dataset  % cutoff        F1  Precision    Recall  Support  \\\n",
       "0              NN         0  0.856383   0.884615  0.829897      194   \n",
       "1  HA_superfamily         0  0.862816   0.856631  0.869091      275   \n",
       "2              PC         0  0.886598   0.905263  0.868687       99   \n",
       "3         EF_fold         0  0.903030   0.903030  0.903030      165   \n",
       "4  EF_superfamily         0  0.894009   0.902326  0.885845      219   \n",
       "5       EF_family         0  0.871012   0.892045  0.850949      369   \n",
       "\n",
       "   % fully correct   % with difference   % missing  Mean correct  \n",
       "0         0.750000            0.222222    0.027778      0.824846  \n",
       "1         0.743421            0.236842    0.019737      0.823136  \n",
       "2         0.800000            0.200000    0.000000      0.851515  \n",
       "3         0.784946            0.204301    0.010753      0.853943  \n",
       "4         0.788618            0.186992    0.024390      0.852304  \n",
       "5         0.770408            0.204082    0.025510      0.847364  "
      ]
     },
     "execution_count": 112,
     "metadata": {},
     "output_type": "execute_result"
    }
   ],
   "source": [
    "df[df['% cutoff'] == 0]"
   ]
  },
  {
   "cell_type": "code",
   "execution_count": 105,
   "id": "7d7d47f0-6433-423a-a107-7ed3bc2dfb74",
   "metadata": {},
   "outputs": [
    {
     "name": "stdout",
     "output_type": "stream",
     "text": [
      "You were missing N reference sequences: 0\n",
      "[0.99918165 0.79329609] 0.7932960893854749\n",
      "\u001b[94m--------------------------------------------------------------------------------\u001b[0m\n",
      "\u001b[94mNN\t\n",
      "F1\t0.7932960893854749\t\n",
      "precision:\t0.8658536585365854\t\n",
      " recall:\t0.7319587628865979\t\u001b[0m\n",
      "\u001b[94m--------------------------------------------------------------------------------\u001b[0m\n",
      "You were missing N reference sequences: 0\n",
      "[0.99910446 0.77689243] 0.7768924302788844\n",
      "\u001b[94m--------------------------------------------------------------------------------\u001b[0m\n",
      "\u001b[94mHA_superfamily\t\n",
      "F1\t0.7768924302788844\t\n",
      "precision:\t0.8590308370044053\t\n",
      " recall:\t0.7090909090909091\t\u001b[0m\n",
      "\u001b[94m--------------------------------------------------------------------------------\u001b[0m\n",
      "You were missing N reference sequences: 0\n",
      "[0.99917236 0.81283422] 0.8128342245989305\n",
      "\u001b[94m--------------------------------------------------------------------------------\u001b[0m\n",
      "\u001b[94mPC\t\n",
      "F1\t0.8128342245989305\t\n",
      "precision:\t0.8636363636363636\t\n",
      " recall:\t0.7676767676767676\t\u001b[0m\n",
      "\u001b[94m--------------------------------------------------------------------------------\u001b[0m\n",
      "You were missing N reference sequences: 0\n",
      "[0.99917634 0.80263158] 0.8026315789473685\n",
      "\u001b[94m--------------------------------------------------------------------------------\u001b[0m\n",
      "\u001b[94mEF_fold\t\n",
      "F1\t0.8026315789473685\t\n",
      "precision:\t0.8776978417266187\t\n",
      " recall:\t0.7393939393939394\t\u001b[0m\n",
      "\u001b[94m--------------------------------------------------------------------------------\u001b[0m\n",
      "You were missing N reference sequences: 0\n",
      "[0.99915906 0.79899497] 0.7989949748743718\n",
      "\u001b[94m--------------------------------------------------------------------------------\u001b[0m\n",
      "\u001b[94mEF_superfamily\t\n",
      "F1\t0.7989949748743718\t\n",
      "precision:\t0.888268156424581\t\n",
      " recall:\t0.726027397260274\t\u001b[0m\n",
      "\u001b[94m--------------------------------------------------------------------------------\u001b[0m\n",
      "You were missing N reference sequences: 0\n",
      "[0.9991634  0.79166667] 0.7916666666666667\n",
      "\u001b[94m--------------------------------------------------------------------------------\u001b[0m\n",
      "\u001b[94mEF_family\t\n",
      "F1\t0.7916666666666667\t\n",
      "precision:\t0.8778877887788779\t\n",
      " recall:\t0.7208672086720868\t\u001b[0m\n",
      "\u001b[94m--------------------------------------------------------------------------------\u001b[0m\n"
     ]
    }
   ],
   "source": [
    "for df_label in results:\n",
    "    if df_label == 'label':\n",
    "        continue\n",
    "    df = results[df_label]\n",
    "    squidly_df = pd.read_pickle(f'data/Squidly/{df_label.replace(\"_BLAST.pkl\", \"\")}_squidly_as_pred_15B.pkl')\n",
    "    squidly_df.set_index('label', inplace=True)\n",
    "    df = df.join(squidly_df, how='left')\n",
    "    for query, pred in df[['From', 'Squidly_CR_Position']].values:\n",
    "        entry_to_squidly_prediction[query] = pred\n",
    "    # 'From', 'True_residues', 'BLAST_residues', 'Sequence'\n",
    "    tmp_df = ensemble_predictions(df, 'BLAST_residues', 'Squidly_CR_Position', 'sequence identity', squidly_cutoff)\n",
    "    precision, recall, f1, support, agree, disagree, no_pred, mean_agreement = calculate_stats(tmp_df, 'From', 'True_residues', 'chosen_residues', 'Sequence')\n",
    "    u.dp([df_label.replace(\"_BLAST.pkl\", \"\"), '\\nF1', f1, '\\nprecision:', precision, '\\n recall:', recall])\n"
   ]
  },
  {
   "cell_type": "code",
   "execution_count": 99,
   "id": "32772a9a-be4a-4a68-8503-954622e7ec20",
   "metadata": {},
   "outputs": [
    {
     "name": "stderr",
     "output_type": "stream",
     "text": [
      "  0%|                                                                                                                                     | 0/50 [00:00<?, ?it/s]"
     ]
    },
    {
     "name": "stdout",
     "output_type": "stream",
     "text": [
      "You were missing N reference sequences: 0\n",
      "[0.99940271 0.85638298] 0.8563829787234043\n",
      "You were missing N reference sequences: 0\n",
      "[0.99939206 0.86281588] 0.8628158844765343\n",
      "You were missing N reference sequences: 0\n",
      "[0.99947968 0.88659794] 0.88659793814433\n",
      "You were missing N reference sequences: 0\n",
      "[0.99956056 0.9030303 ] 0.9030303030303031\n",
      "You were missing N reference sequences: 0\n",
      "[0.99951628 0.89400922] 0.8940092165898617\n",
      "You were missing N reference sequences: 0\n",
      "[0.9994441  0.87101248]"
     ]
    },
    {
     "name": "stderr",
     "output_type": "stream",
     "text": [
      "  2%|██▌                                                                                                                          | 1/50 [00:00<00:10,  4.63it/s]"
     ]
    },
    {
     "name": "stdout",
     "output_type": "stream",
     "text": [
      " 0.871012482662968\n",
      "You were missing N reference sequences: 0\n",
      "[0.99940271 0.85638298] 0.8563829787234043\n",
      "You were missing N reference sequences: 0\n",
      "[0.99939206 0.86281588] 0.8628158844765343\n",
      "You were missing N reference sequences: 0\n",
      "[0.99947968 0.88659794] 0.88659793814433\n",
      "You were missing N reference sequences: 0\n",
      "[0.99956056 0.9030303 ] 0.9030303030303031\n",
      "You were missing N reference sequences: 0\n",
      "[0.99951628 0.89400922] 0.8940092165898617\n",
      "You were missing N reference sequences: 0\n"
     ]
    },
    {
     "name": "stderr",
     "output_type": "stream",
     "text": [
      "  4%|█████                                                                                                                        | 2/50 [00:00<00:10,  4.66it/s]"
     ]
    },
    {
     "name": "stdout",
     "output_type": "stream",
     "text": [
      "[0.9994441  0.87101248] 0.871012482662968\n",
      "You were missing N reference sequences: 0\n",
      "[0.99940271 0.85638298] 0.8563829787234043\n",
      "You were missing N reference sequences: 0\n",
      "[0.99939206 0.86281588] 0.8628158844765343\n",
      "You were missing N reference sequences: 0\n",
      "[0.99947968 0.88659794] 0.88659793814433\n",
      "You were missing N reference sequences: 0\n",
      "[0.99956056 0.9030303 ] 0.9030303030303031\n",
      "You were missing N reference sequences: 0\n",
      "[0.99951628 0.89400922] 0.8940092165898617\n",
      "You were missing N reference sequences: 0\n"
     ]
    },
    {
     "name": "stderr",
     "output_type": "stream",
     "text": [
      "  6%|███████▌                                                                                                                     | 3/50 [00:00<00:10,  4.68it/s]"
     ]
    },
    {
     "name": "stdout",
     "output_type": "stream",
     "text": [
      "[0.9994441  0.87101248] 0.871012482662968\n",
      "You were missing N reference sequences: 0\n",
      "[0.99940271 0.85638298] 0.8563829787234043\n",
      "You were missing N reference sequences: 0\n",
      "[0.99939206 0.86281588] 0.8628158844765343\n",
      "You were missing N reference sequences: 0\n",
      "[0.99947968 0.88659794] 0.88659793814433\n",
      "You were missing N reference sequences: 0\n",
      "[0.99956056 0.9030303 ] 0.9030303030303031\n",
      "You were missing N reference sequences: 0\n",
      "[0.99951628 0.89400922] 0.8940092165898617\n",
      "You were missing N reference sequences: 0\n"
     ]
    },
    {
     "name": "stderr",
     "output_type": "stream",
     "text": [
      "  8%|██████████                                                                                                                   | 4/50 [00:00<00:09,  4.72it/s]"
     ]
    },
    {
     "name": "stdout",
     "output_type": "stream",
     "text": [
      "[0.9994441  0.87101248] 0.871012482662968\n",
      "You were missing N reference sequences: 0\n",
      "[0.99940271 0.85638298] 0.8563829787234043\n",
      "You were missing N reference sequences: 0\n",
      "[0.99939206 0.86281588] 0.8628158844765343\n",
      "You were missing N reference sequences: 0\n",
      "[0.99947968 0.88659794] 0.88659793814433\n",
      "You were missing N reference sequences: 0\n",
      "[0.99956056 0.9030303 ] 0.9030303030303031\n",
      "You were missing N reference sequences: 0\n",
      "[0.99951628 0.89400922] 0.8940092165898617\n",
      "You were missing N reference sequences: 0\n"
     ]
    },
    {
     "name": "stderr",
     "output_type": "stream",
     "text": [
      " 10%|████████████▌                                                                                                                | 5/50 [00:01<00:09,  4.71it/s]"
     ]
    },
    {
     "name": "stdout",
     "output_type": "stream",
     "text": [
      "[0.9994441  0.87101248] 0.871012482662968\n",
      "You were missing N reference sequences: 0\n",
      "[0.99940271 0.85638298] 0.8563829787234043\n",
      "You were missing N reference sequences: 0\n",
      "[0.99939206 0.86281588] 0.8628158844765343\n",
      "You were missing N reference sequences: 0\n",
      "[0.99947968 0.88659794] 0.88659793814433\n",
      "You were missing N reference sequences: 0\n",
      "[0.99956056 0.9030303 ] 0.9030303030303031\n",
      "You were missing N reference sequences: 0\n",
      "[0.99951628 0.89400922] 0.8940092165898617\n",
      "You were missing N reference sequences: 0\n"
     ]
    },
    {
     "name": "stderr",
     "output_type": "stream",
     "text": [
      " 12%|███████████████                                                                                                              | 6/50 [00:01<00:09,  4.71it/s]"
     ]
    },
    {
     "name": "stdout",
     "output_type": "stream",
     "text": [
      "[0.9994441  0.87101248] 0.871012482662968\n",
      "You were missing N reference sequences: 0\n",
      "[0.99940271 0.85638298] 0.8563829787234043\n",
      "You were missing N reference sequences: 0\n",
      "[0.99939206 0.86281588] 0.8628158844765343\n",
      "You were missing N reference sequences: 0\n",
      "[0.99947968 0.88659794] 0.88659793814433\n",
      "You were missing N reference sequences: 0\n",
      "[0.99956056 0.9030303 ] 0.9030303030303031\n",
      "You were missing N reference sequences: 0\n",
      "[0.99951628 0.89400922] 0.8940092165898617\n",
      "You were missing N reference sequences: 0\n"
     ]
    },
    {
     "name": "stderr",
     "output_type": "stream",
     "text": [
      " 14%|█████████████████▌                                                                                                           | 7/50 [00:01<00:09,  4.67it/s]"
     ]
    },
    {
     "name": "stdout",
     "output_type": "stream",
     "text": [
      "[0.9994441  0.87101248] 0.871012482662968\n",
      "You were missing N reference sequences: 0\n",
      "[0.99940271 0.85638298] 0.8563829787234043\n",
      "You were missing N reference sequences: 0\n",
      "[0.99939206 0.86281588] 0.8628158844765343\n",
      "You were missing N reference sequences: 0\n",
      "[0.99947968 0.88659794] 0.88659793814433\n",
      "You were missing N reference sequences: 0\n",
      "[0.99956056 0.9030303 ] 0.9030303030303031\n",
      "You were missing N reference sequences: 0\n",
      "[0.99951628 0.89400922] 0.8940092165898617\n",
      "You were missing N reference sequences: 0\n"
     ]
    },
    {
     "name": "stderr",
     "output_type": "stream",
     "text": [
      " 16%|████████████████████                                                                                                         | 8/50 [00:01<00:09,  4.66it/s]"
     ]
    },
    {
     "name": "stdout",
     "output_type": "stream",
     "text": [
      "[0.9994441  0.87101248] 0.871012482662968\n",
      "You were missing N reference sequences: 0\n",
      "[0.99940271 0.85638298] 0.8563829787234043\n",
      "You were missing N reference sequences: 0\n",
      "[0.99939206 0.86281588] 0.8628158844765343\n",
      "You were missing N reference sequences: 0\n",
      "[0.99947968 0.88659794] 0.88659793814433\n",
      "You were missing N reference sequences: 0\n",
      "[0.99956056 0.9030303 ] 0.9030303030303031\n",
      "You were missing N reference sequences: 0\n",
      "[0.99951628 0.89400922] 0.8940092165898617\n",
      "You were missing N reference sequences: 0\n"
     ]
    },
    {
     "name": "stderr",
     "output_type": "stream",
     "text": [
      " 18%|██████████████████████▌                                                                                                      | 9/50 [00:01<00:08,  4.69it/s]"
     ]
    },
    {
     "name": "stdout",
     "output_type": "stream",
     "text": [
      "[0.9994441  0.87101248] 0.871012482662968\n",
      "You were missing N reference sequences: 0\n",
      "[0.99940271 0.85638298] 0.8563829787234043\n",
      "You were missing N reference sequences: 0\n",
      "[0.99939206 0.86281588] 0.8628158844765343\n",
      "You were missing N reference sequences: 0\n",
      "[0.99947968 0.88659794] 0.88659793814433\n",
      "You were missing N reference sequences: 0\n",
      "[0.99956056 0.9030303 ] 0.9030303030303031\n",
      "You were missing N reference sequences: 0\n",
      "[0.99951628 0.89400922] 0.8940092165898617\n",
      "You were missing N reference sequences: 0\n"
     ]
    },
    {
     "name": "stderr",
     "output_type": "stream",
     "text": [
      " 20%|████████████████████████▊                                                                                                   | 10/50 [00:02<00:08,  4.63it/s]"
     ]
    },
    {
     "name": "stdout",
     "output_type": "stream",
     "text": [
      "[0.9994441  0.87101248] 0.871012482662968\n",
      "You were missing N reference sequences: 0\n",
      "[0.99940271 0.85638298] 0.8563829787234043\n",
      "You were missing N reference sequences: 0\n",
      "[0.99939206 0.86281588] 0.8628158844765343\n",
      "You were missing N reference sequences: 0\n",
      "[0.99947968 0.88659794] 0.88659793814433\n",
      "You were missing N reference sequences: 0\n",
      "[0.99956056 0.9030303 ] 0.9030303030303031\n",
      "You were missing N reference sequences: 0\n",
      "[0.99951628 0.89400922] 0.8940092165898617\n",
      "You were missing N reference sequences: 0\n"
     ]
    },
    {
     "name": "stderr",
     "output_type": "stream",
     "text": [
      " 22%|███████████████████████████▎                                                                                                | 11/50 [00:02<00:08,  4.65it/s]"
     ]
    },
    {
     "name": "stdout",
     "output_type": "stream",
     "text": [
      "[0.9994441  0.87101248] 0.871012482662968\n",
      "You were missing N reference sequences: 0\n",
      "[0.99940271 0.85638298] 0.8563829787234043\n",
      "You were missing N reference sequences: 0\n",
      "[0.99939206 0.86281588] 0.8628158844765343\n",
      "You were missing N reference sequences: 0\n",
      "[0.99947968 0.88659794] 0.88659793814433\n",
      "You were missing N reference sequences: 0\n",
      "[0.99956056 0.9030303 ] 0.9030303030303031\n",
      "You were missing N reference sequences: 0\n",
      "[0.99951628 0.89400922] 0.8940092165898617\n",
      "You were missing N reference sequences: 0\n"
     ]
    },
    {
     "name": "stderr",
     "output_type": "stream",
     "text": [
      " 24%|█████████████████████████████▊                                                                                              | 12/50 [00:02<00:08,  4.62it/s]"
     ]
    },
    {
     "name": "stdout",
     "output_type": "stream",
     "text": [
      "[0.9994441  0.87101248] 0.871012482662968\n",
      "You were missing N reference sequences: 0\n",
      "[0.99940271 0.85638298] 0.8563829787234043\n",
      "You were missing N reference sequences: 0\n",
      "[0.99939206 0.86281588] 0.8628158844765343\n",
      "You were missing N reference sequences: 0\n",
      "[0.99947968 0.88659794] 0.88659793814433\n",
      "You were missing N reference sequences: 0\n",
      "[0.99956056 0.9030303 ] 0.9030303030303031\n",
      "You were missing N reference sequences: 0\n",
      "[0.99951628 0.89400922] 0.8940092165898617\n",
      "You were missing N reference sequences: 0\n"
     ]
    },
    {
     "name": "stderr",
     "output_type": "stream",
     "text": [
      " 26%|████████████████████████████████▏                                                                                           | 13/50 [00:02<00:08,  4.62it/s]"
     ]
    },
    {
     "name": "stdout",
     "output_type": "stream",
     "text": [
      "[0.9994441  0.87101248] 0.871012482662968\n",
      "You were missing N reference sequences: 0\n",
      "[0.99945801 0.87002653] 0.8700265251989391\n",
      "You were missing N reference sequences: 0\n",
      "[0.99940006 0.86437613] 0.864376130198915\n",
      "You were missing N reference sequences: 0\n",
      "[0.99955065 0.9015544 ] 0.9015544041450778\n",
      "You were missing N reference sequences: 0\n",
      "[0.9995743  0.90577508] 0.9057750759878421\n",
      "You were missing N reference sequences: 0\n",
      "[0.99952679 0.89655172] 0.896551724137931\n",
      "You were missing N reference sequences: 0\n"
     ]
    },
    {
     "name": "stderr",
     "output_type": "stream",
     "text": [
      " 28%|██████████████████████████████████▋                                                                                         | 14/50 [00:03<00:07,  4.64it/s]"
     ]
    },
    {
     "name": "stdout",
     "output_type": "stream",
     "text": [
      "[0.99946202 0.87534626] 0.8753462603878117\n",
      "You were missing N reference sequences: 0\n",
      "[0.99945801 0.87002653] 0.8700265251989391\n",
      "You were missing N reference sequences: 0\n",
      "[0.99940006 0.86437613] 0.864376130198915\n",
      "You were missing N reference sequences: 0\n",
      "[0.99955065 0.9015544 ] 0.9015544041450778\n",
      "You were missing N reference sequences: 0\n",
      "[0.9995743  0.90577508] 0.9057750759878421\n",
      "You were missing N reference sequences: 0\n",
      "[0.99952679 0.89655172] 0.896551724137931\n",
      "You were missing N reference sequences: 0\n"
     ]
    },
    {
     "name": "stderr",
     "output_type": "stream",
     "text": [
      " 30%|█████████████████████████████████████▏                                                                                      | 15/50 [00:03<00:07,  4.65it/s]"
     ]
    },
    {
     "name": "stdout",
     "output_type": "stream",
     "text": [
      "[0.99946202 0.87534626] 0.8753462603878117\n",
      "You were missing N reference sequences: 0\n",
      "[0.99944694 0.86772487] 0.8677248677248677\n",
      "You were missing N reference sequences: 0\n",
      "[0.99939207 0.86231884] 0.8623188405797101\n",
      "You were missing N reference sequences: 0\n",
      "[0.99955065 0.9015544 ] 0.9015544041450778\n",
      "You were missing N reference sequences: 0\n",
      "[0.99956056 0.9030303 ] 0.9030303030303031\n",
      "You were missing N reference sequences: 0\n",
      "[0.99952679 0.89655172] 0.896551724137931\n",
      "You were missing N reference sequences: 0\n"
     ]
    },
    {
     "name": "stderr",
     "output_type": "stream",
     "text": [
      " 32%|███████████████████████████████████████▋                                                                                    | 16/50 [00:03<00:07,  4.66it/s]"
     ]
    },
    {
     "name": "stdout",
     "output_type": "stream",
     "text": [
      "[0.99946202 0.87534626] 0.8753462603878117\n",
      "You were missing N reference sequences: 0\n",
      "[0.99944694 0.86772487] 0.8677248677248677\n",
      "You were missing N reference sequences: 0\n",
      "[0.99939205 0.86330935] 0.8633093525179856\n",
      "You were missing N reference sequences: 0\n",
      "[0.99955065 0.9015544 ] 0.9015544041450778\n",
      "You were missing N reference sequences: 0\n",
      "[0.99956056 0.9030303 ] 0.9030303030303031\n",
      "You were missing N reference sequences: 0\n",
      "[0.99956884 0.90617849] 0.9061784897025171\n",
      "You were missing N reference sequences: 0\n"
     ]
    },
    {
     "name": "stderr",
     "output_type": "stream",
     "text": [
      " 34%|██████████████████████████████████████████▏                                                                                 | 17/50 [00:03<00:07,  4.68it/s]"
     ]
    },
    {
     "name": "stdout",
     "output_type": "stream",
     "text": [
      "[0.99947995 0.88      ] 0.8800000000000001\n",
      "You were missing N reference sequences: 0\n",
      "[0.99943587 0.86543536] 0.8654353562005278\n",
      "You were missing N reference sequences: 0\n",
      "[0.99934403 0.85357143] 0.8535714285714286\n",
      "You were missing N reference sequences: 0\n",
      "[0.99952699 0.89690722] 0.8969072164948454\n",
      "You were missing N reference sequences: 0\n",
      "[0.99956056 0.9030303 ] 0.9030303030303031\n",
      "You were missing N reference sequences: 0\n",
      "[0.99957936 0.90825688] 0.908256880733945\n",
      "You were missing N reference sequences: 0\n"
     ]
    },
    {
     "name": "stderr",
     "output_type": "stream",
     "text": [
      " 36%|████████████████████████████████████████████▋                                                                               | 18/50 [00:03<00:06,  4.68it/s]"
     ]
    },
    {
     "name": "stdout",
     "output_type": "stream",
     "text": [
      "[0.99943808 0.8715847 ] 0.871584699453552\n",
      "You were missing N reference sequences: 0\n",
      "[0.99943587 0.86543536] 0.8654353562005278\n",
      "You were missing N reference sequences: 0\n",
      "[0.99933603 0.85204991] 0.8520499108734403\n",
      "You were missing N reference sequences: 0\n",
      "[0.99952699 0.89690722] 0.8969072164948454\n",
      "You were missing N reference sequences: 0\n",
      "[0.99956056 0.9030303 ] 0.9030303030303031\n",
      "You were missing N reference sequences: 0\n",
      "[0.99955831 0.90454545] 0.9045454545454545\n",
      "You were missing N reference sequences: 0\n"
     ]
    },
    {
     "name": "stderr",
     "output_type": "stream",
     "text": [
      " 38%|███████████████████████████████████████████████                                                                             | 19/50 [00:04<00:06,  4.69it/s]"
     ]
    },
    {
     "name": "stdout",
     "output_type": "stream",
     "text": [
      "[0.99947394 0.88010899] 0.8801089918256131\n",
      "You were missing N reference sequences: 0\n",
      "[0.9993916  0.85639687] 0.8563968668407311\n",
      "You were missing N reference sequences: 0\n",
      "[0.99932001 0.84955752] 0.8495575221238938\n",
      "You were missing N reference sequences: 0\n",
      "[0.99947966 0.8877551 ] 0.8877551020408163\n",
      "You were missing N reference sequences: 0\n",
      "[0.99949186 0.88955224] 0.8895522388059701\n",
      "You were missing N reference sequences: 0\n",
      "[0.99951624 0.8959276 ] 0.8959276018099547\n",
      "You were missing N reference sequences: 0\n"
     ]
    },
    {
     "name": "stderr",
     "output_type": "stream",
     "text": [
      " 40%|█████████████████████████████████████████████████▌                                                                          | 20/50 [00:04<00:06,  4.62it/s]"
     ]
    },
    {
     "name": "stdout",
     "output_type": "stream",
     "text": [
      "[0.99944402 0.87483176] 0.8748317631224766\n",
      "You were missing N reference sequences: 0\n",
      "[0.99940265 0.859375  ] 0.8593750000000001\n",
      "You were missing N reference sequences: 0\n",
      "[0.99931999 0.85008818] 0.8500881834215167\n",
      "You were missing N reference sequences: 0\n",
      "[0.99947966 0.8877551 ] 0.8877551020408163\n",
      "You were missing N reference sequences: 0\n",
      "[0.99949185 0.89020772] 0.8902077151335313\n",
      "You were missing N reference sequences: 0\n",
      "[0.99947415 0.88789238] 0.8878923766816142\n",
      "You were missing N reference sequences: 0\n"
     ]
    },
    {
     "name": "stderr",
     "output_type": "stream",
     "text": [
      " 42%|████████████████████████████████████████████████████                                                                        | 21/50 [00:04<00:06,  4.63it/s]"
     ]
    },
    {
     "name": "stdout",
     "output_type": "stream",
     "text": [
      "[0.99946794 0.88021534] 0.8802153432032301\n",
      "You were missing N reference sequences: 0\n",
      "[0.99942477 0.86528497] 0.8652849740932643\n",
      "You were missing N reference sequences: 0\n",
      "[0.99928798 0.84358524] 0.843585237258348\n",
      "You were missing N reference sequences: 0\n",
      "[0.99952696 0.89795918] 0.8979591836734694\n",
      "You were missing N reference sequences: 0\n",
      "[0.99953304 0.89940828] 0.8994082840236686\n",
      "You were missing N reference sequences: 0\n",
      "[0.9995057  0.89485459] 0.8948545861297539\n",
      "You were missing N reference sequences: 0\n"
     ]
    },
    {
     "name": "stderr",
     "output_type": "stream",
     "text": [
      " 44%|██████████████████████████████████████████████████████▌                                                                     | 22/50 [00:04<00:06,  4.67it/s]"
     ]
    },
    {
     "name": "stdout",
     "output_type": "stream",
     "text": [
      "[0.99944998 0.87700535] 0.8770053475935828\n",
      "You were missing N reference sequences: 0\n",
      "[0.99942477 0.86528497] 0.8652849740932643\n",
      "You were missing N reference sequences: 0\n",
      "[0.99925596 0.83769634] 0.8376963350785339\n",
      "You were missing N reference sequences: 0\n",
      "[0.99952696 0.89795918] 0.8979591836734694\n",
      "You were missing N reference sequences: 0\n",
      "[0.99950558 0.89349112] 0.893491124260355\n",
      "You were missing N reference sequences: 0\n",
      "[0.99949518 0.89237668] 0.8923766816143498\n",
      "You were missing N reference sequences: 0\n",
      "[0.99943803 0.87433155] 0.8743315508021391\n"
     ]
    },
    {
     "name": "stderr",
     "output_type": "stream",
     "text": [
      " 46%|█████████████████████████████████████████████████████████                                                                   | 23/50 [00:04<00:05,  4.72it/s]"
     ]
    },
    {
     "name": "stdout",
     "output_type": "stream",
     "text": [
      "You were missing N reference sequences: 0\n",
      "[0.99942475 0.86597938] 0.8659793814432989\n",
      "You were missing N reference sequences: 0\n",
      "[0.99927195 0.84173913] 0.8417391304347827\n",
      "You were missing N reference sequences: 0\n",
      "[0.99952694 0.8989899 ] 0.898989898989899\n",
      "You were missing N reference sequences: 0\n",
      "[0.99949184 0.89085546] 0.8908554572271387\n",
      "You were missing N reference sequences: 0\n",
      "[0.99948466 0.89038031] 0.890380313199105\n",
      "You were missing N reference sequences: 0\n",
      "[0.99941411 0.86898396] 0.8689839572192514\n"
     ]
    },
    {
     "name": "stderr",
     "output_type": "stream",
     "text": [
      " 48%|███████████████████████████████████████████████████████████▌                                                                | 24/50 [00:05<00:05,  4.71it/s]"
     ]
    },
    {
     "name": "stdout",
     "output_type": "stream",
     "text": [
      "You were missing N reference sequences: 0\n",
      "[0.99938049 0.85641026] 0.8564102564102565\n",
      "You were missing N reference sequences: 0\n",
      "[0.99923195 0.83275261] 0.832752613240418\n",
      "You were missing N reference sequences: 0\n",
      "[0.9994323 0.88     ] 0.88\n",
      "You were missing N reference sequences: 0\n",
      "[0.99940945 0.87240356] 0.8724035608308605\n",
      "You were missing N reference sequences: 0\n",
      "[0.99937952 0.86681716] 0.8668171557562077\n",
      "You were missing N reference sequences: 0\n",
      "[0.99933641 0.85100671] 0.8510067114093959\n"
     ]
    },
    {
     "name": "stderr",
     "output_type": "stream",
     "text": [
      " 50%|██████████████████████████████████████████████████████████████                                                              | 25/50 [00:05<00:05,  4.62it/s]"
     ]
    },
    {
     "name": "stdout",
     "output_type": "stream",
     "text": [
      "You were missing N reference sequences: 0\n",
      "[0.9992809 0.8346056] 0.8346055979643766\n",
      "You were missing N reference sequences: 0\n",
      "[0.99915995 0.81675393] 0.8167539267015708\n",
      "You were missing N reference sequences: 0\n",
      "[0.99933769 0.86      ] 0.86\n",
      "You were missing N reference sequences: 0\n",
      "[0.99931334 0.8502994 ] 0.8502994011976047\n",
      "You were missing N reference sequences: 0\n",
      "[0.99931644 0.85193622] 0.8519362186788154\n",
      "You were missing N reference sequences: 0\n"
     ]
    },
    {
     "name": "stderr",
     "output_type": "stream",
     "text": [
      " 52%|████████████████████████████████████████████████████████████████▍                                                           | 26/50 [00:05<00:05,  4.62it/s]"
     ]
    },
    {
     "name": "stdout",
     "output_type": "stream",
     "text": [
      "[0.99930649 0.84574468] 0.8457446808510639\n",
      "You were missing N reference sequences: 0\n",
      "[0.9992809 0.8346056] 0.8346055979643766\n",
      "You were missing N reference sequences: 0\n",
      "[0.99915995 0.81675393] 0.8167539267015708\n",
      "You were missing N reference sequences: 0\n",
      "[0.99933769 0.86      ] 0.86\n",
      "You were missing N reference sequences: 0\n",
      "[0.99928587 0.84431138] 0.844311377245509\n",
      "You were missing N reference sequences: 0\n",
      "[0.9992954  0.84807256] 0.8480725623582767\n",
      "You were missing N reference sequences: 0\n"
     ]
    },
    {
     "name": "stderr",
     "output_type": "stream",
     "text": [
      " 54%|██████████████████████████████████████████████████████████████████▉                                                         | 27/50 [00:05<00:04,  4.61it/s]"
     ]
    },
    {
     "name": "stdout",
     "output_type": "stream",
     "text": [
      "[0.99928855 0.84196547] 0.8419654714475431\n",
      "You were missing N reference sequences: 0\n",
      "[0.99924769 0.82828283] 0.8282828282828284\n",
      "You were missing N reference sequences: 0\n",
      "[0.99915995 0.81675393] 0.8167539267015708\n",
      "You were missing N reference sequences: 0\n",
      "[0.99929034 0.85148515] 0.8514851485148516\n",
      "You were missing N reference sequences: 0\n",
      "[0.99925838 0.83928571] 0.8392857142857144\n",
      "You were missing N reference sequences: 0\n",
      "[0.99925333 0.83900227] 0.8390022675736961\n",
      "You were missing N reference sequences: 0\n"
     ]
    },
    {
     "name": "stderr",
     "output_type": "stream",
     "text": [
      " 56%|█████████████████████████████████████████████████████████████████████▍                                                      | 28/50 [00:06<00:04,  4.63it/s]"
     ]
    },
    {
     "name": "stdout",
     "output_type": "stream",
     "text": [
      "[0.99925865 0.83554377] 0.8355437665782494\n",
      "You were missing N reference sequences: 0\n",
      "[0.99922554 0.8241206 ] 0.8241206030150755\n",
      "You were missing N reference sequences: 0\n",
      "[0.99912795 0.80977312] 0.8097731239092496\n",
      "You were missing N reference sequences: 0\n",
      "[0.99926667 0.84729064] 0.8472906403940886\n",
      "You were missing N reference sequences: 0\n",
      "[0.99923092 0.83333333] 0.8333333333333334\n",
      "You were missing N reference sequences: 0\n",
      "[0.99923228 0.83521445] 0.835214446952596\n",
      "You were missing N reference sequences: 0\n"
     ]
    },
    {
     "name": "stderr",
     "output_type": "stream",
     "text": [
      " 58%|███████████████████████████████████████████████████████████████████████▉                                                    | 29/50 [00:06<00:04,  4.64it/s]"
     ]
    },
    {
     "name": "stdout",
     "output_type": "stream",
     "text": [
      "[0.9991869  0.81962865] 0.8196286472148542\n",
      "You were missing N reference sequences: 0\n",
      "[0.99921447 0.82205514] 0.8220551378446116\n",
      "You were missing N reference sequences: 0\n",
      "[0.99910396 0.8041958 ] 0.8041958041958043\n",
      "You were missing N reference sequences: 0\n",
      "[0.99926667 0.84729064] 0.8472906403940886\n",
      "You were missing N reference sequences: 0\n",
      "[0.99920343 0.82840237] 0.8284023668639054\n",
      "You were missing N reference sequences: 0\n",
      "[0.9991586  0.82222222] 0.8222222222222222\n",
      "You were missing N reference sequences: 0\n"
     ]
    },
    {
     "name": "stderr",
     "output_type": "stream",
     "text": [
      " 60%|██████████████████████████████████████████████████████████████████████████▍                                                 | 30/50 [00:06<00:04,  4.62it/s]"
     ]
    },
    {
     "name": "stdout",
     "output_type": "stream",
     "text": [
      "[0.99915099 0.81364829] 0.8136482939632547\n",
      "You were missing N reference sequences: 0\n",
      "[0.9992034 0.82     ] 0.82\n",
      "You were missing N reference sequences: 0\n",
      "[0.99909595 0.80279232] 0.8027923211169284\n",
      "You were missing N reference sequences: 0\n",
      "[0.999243   0.84313725] 0.8431372549019608\n",
      "You were missing N reference sequences: 0\n",
      "[0.99916219 0.82111437] 0.8211143695014661\n",
      "You were missing N reference sequences: 0\n",
      "[0.99912704 0.81596452] 0.8159645232815965\n",
      "You were missing N reference sequences: 0\n"
     ]
    },
    {
     "name": "stderr",
     "output_type": "stream",
     "text": [
      " 62%|████████████████████████████████████████████████████████████████████████████▉                                               | 31/50 [00:06<00:04,  4.61it/s]"
     ]
    },
    {
     "name": "stdout",
     "output_type": "stream",
     "text": [
      "[0.99913901 0.81201044] 0.8120104438642297\n",
      "You were missing N reference sequences: 0\n",
      "[0.9990816  0.79706601] 0.7970660146699265\n",
      "You were missing N reference sequences: 0\n",
      "[0.99902388 0.79037801] 0.7903780068728522\n",
      "You were missing N reference sequences: 0\n",
      "[0.99907725 0.81516588] 0.8151658767772512\n",
      "You were missing N reference sequences: 0\n",
      "[0.9991072 0.8115942] 0.8115942028985507\n",
      "You were missing N reference sequences: 0\n",
      "[0.99906388 0.80525164] 0.8052516411378556\n",
      "You were missing N reference sequences: 0\n"
     ]
    },
    {
     "name": "stderr",
     "output_type": "stream",
     "text": [
      " 64%|███████████████████████████████████████████████████████████████████████████████▎                                            | 32/50 [00:06<00:03,  4.64it/s]"
     ]
    },
    {
     "name": "stdout",
     "output_type": "stream",
     "text": [
      "[0.99910909 0.80674449] 0.8067444876783398\n",
      "You were missing N reference sequences: 0\n",
      "[0.99907053 0.79512195] 0.7951219512195122\n",
      "You were missing N reference sequences: 0\n",
      "[0.99901587 0.7890223 ] 0.7890222984562607\n",
      "You were missing N reference sequences: 0\n",
      "[0.99907725 0.81516588] 0.8151658767772512\n",
      "You were missing N reference sequences: 0\n",
      "[0.9991072 0.8115942] 0.8115942028985507\n",
      "You were missing N reference sequences: 0\n",
      "[0.99906388 0.80525164] 0.8052516411378556\n",
      "You were missing N reference sequences: 0\n"
     ]
    },
    {
     "name": "stderr",
     "output_type": "stream",
     "text": [
      " 66%|█████████████████████████████████████████████████████████████████████████████████▊                                          | 33/50 [00:07<00:03,  4.62it/s]"
     ]
    },
    {
     "name": "stdout",
     "output_type": "stream",
     "text": [
      "[0.99910909 0.80674449] 0.8067444876783398\n",
      "You were missing N reference sequences: 0\n",
      "[0.99905945 0.79318735] 0.7931873479318734\n",
      "You were missing N reference sequences: 0\n",
      "[0.99900786 0.78767123] 0.7876712328767125\n",
      "You were missing N reference sequences: 0\n",
      "[0.99907725 0.81516588] 0.8151658767772512\n",
      "You were missing N reference sequences: 0\n",
      "[0.9991072 0.8115942] 0.8115942028985507\n",
      "You were missing N reference sequences: 0\n",
      "[0.99908489 0.81045752] 0.8104575163398693\n",
      "You were missing N reference sequences: 0\n"
     ]
    },
    {
     "name": "stderr",
     "output_type": "stream",
     "text": [
      " 68%|████████████████████████████████████████████████████████████████████████████████████▎                                       | 34/50 [00:07<00:03,  4.66it/s]"
     ]
    },
    {
     "name": "stdout",
     "output_type": "stream",
     "text": [
      "[0.99913299 0.81290323] 0.8129032258064516\n",
      "You were missing N reference sequences: 0\n",
      "[0.99905945 0.79318735] 0.7931873479318734\n",
      "You were missing N reference sequences: 0\n",
      "[0.99900786 0.78767123] 0.7876712328767125\n",
      "You were missing N reference sequences: 0\n",
      "[0.99907725 0.81516588] 0.8151658767772512\n",
      "You were missing N reference sequences: 0\n",
      "[0.9991072 0.8115942] 0.8115942028985507\n",
      "You were missing N reference sequences: 0\n",
      "[0.99908489 0.81045752] 0.8104575163398693\n",
      "You were missing N reference sequences: 0\n"
     ]
    },
    {
     "name": "stderr",
     "output_type": "stream",
     "text": [
      " 70%|██████████████████████████████████████████████████████████████████████████████████████▊                                     | 35/50 [00:07<00:03,  4.65it/s]"
     ]
    },
    {
     "name": "stdout",
     "output_type": "stream",
     "text": [
      "[0.999127   0.81185567] 0.8118556701030928\n",
      "You were missing N reference sequences: 0\n",
      "[0.99900407 0.78365385] 0.7836538461538463\n",
      "You were missing N reference sequences: 0\n",
      "[0.99897582 0.78231293] 0.782312925170068\n",
      "You were missing N reference sequences: 0\n",
      "[0.99905357 0.81132075] 0.8113207547169812\n",
      "You were missing N reference sequences: 0\n",
      "[0.99909346 0.80924855] 0.8092485549132948\n",
      "You were missing N reference sequences: 0\n",
      "[0.99907437 0.80869565] 0.8086956521739131\n",
      "You were missing N reference sequences: 0\n"
     ]
    },
    {
     "name": "stderr",
     "output_type": "stream",
     "text": [
      " 72%|█████████████████████████████████████████████████████████████████████████████████████████▎                                  | 36/50 [00:07<00:02,  4.69it/s]"
     ]
    },
    {
     "name": "stdout",
     "output_type": "stream",
     "text": [
      "[0.99908512 0.80409731] 0.8040973111395646\n",
      "You were missing N reference sequences: 0\n",
      "[0.99898192 0.77990431] 0.7799043062200958\n",
      "You were missing N reference sequences: 0\n",
      "[0.99893575 0.77647059] 0.776470588235294\n",
      "You were missing N reference sequences: 0\n",
      "[0.99905357 0.81132075] 0.8113207547169812\n",
      "You were missing N reference sequences: 0\n",
      "[0.99905221 0.80229226] 0.8022922636103152\n",
      "You were missing N reference sequences: 0\n",
      "[0.99906384 0.80694143] 0.806941431670282\n",
      "You were missing N reference sequences: 0\n"
     ]
    },
    {
     "name": "stderr",
     "output_type": "stream",
     "text": [
      " 74%|███████████████████████████████████████████████████████████████████████████████████████████▊                                | 37/50 [00:07<00:02,  4.63it/s]"
     ]
    },
    {
     "name": "stdout",
     "output_type": "stream",
     "text": [
      "[0.99906716 0.80102041] 0.8010204081632654\n",
      "You were missing N reference sequences: 0\n",
      "[0.99898192 0.77990431] 0.7799043062200958\n",
      "You were missing N reference sequences: 0\n",
      "[0.99892776 0.77441077] 0.7744107744107744\n",
      "You were missing N reference sequences: 0\n",
      "[0.99905357 0.81132075] 0.8113207547169812\n",
      "You were missing N reference sequences: 0\n",
      "[0.99905221 0.80229226] 0.8022922636103152\n",
      "You were missing N reference sequences: 0\n",
      "[0.99906384 0.80694143] 0.806941431670282\n",
      "You were missing N reference sequences: 0\n"
     ]
    },
    {
     "name": "stderr",
     "output_type": "stream",
     "text": [
      " 76%|██████████████████████████████████████████████████████████████████████████████████████████████▏                             | 38/50 [00:08<00:02,  4.63it/s]"
     ]
    },
    {
     "name": "stdout",
     "output_type": "stream",
     "text": [
      "[0.99906118 0.8       ] 0.7999999999999999\n",
      "You were missing N reference sequences: 0\n",
      "[0.99898192 0.77990431] 0.7799043062200958\n",
      "You were missing N reference sequences: 0\n",
      "[0.99892776 0.77441077] 0.7744107744107744\n",
      "You were missing N reference sequences: 0\n",
      "[0.99905357 0.81132075] 0.8113207547169812\n",
      "You were missing N reference sequences: 0\n",
      "[0.99903849 0.79885057] 0.7988505747126436\n",
      "You were missing N reference sequences: 0\n",
      "[0.99905333 0.80434783] 0.8043478260869565\n",
      "You were missing N reference sequences: 0\n"
     ]
    },
    {
     "name": "stderr",
     "output_type": "stream",
     "text": [
      " 78%|████████████████████████████████████████████████████████████████████████████████████████████████▋                           | 39/50 [00:08<00:02,  4.62it/s]"
     ]
    },
    {
     "name": "stdout",
     "output_type": "stream",
     "text": [
      "[0.9990552  0.79846939] 0.7984693877551019\n",
      "You were missing N reference sequences: 0\n",
      "[0.99898192 0.77990431] 0.7799043062200958\n",
      "You were missing N reference sequences: 0\n",
      "[0.99891977 0.77234401] 0.7723440134907252\n",
      "You were missing N reference sequences: 0\n",
      "[0.99905357 0.81132075] 0.8113207547169812\n",
      "You were missing N reference sequences: 0\n",
      "[0.99903849 0.79885057] 0.7988505747126436\n",
      "You were missing N reference sequences: 0\n",
      "[0.99905333 0.80434783] 0.8043478260869565\n",
      "You were missing N reference sequences: 0\n"
     ]
    },
    {
     "name": "stderr",
     "output_type": "stream",
     "text": [
      " 80%|███████████████████████████████████████████████████████████████████████████████████████████████████▏                        | 40/50 [00:08<00:02,  4.65it/s]"
     ]
    },
    {
     "name": "stdout",
     "output_type": "stream",
     "text": [
      "[0.99904325 0.79591837] 0.7959183673469388\n",
      "You were missing N reference sequences: 0\n",
      "[0.99894868 0.77434679] 0.7743467933491686\n",
      "You were missing N reference sequences: 0\n",
      "[0.99890376 0.76897133] 0.7689713322091063\n",
      "You were missing N reference sequences: 0\n",
      "[0.99905357 0.81132075] 0.8113207547169812\n",
      "You were missing N reference sequences: 0\n",
      "[0.99903849 0.79885057] 0.7988505747126436\n",
      "You were missing N reference sequences: 0\n",
      "[0.99905333 0.80434783] 0.8043478260869565\n",
      "You were missing N reference sequences: 0\n"
     ]
    },
    {
     "name": "stderr",
     "output_type": "stream",
     "text": [
      " 82%|█████████████████████████████████████████████████████████████████████████████████████████████████████▋                      | 41/50 [00:08<00:01,  4.63it/s]"
     ]
    },
    {
     "name": "stdout",
     "output_type": "stream",
     "text": [
      "[0.99903726 0.79490446] 0.794904458598726\n",
      "You were missing N reference sequences: 0\n",
      "[0.99893763 0.77142857] 0.7714285714285714\n",
      "You were missing N reference sequences: 0\n",
      "[0.99889577 0.76689189] 0.7668918918918919\n",
      "You were missing N reference sequences: 0\n",
      "[0.99905357 0.81132075] 0.8113207547169812\n",
      "You were missing N reference sequences: 0\n",
      "[0.99903849 0.79885057] 0.7988505747126436\n",
      "You were missing N reference sequences: 0\n",
      "[0.99905333 0.80434783] 0.8043478260869565\n",
      "You were missing N reference sequences: 0\n"
     ]
    },
    {
     "name": "stderr",
     "output_type": "stream",
     "text": [
      " 84%|████████████████████████████████████████████████████████████████████████████████████████████████████████▏                   | 42/50 [00:09<00:01,  4.64it/s]"
     ]
    },
    {
     "name": "stdout",
     "output_type": "stream",
     "text": [
      "[0.99903726 0.79490446] 0.794904458598726\n",
      "You were missing N reference sequences: 0\n",
      "[0.99893763 0.77142857] 0.7714285714285714\n",
      "You were missing N reference sequences: 0\n",
      "[0.99888776 0.76559865] 0.7655986509274874\n",
      "You were missing N reference sequences: 0\n",
      "[0.99905357 0.81132075] 0.8113207547169812\n",
      "You were missing N reference sequences: 0\n",
      "[0.99903849 0.79885057] 0.7988505747126436\n",
      "You were missing N reference sequences: 0\n",
      "[0.99905333 0.80434783] 0.8043478260869565\n",
      "You were missing N reference sequences: 0\n"
     ]
    },
    {
     "name": "stderr",
     "output_type": "stream",
     "text": [
      " 86%|██████████████████████████████████████████████████████████████████████████████████████████████████████████▋                 | 43/50 [00:09<00:01,  4.63it/s]"
     ]
    },
    {
     "name": "stdout",
     "output_type": "stream",
     "text": [
      "[0.99903127 0.79389313] 0.7938931297709925\n",
      "You were missing N reference sequences: 0\n",
      "[0.99893763 0.77142857] 0.7714285714285714\n",
      "You were missing N reference sequences: 0\n",
      "[0.99887174 0.76302521] 0.7630252100840337\n",
      "You were missing N reference sequences: 0\n",
      "[0.99905357 0.81132075] 0.8113207547169812\n",
      "You were missing N reference sequences: 0\n",
      "[0.99903849 0.79885057] 0.7988505747126436\n",
      "You were missing N reference sequences: 0\n",
      "[0.99905333 0.80434783] 0.8043478260869565\n",
      "You were missing N reference sequences: 0\n"
     ]
    },
    {
     "name": "stderr",
     "output_type": "stream",
     "text": [
      " 88%|█████████████████████████████████████████████████████████████████████████████████████████████████████████████               | 44/50 [00:09<00:01,  4.62it/s]"
     ]
    },
    {
     "name": "stdout",
     "output_type": "stream",
     "text": [
      "[0.9990193  0.79187817] 0.7918781725888325\n",
      "You were missing N reference sequences: 0\n",
      "[0.99892655 0.7695962 ] 0.7695961995249406\n",
      "You were missing N reference sequences: 0\n",
      "[0.99886375 0.76094276] 0.760942760942761\n",
      "You were missing N reference sequences: 0\n",
      "[0.99905357 0.81132075] 0.8113207547169812\n",
      "You were missing N reference sequences: 0\n",
      "[0.99901102 0.79310345] 0.793103448275862\n",
      "You were missing N reference sequences: 0\n",
      "[0.99903229 0.8       ] 0.7999999999999999\n",
      "You were missing N reference sequences: 0\n"
     ]
    },
    {
     "name": "stderr",
     "output_type": "stream",
     "text": [
      " 90%|███████████████████████████████████████████████████████████████████████████████████████████████████████████████▌            | 45/50 [00:09<00:01,  4.60it/s]"
     ]
    },
    {
     "name": "stdout",
     "output_type": "stream",
     "text": [
      "[0.99900734 0.7893401 ] 0.7893401015228427\n",
      "You were missing N reference sequences: 0\n",
      "[0.99892655 0.7695962 ] 0.7695961995249406\n",
      "You were missing N reference sequences: 0\n",
      "[0.99886375 0.76094276] 0.760942760942761\n",
      "You were missing N reference sequences: 0\n",
      "[0.99905357 0.81132075] 0.8113207547169812\n",
      "You were missing N reference sequences: 0\n",
      "[0.99901102 0.79310345] 0.793103448275862\n",
      "You were missing N reference sequences: 0\n",
      "[0.99903229 0.8       ] 0.7999999999999999\n",
      "You were missing N reference sequences: 0\n"
     ]
    },
    {
     "name": "stderr",
     "output_type": "stream",
     "text": [
      " 92%|██████████████████████████████████████████████████████████████████████████████████████████████████████████████████          | 46/50 [00:09<00:00,  4.57it/s]"
     ]
    },
    {
     "name": "stdout",
     "output_type": "stream",
     "text": [
      "[0.99900734 0.7893401 ] 0.7893401015228427\n",
      "You were missing N reference sequences: 0\n",
      "[0.99892655 0.7695962 ] 0.7695961995249406\n",
      "You were missing N reference sequences: 0\n",
      "[0.99886375 0.76094276] 0.760942760942761\n",
      "You were missing N reference sequences: 0\n",
      "[0.99905357 0.81132075] 0.8113207547169812\n",
      "You were missing N reference sequences: 0\n",
      "[0.99901102 0.79310345] 0.793103448275862\n",
      "You were missing N reference sequences: 0\n",
      "[0.99903229 0.8       ] 0.7999999999999999\n",
      "You were missing N reference sequences: 0\n"
     ]
    },
    {
     "name": "stderr",
     "output_type": "stream",
     "text": [
      " 94%|████████████████████████████████████████████████████████████████████████████████████████████████████████████████████▌       | 47/50 [00:10<00:00,  4.57it/s]"
     ]
    },
    {
     "name": "stdout",
     "output_type": "stream",
     "text": [
      "[0.99900734 0.7893401 ] 0.7893401015228427\n",
      "You were missing N reference sequences: 0\n",
      "[0.99892655 0.7695962 ] 0.7695961995249406\n",
      "You were missing N reference sequences: 0\n",
      "[0.99886375 0.76094276] 0.760942760942761\n",
      "You were missing N reference sequences: 0\n",
      "[0.99905357 0.81132075] 0.8113207547169812\n",
      "You were missing N reference sequences: 0\n",
      "[0.99899727 0.79083095] 0.7908309455587391\n",
      "You were missing N reference sequences: 0\n",
      "[0.99902176 0.79826464] 0.7982646420824294\n",
      "You were missing N reference sequences: 0\n"
     ]
    },
    {
     "name": "stderr",
     "output_type": "stream",
     "text": [
      " 96%|███████████████████████████████████████████████████████████████████████████████████████████████████████████████████████     | 48/50 [00:10<00:00,  4.55it/s]"
     ]
    },
    {
     "name": "stdout",
     "output_type": "stream",
     "text": [
      "[0.99900734 0.7893401 ] 0.7893401015228427\n",
      "You were missing N reference sequences: 0\n",
      "[0.99892655 0.7695962 ] 0.7695961995249406\n",
      "You were missing N reference sequences: 0\n",
      "[0.99885573 0.75966387] 0.7596638655462185\n",
      "You were missing N reference sequences: 0\n",
      "[0.99905357 0.81132075] 0.8113207547169812\n",
      "You were missing N reference sequences: 0\n",
      "[0.99899727 0.79083095] 0.7908309455587391\n",
      "You were missing N reference sequences: 0\n",
      "[0.99902176 0.79826464] 0.7982646420824294\n",
      "You were missing N reference sequences: 0\n"
     ]
    },
    {
     "name": "stderr",
     "output_type": "stream",
     "text": [
      " 98%|█████████████████████████████████████████████████████████████████████████████████████████████████████████████████████████▌  | 49/50 [00:10<00:00,  4.56it/s]"
     ]
    },
    {
     "name": "stdout",
     "output_type": "stream",
     "text": [
      "[0.99900734 0.7893401 ] 0.7893401015228427\n",
      "You were missing N reference sequences: 0\n",
      "[0.99892655 0.7695962 ] 0.7695961995249406\n",
      "You were missing N reference sequences: 0\n",
      "[0.99885573 0.75966387] 0.7596638655462185\n",
      "You were missing N reference sequences: 0\n",
      "[0.99905357 0.81132075] 0.8113207547169812\n",
      "You were missing N reference sequences: 0\n",
      "[0.99899727 0.79083095] 0.7908309455587391\n",
      "You were missing N reference sequences: 0\n",
      "[0.99902176 0.79826464] 0.7982646420824294\n",
      "You were missing N reference sequences: 0\n"
     ]
    },
    {
     "name": "stderr",
     "output_type": "stream",
     "text": [
      "100%|████████████████████████████████████████████████████████████████████████████████████████████████████████████████████████████| 50/50 [00:10<00:00,  4.64it/s]"
     ]
    },
    {
     "name": "stdout",
     "output_type": "stream",
     "text": [
      "[0.99900136 0.78833967] 0.7883396704689482\n"
     ]
    },
    {
     "name": "stderr",
     "output_type": "stream",
     "text": [
      "\n"
     ]
    }
   ],
   "source": [
    "rows = []\n",
    "for squidly_cutoff in tqdm(range(0, 100, 2)):\n",
    "    for df_label in results:\n",
    "        if df_label == 'label':\n",
    "            continue\n",
    "        df = results[df_label]\n",
    "        squidly_df = pd.read_pickle(f'data/AEGAN/squidly/squidly_as_pred_15B_{df_label.replace(\"_BLAST\", \"\")}')\n",
    "        squidly_df.set_index('label', inplace=True)\n",
    "        df = df.join(squidly_df, how='left')\n",
    "        # 'From', 'True_residues', 'BLAST_residues', 'Sequence'\n",
    "        tmp_df = ensemble_predictions(df, 'BLAST_residues', 'Squidly_CR_Position', 'sequence identity', squidly_cutoff)\n",
    "        precision, recall, f1, support, agree, disagree, no_pred, mean_agreement = calculate_stats(tmp_df, 'From', 'True_residues', 'chosen_residues', 'Sequence')\n",
    "        rows.append([df_label.replace(\".pkl\", \"\"), squidly_cutoff, f1, precision, recall, support, agree, disagree, no_pred, mean_agreement])\n"
   ]
  },
  {
   "cell_type": "code",
   "execution_count": 100,
   "id": "14114679-fa60-4321-ba4c-198f8fcfcd0c",
   "metadata": {},
   "outputs": [],
   "source": [
    "df = pd.DataFrame(rows, columns=['Dataset', '% cutoff', 'F1', 'Precision', 'Recall', 'Support', '% fully correct', ' % with difference', ' % missing', 'Mean correct'])\n",
    "df.to_csv('data/Ensemble_Squidly_15B.csv', index=False)"
   ]
  },
  {
   "cell_type": "code",
   "execution_count": 101,
   "id": "74ecbc80-a134-4cb6-b703-cb2782a3842c",
   "metadata": {},
   "outputs": [],
   "source": [
    "df['Dataset'] = [d.replace('_BLAST', '') for d in df['Dataset'].values]"
   ]
  },
  {
   "cell_type": "code",
   "execution_count": 102,
   "id": "7455b694-1fc4-4f67-841a-0651aa976f80",
   "metadata": {},
   "outputs": [
    {
     "data": {
      "image/png": "[encoded data removed]",
      "text/plain": [
       "<Figure size 300x300 with 1 Axes>"
      ]
     },
     "metadata": {},
     "output_type": "display_data"
    },
    {
     "data": {
      "image/png": "[encoded data removed]",
      "text/plain": [
       "<Figure size 300x300 with 1 Axes>"
      ]
     },
     "metadata": {},
     "output_type": "display_data"
    },
    {
     "data": {
      "image/png": "[encoded data removed]",
      "text/plain": [
       "<Figure size 300x300 with 1 Axes>"
      ]
     },
     "metadata": {},
     "output_type": "display_data"
    }
   ],
   "source": [
    "make_figure(df, x='% cutoff', y='F1', hue='Dataset', filename='AEGAN_15B_F1.svg')\n",
    "make_figure(df, x='% cutoff', y='Recall', hue='Dataset', filename='AEGAN_15B_Recall.svg')\n",
    "make_figure(df, x='% cutoff', y='Precision', hue='Dataset', filename='AEGAN_15B_Precision.svg')"
   ]
  },
  {
   "cell_type": "code",
   "execution_count": 103,
   "id": "7380f0a5-95ad-481d-87e3-5ba38e6d58fd",
   "metadata": {},
   "outputs": [
    {
     "data": {
      "text/html": [
       "<div>\n",
       "<style scoped>\n",
       "    .dataframe tbody tr th:only-of-type {\n",
       "        vertical-align: middle;\n",
       "    }\n",
       "\n",
       "    .dataframe tbody tr th {\n",
       "        vertical-align: top;\n",
       "    }\n",
       "\n",
       "    .dataframe thead th {\n",
       "        text-align: right;\n",
       "    }\n",
       "</style>\n",
       "<table border=\"1\" class=\"dataframe\">\n",
       "  <thead>\n",
       "    <tr style=\"text-align: right;\">\n",
       "      <th></th>\n",
       "      <th>Dataset</th>\n",
       "      <th>% cutoff</th>\n",
       "      <th>F1</th>\n",
       "      <th>Precision</th>\n",
       "      <th>Recall</th>\n",
       "      <th>Support</th>\n",
       "      <th>% fully correct</th>\n",
       "      <th>% with difference</th>\n",
       "      <th>% missing</th>\n",
       "      <th>Mean correct</th>\n",
       "    </tr>\n",
       "  </thead>\n",
       "  <tbody>\n",
       "    <tr>\n",
       "      <th>90</th>\n",
       "      <td>NN</td>\n",
       "      <td>30</td>\n",
       "      <td>0.867725</td>\n",
       "      <td>0.891304</td>\n",
       "      <td>0.845361</td>\n",
       "      <td>194</td>\n",
       "      <td>0.750000</td>\n",
       "      <td>0.212963</td>\n",
       "      <td>0.037037</td>\n",
       "      <td>0.829475</td>\n",
       "    </tr>\n",
       "    <tr>\n",
       "      <th>91</th>\n",
       "      <td>HA_superfamily</td>\n",
       "      <td>30</td>\n",
       "      <td>0.862319</td>\n",
       "      <td>0.859206</td>\n",
       "      <td>0.865455</td>\n",
       "      <td>275</td>\n",
       "      <td>0.736842</td>\n",
       "      <td>0.230263</td>\n",
       "      <td>0.032895</td>\n",
       "      <td>0.816557</td>\n",
       "    </tr>\n",
       "    <tr>\n",
       "      <th>92</th>\n",
       "      <td>PC</td>\n",
       "      <td>30</td>\n",
       "      <td>0.901554</td>\n",
       "      <td>0.925532</td>\n",
       "      <td>0.878788</td>\n",
       "      <td>99</td>\n",
       "      <td>0.818182</td>\n",
       "      <td>0.163636</td>\n",
       "      <td>0.018182</td>\n",
       "      <td>0.860606</td>\n",
       "    </tr>\n",
       "    <tr>\n",
       "      <th>93</th>\n",
       "      <td>EF_fold</td>\n",
       "      <td>30</td>\n",
       "      <td>0.903030</td>\n",
       "      <td>0.903030</td>\n",
       "      <td>0.903030</td>\n",
       "      <td>165</td>\n",
       "      <td>0.774194</td>\n",
       "      <td>0.204301</td>\n",
       "      <td>0.021505</td>\n",
       "      <td>0.848566</td>\n",
       "    </tr>\n",
       "    <tr>\n",
       "      <th>94</th>\n",
       "      <td>EF_superfamily</td>\n",
       "      <td>30</td>\n",
       "      <td>0.896552</td>\n",
       "      <td>0.902778</td>\n",
       "      <td>0.890411</td>\n",
       "      <td>219</td>\n",
       "      <td>0.788618</td>\n",
       "      <td>0.186992</td>\n",
       "      <td>0.024390</td>\n",
       "      <td>0.853659</td>\n",
       "    </tr>\n",
       "    <tr>\n",
       "      <th>95</th>\n",
       "      <td>EF_family</td>\n",
       "      <td>30</td>\n",
       "      <td>0.875346</td>\n",
       "      <td>0.895184</td>\n",
       "      <td>0.856369</td>\n",
       "      <td>369</td>\n",
       "      <td>0.775510</td>\n",
       "      <td>0.198980</td>\n",
       "      <td>0.025510</td>\n",
       "      <td>0.851616</td>\n",
       "    </tr>\n",
       "  </tbody>\n",
       "</table>\n",
       "</div>"
      ],
      "text/plain": [
       "           Dataset  % cutoff        F1  Precision    Recall  Support  \\\n",
       "90              NN        30  0.867725   0.891304  0.845361      194   \n",
       "91  HA_superfamily        30  0.862319   0.859206  0.865455      275   \n",
       "92              PC        30  0.901554   0.925532  0.878788       99   \n",
       "93         EF_fold        30  0.903030   0.903030  0.903030      165   \n",
       "94  EF_superfamily        30  0.896552   0.902778  0.890411      219   \n",
       "95       EF_family        30  0.875346   0.895184  0.856369      369   \n",
       "\n",
       "    % fully correct   % with difference   % missing  Mean correct  \n",
       "90         0.750000            0.212963    0.037037      0.829475  \n",
       "91         0.736842            0.230263    0.032895      0.816557  \n",
       "92         0.818182            0.163636    0.018182      0.860606  \n",
       "93         0.774194            0.204301    0.021505      0.848566  \n",
       "94         0.788618            0.186992    0.024390      0.853659  \n",
       "95         0.775510            0.198980    0.025510      0.851616  "
      ]
     },
     "execution_count": 103,
     "metadata": {},
     "output_type": "execute_result"
    }
   ],
   "source": [
    "df[df['% cutoff'] == 30]"
   ]
  },
  {
   "cell_type": "code",
   "execution_count": 104,
   "id": "0638f656-17b2-4345-a8f8-7a823f35b794",
   "metadata": {},
   "outputs": [
    {
     "data": {
      "text/html": [
       "<div>\n",
       "<style scoped>\n",
       "    .dataframe tbody tr th:only-of-type {\n",
       "        vertical-align: middle;\n",
       "    }\n",
       "\n",
       "    .dataframe tbody tr th {\n",
       "        vertical-align: top;\n",
       "    }\n",
       "\n",
       "    .dataframe thead th {\n",
       "        text-align: right;\n",
       "    }\n",
       "</style>\n",
       "<table border=\"1\" class=\"dataframe\">\n",
       "  <thead>\n",
       "    <tr style=\"text-align: right;\">\n",
       "      <th></th>\n",
       "      <th>Dataset</th>\n",
       "      <th>% cutoff</th>\n",
       "      <th>F1</th>\n",
       "      <th>Precision</th>\n",
       "      <th>Recall</th>\n",
       "      <th>Support</th>\n",
       "      <th>% fully correct</th>\n",
       "      <th>% with difference</th>\n",
       "      <th>% missing</th>\n",
       "      <th>Mean correct</th>\n",
       "    </tr>\n",
       "  </thead>\n",
       "  <tbody>\n",
       "    <tr>\n",
       "      <th>0</th>\n",
       "      <td>NN</td>\n",
       "      <td>0</td>\n",
       "      <td>0.856383</td>\n",
       "      <td>0.884615</td>\n",
       "      <td>0.829897</td>\n",
       "      <td>194</td>\n",
       "      <td>0.750000</td>\n",
       "      <td>0.222222</td>\n",
       "      <td>0.027778</td>\n",
       "      <td>0.824846</td>\n",
       "    </tr>\n",
       "    <tr>\n",
       "      <th>1</th>\n",
       "      <td>HA_superfamily</td>\n",
       "      <td>0</td>\n",
       "      <td>0.862816</td>\n",
       "      <td>0.856631</td>\n",
       "      <td>0.869091</td>\n",
       "      <td>275</td>\n",
       "      <td>0.743421</td>\n",
       "      <td>0.236842</td>\n",
       "      <td>0.019737</td>\n",
       "      <td>0.823136</td>\n",
       "    </tr>\n",
       "    <tr>\n",
       "      <th>2</th>\n",
       "      <td>PC</td>\n",
       "      <td>0</td>\n",
       "      <td>0.886598</td>\n",
       "      <td>0.905263</td>\n",
       "      <td>0.868687</td>\n",
       "      <td>99</td>\n",
       "      <td>0.800000</td>\n",
       "      <td>0.200000</td>\n",
       "      <td>0.000000</td>\n",
       "      <td>0.851515</td>\n",
       "    </tr>\n",
       "    <tr>\n",
       "      <th>3</th>\n",
       "      <td>EF_fold</td>\n",
       "      <td>0</td>\n",
       "      <td>0.903030</td>\n",
       "      <td>0.903030</td>\n",
       "      <td>0.903030</td>\n",
       "      <td>165</td>\n",
       "      <td>0.784946</td>\n",
       "      <td>0.204301</td>\n",
       "      <td>0.010753</td>\n",
       "      <td>0.853943</td>\n",
       "    </tr>\n",
       "    <tr>\n",
       "      <th>4</th>\n",
       "      <td>EF_superfamily</td>\n",
       "      <td>0</td>\n",
       "      <td>0.894009</td>\n",
       "      <td>0.902326</td>\n",
       "      <td>0.885845</td>\n",
       "      <td>219</td>\n",
       "      <td>0.788618</td>\n",
       "      <td>0.186992</td>\n",
       "      <td>0.024390</td>\n",
       "      <td>0.852304</td>\n",
       "    </tr>\n",
       "    <tr>\n",
       "      <th>5</th>\n",
       "      <td>EF_family</td>\n",
       "      <td>0</td>\n",
       "      <td>0.871012</td>\n",
       "      <td>0.892045</td>\n",
       "      <td>0.850949</td>\n",
       "      <td>369</td>\n",
       "      <td>0.770408</td>\n",
       "      <td>0.204082</td>\n",
       "      <td>0.025510</td>\n",
       "      <td>0.847364</td>\n",
       "    </tr>\n",
       "  </tbody>\n",
       "</table>\n",
       "</div>"
      ],
      "text/plain": [
       "          Dataset  % cutoff        F1  Precision    Recall  Support  \\\n",
       "0              NN         0  0.856383   0.884615  0.829897      194   \n",
       "1  HA_superfamily         0  0.862816   0.856631  0.869091      275   \n",
       "2              PC         0  0.886598   0.905263  0.868687       99   \n",
       "3         EF_fold         0  0.903030   0.903030  0.903030      165   \n",
       "4  EF_superfamily         0  0.894009   0.902326  0.885845      219   \n",
       "5       EF_family         0  0.871012   0.892045  0.850949      369   \n",
       "\n",
       "   % fully correct   % with difference   % missing  Mean correct  \n",
       "0         0.750000            0.222222    0.027778      0.824846  \n",
       "1         0.743421            0.236842    0.019737      0.823136  \n",
       "2         0.800000            0.200000    0.000000      0.851515  \n",
       "3         0.784946            0.204301    0.010753      0.853943  \n",
       "4         0.788618            0.186992    0.024390      0.852304  \n",
       "5         0.770408            0.204082    0.025510      0.847364  "
      ]
     },
     "execution_count": 104,
     "metadata": {},
     "output_type": "execute_result"
    }
   ],
   "source": [
    "df[df['% cutoff'] == 0]"
   ]
  },
  {
   "cell_type": "code",
   "execution_count": null,
   "id": "1868ae94-2c16-4e0c-8c02-aa0afb0bf742",
   "metadata": {},
   "outputs": [],
   "source": []
  },
  {
   "cell_type": "code",
   "execution_count": null,
   "id": "b24a1d67-4096-48d4-9e28-cd5bf9bd4eaf",
   "metadata": {},
   "outputs": [],
   "source": []
  },
  {
   "cell_type": "code",
   "execution_count": null,
   "id": "13a0b93c-ad84-43cc-bc60-58797b2855aa",
   "metadata": {},
   "outputs": [],
   "source": []
  }
 ],
 "metadata": {
  "kernelspec": {
   "display_name": "Python 3 (ipykernel)",
   "language": "python",
   "name": "python3"
  },
  "language_info": {
   "codemirror_mode": {
    "name": "ipython",
    "version": 3
   },
   "file_extension": ".py",
   "mimetype": "text/x-python",
   "name": "python",
   "nbconvert_exporter": "python",
   "pygments_lexer": "ipython3",
   "version": "3.11.8"
  }
 },
 "nbformat": 4,
 "nbformat_minor": 5
}
